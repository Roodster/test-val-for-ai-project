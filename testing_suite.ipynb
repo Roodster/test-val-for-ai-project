{
 "cells": [
  {
   "cell_type": "code",
   "execution_count": 4,
   "metadata": {
    "ExecuteTime": {
     "end_time": "2024-03-19T14:26:39.124423200Z",
     "start_time": "2024-03-19T14:26:39.120417900Z"
    }
   },
   "outputs": [],
   "source": [
    "import pandas as pd\n",
    "import numpy as np\n",
    "from sklearn.model_selection import train_test_split\n",
    "import onnxruntime as rt\n",
    "import onnx"
   ]
  },
  {
   "cell_type": "code",
   "execution_count": 5,
   "metadata": {
    "ExecuteTime": {
     "end_time": "2024-03-19T14:26:39.503521300Z",
     "start_time": "2024-03-19T14:26:39.355991700Z"
    }
   },
   "outputs": [],
   "source": [
    "data = pd.read_csv('data/synth_data_for_training.csv')"
   ]
  },
  {
   "cell_type": "markdown",
   "metadata": {},
   "source": [
    "## Function for metamorphic testing"
   ]
  },
  {
   "cell_type": "code",
   "execution_count": 6,
   "metadata": {
    "ExecuteTime": {
     "end_time": "2024-03-19T14:26:41.411428700Z",
     "start_time": "2024-03-19T14:26:41.405420700Z"
    }
   },
   "outputs": [],
   "source": [
    "from onnxruntime.capi.onnxruntime_pybind11_state import InvalidArgument\n",
    "\n",
    "def test_metamorphic(data, feature_name : str, is_Fraud: bool ,value_from : int, value_to: int, model_path : str):\n",
    "    data_modified = data.copy() \n",
    "    is_checked = 1 if is_Fraud else 0\n",
    "    test_data= data_modified.loc[data_modified['checked'] == is_checked]\n",
    "    test_data = test_data.loc[test_data[feature_name] == value_from]\n",
    "    data_wout = test_data.copy()\n",
    "    y_wout = data_wout['checked']\n",
    "    X_wout= data_wout.drop(['checked'], axis=1)\n",
    "    X_wout = X_wout.astype(np.float32)\n",
    "    test_data[feature_name] = value_to\n",
    "    y_test = test_data['checked']\n",
    "    X_test= test_data.drop(['checked'], axis=1)\n",
    "    X_test = X_test.astype(np.float32)\n",
    "    session = rt.InferenceSession(model_path)\n",
    "        \n",
    "    try:\n",
    "        y_pred_onnx1 =  session.run(None, {'X': X_wout.values.astype(np.float32)})\n",
    "        y_pred_onnx2 =  session.run(None, {'X': X_test.values.astype(np.float32)})\n",
    "        y_pred_onnx1_np = np.array(y_pred_onnx1[0])\n",
    "        y_pred_onnx2_np = np.array(y_pred_onnx2[0])\n",
    "        diff_count = np.sum(y_pred_onnx1_np != y_pred_onnx2_np)\n",
    "        return diff_count, len(y_pred_onnx1_np)\n",
    "    except InvalidArgument:\n",
    "        #print(\"Got error: empty test dataframe. \" \"Column is: \", feature_name, \" combo is:\", is_Fraud, value_from, value_to)\n",
    "        return 0, 0\n",
    "    # assert y_pred_onnx1[0].all() == y_pred_onnx2[0].all(), f'Model predictions are different. The model has bias towards {feature_name} with value {value_from} '\n",
    "    # return True"
   ]
  },
  {
   "cell_type": "markdown",
   "metadata": {},
   "source": [
    "## Test Cases"
   ]
  },
  {
   "cell_type": "code",
   "execution_count": 7,
   "outputs": [
    {
     "data": {
      "text/plain": "(0, 0)"
     },
     "execution_count": 7,
     "metadata": {},
     "output_type": "execute_result"
    }
   ],
   "source": [
    "test_metamorphic(data, \"adres_aantal_brp_adres\", True, 11, 11, \"model/model_1.onnx\")"
   ],
   "metadata": {
    "collapsed": false,
    "ExecuteTime": {
     "end_time": "2024-03-19T14:26:42.522459200Z",
     "start_time": "2024-03-19T14:26:42.447055300Z"
    }
   }
  },
  {
   "cell_type": "code",
   "execution_count": 8,
   "metadata": {
    "ExecuteTime": {
     "end_time": "2024-03-19T14:26:43.202066600Z",
     "start_time": "2024-03-19T14:26:43.165592800Z"
    }
   },
   "outputs": [
    {
     "data": {
      "text/plain": "(16, 663)"
     },
     "execution_count": 8,
     "metadata": {},
     "output_type": "execute_result"
    }
   ],
   "source": [
    "test_metamorphic(data, 'persoon_geslacht_vrouw', True, 0, 1, \"model/model_1.onnx\") #test if changing gender of women who are frauds to men to see if predictions change to not fraud"
   ]
  },
  {
   "cell_type": "code",
   "execution_count": 9,
   "metadata": {
    "ExecuteTime": {
     "end_time": "2024-03-19T14:26:43.797050700Z",
     "start_time": "2024-03-19T14:26:43.708365Z"
    }
   },
   "outputs": [
    {
     "data": {
      "text/plain": "(11, 5879)"
     },
     "execution_count": 9,
     "metadata": {},
     "output_type": "execute_result"
    }
   ],
   "source": [
    "test_metamorphic(data, 'persoon_geslacht_vrouw', False, 0, 1, \"model/model_1.onnx\") #test if changing gender of men who are not frauds to women to see if predictions change to not fraud"
   ]
  },
  {
   "cell_type": "code",
   "execution_count": 10,
   "metadata": {
    "ExecuteTime": {
     "end_time": "2024-03-19T14:26:44.139912900Z",
     "start_time": "2024-03-19T14:26:44.108430200Z"
    }
   },
   "outputs": [
    {
     "data": {
      "text/plain": "(21, 708)"
     },
     "execution_count": 10,
     "metadata": {},
     "output_type": "execute_result"
    }
   ],
   "source": [
    "test_metamorphic(data, 'persoonlijke_eigenschappen_taaleis_voldaan', True, 0, 1, \"model/model_1.onnx\") #test if changing non dutch speaker people who are frauds to dutch speaking to see if predictions change to not fraud"
   ]
  },
  {
   "cell_type": "code",
   "execution_count": 11,
   "metadata": {
    "ExecuteTime": {
     "end_time": "2024-03-19T14:26:44.878600900Z",
     "start_time": "2024-03-19T14:26:44.782963300Z"
    }
   },
   "outputs": [
    {
     "data": {
      "text/plain": "(13, 6558)"
     },
     "execution_count": 11,
     "metadata": {},
     "output_type": "execute_result"
    }
   ],
   "source": [
    "test_metamorphic(data, 'persoonlijke_eigenschappen_taaleis_voldaan', False, 1, 0, \"model/model_1.onnx\") #test if changing dutch speaker people who are not frauds to non-dutch speaking to see if predictions change to fraud"
   ]
  },
  {
   "cell_type": "code",
   "execution_count": 12,
   "metadata": {
    "ExecuteTime": {
     "end_time": "2024-03-19T14:26:45.243417200Z",
     "start_time": "2024-03-19T14:26:45.220305700Z"
    }
   },
   "outputs": [
    {
     "data": {
      "text/plain": "(4, 104)"
     },
     "execution_count": 12,
     "metadata": {},
     "output_type": "execute_result"
    }
   ],
   "source": [
    "test_metamorphic(data, 'persoonlijke_eigenschappen_taaleis_voldaan', True, 2, 1, \"model/model_1.onnx\") #test if changing people who are frauds and did no take the dutch exam to dutch speaking to see if predictions change to not fraud"
   ]
  },
  {
   "cell_type": "markdown",
   "source": [
    "### Making a class that tests all combinations of feature values in metamorphic testing"
   ],
   "metadata": {
    "collapsed": false
   }
  },
  {
   "cell_type": "code",
   "execution_count": 34,
   "outputs": [
    {
     "name": "stdout",
     "output_type": "stream",
     "text": [
      "Column averages [('contacten_soort_telefoontje__uitgaand_', 0.18680823245643696), ('relatie_overig_actueel_vorm__kostendeler', 0.06931263386272252), ('contacten_soort_document__uitgaand_', 0.06531021062271063), ('relatie_kind_leeftijd_verschil_ouder_eerste_kind', 0.05079862376959533), ('contacten_soort_afgelopenjaar_e_mail__uitgaand_', 0.04951304021044101), ('adres_aantal_verzendadres', 0.04632775359184221), ('contacten_soort_afgelopenjaar_anders', 0.04359149855907781), ('afspraak_laatstejaar_resultaat_ingevuld_uniek', 0.041463414634146344), ('contacten_soort_anders', 0.04039530886664645), ('instrument_ladder_historie_activering', 0.039811780149725674), ('contacten_soort_telefoontje__inkomend_', 0.03159457167090755), ('contacten_soort_afgelopenjaar_document__uitgaand_', 0.029970215934475058), ('relatie_overig_kostendeler', 0.029125334932183243), ('contacten_soort_afgelopenjaar_telefoontje__inkomend_', 0.028927949602227165), ('contacten_onderwerp_no_show', 0.027941176470588237), ('afspraak_vervolgmeting_matchbaarheid_werkzoekende_klant', 0.027802264970406564), ('afspraak_controle_aankondiging_maatregel', 0.026432035929507807), ('relatie_overig_historie_vorm__kostendeler', 0.02623000541817334), ('pla_historie_ontwikkeling', 0.0235061324738299), ('ontheffing_reden_hist_tijdelijke_ontheffing_arbeidsverpl__en_tegenprestatie', 0.02177884060307068), ('relatie_overig_historie_vorm__andere_inwonende', 0.021547345192730313), ('contacten_onderwerp_overleg_met_inkomen', 0.02112099576801504), ('instrument_ladder_huidig_activering', 0.02068350955357474), ('contacten_onderwerp_groepsbijeenkomst', 0.020595925105195353), ('beschikbaarheid_aantal_historie_afwijkend_wegens_sociaal_maatschappelijke_situatie', 0.018841266707200627), ('instrument_reden_beeindiging_historie_uitval__klant_wz__ziet_af_van_aanbod', 0.018781792196948425), ('relatie_overig_actueel_vorm_other', 0.018680221539522777), ('afspraak_afgelopen_jaar_ontheffing_taaleis', 0.01812726438975501), ('contacten_onderwerp_boolean_no_show', 0.01772269051449272), ('pla_einde_uitstroom_anders_dan_volgen_onderwijs__regulier_werk_of_als_zelfstandige', 0.017403131248546738), ('relatie_kind_jongvolwassen', 0.01701310737455316), ('instrument_reden_beeindiging_historie_succesvol', 0.016627243136873537), ('pla_actueel_pla_categorie_doelstelling_16', 0.01600159647111787), ('afspraak_resultaat_ingevuld_uniek', 0.01450548046909303), ('contacten_soort_e_mail__inkomend_', 0.01408186516978825), ('contacten_onderwerp_beoordelen_taaleis', 0.01378118089039701), ('relatie_overig_bewindvoerder', 0.012571031681849384), ('contacten_onderwerp_inspanningstoets', 0.012145045111763413), ('adres_recentste_plaats_other', 0.012110684671552265), ('afspraak_inspanningsperiode', 0.011157352391277672), ('contacten_soort_rapportage_deelname', 0.011069215236415339), ('afspraak_afsprakenplan', 0.010748720102865076), ('instrument_reden_beeindiging_historie_doelstelling_bereikt__uitstroom_overig', 0.010582984215955469), ('contacten_soort_afgelopenjaar_gesprek', 0.010574362528727246), ('contacten_onderwerp_contact_derden', 0.01035651189753216), ('ontheffing_actueel_ind', 0.01021758945826138), ('contacten_onderwerp_inkomen', 0.009950248756218905), ('afspraak_verzenden_beschikking_i_v_m__niet_voldoen_aan_wet_taaleis', 0.009910406688031554), ('instrument_reden_beeindiging_historie_niet_succesvol', 0.009651114781172584), ('competentie_instructies_en_procedures_opvolgen', 0.009623160440053164), ('persoon_leeftijd_bij_onderzoek', 0.009615384615384616), ('beschikbaarheid_huidig_bekend', 0.009564797242806847), ('afspraak_afgelopen_jaar_monitoring_insp__wet_taaleis_na_12_mnd_n_a_v__taa04_____geen_maatregel', 0.009265007036075086), ('belemmering_psychische_problemen', 0.009117071730574088), ('pla_hist_pla_categorie_doelstelling_11', 0.009003660951407942), ('ontheffing_reden_tijdelijke_ontheffing_arbeidsverpl__en_tegenprestatie', 0.00892371949884316), ('relatie_partner_aantal_partner___partner__ongehuwd_', 0.008912211036401305), ('pla_ondertekeningen_actueel', 0.008836305747897455), ('afspraak_afgelopen_jaar_voortgang_aanmelding_en_deelname', 0.008725321245438332), ('contacten_onderwerp_boolean_beoordelen_taaleis', 0.008718884459014736), ('persoonlijke_eigenschappen_taaleis_voldaan', 0.008289680831679438), ('instrument_ladder_huidig_other', 0.008034885275451313), ('beschikbaarheid_huidig_afwijkend_wegens_medische_omstandigheden', 0.008001393610911988), ('adres_recentste_wijk_charlois', 0.007899878022211225), ('pla_hist_pla_categorie_doelstelling_2', 0.007875017369418563), ('competentie_vakdeskundigheid_toepassen', 0.007852050565120176), ('typering_indicatie_geheime_gegevens', 0.007837685825337426), ('instrument_reden_beeindiging_historie_overdracht_naar_mo', 0.007795272668625802), ('afspraak_aanmelding_afgesloten', 0.007782790907699944), ('contacten_soort_e_mail__uitgaand_', 0.007634114251761311), ('contacten_onderwerp_vakantie', 0.007566159409240895), ('adres_recentste_buurt_vreewijk', 0.0074141225898247), ('instrument_ladder_huidig_werk_re_integratie', 0.007050685410247632), ('persoonlijke_eigenschappen_nl_begrijpen3', 0.00699732240544751), ('contacten_onderwerp_boolean_documenttype__diploma_s_en_certificaten_', 0.006957701418110229), ('pla_einde_doelstelling_niet_bereikt__nieuw_trajectplan', 0.006843864071203286), ('adres_recentste_wijk_delfshaven', 0.006768501268009737), ('pla_historie_other', 0.006762606059460132), ('contacten_onderwerp__werk_intake', 0.006739403510198883), ('contacten_soort_document__inkomend_', 0.0067199248120300755), ('deelname_act_hist_projecten_niet_gestart', 0.006512737794437283), ('competentie_leren', 0.006501447639343654), ('belemmering_ind', 0.0064705226223375125), ('adres_recentste_buurt_groot_ijsselmonde', 0.006225480828599223), ('relatie_kind_huidige_aantal', 0.006212744673589871), ('pla_hist_pla_categorie_doelstelling_16', 0.006146883761834497), ('contacten_onderwerp_boolean_taaleis___voldoet', 0.005979851823768705), ('contacten_soort_afgelopenjaar_telefoontje__uitgaand_', 0.005933230484905863), ('afspraak_laatstejaar_resultaat_ingevuld', 0.005919812722751771), ('beschikbaarheid_recent_afwijkend_wegens_medische_omstandigheden', 0.005777781383032973), ('contacten_onderwerp_boolean_financiële_situatie', 0.005647875311429348), ('relatie_overig_actueel_vorm__ouders_verzorgers', 0.00561369750723611), ('instrument_reden_beeindiging_historie_doelstelling_bereikt__uitstroom_naar_regulier_werk', 0.005546122487594542), ('persoonlijke_eigenschappen_nl_lezen3', 0.005472794534379212), ('deelname_act_actueel_projecten_uniek', 0.005319148936170213), ('persoon_geslacht_vrouw', 0.005278307318222981), ('contacten_onderwerp_maatregel_overweging', 0.0050626207850031765), ('adres_recentste_wijk_noord', 0.005059340807391216), ('belemmering_hist_psychische_problemen', 0.005047045369626015), ('contacten_onderwerp_boolean_documenttype__overeenkomst_', 0.005027650394079426), ('belemmering_niet_computervaardig', 0.005000627752245491), ('contacten_soort_gesprek_op_locatie', 0.004997889071464802), ('instrument_reden_beeindiging_historie_succesvol__doelstelling_bereikt', 0.004985231849746891), ('pla_hist_pla_categorie_doelstelling_9', 0.0049607244991182395), ('persoonlijke_eigenschappen_taaleis_schrijfv_ok', 0.004922019771928671), ('contacten_onderwerp_mutatie', 0.0049040160954476), ('competentie_plannen_en_organiseren', 0.004862319607917572), ('relatie_kind_tiener', 0.004745664469022505), ('pla_einde_doelstelling_bereikt', 0.00473910057460796), ('contacten_soort_rapportage_rib', 0.004737402633229409), ('contacten_onderwerp_boolean_overleg_met_inkomen', 0.004626409615004559), ('competentie_omgaan_met_verandering_en_aanpassen', 0.0045435217863536255), ('contacten_onderwerp_boolean_contact_met_aanbieder', 0.004536104541019326), ('instrument_reden_beeindiging_historie_other', 0.004479634348582292), ('belemmering_aantal_huidig', 0.004310344827586207), ('contacten_onderwerp_boolean_maatregel_overweging', 0.00424230811015623), ('persoonlijke_eigenschappen_leergierigheid_opm', 0.0041660977281789665), ('belemmering_hist_stabiele_mix__sz____dagbesteding_werk', 0.004145616018672973), ('instrument_reden_beeindiging_historie_overdracht_succesvol', 0.004079816085564612), ('contacten_onderwerp_traject', 0.004054141361933067), ('adres_recentste_buurt_nieuwe_westen', 0.003981730413961277), ('afspraak_gespr__einde_zoekt___galo_gesprek_', 0.00396905215861477), ('contacten_onderwerp_terugbelverzoek', 0.003939540459770476), ('adres_aantal_woonadres_handmatig', 0.003917931690486549), ('pla_einde_doelstelling_niet_bereikt', 0.003887618625331454), ('contacten_onderwerp_ziek__of_afmelding', 0.0038799990869545446), ('relatie_kind_basisschool_kind', 0.003728123406081816), ('contacten_onderwerp_boolean_traject', 0.003681271778576706), ('ontheffing_reden_hist_other', 0.00363463575244883), ('beschikbaarheid_recent_afwijkend_wegens_sociaal_maatschappelijke_situatie', 0.0036257712421633617), ('afspraak_deelname_compleet_uit_webapplicatie', 0.0035539024455538966), ('instrument_reden_beeindiging_historie_overdracht_naar_regulier_team_iwpm', 0.0035517555187523715), ('afspraak_afgelopen_jaar_vervolgmeting_matchbaarheid_werkzoekende_klant', 0.003546050222920142), ('competentie_gedrevenheid_en_ambitie_tonen', 0.0035274464102378637), ('deelname_act_reintegratieladder_werk_re_integratie', 0.003513198757763975), ('contacten_onderwerp_boolean__werk_intake', 0.003498296666657393), ('contacten_onderwerp_overige', 0.0034835826127599906), ('instrument_reden_beeindiging_historie_op_termijn_matchbaar', 0.0034804541165943397), ('beschikbaarheid_aantal_historie_afwijkend_wegens_medische_omstandigheden', 0.0034427707906795357), ('typering_other', 0.0034213112747219923), ('adres_aantal_verschillende_wijken', 0.003396845996539248), ('contacten_onderwerp_boolean_mutatie', 0.0033751599225953317), ('adres_aantal_brp_adres', 0.003357550869988681), ('pla_einde_doelstelling_bereikt__nieuw_trajectplan', 0.0033250806770765084), ('relatie_kind_heeft_kinderen', 0.003259528515505799), ('persoonlijke_eigenschappen_nl_schrijven0', 0.0032580809931732394), ('competentie_aansturen', 0.0032313431311921104), ('competentie_kwaliteit_leveren', 0.003229576771653543), ('adres_recentste_wijk_feijenoord', 0.0032214472487671845), ('typering_zorg__schoonmaak___welzijn', 0.003156118906892901), ('persoonlijke_eigenschappen_uiterlijke_verzorging_opm', 0.0031395002890387777), ('instrument_reden_beeindiging_historie_diagnose_gesteld', 0.0031253344970110304), ('belemmering_hist_verslavingsproblematiek', 0.0031094198522063), ('competentie_onderzoeken', 0.0030120586358964533), ('persoonlijke_eigenschappen_ind_buiten_kantoortijden', 0.002958054250731471), ('afspraak_afgelopen_jaar_afsprakenplan', 0.002883440851678446), ('pla_actueel_pla_categorie_doelstelling_9', 0.0028297145217813335), ('afspraak_voortgangsgesprek', 0.0028132907974843463), ('competentie_ethisch_en_integer_handelen', 0.0028017217406096544), ('contacten_onderwerp_boolean_ziek__of_afmelding', 0.002793528425515369), ('belemmering_financiele_problemen', 0.0027746574749555612), ('contacten_soort_afgelopenjaar_e_mail__inkomend_', 0.002773268398268398), ('adres_recentste_wijk_ijsselmonde', 0.0027680836690205054), ('instrument_reden_beeindiging_historie_centrale_actie_wigo4it', 0.002679695958440912), ('persoonlijke_eigenschappen_spreektaal_anders', 0.0026599482665589104), ('persoonlijke_eigenschappen_uitstroom_verw_vlgs_klant', 0.0026595744680851063), ('relatie_partner_aantal_partner___partner__gehuwd_', 0.00265017667844523), ('contacten_onderwerp_boolean_scholing', 0.0026414169913418837), ('contacten_onderwerp_boolean_groepsbijeenkomst', 0.0026306387895889388), ('ontheffing_reden_hist_vanwege_uw_sociaal_maatschappelijke_situatie', 0.0025778438186092297), ('persoonlijke_eigenschappen_nl_schrijven3', 0.0025264340549664773), ('persoonlijke_eigenschappen_nl_spreken3', 0.002446542486163071), ('contacten_onderwerp_boolean_contact_derden', 0.0023591461118667883), ('adres_recentste_wijk_prins_alexa', 0.002340904933734639), ('contacten_onderwerp_boolean_overige', 0.0022991494846797862), ('competentie_overtuigen_en_beïnvloeden', 0.0022691886765596964), ('pla_hist_pla_categorie_doelstelling_4', 0.0022653738995922247), ('persoonlijke_eigenschappen_nl_schrijven1', 0.002239267134015303), ('belemmering_hist_lichamelijke_problematiek', 0.0022185632374291295), ('belemmering_woonsituatie', 0.002216524400843915), ('pla_einde_geplande_einddatum_overschreden_zonder_nader_bericht', 0.0021411787365177193), ('pla_einde_doelstelling_bereikt__overdracht', 0.0020963759163668983), ('afspraak_signaal_van_aanbieder', 0.0020833333333333333), ('competentie_met_druk_en_tegenslag_omgaan', 0.00206297849847392), ('persoonlijke_eigenschappen_overige_opmerkingen', 0.002011877841022585), ('contacten_onderwerp_financiële_situatie', 0.0020117046114534057), ('pla_hist_pla_categorie_doelstelling_10', 0.002007323618623077), ('competentie_materialen_en_middelen_inzetten', 0.0020014546753777053), ('instrument_reden_beeindiging_historie_doelstelling_niet_bereikt__geen_uitstroom', 0.0019728811450874287), ('contacten_onderwerp_werkintake__niet_verschenen', 0.001934018646456859), ('relatie_partner_huidige_partner___partner__gehuwd_', 0.001933870568699712), ('relatie_overig_historie_vorm__onderhoudsplichtige', 0.0019031083140041334), ('afspraak_galo_gesprek', 0.0018833066636885173), ('belemmering_ind_hist', 0.0018742589924788436), ('contacten_soort_afgelopenjaar_rapportage_rib', 0.0018619644476934273), ('persoonlijke_eigenschappen_zelfstandigheid_opm', 0.0018165424702023313), ('pla_ondertekeningen_historie', 0.0017971666106910665), ('contacten_onderwerp_boolean_sollicitatie', 0.0017908151881747213), ('persoonlijke_eigenschappen_nl_spreken1', 0.0017904341525497019), ('persoonlijke_eigenschappen_ind_activering_traject', 0.0017834417693473239), ('pla_hist_pla_categorie_doelstelling_6', 0.001725246912498223), ('pla_hist_pla_categorie_doelstelling_3', 0.0016510137149672033), ('contacten_onderwerp__pre__intake', 0.0016009492708609543), ('persoonlijke_eigenschappen_presentatie_opm', 0.0015834024970257845), ('contacten_onderwerp_scholing', 0.001519693867602613), ('ontheffing_reden_hist_medische_gronden', 0.001511877260799893), ('pla_hist_pla_categorie_doelstelling_5', 0.0015018202656628921), ('persoonlijke_eigenschappen_motivatie_opm', 0.001451645162809206), ('adres_recentste_wijk_stadscentru', 0.0014425348738094513), ('relatie_overig_actueel_vorm__onderhoudsplichtige', 0.0014401499344883185), ('persoonlijke_eigenschappen_initiatief_opm', 0.0014305101317239075), ('pla_historie_werk_en_inburgering', 0.001404869342189485), ('persoonlijke_eigenschappen_communicatie_opm', 0.0013742592407001643), ('instrument_ladder_historie_other', 0.0013090366678858815), ('contacten_soort_afgelopenjaar_gesprek_op_locatie', 0.001302116559633678), ('typering_hist_sector_zorg', 0.001292599221306548), ('relatie_overig_actueel_vorm__gemachtigde', 0.0012771392081736908), ('contacten_onderwerp_boolean__pre__intake', 0.001272876316928994), ('persoonlijke_eigenschappen_houding_opm', 0.0012668616184398904), ('persoonlijke_eigenschappen_doorzettingsvermogen_opm', 0.0012544138784242945), ('instrument_aantal_laatstejaar', 0.0012376237623762376), ('afspraak_afgelopen_jaar_ontheffing', 0.0012218720578228202), ('afspraak_participatietrede_vervolgmeting', 0.0012154214204842361), ('adres_recentste_buurt_other', 0.0012142336992513852), ('pla_einde_doelstelling_niet_bereikt__overdracht', 0.0011849936379851693), ('afspraak_toevoegen_inschrijving_uwvwb', 0.0011765066508678456), ('typering_hist_inburgeringsbehoeftig', 0.0011695702446807763), ('persoonlijke_eigenschappen_nl_schrijvenfalse', 0.001168450753327705), ('pla_hist_pla_categorie_doelstelling_other', 0.0011432046321631344), ('contacten_onderwerp_boolean_motivatie', 0.001091909935814475), ('ontheffing_reden_hist_sociale_gronden', 0.001075137898232527), ('adres_recentste_plaats_rotterdam', 0.0010733867668141046), ('instrument_reden_beeindiging_historie_overdracht_naar_prematching', 0.0010718645879466257), ('pla_historie_maatschappelijke_inspanning', 0.0009984738394408273), ('afspraak_controle_verwijzing', 0.0009735144674251446), ('adres_recentste_wijk_other', 0.0009520730213480757), ('competentie_formuleren_en_rapporteren', 0.00093656245093855), ('contacten_onderwerp_boolean_matching', 0.0009043741999417898), ('relatie_overig_historie_vorm__gemachtigde', 0.0009021288958253103), ('contacten_onderwerp_boolean__arbeids_motivatie', 0.0008990723204337027), ('adres_unieke_wijk_ratio', 0.0008956739607424538), ('pla_hist_pla_categorie_doelstelling_27', 0.000894328860237626), ('persoonlijke_eigenschappen_nl_schrijven2', 0.0008670324494544624), ('typering_transport__logistiek___tuinbouw', 0.0008564939529818671), ('contacten_onderwerp_diagnosegesprek', 0.0008431703204047217), ('contacten_onderwerp_quickscan', 0.0008009556208509447), ('persoonlijke_eigenschappen_ind_regulier_arbeidsritme', 0.0007826546289623354), ('contacten_onderwerp_boolean_terugbelverzoek', 0.0007780615855168181), ('adres_recentst_onderdeel_rdam', 0.0007761259035221334), ('contacten_onderwerp_arbeidsdiagnose_dariuz', 0.000725290577807647), ('persoonlijke_eigenschappen_hobbies_sport', 0.0007169529988601941), ('pla_einde_other', 0.00069610537300053), ('contacten_onderwerp_boolean_documenttype__cv_', 0.0006767988259780101), ('persoonlijke_eigenschappen_nl_spreken2', 0.0006681122624305671), ('contacten_onderwerp_boolean_match___werk', 0.0006633156593727664), ('deelname_act_reintegratieladder_ondersteunende_instrumenten', 0.0006544502617801048), ('persoonlijke_eigenschappen_opstelling', 0.0006442089485822324), ('afspraak_other', 0.0006263994771571907), ('persoonlijke_eigenschappen_flexibiliteit_opm', 0.0006257238547035699), ('contacten_soort_groepsbijeenkomsten', 0.0006108130668299564), ('contacten_onderwerp_documenttype__overeenkomst_', 0.0006082725060827251), ('instrument_reden_beeindiging_historie_niet_succesvol__reden_bij_werkzoekende', 0.0005526647406745723), ('typering_ind', 0.0005478334116417375), ('ontheffing_reden_hist_tijdelijke_ontheffing_arbeidsverplichtingen', 0.0005022351709091662), ('afspraak_afgelopen_jaar_plan_van_aanpak', 0.000502008032128514), ('contacten_onderwerp_boolean_documenten__innemen_', 0.0004728843854218311), ('instrument_reden_beeindiging_historie_uitval__aanbod_niet_langer_zinvol_volgens_gemeente', 0.0004726045007374931), ('afspraak_afgelopen_jaar_signaal_voor_medewerker', 0.00043402777777777775), ('contacten_onderwerp_boolean_inkomen', 0.0004294610993117759), ('contacten_onderwerp_screening', 0.00036656891495601173), ('instrument_reden_beeindiging_historie_niet_matchbaar', 0.0003457427446308614), ('persoonlijke_eigenschappen_nl_lezen4', 0.0003342188290754443), ('persoonlijke_eigenschappen_uitstroom_verw_vlgs_km', 0.00033068783068783067), ('contacten_onderwerp_boolean_diagnosegesprek', 0.00032920957832657365), ('adres_recentste_buurt_oude_noorden', 0.0003081392950572848), ('contacten_onderwerp_inname_aanvraag', 0.0003053973626502578), ('adres_recentste_wijk_kralingen_c', 0.00024008761987575714), ('contacten_onderwerp_boolean_zorg', 0.00023619900716768667), ('contacten_onderwerp_boolean_uitnodiging', 0.00022900148719229627), ('typering_hist_aantal', 0.0002204585537918871), ('pla_hist_pla_categorie_doelstelling_1', 0.00021891418563922942), ('competentie_other', 0.0002186969752899836), ('contacten_onderwerp_documenten__innemen_', 0.00016254876462938882), ('competentie_op_de_behoeften_en_verwachtingen_van_de__klant__richten', 0.00015249450122380962), ('belemmering_hist_taal', 0.00014073021885521885), ('instrument_reden_beeindiging_historie_direct_matchbaar', 0.00010220768601798856), ('typering_aantal', 9.69743987587277e-05), ('relatie_kind_volwassen', 3.556187766714083e-05), ('adres_dagen_op_adres', 0.0), ('afspraak_aantal_woorden', 0.0), ('afspraak_laatstejaar_aantal_woorden', 0.0), ('afspraak_signaal_voor_medewerker', 0.0), ('belemmering_dagen_financiele_problemen', 0.0), ('belemmering_dagen_lichamelijke_problematiek', 0.0), ('belemmering_dagen_psychische_problemen', 0.0), ('competentie_analyseren', 0.0), ('competentie_samenwerken_en_overleggen', 0.0), ('contacten_onderwerp__arbeids_motivatie', 0.0), ('contacten_onderwerp_contact_met_aanbieder', 0.0), ('contacten_onderwerp_documenttype__cv_', 0.0), ('contacten_onderwerp_matching', 0.0), ('contacten_onderwerp_uitnodiging', 0.0), ('contacten_onderwerp_zorg', 0.0), ('contacten_soort_afgelopenjaar_document__inkomend_', 0.0), ('instrument_reden_beeindiging_historie_doelstelling_bereikt__geen_uitstroom', 0.0), ('ontheffing_dagen_hist_mean', 0.0), ('ontheffing_dagen_hist_vanwege_uw_medische_omstandigheden', 0.0), ('persoonlijke_eigenschappen_dagen_sinds_opvoer', 0.0), ('persoonlijke_eigenschappen_dagen_sinds_taaleis', 0.0), ('persoonlijke_eigenschappen_spreektaal', 0.0), ('pla_historie_werk', 0.0), ('relatie_partner_totaal_dagen_partner', 0.0), ('typering_dagen_som', 0.0), ('checked', 0.0)] \n",
      "\n",
      "Global average 0.6559273040833768 %\n",
      "Column averages [('belemmering_dagen_lichamelijke_problematiek', 0.25), ('contacten_soort_afgelopenjaar_anders', 0.17427248677248675), ('competentie_vakdeskundigheid_toepassen', 0.13626816621255897), ('persoonlijke_eigenschappen_dagen_sinds_opvoer', 0.125), ('persoonlijke_eigenschappen_dagen_sinds_taaleis', 0.08333333333333333), ('contacten_soort_afgelopenjaar_e_mail__inkomend_', 0.06559093467341559), ('relatie_overig_historie_vorm__kostendeler', 0.06272982239720194), ('instrument_ladder_historie_activering', 0.055283433740324274), ('instrument_ladder_huidig_activering', 0.046835809355729084), ('contacten_soort_afgelopenjaar_document__uitgaand_', 0.040676171654432526), ('afspraak_laatstejaar_resultaat_ingevuld_uniek', 0.03913259627559181), ('contacten_soort_afgelopenjaar_e_mail__uitgaand_', 0.0386739417989418), ('contacten_onderwerp_documenttype__overeenkomst_', 0.03774663183973069), ('persoon_leeftijd_bij_onderzoek', 0.03624637346468605), ('contacten_soort_anders', 0.035357696875447285), ('relatie_kind_huidige_aantal', 0.03329955007649507), ('relatie_overig_kostendeler', 0.029125334932183243), ('contacten_onderwerp_inkomen', 0.02847896708923548), ('contacten_onderwerp_no_show', 0.027941176470588237), ('relatie_overig_actueel_vorm_other', 0.02765936567351213), ('contacten_soort_telefoontje__inkomend_', 0.02700257600633761), ('afspraak_controle_aankondiging_maatregel', 0.026432035929507807), ('pla_ondertekeningen_historie', 0.0250118596065134), ('adres_aantal_verzendadres', 0.02463876425703686), ('pla_historie_ontwikkeling', 0.0235061324738299), ('contacten_soort_telefoontje__uitgaand_', 0.02325696457467491), ('persoonlijke_eigenschappen_taaleis_voldaan', 0.0228636795965219), ('pla_ondertekeningen_actueel', 0.021909242776873106), ('pla_einde_uitstroom_anders_dan_volgen_onderwijs__regulier_werk_of_als_zelfstandige', 0.019439828602876182), ('beschikbaarheid_aantal_historie_afwijkend_wegens_sociaal_maatschappelijke_situatie', 0.018841266707200627), ('instrument_reden_beeindiging_historie_uitval__klant_wz__ziet_af_van_aanbod', 0.018781792196948425), ('contacten_soort_afgelopenjaar_gesprek', 0.018712844933319095), ('competentie_instructies_en_procedures_opvolgen', 0.018233179625102), ('afspraak_afgelopen_jaar_ontheffing_taaleis', 0.01812726438975501), ('contacten_soort_rapportage_rib', 0.018070683679824593), ('contacten_onderwerp_boolean_no_show', 0.01772269051449272), ('pla_hist_pla_categorie_doelstelling_16', 0.017716058620364093), ('pla_einde_doelstelling_niet_bereikt', 0.01763661151164971), ('relatie_overig_actueel_vorm__kostendeler', 0.016082536560949115), ('deelname_act_reintegratieladder_werk_re_integratie', 0.016077124629756207), ('pla_actueel_pla_categorie_doelstelling_16', 0.01600159647111787), ('deelname_act_hist_projecten_niet_gestart', 0.015070975166701616), ('contacten_soort_gesprek_op_locatie', 0.014961745054845056), ('contacten_onderwerp_overleg_met_inkomen', 0.014150943396226415), ('ontheffing_reden_hist_tijdelijke_ontheffing_arbeidsverpl__en_tegenprestatie', 0.013751367666478024), ('competentie_plannen_en_organiseren', 0.013449509297803731), ('instrument_reden_beeindiging_historie_succesvol', 0.012800006261260701), ('relatie_overig_historie_vorm__andere_inwonende', 0.012695660217053708), ('relatie_overig_bewindvoerder', 0.012571031681849384), ('persoonlijke_eigenschappen_spreektaal', 0.012205406968914038), ('adres_recentste_plaats_other', 0.012110684671552265), ('contacten_onderwerp_inspanningstoets', 0.010973287099353073), ('contacten_onderwerp_beoordelen_taaleis', 0.01072591658787688), ('instrument_reden_beeindiging_historie_doelstelling_bereikt__uitstroom_overig', 0.010582984215955469), ('pla_einde_doelstelling_bereikt', 0.01034507126920772), ('ontheffing_actueel_ind', 0.01021758945826138), ('beschikbaarheid_aantal_historie_afwijkend_wegens_medische_omstandigheden', 0.010204413533149824), ('afspraak_verzenden_beschikking_i_v_m__niet_voldoen_aan_wet_taaleis', 0.009910406688031554), ('contacten_soort_e_mail__inkomend_', 0.009615384615384616), ('beschikbaarheid_huidig_bekend', 0.009564797242806847), ('afspraak_afgelopen_jaar_monitoring_insp__wet_taaleis_na_12_mnd_n_a_v__taa04_____geen_maatregel', 0.009265007036075086), ('belemmering_psychische_problemen', 0.009117071730574088), ('pla_hist_pla_categorie_doelstelling_11', 0.009003660951407942), ('ontheffing_reden_tijdelijke_ontheffing_arbeidsverpl__en_tegenprestatie', 0.00892371949884316), ('relatie_partner_aantal_partner___partner__ongehuwd_', 0.008912211036401305), ('competentie_overtuigen_en_beïnvloeden', 0.008877567300270972), ('afspraak_afgelopen_jaar_voortgang_aanmelding_en_deelname', 0.008725321245438332), ('contacten_onderwerp_boolean_beoordelen_taaleis', 0.008718884459014736), ('afspraak_inspanningsperiode', 0.008124126745059782), ('instrument_ladder_huidig_other', 0.008034885275451313), ('beschikbaarheid_huidig_afwijkend_wegens_medische_omstandigheden', 0.008001393610911988), ('adres_recentste_wijk_charlois', 0.007899878022211225), ('pla_hist_pla_categorie_doelstelling_2', 0.007875017369418563), ('typering_indicatie_geheime_gegevens', 0.007837685825337426), ('contacten_onderwerp_terugbelverzoek', 0.007777964983984811), ('deelname_act_actueel_projecten_uniek', 0.007663189716124398), ('contacten_onderwerp_vakantie', 0.007566159409240895), ('adres_recentste_buurt_vreewijk', 0.0074141225898247), ('relatie_kind_jongvolwassen', 0.007247527325318506), ('belemmering_hist_psychische_problemen', 0.007205310673052609), ('persoonlijke_eigenschappen_uitstroom_verw_vlgs_klant', 0.0071996581867013465), ('instrument_aantal_laatstejaar', 0.0071309766922068845), ('instrument_ladder_huidig_werk_re_integratie', 0.007050685410247632), ('persoonlijke_eigenschappen_nl_begrijpen3', 0.00699732240544751), ('contacten_onderwerp_boolean_documenttype__diploma_s_en_certificaten_', 0.006957701418110229), ('adres_recentste_wijk_delfshaven', 0.006768501268009737), ('pla_historie_other', 0.006762606059460132), ('contacten_onderwerp_contact_derden', 0.006670553535907812), ('competentie_leren', 0.006501447639343654), ('instrument_reden_beeindiging_historie_overdracht_naar_mo', 0.00648693184941745), ('belemmering_ind', 0.0064705226223375125), ('adres_recentste_buurt_groot_ijsselmonde', 0.006225480828599223), ('belemmering_hist_lichamelijke_problematiek', 0.006204672075890861), ('contacten_onderwerp_boolean_taaleis___voldoet', 0.005979851823768705), ('contacten_onderwerp_financiële_situatie', 0.005784009156311314), ('beschikbaarheid_recent_afwijkend_wegens_medische_omstandigheden', 0.005777781383032973), ('contacten_onderwerp_boolean_financiële_situatie', 0.005647875311429348), ('relatie_overig_actueel_vorm__ouders_verzorgers', 0.00561369750723611), ('instrument_reden_beeindiging_historie_doelstelling_bereikt__uitstroom_naar_regulier_werk', 0.005546122487594542), ('contacten_soort_afgelopenjaar_telefoontje__uitgaand_', 0.005485646292770177), ('persoonlijke_eigenschappen_nl_lezen3', 0.005472794534379212), ('instrument_reden_beeindiging_historie_centrale_actie_wigo4it', 0.0053802829584024894), ('persoon_geslacht_vrouw', 0.005278307318222981), ('contacten_onderwerp_maatregel_overweging', 0.005242053522523097), ('adres_recentste_wijk_noord', 0.005059340807391216), ('contacten_onderwerp_boolean_documenttype__overeenkomst_', 0.005027650394079426), ('belemmering_niet_computervaardig', 0.005000627752245491), ('instrument_reden_beeindiging_historie_succesvol__doelstelling_bereikt', 0.004985231849746891), ('pla_hist_pla_categorie_doelstelling_9', 0.0049607244991182395), ('persoonlijke_eigenschappen_taaleis_schrijfv_ok', 0.004922019771928671), ('relatie_kind_leeftijd_verschil_ouder_eerste_kind', 0.0048460144927536235), ('contacten_onderwerp_boolean_overleg_met_inkomen', 0.004626409615004559), ('instrument_reden_beeindiging_historie_doelstelling_niet_bereikt__geen_uitstroom', 0.004582214081489379), ('contacten_onderwerp_boolean_contact_met_aanbieder', 0.004536104541019326), ('contacten_onderwerp_mutatie', 0.00453128146201094), ('belemmering_aantal_huidig', 0.004398593284640302), ('adres_aantal_verschillende_wijken', 0.004310344827586207), ('contacten_onderwerp_arbeidsdiagnose_dariuz', 0.004289518883183554), ('contacten_onderwerp_boolean_maatregel_overweging', 0.00424230811015623), ('pla_einde_geplande_einddatum_overschreden_zonder_nader_bericht', 0.004224808933037669), ('persoonlijke_eigenschappen_leergierigheid_opm', 0.0041660977281789665), ('belemmering_hist_stabiele_mix__sz____dagbesteding_werk', 0.004145616018672973), ('afspraak_laatstejaar_resultaat_ingevuld', 0.004078934753206566), ('afspraak_galo_gesprek', 0.004064766270053056), ('adres_recentste_buurt_nieuwe_westen', 0.003981730413961277), ('competentie_omgaan_met_verandering_en_aanpassen', 0.003979841953085937), ('afspraak_gespr__einde_zoekt___galo_gesprek_', 0.00396905215861477), ('contacten_onderwerp_ziek__of_afmelding', 0.0038799990869545446), ('relatie_overig_historie_vorm__gemachtigde', 0.0038394593795468), ('relatie_kind_basisschool_kind', 0.003728123406081816), ('contacten_onderwerp_boolean_traject', 0.003681271778576706), ('afspraak_signaal_van_aanbieder', 0.003656811855332564), ('competentie_samenwerken_en_overleggen', 0.0036388589092750264), ('ontheffing_reden_hist_other', 0.00363463575244883), ('beschikbaarheid_recent_afwijkend_wegens_sociaal_maatschappelijke_situatie', 0.0036257712421633617), ('contacten_onderwerp_matching', 0.003595990473162899), ('instrument_reden_beeindiging_historie_overdracht_naar_regulier_team_iwpm', 0.0035517555187523715), ('afspraak_afgelopen_jaar_vervolgmeting_matchbaarheid_werkzoekende_klant', 0.003546050222920142), ('competentie_gedrevenheid_en_ambitie_tonen', 0.0035274464102378637), ('contacten_onderwerp_boolean__werk_intake', 0.003498296666657393), ('instrument_reden_beeindiging_historie_op_termijn_matchbaar', 0.0034804541165943397), ('contacten_onderwerp_zorg', 0.0034792168635041014), ('contacten_soort_groepsbijeenkomsten', 0.003446080458259164), ('contacten_onderwerp_boolean_mutatie', 0.0033751599225953317), ('relatie_kind_heeft_kinderen', 0.003259528515505799), ('persoonlijke_eigenschappen_nl_schrijven0', 0.0032580809931732394), ('competentie_aansturen', 0.0032313431311921104), ('competentie_kwaliteit_leveren', 0.003229576771653543), ('adres_recentste_wijk_feijenoord', 0.0032214472487671845), ('typering_zorg__schoonmaak___welzijn', 0.003156118906892901), ('persoonlijke_eigenschappen_uiterlijke_verzorging_opm', 0.0031395002890387777), ('contacten_onderwerp__arbeids_motivatie', 0.0031352054378370165), ('instrument_reden_beeindiging_historie_diagnose_gesteld', 0.0031253344970110304), ('belemmering_hist_verslavingsproblematiek', 0.0031094198522063), ('contacten_soort_e_mail__uitgaand_', 0.0030454997248166127), ('competentie_onderzoeken', 0.0030120586358964533), ('instrument_reden_beeindiging_historie_niet_succesvol', 0.002988966722018402), ('contacten_soort_afgelopenjaar_rapportage_rib', 0.002979178471533944), ('afspraak_laatstejaar_aantal_woorden', 0.002976190476190476), ('persoonlijke_eigenschappen_ind_buiten_kantoortijden', 0.002958054250731471), ('pla_actueel_pla_categorie_doelstelling_9', 0.0028297145217813335), ('competentie_ethisch_en_integer_handelen', 0.0028017217406096544), ('contacten_onderwerp_boolean_ziek__of_afmelding', 0.002793528425515369), ('instrument_reden_beeindiging_historie_doelstelling_bereikt__geen_uitstroom', 0.002777777777777778), ('belemmering_financiele_problemen', 0.0027746574749555612), ('adres_recentste_wijk_ijsselmonde', 0.0027680836690205054), ('pla_einde_doelstelling_bereikt__nieuw_trajectplan', 0.002756149443940738), ('persoonlijke_eigenschappen_spreektaal_anders', 0.0026599482665589104), ('contacten_onderwerp_boolean_scholing', 0.0026414169913418837), ('contacten_onderwerp_boolean_groepsbijeenkomst', 0.0026306387895889388), ('afspraak_aanmelding_afgesloten', 0.002605450184295011), ('ontheffing_reden_hist_vanwege_uw_sociaal_maatschappelijke_situatie', 0.0025778438186092297), ('persoonlijke_eigenschappen_nl_schrijven3', 0.0025264340549664773), ('afspraak_vervolgmeting_matchbaarheid_werkzoekende_klant', 0.0024796770624218516), ('persoonlijke_eigenschappen_nl_spreken3', 0.002446542486163071), ('pla_hist_pla_categorie_doelstelling_5', 0.002392701785284906), ('contacten_onderwerp_boolean_contact_derden', 0.0023591461118667883), ('adres_recentste_wijk_prins_alexa', 0.002340904933734639), ('contacten_onderwerp_boolean_overige', 0.0022991494846797862), ('contacten_onderwerp__werk_intake', 0.002295969682009416), ('contacten_onderwerp_traject', 0.0022935779816513763), ('relatie_overig_actueel_vorm__onderhoudsplichtige', 0.002264242331278276), ('relatie_kind_tiener', 0.002262415434305808), ('persoonlijke_eigenschappen_nl_schrijven1', 0.002239267134015303), ('belemmering_woonsituatie', 0.002216524400843915), ('pla_einde_doelstelling_bereikt__overdracht', 0.0021212767628168592), ('persoonlijke_eigenschappen_uitstroom_verw_vlgs_km', 0.0021008403361344537), ('afspraak_voortgangsgesprek', 0.0020745165181869233), ('afspraak_participatietrede_vervolgmeting', 0.0020184446307263543), ('persoonlijke_eigenschappen_overige_opmerkingen', 0.002011877841022585), ('competentie_materialen_en_middelen_inzetten', 0.0020014546753777053), ('instrument_reden_beeindiging_historie_other', 0.001998550749994168), ('competentie_met_druk_en_tegenslag_omgaan', 0.0019771651350598716), ('afspraak_signaal_voor_medewerker', 0.00196078431372549), ('relatie_partner_huidige_partner___partner__gehuwd_', 0.001933870568699712), ('instrument_reden_beeindiging_historie_overdracht_succesvol', 0.0019189134936677644), ('relatie_overig_historie_vorm__onderhoudsplichtige', 0.0019031083140041334), ('belemmering_ind_hist', 0.0018742589924788436), ('instrument_ladder_historie_other', 0.0018216219152475338), ('persoonlijke_eigenschappen_zelfstandigheid_opm', 0.0018165424702023313), ('ontheffing_reden_hist_medische_gronden', 0.0018039604505769918), ('contacten_onderwerp_boolean_sollicitatie', 0.0017908151881747213), ('persoonlijke_eigenschappen_nl_spreken1', 0.0017904341525497019), ('persoonlijke_eigenschappen_ind_activering_traject', 0.0017834417693473239), ('typering_other', 0.001779975643760416), ('pla_hist_pla_categorie_doelstelling_other', 0.0015921380618507557), ('persoonlijke_eigenschappen_presentatie_opm', 0.0015834024970257845), ('pla_hist_pla_categorie_doelstelling_10', 0.0015508301184096916), ('contacten_onderwerp_scholing', 0.001519693867602613), ('relatie_partner_aantal_partner___partner__gehuwd_', 0.0014859308570149923), ('persoonlijke_eigenschappen_motivatie_opm', 0.001451645162809206), ('adres_recentste_wijk_stadscentru', 0.0014425348738094513), ('pla_einde_doelstelling_niet_bereikt__overdracht', 0.0014339710576564857), ('afspraak_toevoegen_inschrijving_uwvwb', 0.0014309112605050607), ('persoonlijke_eigenschappen_initiatief_opm', 0.0014305101317239075), ('pla_historie_werk_en_inburgering', 0.001404869342189485), ('persoonlijke_eigenschappen_communicatie_opm', 0.0013742592407001643), ('afspraak_afgelopen_jaar_afsprakenplan', 0.0013254792615280144), ('contacten_soort_afgelopenjaar_gesprek_op_locatie', 0.001302116559633678), ('typering_hist_sector_zorg', 0.001292599221306548), ('instrument_reden_beeindiging_historie_uitval__aanbod_niet_langer_zinvol_volgens_gemeente', 0.0012912526009066028), ('contacten_onderwerp_boolean__pre__intake', 0.001272876316928994), ('persoonlijke_eigenschappen_houding_opm', 0.0012668616184398904), ('persoonlijke_eigenschappen_doorzettingsvermogen_opm', 0.0012544138784242945), ('afspraak_afgelopen_jaar_ontheffing', 0.0012218720578228202), ('adres_recentste_buurt_other', 0.0012142336992513852), ('typering_hist_inburgeringsbehoeftig', 0.0011695702446807763), ('persoonlijke_eigenschappen_nl_schrijvenfalse', 0.001168450753327705), ('contacten_onderwerp_diagnosegesprek', 0.0011551669122566624), ('afspraak_controle_verwijzing', 0.0011233875919273884), ('contacten_onderwerp_boolean_motivatie', 0.001091909935814475), ('contacten_soort_document__uitgaand_', 0.0010869565217391304), ('ontheffing_reden_hist_sociale_gronden', 0.001075137898232527), ('adres_recentste_plaats_rotterdam', 0.0010733867668141046), ('instrument_reden_beeindiging_historie_overdracht_naar_prematching', 0.0010718645879466257), ('contacten_onderwerp_documenttype__cv_', 0.0010604835563877246), ('contacten_onderwerp_werkintake__niet_verschenen', 0.0010364368561844755), ('pla_historie_maatschappelijke_inspanning', 0.0009984738394408273), ('competentie_other', 0.0009754140897642819), ('adres_recentste_wijk_other', 0.0009520730213480757), ('contacten_soort_rapportage_deelname', 0.0009491876079209375), ('afspraak_deelname_compleet_uit_webapplicatie', 0.0009263033314999608), ('contacten_onderwerp_boolean_matching', 0.0009043741999417898), ('contacten_onderwerp_boolean__arbeids_motivatie', 0.0008990723204337027), ('adres_unieke_wijk_ratio', 0.0008956739607424538), ('pla_hist_pla_categorie_doelstelling_27', 0.000894328860237626), ('persoonlijke_eigenschappen_nl_schrijven2', 0.0008670324494544624), ('typering_transport__logistiek___tuinbouw', 0.0008564939529818671), ('contacten_onderwerp__pre__intake', 0.0008211908681241813), ('contacten_onderwerp_quickscan', 0.0008009556208509447), ('persoonlijke_eigenschappen_ind_regulier_arbeidsritme', 0.0007826546289623354), ('afspraak_afsprakenplan', 0.0007796408876486612), ('contacten_onderwerp_boolean_terugbelverzoek', 0.0007780615855168181), ('contacten_onderwerp_overige', 0.0007763975155279503), ('adres_recentst_onderdeel_rdam', 0.0007761259035221334), ('persoonlijke_eigenschappen_hobbies_sport', 0.0007169529988601941), ('pla_einde_other', 0.00069610537300053), ('contacten_onderwerp_boolean_documenttype__cv_', 0.0006767988259780101), ('adres_aantal_woonadres_handmatig', 0.0006751039925473236), ('competentie_analyseren', 0.0006718371129932106), ('persoonlijke_eigenschappen_nl_spreken2', 0.0006681122624305671), ('contacten_onderwerp_boolean_match___werk', 0.0006633156593727664), ('persoonlijke_eigenschappen_opstelling', 0.0006442089485822324), ('persoonlijke_eigenschappen_flexibiliteit_opm', 0.0006257238547035699), ('relatie_overig_actueel_vorm__gemachtigde', 0.0005952158706366446), ('instrument_reden_beeindiging_historie_niet_succesvol__reden_bij_werkzoekende', 0.0005526647406745723), ('pla_hist_pla_categorie_doelstelling_4', 0.0005510878322826291), ('typering_ind', 0.0005478334116417375), ('pla_hist_pla_categorie_doelstelling_3', 0.000511343216064364), ('ontheffing_reden_hist_tijdelijke_ontheffing_arbeidsverplichtingen', 0.0005022351709091662), ('afspraak_afgelopen_jaar_plan_van_aanpak', 0.000502008032128514), ('contacten_onderwerp_boolean_documenten__innemen_', 0.0004728843854218311), ('contacten_onderwerp_boolean_inkomen', 0.0004294610993117759), ('contacten_onderwerp_screening', 0.00036656891495601173), ('instrument_reden_beeindiging_historie_niet_matchbaar', 0.0003457427446308614), ('persoonlijke_eigenschappen_nl_lezen4', 0.0003342188290754443), ('contacten_onderwerp_boolean_diagnosegesprek', 0.00032920957832657365), ('competentie_formuleren_en_rapporteren', 0.00031713249511860993), ('adres_recentste_buurt_oude_noorden', 0.0003081392950572848), ('contacten_onderwerp_inname_aanvraag', 0.0003053973626502578), ('typering_hist_aantal', 0.00027011458463071364), ('pla_hist_pla_categorie_doelstelling_1', 0.0002597238493676003), ('adres_recentste_wijk_kralingen_c', 0.00024008761987575714), ('contacten_onderwerp_boolean_zorg', 0.00023619900716768667), ('contacten_onderwerp_boolean_uitnodiging', 0.00022900148719229627), ('competentie_op_de_behoeften_en_verwachtingen_van_de__klant__richten', 0.00015249450122380962), ('belemmering_hist_taal', 0.00014073021885521885), ('instrument_reden_beeindiging_historie_direct_matchbaar', 0.00010220768601798856), ('typering_aantal', 9.69743987587277e-05), ('afspraak_afgelopen_jaar_signaal_voor_medewerker', 9.416195856873823e-05), ('contacten_onderwerp_uitnodiging', 6.953135864274787e-05), ('relatie_kind_volwassen', 3.556187766714083e-05), ('adres_aantal_brp_adres', 0.0), ('adres_dagen_op_adres', 0.0), ('afspraak_aantal_woorden', 0.0), ('afspraak_other', 0.0), ('afspraak_resultaat_ingevuld_uniek', 0.0), ('belemmering_dagen_financiele_problemen', 0.0), ('belemmering_dagen_psychische_problemen', 0.0), ('contacten_onderwerp_contact_met_aanbieder', 0.0), ('contacten_onderwerp_documenten__innemen_', 0.0), ('contacten_onderwerp_groepsbijeenkomst', 0.0), ('contacten_soort_afgelopenjaar_document__inkomend_', 0.0), ('contacten_soort_afgelopenjaar_telefoontje__inkomend_', 0.0), ('contacten_soort_document__inkomend_', 0.0), ('deelname_act_reintegratieladder_ondersteunende_instrumenten', 0.0), ('ontheffing_dagen_hist_mean', 0.0), ('ontheffing_dagen_hist_vanwege_uw_medische_omstandigheden', 0.0), ('pla_einde_doelstelling_niet_bereikt__nieuw_trajectplan', 0.0), ('pla_hist_pla_categorie_doelstelling_6', 0.0), ('pla_historie_werk', 0.0), ('relatie_partner_totaal_dagen_partner', 0.0), ('typering_dagen_som', 0.0), ('checked', 0.0)] \n",
      "\n",
      "Global average 0.7986933842306637 %\n"
     ]
    }
   ],
   "source": [
    "class MetamorphicTester:\n",
    "    def __init__(self, data_path, model_path):\n",
    "        self.model = model_path\n",
    "        self.df = pd.read_csv(data_path)\n",
    "        self.mutation_test_results = {}\n",
    "        self.column_avg = None\n",
    "        self.global_average = None\n",
    "        \n",
    "    def test(self):\n",
    "        # Iterate over each column in the DataFrame and generate the mutation test combinations\n",
    "        for column in self.df.columns:\n",
    "            # Get unique values for the current column\n",
    "            unique_values = self.df[column].unique()\n",
    "            if len(unique_values) > 1:\n",
    "                # We sample two random values from the unique options, and store this in the dictionary\n",
    "                rand_values = np.random.choice(unique_values, size=2, replace=False)\n",
    "                combos = []\n",
    "                for bool in [True, False]:\n",
    "                    for a in rand_values:\n",
    "                        for b in rand_values:\n",
    "                            combos.append([bool, a, b])\n",
    "                \n",
    "                self.mutation_test_results[column] = combos\n",
    "        \n",
    "        # Go over each combination and get how many tests failed to kill the mutation\n",
    "        for column, values in self.mutation_test_results.items():\n",
    "            for combo in values:\n",
    "                num_differ, length = test_metamorphic(data, column, combo[0], combo[1], combo[2], model)\n",
    "                combo.append(num_differ)\n",
    "                combo.append(length)\n",
    "    \n",
    "    def analyse_test(self):\n",
    "        # We can now do some basic data analysis.\n",
    "        # We can compute a score on a per-column basis, getting an average across 8 tests of what percentage of mutants were failed to kill\n",
    "        # We can also compute a sort of global metric. Just an average across all mutations\n",
    "        column_avg = []\n",
    "        all_percentages = []\n",
    "        \n",
    "        for column, values in self.mutation_test_results.items():\n",
    "            percentages = []\n",
    "            for combo in values:\n",
    "                # compute percentage, and add it to a temp array to compute the average value\n",
    "                if combo[4] != 0:\n",
    "                    res = combo[3]/combo[4]\n",
    "                    percentages.append(res)\n",
    "                    all_percentages.append(res)\n",
    "            column_avg.append((column, np.mean(np.array(percentages))))\n",
    "        \n",
    "        column_avg = sorted(column_avg, key=lambda x: x[1], reverse=True)\n",
    "        \n",
    "        # Save the results\n",
    "        self.column_avg = column_avg\n",
    "        self.global_average = np.mean(np.array(all_percentages)) * 100\n",
    "\n",
    "\n",
    "model_1 = MetamorphicTester('data/synth_data_for_training.csv', 'model/model_1.onnx')\n",
    "model_1.test()\n",
    "model_1.analyse_test()\n",
    "\n",
    "\n",
    "gboost = MetamorphicTester('data/synth_data_for_training.csv', 'model/gboost.onnx')\n",
    "gboost.test()\n",
    "gboost.analyse_test()\n",
    "\n",
    "# features_to_ignore = [\"adres_dagen_op_adres\", \"afspraak_aantal_woorden\", \"afspraak_laatstejaar_aantal_woorden\", \"belemmering_dagen_financiele_problemen\", \n",
    "#                       \"belemmering_dagen_lichamelijke_problematiek\", \"belemmering_dagen_psychische_problemen\", \"contacten_onderwerp_overige\", \"contacten_onderwerp_terugbelverzoek\", \"contacten_onderwerp_traject\", \"contacten_soort_afgelopenjaar_document__uitgaand_\", \n",
    "#                       \"contacten_soort_document__inkomend_\", \"contacten_soort_document__uitgaand_\", \"contacten_soort_e_mail__inkomend_\", \"contacten_soort_e_mail__uitgaand_\", \"contacten_soort_telefoontje__inkomend_\", \"contacten_soort_telefoontje__uitgaand_\", \n",
    "#                       \"deelname_act_reintegratieladder_werk_re_integratie\", \"ontheffing_dagen_hist_mean\", \"ontheffing_dagen_hist_vanwege_uw_medische_omstandigheden\", \"persoon_leeftijd_bij_onderzoek\", \"persoonlijke_eigenschappen_dagen_sinds_opvoer\", \"persoonlijke_eigenschappen_dagen_sinds_taaleis\", \"persoonlijke_eigenschappen_spreektaal\", \"relatie_kind_leeftijd_verschil_ouder_eerste_kind\", \"typering_dagen_som\"]\n"
   ],
   "metadata": {
    "collapsed": false,
    "ExecuteTime": {
     "end_time": "2024-03-17T18:13:42.482959300Z",
     "start_time": "2024-03-17T18:10:25.678588700Z"
    }
   }
  },
  {
   "cell_type": "markdown",
   "source": [
    "## Setting up a class to do mutation testing"
   ],
   "metadata": {
    "collapsed": false
   }
  },
  {
   "cell_type": "code",
   "execution_count": null,
   "outputs": [],
   "source": [
    "class MutationTester:\n",
    "    def __init__(self, data_path, model_path):\n",
    "        self.model = model_path\n",
    "        self.df = pd.read_csv(data_path)\n",
    "    \n",
    "    \"\"\"\n",
    "    The given training data is shuffled in a random order. Specifically, a random data point is swapped with another, \n",
    "    this is done equal to the iterations parameter number of times \n",
    "    \"\"\"\n",
    "    def data_shuffler(self, iterations=1000):\n",
    "        shuffled_data = self.df.copy()\n",
    "        num_rows = len(self.df)\n",
    "        \n",
    "        for i in range(iterations):\n",
    "            # Choose two random indices for swapping\n",
    "            idx1, idx2 = np.random.randint(0, num_rows, 2)\n",
    "    \n",
    "            # Swap rows at random two indices\n",
    "            shuffled_data.iloc[idx1], shuffled_data.iloc[idx2] = (\n",
    "                shuffled_data.iloc[idx2].copy(),\n",
    "                shuffled_data.iloc[idx1].copy(),\n",
    "            )\n",
    "        return shuffled_data\n",
    "\n",
    "    \"\"\"\n",
    "    A fixed percentage of the training data is removed (at random)\n",
    "    \"\"\"\n",
    "    def data_remover(self, percent=0.1):\n",
    "        # Calculate the number of rows to remove based on the percentage\n",
    "        num_rows_to_remove = int(len(self.df) * percent)\n",
    "        smaller_df = self.df.copy()\n",
    "        return smaller_df.drop(smaller_df.sample(n=num_rows_to_remove).index)\n",
    "    \n",
    "    \"\"\"\n",
    "    Chosen randomly, the values of a row of the training data is replicated into another row. This is done\n",
    "    iterations number of times\n",
    "    \"\"\"\n",
    "    def data_repetition(self, iterations=1000):\n",
    "        repeated_data = self.df.copy()\n",
    "        num_rows = len(self.df)\n",
    "        \n",
    "        for i in range(iterations):\n",
    "            # Choose two random indices. The value of the first will be duplicated onto the 2nd\n",
    "            idx1, idx2 = np.random.randint(0, num_rows, 2)\n",
    "            repeated_data.iloc[idx2] = repeated_data.iloc[idx1].values\n",
    "        return repeated_data\n",
    "    \n",
    "    def label_error(self, num_rows):\n",
    "        assert num_rows < len(self.df), \"Please chose to alter the labels of less training data\"\n",
    "        changed_data = self.df.copy()\n",
    "        # Get the indices of rows that will have their labels changed\n",
    "        rows_to_change = np.random.choice(self.df.index, num_rows, replace=False)\n",
    "        \n",
    "        # Change the values of the last column (\"checked\") for the randomly selected rows (0 becomes 1 and vice versa)\n",
    "        changed_data.loc[rows_to_change, self.df.columns[-1]] = 1 - changed_data.loc[rows_to_change, self.df.columns[-1]]\n",
    "        \n",
    "        return changed_data"
   ],
   "metadata": {
    "collapsed": false
   }
  },
  {
   "cell_type": "code",
   "execution_count": 16,
   "outputs": [],
   "source": [],
   "metadata": {
    "collapsed": false,
    "ExecuteTime": {
     "end_time": "2024-03-19T14:27:12.824272Z",
     "start_time": "2024-03-19T14:27:12.818265600Z"
    }
   }
  },
  {
   "cell_type": "code",
   "execution_count": null,
   "outputs": [],
   "source": [],
   "metadata": {
    "collapsed": false
   }
  }
 ],
 "metadata": {
  "language_info": {
   "name": "python"
  },
  "kernelspec": {
   "name": "python3",
   "language": "python",
   "display_name": "Python 3 (ipykernel)"
  }
 },
 "nbformat": 4,
 "nbformat_minor": 2
}
