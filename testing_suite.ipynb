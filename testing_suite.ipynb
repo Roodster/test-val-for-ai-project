{
 "cells": [
  {
   "cell_type": "code",
   "execution_count": 80,
   "metadata": {
    "ExecuteTime": {
     "end_time": "2024-03-19T15:37:31.685530Z",
     "start_time": "2024-03-19T15:37:31.042046200Z"
    }
   },
   "outputs": [],
   "source": [
    "import pandas as pd\n",
    "import numpy as np\n",
    "from sklearn.model_selection import train_test_split\n",
    "import onnxruntime as rt\n",
    "import onnx\n",
    "import matplotlib.pyplot as plt"
   ]
  },
  {
   "cell_type": "code",
   "execution_count": 62,
   "metadata": {
    "ExecuteTime": {
     "end_time": "2024-03-19T15:23:48.918954900Z",
     "start_time": "2024-03-19T15:23:48.763841300Z"
    }
   },
   "outputs": [],
   "source": [
    "data = pd.read_csv('data/synth_data_for_training.csv')"
   ]
  },
  {
   "cell_type": "markdown",
   "metadata": {},
   "source": [
    "## Function for metamorphic testing"
   ]
  },
  {
   "cell_type": "code",
   "execution_count": 63,
   "metadata": {
    "ExecuteTime": {
     "end_time": "2024-03-19T15:23:49.702597800Z",
     "start_time": "2024-03-19T15:23:49.697591100Z"
    }
   },
   "outputs": [],
   "source": [
    "from onnxruntime.capi.onnxruntime_pybind11_state import InvalidArgument\n",
    "\n",
    "def test_metamorphic(data, feature_name : str, is_Fraud: bool ,value_from : int, value_to: int, model_path : str):\n",
    "    data_modified = data.copy() \n",
    "    is_checked = 1 if is_Fraud else 0\n",
    "    test_data= data_modified.loc[data_modified['checked'] == is_checked]\n",
    "    test_data = test_data.loc[test_data[feature_name] == value_from]\n",
    "    data_wout = test_data.copy()\n",
    "    y_wout = data_wout['checked']\n",
    "    X_wout= data_wout.drop(['checked'], axis=1)\n",
    "    X_wout = X_wout.astype(np.float32)\n",
    "    test_data[feature_name] = value_to\n",
    "    y_test = test_data['checked']\n",
    "    X_test= test_data.drop(['checked'], axis=1)\n",
    "    X_test = X_test.astype(np.float32)\n",
    "    session = rt.InferenceSession(model_path)\n",
    "        \n",
    "    try:\n",
    "        y_pred_onnx1 =  session.run(None, {'X': X_wout.values.astype(np.float32)})\n",
    "        y_pred_onnx2 =  session.run(None, {'X': X_test.values.astype(np.float32)})\n",
    "        y_pred_onnx1_np = np.array(y_pred_onnx1[0])\n",
    "        y_pred_onnx2_np = np.array(y_pred_onnx2[0])\n",
    "        diff_count = np.sum(y_pred_onnx1_np != y_pred_onnx2_np)\n",
    "        return diff_count, len(y_pred_onnx1_np)\n",
    "    except InvalidArgument:\n",
    "        #print(\"Got error: empty test dataframe. \" \"Column is: \", feature_name, \" combo is:\", is_Fraud, value_from, value_to)\n",
    "        return 0, 0\n",
    "    # assert y_pred_onnx1[0].all() == y_pred_onnx2[0].all(), f'Model predictions are different. The model has bias towards {feature_name} with value {value_from} '\n",
    "    # return True"
   ]
  },
  {
   "cell_type": "markdown",
   "metadata": {},
   "source": [
    "## Test Cases"
   ]
  },
  {
   "cell_type": "code",
   "execution_count": 64,
   "outputs": [
    {
     "data": {
      "text/plain": "(0, 0)"
     },
     "execution_count": 64,
     "metadata": {},
     "output_type": "execute_result"
    }
   ],
   "source": [
    "test_metamorphic(data, \"adres_aantal_brp_adres\", True, 11, 11, \"model/model_1.onnx\")"
   ],
   "metadata": {
    "collapsed": false,
    "ExecuteTime": {
     "end_time": "2024-03-19T15:23:50.832457Z",
     "start_time": "2024-03-19T15:23:50.806411Z"
    }
   }
  },
  {
   "cell_type": "code",
   "execution_count": 65,
   "metadata": {
    "ExecuteTime": {
     "end_time": "2024-03-19T15:23:51.246846300Z",
     "start_time": "2024-03-19T15:23:51.216945200Z"
    }
   },
   "outputs": [
    {
     "data": {
      "text/plain": "(16, 663)"
     },
     "execution_count": 65,
     "metadata": {},
     "output_type": "execute_result"
    }
   ],
   "source": [
    "test_metamorphic(data, 'persoon_geslacht_vrouw', True, 0, 1, \"model/model_1.onnx\") #test if changing gender of women who are frauds to men to see if predictions change to not fraud"
   ]
  },
  {
   "cell_type": "code",
   "execution_count": 66,
   "metadata": {
    "ExecuteTime": {
     "end_time": "2024-03-19T15:23:52.011376200Z",
     "start_time": "2024-03-19T15:23:51.916434600Z"
    }
   },
   "outputs": [
    {
     "data": {
      "text/plain": "(11, 5879)"
     },
     "execution_count": 66,
     "metadata": {},
     "output_type": "execute_result"
    }
   ],
   "source": [
    "test_metamorphic(data, 'persoon_geslacht_vrouw', False, 0, 1, \"model/model_1.onnx\") #test if changing gender of men who are not frauds to women to see if predictions change to not fraud"
   ]
  },
  {
   "cell_type": "code",
   "execution_count": 67,
   "metadata": {
    "ExecuteTime": {
     "end_time": "2024-03-19T15:23:52.572340500Z",
     "start_time": "2024-03-19T15:23:52.539453100Z"
    }
   },
   "outputs": [
    {
     "data": {
      "text/plain": "(21, 708)"
     },
     "execution_count": 67,
     "metadata": {},
     "output_type": "execute_result"
    }
   ],
   "source": [
    "test_metamorphic(data, 'persoonlijke_eigenschappen_taaleis_voldaan', True, 0, 1, \"model/model_1.onnx\") #test if changing non dutch speaker people who are frauds to dutch speaking to see if predictions change to not fraud"
   ]
  },
  {
   "cell_type": "code",
   "execution_count": 68,
   "metadata": {
    "ExecuteTime": {
     "end_time": "2024-03-19T15:23:53.182495Z",
     "start_time": "2024-03-19T15:23:53.080496700Z"
    }
   },
   "outputs": [
    {
     "data": {
      "text/plain": "(13, 6558)"
     },
     "execution_count": 68,
     "metadata": {},
     "output_type": "execute_result"
    }
   ],
   "source": [
    "test_metamorphic(data, 'persoonlijke_eigenschappen_taaleis_voldaan', False, 1, 0, \"model/model_1.onnx\") #test if changing dutch speaker people who are not frauds to non-dutch speaking to see if predictions change to fraud"
   ]
  },
  {
   "cell_type": "code",
   "execution_count": 69,
   "metadata": {
    "ExecuteTime": {
     "end_time": "2024-03-19T15:23:53.803116800Z",
     "start_time": "2024-03-19T15:23:53.773756200Z"
    }
   },
   "outputs": [
    {
     "data": {
      "text/plain": "(4, 104)"
     },
     "execution_count": 69,
     "metadata": {},
     "output_type": "execute_result"
    }
   ],
   "source": [
    "test_metamorphic(data, 'persoonlijke_eigenschappen_taaleis_voldaan', True, 2, 1, \"model/model_1.onnx\") #test if changing people who are frauds and did no take the dutch exam to dutch speaking to see if predictions change to not fraud"
   ]
  },
  {
   "cell_type": "markdown",
   "source": [
    "### Making a class that tests all combinations of feature values in metamorphic testing"
   ],
   "metadata": {
    "collapsed": false
   }
  },
  {
   "cell_type": "code",
   "execution_count": 70,
   "outputs": [],
   "source": [
    "class MetamorphicTester:\n",
    "    def __init__(self, data_path, model_path):\n",
    "        self.model = model_path\n",
    "        self.df = pd.read_csv(data_path)\n",
    "        self.mutation_test_results = {}\n",
    "        self.column_avg = None\n",
    "        self.global_average = None\n",
    "        \n",
    "    def test(self):\n",
    "        # Iterate over each column in the DataFrame and generate the mutation test combinations\n",
    "        for column in self.df.columns:\n",
    "            # Get unique values for the current column\n",
    "            unique_values = self.df[column].unique()\n",
    "            if len(unique_values) > 1:\n",
    "                # We sample two random values from the unique options, and store this in the dictionary\n",
    "                rand_values = np.random.choice(unique_values, size=2, replace=False)\n",
    "                combos = []\n",
    "                for bool in [True, False]:\n",
    "                    for a in rand_values:\n",
    "                        for b in rand_values:\n",
    "                            combos.append([bool, a, b])\n",
    "                \n",
    "                self.mutation_test_results[column] = combos\n",
    "        \n",
    "        # Go over each combination and get how many tests failed to kill the mutation\n",
    "        for column, values in self.mutation_test_results.items():\n",
    "            for combo in values:\n",
    "                num_differ, length = test_metamorphic(data, column, combo[0], combo[1], combo[2], self.model)\n",
    "                combo.append(num_differ)\n",
    "                combo.append(length)\n",
    "    \n",
    "    def analyse_test(self):\n",
    "        # We can now do some basic data analysis.\n",
    "        # We can compute a score on a per-column basis, getting an average across 8 tests of what percentage of mutants were failed to kill\n",
    "        # We can also compute a sort of global metric. Just an average across all mutations\n",
    "        column_avg = []\n",
    "        all_percentages = []\n",
    "        \n",
    "        for column, values in self.mutation_test_results.items():\n",
    "            percentages = []\n",
    "            for combo in values:\n",
    "                # compute percentage, and add it to a temp array to compute the average value\n",
    "                if combo[4] != 0:\n",
    "                    res = combo[3]/combo[4]\n",
    "                    percentages.append(res)\n",
    "                    all_percentages.append(res)\n",
    "            column_avg.append((column, np.mean(np.array(percentages))))\n",
    "        \n",
    "        column_avg = sorted(column_avg, key=lambda x: x[1], reverse=True)\n",
    "        \n",
    "        # Save the results\n",
    "        self.column_avg = column_avg\n",
    "        self.global_average = np.mean(np.array(all_percentages)) * 100\n",
    "\n",
    "# features_to_ignore = [\"adres_dagen_op_adres\", \"afspraak_aantal_woorden\", \"afspraak_laatstejaar_aantal_woorden\", \"belemmering_dagen_financiele_problemen\", \n",
    "#                       \"belemmering_dagen_lichamelijke_problematiek\", \"belemmering_dagen_psychische_problemen\", \"contacten_onderwerp_overige\", \"contacten_onderwerp_terugbelverzoek\", \"contacten_onderwerp_traject\", \"contacten_soort_afgelopenjaar_document__uitgaand_\", \n",
    "#                       \"contacten_soort_document__inkomend_\", \"contacten_soort_document__uitgaand_\", \"contacten_soort_e_mail__inkomend_\", \"contacten_soort_e_mail__uitgaand_\", \"contacten_soort_telefoontje__inkomend_\", \"contacten_soort_telefoontje__uitgaand_\", \n",
    "#                       \"deelname_act_reintegratieladder_werk_re_integratie\", \"ontheffing_dagen_hist_mean\", \"ontheffing_dagen_hist_vanwege_uw_medische_omstandigheden\", \"persoon_leeftijd_bij_onderzoek\", \"persoonlijke_eigenschappen_dagen_sinds_opvoer\", \"persoonlijke_eigenschappen_dagen_sinds_taaleis\", \"persoonlijke_eigenschappen_spreektaal\", \"relatie_kind_leeftijd_verschil_ouder_eerste_kind\", \"typering_dagen_som\"]\n"
   ],
   "metadata": {
    "collapsed": false,
    "ExecuteTime": {
     "end_time": "2024-03-19T15:23:54.633696600Z",
     "start_time": "2024-03-19T15:23:54.632693900Z"
    }
   }
  },
  {
   "cell_type": "code",
   "execution_count": 71,
   "outputs": [],
   "source": [
    "model_1 = MetamorphicTester('data/synth_data_for_training.csv', 'model/model_1.onnx')\n",
    "model_1.test()\n",
    "model_1.analyse_test()\n",
    "\n",
    "\n",
    "gboost = MetamorphicTester('data/synth_data_for_training.csv', 'model/gboost.onnx')\n",
    "gboost.test()\n",
    "gboost.analyse_test()"
   ],
   "metadata": {
    "collapsed": false,
    "ExecuteTime": {
     "end_time": "2024-03-19T15:26:57.131379700Z",
     "start_time": "2024-03-19T15:23:55.205140300Z"
    }
   }
  },
  {
   "cell_type": "code",
   "execution_count": 85,
   "outputs": [
    {
     "data": {
      "text/plain": "<Figure size 640x480 with 1 Axes>",
      "image/png": "[encoded data removed]"
     },
     "metadata": {},
     "output_type": "display_data"
    }
   ],
   "source": [
    "def plot_metmorphic_results(models):\n",
    "    data = []\n",
    "    for model in models:\n",
    "        data.append([tup[1]*100 for tup in model.column_avg])\n",
    "    \n",
    "    plt.boxplot(data)\n",
    "    # Add title and labels\n",
    "    plt.title('Box Plot of Arrays')\n",
    "    plt.xlabel('Arrays')\n",
    "    plt.ylabel('Values')\n",
    "    plt.ylim(0, 5)\n",
    "\n",
    "    # Show the plot\n",
    "    plt.show()\n",
    "models = [model_1, gboost]\n",
    "plot_metmorphic_results(models)"
   ],
   "metadata": {
    "collapsed": false,
    "ExecuteTime": {
     "end_time": "2024-03-19T15:39:42.495302300Z",
     "start_time": "2024-03-19T15:39:42.417410400Z"
    }
   }
  },
  {
   "cell_type": "markdown",
   "source": [
    "\n",
    "## Setting up a class to do mutation testing"
   ],
   "metadata": {
    "collapsed": false
   }
  },
  {
   "cell_type": "code",
   "execution_count": 57,
   "outputs": [],
   "source": [
    "class MutationTester:\n",
    "    def __init__(self, data_path, model_path):\n",
    "        self.model = model_path\n",
    "        self.df = pd.read_csv(data_path)\n",
    "    \n",
    "    \"\"\"\n",
    "    The given training data is shuffled in a random order. Specifically, a random data point is swapped with another, \n",
    "    this is done equal to the iterations parameter number of times \n",
    "    \"\"\"\n",
    "    def data_shuffler(self, iterations=1000):\n",
    "        shuffled_data = self.df.copy()\n",
    "        num_rows = len(self.df)\n",
    "        \n",
    "        for i in range(iterations):\n",
    "            # Choose two random indices for swapping\n",
    "            idx1, idx2 = np.random.randint(0, num_rows, 2)\n",
    "    \n",
    "            # Swap rows at random two indices\n",
    "            shuffled_data.iloc[idx1], shuffled_data.iloc[idx2] = (\n",
    "                shuffled_data.iloc[idx2].copy(),\n",
    "                shuffled_data.iloc[idx1].copy(),\n",
    "            )\n",
    "        return shuffled_data\n",
    "\n",
    "    \"\"\"\n",
    "    A fixed percentage of the training data is removed (at random)\n",
    "    \"\"\"\n",
    "    def data_remover(self, percent=0.1):\n",
    "        # Calculate the number of rows to remove based on the percentage\n",
    "        num_rows_to_remove = int(len(self.df) * percent)\n",
    "        smaller_df = self.df.copy()\n",
    "        return smaller_df.drop(smaller_df.sample(n=num_rows_to_remove).index)\n",
    "    \n",
    "    \"\"\"\n",
    "    Chosen randomly, the values of a row of the training data is replicated into another row. This is done\n",
    "    iterations number of times\n",
    "    \"\"\"\n",
    "    def data_repetition(self, iterations=1000):\n",
    "        repeated_data = self.df.copy()\n",
    "        num_rows = len(self.df)\n",
    "        \n",
    "        for i in range(iterations):\n",
    "            # Choose two random indices. The value of the first will be duplicated onto the 2nd\n",
    "            idx1, idx2 = np.random.randint(0, num_rows, 2)\n",
    "            repeated_data.iloc[idx2] = repeated_data.iloc[idx1].values\n",
    "        return repeated_data\n",
    "    \n",
    "    def label_error(self, num_rows):\n",
    "        assert num_rows < len(self.df), \"Please chose to alter the labels of less training data\"\n",
    "        changed_data = self.df.copy()\n",
    "        # Get the indices of rows that will have their labels changed\n",
    "        rows_to_change = np.random.choice(self.df.index, num_rows, replace=False)\n",
    "        \n",
    "        # Change the values of the last column (\"checked\") for the randomly selected rows (0 becomes 1 and vice versa)\n",
    "        changed_data.loc[rows_to_change, self.df.columns[-1]] = 1 - changed_data.loc[rows_to_change, self.df.columns[-1]]\n",
    "        \n",
    "        return changed_data"
   ],
   "metadata": {
    "collapsed": false,
    "ExecuteTime": {
     "end_time": "2024-03-19T15:22:56.595565100Z",
     "start_time": "2024-03-19T15:22:56.592742Z"
    }
   }
  },
  {
   "cell_type": "code",
   "execution_count": null,
   "outputs": [],
   "source": [],
   "metadata": {
    "collapsed": false
   }
  }
 ],
 "metadata": {
  "language_info": {
   "name": "python"
  },
  "kernelspec": {
   "name": "python3",
   "language": "python",
   "display_name": "Python 3 (ipykernel)"
  }
 },
 "nbformat": 4,
 "nbformat_minor": 2
}
