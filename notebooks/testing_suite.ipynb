{
 "cells": [
  {
   "cell_type": "code",
   "execution_count": 3,
   "metadata": {
    "ExecuteTime": {
     "end_time": "2024-03-19T18:09:23.751709100Z",
     "start_time": "2024-03-19T18:09:21.926022100Z"
    }
   },
   "outputs": [
    {
     "name": "stderr",
     "output_type": "stream",
     "text": [
      "WARNING:root:No module named 'tensorflow': AdversarialDebiasing will be unavailable. To install, run:\n",
      "pip install 'aif360[AdversarialDebiasing]'\n",
      "WARNING:root:No module named 'tensorflow': AdversarialDebiasing will be unavailable. To install, run:\n",
      "pip install 'aif360[AdversarialDebiasing]'\n",
      "WARNING:root:No module named 'fairlearn': ExponentiatedGradientReduction will be unavailable. To install, run:\n",
      "pip install 'aif360[Reductions]'\n",
      "WARNING:root:No module named 'fairlearn': GridSearchReduction will be unavailable. To install, run:\n",
      "pip install 'aif360[Reductions]'\n",
      "WARNING:root:No module named 'inFairness': SenSeI and SenSR will be unavailable. To install, run:\n",
      "pip install 'aif360[inFairness]'\n",
      "WARNING:root:No module named 'fairlearn': GridSearchReduction will be unavailable. To install, run:\n",
      "pip install 'aif360[Reductions]'\n"
     ]
    }
   ],
   "source": [
    "import matplotlib.pyplot as plt\n",
    "import numpy as np\n",
    "import onnxruntime as rt\n",
    "import onnx\n",
    "import pandas as pd\n",
    "\n",
    "from aif360.datasets import StandardDataset\n",
    "from aif360.algorithms.preprocessing.reweighing import Reweighing\n",
    "from constants import protected_attributes\n",
    "from sklearn.ensemble import GradientBoostingClassifier\n",
    "from sklearn.metrics import confusion_matrix\n",
    "from sklearn.model_selection import train_test_split"
   ]
  },
  {
   "cell_type": "markdown",
   "source": [
    "## Metamorphic testing class (works with pre-trained onnx models)"
   ],
   "metadata": {
    "collapsed": false
   }
  },
  {
   "cell_type": "markdown",
   "metadata": {},
   "source": [
    "Helper Functions for metapmorphic testing"
   ]
  },
  {
   "cell_type": "code",
   "execution_count": 29,
   "metadata": {
    "ExecuteTime": {
     "end_time": "2024-03-19T18:15:31.017704400Z",
     "start_time": "2024-03-19T18:15:31.006703100Z"
    }
   },
   "outputs": [],
   "source": [
    "from onnxruntime.capi.onnxruntime_pybind11_state import InvalidArgument\n",
    "\n",
    "def test_metamorphic(data, feature_name : str, is_Fraud: bool ,value_from : int, value_to: int, model_path : str):\n",
    "    data_modified = data.copy() \n",
    "    is_checked = 1 if is_Fraud else 0\n",
    "    test_data= data_modified.loc[data_modified['checked'] == is_checked]\n",
    "    test_data = test_data.loc[test_data[feature_name] == value_from]\n",
    "    data_wout = test_data.copy()\n",
    "    y_wout = data_wout['checked']\n",
    "    X_wout= data_wout.drop(['checked'], axis=1)\n",
    "    X_wout = X_wout.astype(np.float32)\n",
    "    test_data[feature_name] = value_to\n",
    "    y_test = test_data['checked']\n",
    "    X_test= test_data.drop(['checked'], axis=1)\n",
    "    X_test = X_test.astype(np.float32)\n",
    "    session = rt.InferenceSession(model_path)\n",
    "        \n",
    "    try:\n",
    "        y_pred_onnx1 =  session.run(None, {'X': X_wout.values.astype(np.float32)})\n",
    "        y_pred_onnx2 =  session.run(None, {'X': X_test.values.astype(np.float32)})\n",
    "        y_pred_onnx1_np = np.array(y_pred_onnx1[0])\n",
    "        y_pred_onnx2_np = np.array(y_pred_onnx2[0])\n",
    "        diff_count = np.sum(y_pred_onnx1_np != y_pred_onnx2_np)\n",
    "        return diff_count, len(y_pred_onnx1_np)\n",
    "    except InvalidArgument:\n",
    "        #print(\"Got error: empty test dataframe. \" \"Column is: \", feature_name, \" combo is:\", is_Fraud, value_from, value_to)\n",
    "        return 0, 0\n",
    "    # assert y_pred_onnx1[0].all() == y_pred_onnx2[0].all(), f'Model predictions are different. The model has bias towards {feature_name} with value {value_from} '\n",
    "    # return True\n",
    "\n",
    "def plot_metamorphic_results(pre_trained_models):\n",
    "    data = []\n",
    "    for model in pre_trained_models:\n",
    "        # Extract the percentage (it's the 2nd tuple value) and multiply it with 100\n",
    "        data.append([tup[1]*100 for tup in model.column_avg])\n",
    "    \n",
    "    plt.boxplot(data)\n",
    "    # Add title and labels\n",
    "    plt.title('Box Plot of Arrays')\n",
    "    plt.xlabel('Arrays')\n",
    "    plt.ylabel('Values')\n",
    "\n",
    "    # Show the plot\n",
    "    plt.show()"
   ]
  },
  {
   "cell_type": "markdown",
   "source": [
    "Making a class that tests all combinations of feature values in metamorphic testing"
   ],
   "metadata": {
    "collapsed": false
   }
  },
  {
   "cell_type": "code",
   "execution_count": null,
   "outputs": [],
   "source": [
    "class MetamorphicTester:\n",
    "    def __init__(self, data_path, model_path):\n",
    "        self.model = model_path\n",
    "        self.df = pd.read_csv(data_path)\n",
    "        self.mutation_test_results = {}\n",
    "        self.column_avg = None\n",
    "        self.global_average = None\n",
    "        \n",
    "    def test(self):\n",
    "        # Iterate over each column in the DataFrame and generate the mutation test combinations\n",
    "        for column in self.df.columns:\n",
    "            # Get unique values for the current column\n",
    "            unique_values = self.df[column].unique()\n",
    "            if len(unique_values) > 1:\n",
    "                # We sample two random values from the unique options, and store this in the dictionary\n",
    "                rand_values = np.random.choice(unique_values, size=2, replace=False)\n",
    "                combos = []\n",
    "                for bool in [True, False]:\n",
    "                    for a in rand_values:\n",
    "                        for b in rand_values:\n",
    "                            combos.append([bool, a, b])\n",
    "                \n",
    "                self.mutation_test_results[column] = combos\n",
    "        \n",
    "        # Go over each combination and get how many tests failed to kill the mutation\n",
    "        for column, values in self.mutation_test_results.items():\n",
    "            for combo in values:\n",
    "                num_differ, length = test_metamorphic(self.df, column, combo[0], combo[1], combo[2], self.model)\n",
    "                combo.append(num_differ)\n",
    "                combo.append(length)\n",
    "    \n",
    "    def analyse_test(self):\n",
    "        # We can now do some basic data analysis.\n",
    "        # We can compute a score on a per-column basis, getting an average across 8 tests of what percentage of mutants were failed to kill\n",
    "        # We can also compute a sort of global metric. Just an average across all mutations\n",
    "        column_avg = []\n",
    "        all_percentages = []\n",
    "        \n",
    "        for column, values in self.mutation_test_results.items():\n",
    "            percentages = []\n",
    "            for combo in values:\n",
    "                # compute percentage, and add it to a temp array to compute the average value\n",
    "                if combo[4] != 0:\n",
    "                    res = combo[3]/combo[4]\n",
    "                    percentages.append(res)\n",
    "                    all_percentages.append(res)\n",
    "            column_avg.append((column, np.mean(np.array(percentages))))\n",
    "        \n",
    "        column_avg = sorted(column_avg, key=lambda x: x[1], reverse=True)\n",
    "        \n",
    "        # Save the results\n",
    "        self.column_avg = column_avg\n",
    "        self.global_average = np.mean(np.array(all_percentages)) * 100\n",
    "\n",
    "# features_to_ignore = [\"adres_dagen_op_adres\", \"afspraak_aantal_woorden\", \"afspraak_laatstejaar_aantal_woorden\", \"belemmering_dagen_financiele_problemen\", \n",
    "#                       \"belemmering_dagen_lichamelijke_problematiek\", \"belemmering_dagen_psychische_problemen\", \"contacten_onderwerp_overige\", \"contacten_onderwerp_terugbelverzoek\", \"contacten_onderwerp_traject\", \"contacten_soort_afgelopenjaar_document__uitgaand_\", \n",
    "#                       \"contacten_soort_document__inkomend_\", \"contacten_soort_document__uitgaand_\", \"contacten_soort_e_mail__inkomend_\", \"contacten_soort_e_mail__uitgaand_\", \"contacten_soort_telefoontje__inkomend_\", \"contacten_soort_telefoontje__uitgaand_\", \n",
    "#                       \"deelname_act_reintegratieladder_werk_re_integratie\", \"ontheffing_dagen_hist_mean\", \"ontheffing_dagen_hist_vanwege_uw_medische_omstandigheden\", \"persoon_leeftijd_bij_onderzoek\", \"persoonlijke_eigenschappen_dagen_sinds_opvoer\", \"persoonlijke_eigenschappen_dagen_sinds_taaleis\", \"persoonlijke_eigenschappen_spreektaal\", \"relatie_kind_leeftijd_verschil_ouder_eerste_kind\", \"typering_dagen_som\"]\n"
   ],
   "metadata": {
    "collapsed": false
   }
  },
  {
   "cell_type": "markdown",
   "source": [
    "\n",
    "## Setting up a class to do mutation testing (requires training)"
   ],
   "metadata": {
    "collapsed": false
   }
  },
  {
   "cell_type": "code",
   "execution_count": 39,
   "outputs": [],
   "source": [
    "class MutationTester:\n",
    "    def __init__(self, data_path):\n",
    "        self.df = pd.read_csv(data_path)\n",
    "    \n",
    "    \"\"\"\n",
    "    The given training data is shuffled in a random order. Specifically, a random data point is swapped with another, \n",
    "    this is done equal to the iterations parameter number of times \n",
    "    \"\"\"\n",
    "    def data_shuffler(self, iterations=1000):\n",
    "        shuffled_data = self.df.copy()\n",
    "        num_rows = len(self.df)\n",
    "        \n",
    "        for i in range(iterations):\n",
    "            # Choose two random indices for swapping\n",
    "            idx1, idx2 = np.random.randint(0, num_rows, 2)\n",
    "    \n",
    "            # Swap rows at random two indices\n",
    "            shuffled_data.iloc[idx1], shuffled_data.iloc[idx2] = (\n",
    "                shuffled_data.iloc[idx2].copy(),\n",
    "                shuffled_data.iloc[idx1].copy(),\n",
    "            )\n",
    "        return shuffled_data\n",
    "\n",
    "    \"\"\"\n",
    "    A fixed percentage of the training data is removed (at random)\n",
    "    \"\"\"\n",
    "    def data_remover(self, percent=0.1):\n",
    "        # Calculate the number of rows to remove based on the percentage\n",
    "        num_rows_to_remove = int(len(self.df) * percent)\n",
    "        smaller_df = self.df.copy()\n",
    "        return smaller_df.drop(smaller_df.sample(n=num_rows_to_remove).index)\n",
    "    \n",
    "    \"\"\"\n",
    "    Chosen randomly, the values of a row of the training data is replicated into another row. This is done\n",
    "    iterations number of times\n",
    "    \"\"\"\n",
    "    def data_repetition(self, iterations=1000):\n",
    "        repeated_data = self.df.copy()\n",
    "        num_rows = len(self.df)\n",
    "        \n",
    "        for i in range(iterations):\n",
    "            # Choose two random indices. The value of the first will be duplicated onto the 2nd\n",
    "            idx1, idx2 = np.random.randint(0, num_rows, 2)\n",
    "            repeated_data.iloc[idx2] = repeated_data.iloc[idx1].values\n",
    "        return repeated_data\n",
    "    \n",
    "    def label_error(self, num_rows):\n",
    "        assert num_rows < len(self.df), \"Please chose to alter the labels of less training data\"\n",
    "        changed_data = self.df.copy()\n",
    "        # Get the indices of rows that will have their labels changed\n",
    "        rows_to_change = np.random.choice(self.df.index, num_rows, replace=False)\n",
    "        \n",
    "        # Change the values of the last column (\"checked\") for the randomly selected rows (0 becomes 1 and vice versa)\n",
    "        changed_data.loc[rows_to_change, self.df.columns[-1]] = 1 - changed_data.loc[rows_to_change, self.df.columns[-1]]\n",
    "        \n",
    "        return changed_data"
   ],
   "metadata": {
    "collapsed": false,
    "ExecuteTime": {
     "end_time": "2024-03-19T18:20:35.761992300Z",
     "start_time": "2024-03-19T18:20:35.730967600Z"
    }
   }
  },
  {
   "cell_type": "markdown",
   "source": [
    "## Functional test class (can work with training or without)\n"
   ],
   "metadata": {
    "collapsed": false
   }
  },
  {
   "cell_type": "code",
   "execution_count": 37,
   "outputs": [],
   "source": [
    "class FunctionalTester:\n",
    "    def __init__(self, model_path):\n",
    "        self.model = model_path\n",
    "    \n",
    "    \"\"\"\n",
    "    Evaluates the model and returns performance metrics\n",
    "    \"\"\"\n",
    "    def evaluate_model(self, x_test, y_test):\n",
    "        session = rt.InferenceSession(self.model)\n",
    "        y_pred = session.run(None, {'X': x_test.values.astype(np.float32)})   \n",
    "        cm = confusion_matrix(y_test, y_pred[0])\n",
    "        tn, fp, fn, tp = cm.ravel()\n",
    "        fpr = fp / (fp + tn)  # False Positive Rate\n",
    "        tnr = tn / (tn + fp)  # True Negative Rate\n",
    "        npr = tp / (tp + fn)  # Negative Predictive Rate\n",
    "        fnr = fn / (fn + tp)  # False Negative Rate\n",
    "        precision = tp / (tp + fp)  # Precision\n",
    "        recall = tp / (tp + fn)  # Recall\n",
    "        f1 = 2 * (precision * recall) / (precision + recall)  # F1 Score\n",
    "        \n",
    "        return {\n",
    "            \"fpr\": fpr,\n",
    "            \"tnr\": tnr,\n",
    "            \"npr\": npr,\n",
    "            \"fnr\": fnr,\n",
    "            \"precision\": precision,\n",
    "            \"recall\": recall,\n",
    "            \"f1\": f1\n",
    "        }"
   ],
   "metadata": {
    "collapsed": false,
    "ExecuteTime": {
     "end_time": "2024-03-19T18:17:44.536096500Z",
     "start_time": "2024-03-19T18:17:44.528585600Z"
    }
   }
  },
  {
   "cell_type": "markdown",
   "source": [
    "## Test Cases"
   ],
   "metadata": {
    "collapsed": false
   }
  },
  {
   "cell_type": "markdown",
   "source": [
    "Doing some metamorphic testing"
   ],
   "metadata": {
    "collapsed": false
   }
  },
  {
   "cell_type": "code",
   "execution_count": 34,
   "outputs": [],
   "source": [
    "data = pd.read_csv(\"./../data/synth_data_for_training.csv\")\n",
    "model_path = \"./../model/baseline_model.onnx\""
   ],
   "metadata": {
    "collapsed": false,
    "ExecuteTime": {
     "end_time": "2024-03-19T17:40:32.538217300Z",
     "start_time": "2024-03-19T17:40:32.388851400Z"
    }
   }
  },
  {
   "cell_type": "code",
   "execution_count": 36,
   "outputs": [
    {
     "name": "stdout",
     "output_type": "stream",
     "text": [
      "(0, 0) (9, 663) (4, 5879) (14, 708) (3, 6558) (0, 104)\n"
     ]
    }
   ],
   "source": [
    "t1 = test_metamorphic(data, \"adres_aantal_brp_adres\", True, 11, 11, model_path)\n",
    "t2 = test_metamorphic(data, 'persoon_geslacht_vrouw', True, 0, 1, model_path) #test if changing gender of women who are frauds to men to see if predictions change to not fraud\n",
    "t3 = test_metamorphic(data, 'persoon_geslacht_vrouw', False, 0, 1, model_path) #test if changing gender of men who are not frauds to women to see if predictions change to not fraud\n",
    "t4 = test_metamorphic(data, 'persoonlijke_eigenschappen_taaleis_voldaan', True, 0, 1, model_path) #test if changing non dutch speaker people who are frauds to dutch speaking to see if predictions change to not fraud\n",
    "t5 = test_metamorphic(data, 'persoonlijke_eigenschappen_taaleis_voldaan', False, 1, 0, model_path) #test if changing dutch speaker people who are not frauds to non-dutch speaking to see if predictions change to fraud\n",
    "t6 = test_metamorphic(data, 'persoonlijke_eigenschappen_taaleis_voldaan', True, 2, 1, model_path) #test if changing people who are frauds and did no take the dutch exam to dutch speaking to see if predictions change to not fraud\n",
    "print(t1, t2, t3, t4, t5, t6)"
   ],
   "metadata": {
    "collapsed": false,
    "ExecuteTime": {
     "end_time": "2024-03-19T17:40:48.242450600Z",
     "start_time": "2024-03-19T17:40:47.742167300Z"
    }
   }
  },
  {
   "cell_type": "code",
   "execution_count": 37,
   "outputs": [],
   "source": [
    "baseline = MetamorphicTester('./../data/synth_data_for_training.csv', './../model/baseline_model.onnx')\n",
    "baseline.test()\n",
    "baseline.analyse_test()\n",
    "\n",
    "good_model = MetamorphicTester('./../data/synth_data_for_training.csv', './../model/good_model.onnx')\n",
    "good_model.test()\n",
    "good_model.analyse_test()"
   ],
   "metadata": {
    "collapsed": false,
    "ExecuteTime": {
     "end_time": "2024-03-19T17:45:38.310300300Z",
     "start_time": "2024-03-19T17:40:48.244453400Z"
    }
   }
  },
  {
   "cell_type": "code",
   "execution_count": 38,
   "outputs": [
    {
     "data": {
      "text/plain": "<Figure size 640x480 with 1 Axes>",
      "image/png": "[encoded data removed]"
     },
     "metadata": {},
     "output_type": "display_data"
    }
   ],
   "source": [
    "models = [baseline, good_model]\n",
    "plot_metamorphic_results(models)"
   ],
   "metadata": {
    "collapsed": false,
    "ExecuteTime": {
     "end_time": "2024-03-19T17:45:38.421258Z",
     "start_time": "2024-03-19T17:45:38.314303800Z"
    }
   }
  },
  {
   "cell_type": "markdown",
   "source": [
    "Doing some functional testing"
   ],
   "metadata": {
    "collapsed": false
   }
  },
  {
   "cell_type": "code",
   "execution_count": 38,
   "outputs": [
    {
     "data": {
      "text/plain": "{'fpr': 0.0013111888111888112,\n 'tnr': 0.9986888111888111,\n 'npr': 0.921161825726141,\n 'fnr': 0.07883817427385892,\n 'precision': 0.9866666666666667,\n 'recall': 0.921161825726141,\n 'f1': 0.9527896995708154}"
     },
     "execution_count": 38,
     "metadata": {},
     "output_type": "execute_result"
    }
   ],
   "source": [
    "data_copy = data.copy().astype(np.float32)\n",
    "features = data_copy.columns[:-1]  # Exclude last column (target)\n",
    "target = data_copy.columns[-1]\n",
    "\n",
    "# Train-test split\n",
    "X_train, X_test, y_train, y_test = train_test_split(data_copy[features], data_copy[target], test_size=0.2)\n",
    "\n",
    "functional_tester = FunctionalTester(\"./../model/baseline_model.onnx\")\n",
    "\n",
    "functional_tester.evaluate_model(X_test, y_test)"
   ],
   "metadata": {
    "collapsed": false,
    "ExecuteTime": {
     "end_time": "2024-03-19T18:18:31.705734200Z",
     "start_time": "2024-03-19T18:18:31.641206400Z"
    }
   }
  },
  {
   "cell_type": "markdown",
   "source": [
    "Doing some data mutating (will need to then train using this data and then call functional or metamorphic)"
   ],
   "metadata": {
    "collapsed": false
   }
  },
  {
   "cell_type": "code",
   "execution_count": 1,
   "outputs": [
    {
     "ename": "NameError",
     "evalue": "name 'MutationTester' is not defined",
     "output_type": "error",
     "traceback": [
      "\u001B[1;31m---------------------------------------------------------------------------\u001B[0m",
      "\u001B[1;31mNameError\u001B[0m                                 Traceback (most recent call last)",
      "Cell \u001B[1;32mIn[1], line 1\u001B[0m\n\u001B[1;32m----> 1\u001B[0m data_mutator \u001B[38;5;241m=\u001B[39m MutationTester(\u001B[38;5;124m\"\u001B[39m\u001B[38;5;124m./../data/synth_data_for_training.csv\u001B[39m\u001B[38;5;124m\"\u001B[39m)\n\u001B[0;32m      2\u001B[0m data_shuffled \u001B[38;5;241m=\u001B[39m data_mutator\u001B[38;5;241m.\u001B[39mdata_shuffler()\n",
      "\u001B[1;31mNameError\u001B[0m: name 'MutationTester' is not defined"
     ]
    }
   ],
   "source": [
    "data_mutator = MutationTester(\"./../data/synth_data_for_training.csv\")\n",
    "data_shuffled = data_mutator.data_shuffler()\n"
   ],
   "metadata": {
    "collapsed": false,
    "ExecuteTime": {
     "end_time": "2024-03-19T18:22:01.120212800Z",
     "start_time": "2024-03-19T18:22:00.540866600Z"
    }
   }
  },
  {
   "cell_type": "code",
   "execution_count": null,
   "outputs": [],
   "source": [],
   "metadata": {
    "collapsed": false
   }
  }
 ],
 "metadata": {
  "language_info": {
   "name": "python"
  },
  "kernelspec": {
   "name": "python3",
   "language": "python",
   "display_name": "Python 3 (ipykernel)"
  }
 },
 "nbformat": 4,
 "nbformat_minor": 2
}
