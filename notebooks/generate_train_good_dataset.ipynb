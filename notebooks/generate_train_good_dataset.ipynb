{
 "cells": [
  {
   "cell_type": "code",
   "execution_count": 16,
   "metadata": {},
   "outputs": [],
   "source": [
    "\"\"\"\n",
    "IMPORTS\n",
    "\"\"\"\n",
    "\n",
    "import pandas as pd"
   ]
  },
  {
   "cell_type": "code",
   "execution_count": 17,
   "metadata": {},
   "outputs": [],
   "source": [
    "DROPPED_FEATURE_CODE = 999\n"
   ]
  },
  {
   "cell_type": "code",
   "execution_count": 18,
   "metadata": {},
   "outputs": [],
   "source": [
    "protected_attributes = [\n",
    "    \"adres_aantal_brp_adres\",\n",
    "    \"adres_aantal_verschillende_wijken\",\n",
    "    \"adres_aantal_verzendadres\",\n",
    "    \"adres_aantal_woonadres_handmatig\",\n",
    "    \"adres_dagen_op_adres\",\n",
    "    \"adres_recentst_onderdeel_rdam\",\n",
    "    \"adres_recentste_buurt_groot_ijsselmonde\",\n",
    "    \"adres_recentste_buurt_nieuwe_westen\",\n",
    "    \"adres_recentste_buurt_other\",\n",
    "    \"adres_recentste_buurt_oude_noorden\",\n",
    "    \"adres_recentste_buurt_vreewijk\",\n",
    "    \"adres_recentste_plaats_other\",\n",
    "    \"adres_recentste_plaats_rotterdam\",\n",
    "    \"adres_recentste_wijk_charlois\",\n",
    "    \"adres_recentste_wijk_delfshaven\",\n",
    "    \"adres_recentste_wijk_feijenoord\",\n",
    "    \"adres_recentste_wijk_ijsselmonde\",\n",
    "    \"adres_recentste_wijk_kralingen_c\",\n",
    "    \"adres_recentste_wijk_noord\",\n",
    "    \"adres_recentste_wijk_other\",\n",
    "    \"adres_recentste_wijk_prins_alexa\",\n",
    "    \"adres_recentste_wijk_stadscentru\",\n",
    "    \"adres_unieke_wijk_ratio\",\n",
    "    \"belemmering_ind\",\n",
    "    \"belemmering_ind_hist\",\n",
    "    \"ontheffing_actueel_ind\",\n",
    "    \"ontheffing_hist_ind\",\n",
    "    \"persoon_geslacht_vrouw\",\n",
    "    \"persoon_leeftijd_bij_onderzoek\",\n",
    "    \"pla_historie_werk_en_inburgering\",\n",
    "    \"relatie_kind_basisschool_kind\",\n",
    "    \"relatie_kind_heeft_kinderen\",\n",
    "    \"relatie_kind_huidige_aantal\",\n",
    "    \"relatie_kind_jongvolwassen\",\n",
    "    \"relatie_kind_leeftijd_verschil_ouder_eerste_kind\",\n",
    "    \"relatie_kind_tiener\",\n",
    "    \"relatie_kind_volwassen\",\n",
    "    \"relatie_overig_actueel_vorm__ouders_verzorgers\",\n",
    "    \"relatie_overig_kostendeler\",\n",
    "    \"relatie_partner_aantal_partner___partner__gehuwd_\",\n",
    "    \"relatie_partner_aantal_partner___partner__ongehuwd_\",\n",
    "    \"relatie_partner_huidige_partner___partner__gehuwd_\",\n",
    "    \"relatie_partner_totaal_dagen_partner\",\n",
    "    \"typering_hist_ind\",\n",
    "    \"typering_ind\",\n",
    "     \"persoonlijke_eigenschappen_spreektaal\",\n",
    "]"
   ]
  },
  {
   "cell_type": "code",
   "execution_count": 19,
   "metadata": {},
   "outputs": [],
   "source": [
    "def drop_feature(x):\n",
    "    return DROPPED_FEATURE_CODE\n",
    "\n",
    "\n",
    "def drop_protected_features(X, protected_features):\n",
    "    \n",
    "    df = X.copy()\n",
    "    for protected_variable in protected_features:\n",
    "        df.loc[:, protected_variable] = df[protected_variable].apply(drop_feature)\n",
    "        \n",
    "    return df\n",
    "\n",
    "def save_split(X, y, path):\n",
    "    data = pd.concat([X, y], axis=1)\n",
    "    print(path)\n",
    "    print(data.shape)\n",
    "    data.to_csv(path, index=False)\n",
    "    print(f\"Saved data to directory: {path}\")"
   ]
  },
  {
   "cell_type": "code",
   "execution_count": 20,
   "metadata": {},
   "outputs": [],
   "source": [
    "\"\"\"\n",
    "LOAD DATASET\n",
    "\"\"\"\n",
    "PATH_TRAIN = \".\\\\..\\\\data\\\\datasets\\\\train.csv\"\n",
    "\n",
    "dataset_train = pd.read_csv(PATH_TRAIN)\n",
    "\n",
    "data = dataset_train.copy()\n",
    "    \n",
    "X = data.iloc[:,:-1]\n",
    "y = data.iloc[:,-1]"
   ]
  },
  {
   "cell_type": "code",
   "execution_count": 21,
   "metadata": {},
   "outputs": [
    {
     "name": "stdout",
     "output_type": "stream",
     "text": [
      ".\\..\\data\\datasets\\train_good.csv\n",
      "(10116, 316)\n",
      "Saved data to directory: .\\..\\data\\datasets\\train_good.csv\n"
     ]
    }
   ],
   "source": [
    "X = drop_protected_features(X, protected_features=protected_attributes)\n",
    "save_split(X, y, \".\\\\..\\\\data\\\\datasets\\\\train_good.csv\")"
   ]
  },
  {
   "cell_type": "code",
   "execution_count": null,
   "metadata": {},
   "outputs": [],
   "source": []
  },
  {
   "cell_type": "code",
   "execution_count": null,
   "metadata": {},
   "outputs": [],
   "source": []
  }
 ],
 "metadata": {
  "kernelspec": {
   "display_name": ".env",
   "language": "python",
   "name": "python3"
  },
  "language_info": {
   "codemirror_mode": {
    "name": "ipython",
    "version": 3
   },
   "file_extension": ".py",
   "mimetype": "text/x-python",
   "name": "python",
   "nbconvert_exporter": "python",
   "pygments_lexer": "ipython3",
   "version": "3.11.7"
  }
 },
 "nbformat": 4,
 "nbformat_minor": 2
}
