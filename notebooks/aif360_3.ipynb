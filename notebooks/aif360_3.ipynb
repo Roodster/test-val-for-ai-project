{
 "cells": [
  {
   "cell_type": "markdown",
   "metadata": {},
   "source": [
    "#### This notebook demonstrates the use of the learning fair representations algorithm for bias mitigation\n",
    "Learning fair representations [1] is a pre-processing technique that finds a latent representation which encodes the data well but obfuscates information about protected attributes. We will see how to use this algorithm for learning representations that encourage individual fairness and apply them on the Adult dataset.\n",
    "\n",
    "References:\n",
    "\n",
    "[1] R. Zemel, Y. Wu, K. Swersky, T. Pitassi, and C. Dwork,  \"Learning Fair Representations.\" \n",
    "International Conference on Machine Learning, 2013."
   ]
  },
  {
   "cell_type": "code",
   "execution_count": 67,
   "metadata": {},
   "outputs": [],
   "source": [
    "%matplotlib inline\n",
    "# Load all necessary packages\n",
    "import sys\n",
    "sys.path.append(\"../\")\n",
    "from aif360.datasets import BinaryLabelDataset\n",
    "from aif360.datasets import AdultDataset\n",
    "from aif360.metrics import BinaryLabelDatasetMetric\n",
    "from aif360.metrics import ClassificationMetric\n",
    "from aif360.metrics.utils import compute_boolean_conditioning_vector\n",
    "\n",
    "from aif360.algorithms.preprocessing.optim_preproc_helpers.data_preproc_functions import load_preproc_data_adult\n",
    "from aif360.algorithms.preprocessing.lfr import LFR\n",
    "from aif360.sklearn.datasets.utils import standardize_dataset\n",
    "\n",
    "from sklearn.ensemble import GradientBoostingClassifier\n",
    "from sklearn.preprocessing import StandardScaler\n",
    "from sklearn.metrics import accuracy_score\n",
    "from sklearn.metrics import classification_report\n",
    "from aif360.algorithms.preprocessing.optim_preproc import \\\n",
    " OptimPreproc\n",
    "from aif360.algorithms.preprocessing.optim_preproc_helpers. \\\n",
    " opt_tools import OptTools\n",
    "\n",
    "\n",
    "from IPython.display import Markdown, display\n",
    "import matplotlib.pyplot as plt\n",
    "import numpy as np\n",
    "import pandas as pd\n",
    "\n",
    "\n"
   ]
  },
  {
   "cell_type": "code",
   "execution_count": 68,
   "metadata": {},
   "outputs": [],
   "source": [
    "# Metrics function\n",
    "from collections import OrderedDict\n",
    "from aif360.metrics import ClassificationMetric\n",
    "\n",
    "def compute_metrics(dataset_true, dataset_pred, \n",
    "                    unprivileged_groups, privileged_groups,\n",
    "                    disp = True):\n",
    "    \"\"\" Compute the key metrics \"\"\"\n",
    "    classified_metric_pred = ClassificationMetric(dataset_true,\n",
    "                                                 dataset_pred, \n",
    "                                                 unprivileged_groups=unprivileged_groups,\n",
    "                                                 privileged_groups=privileged_groups)\n",
    "    metrics = OrderedDict()\n",
    "    metrics[\"Balanced accuracy\"] = 0.5*(classified_metric_pred.true_positive_rate()+\n",
    "                                             classified_metric_pred.true_negative_rate())\n",
    "    metrics[\"Statistical parity difference\"] = classified_metric_pred.statistical_parity_difference()\n",
    "    metrics[\"Disparate impact\"] = classified_metric_pred.disparate_impact()\n",
    "    metrics[\"Average odds difference\"] = classified_metric_pred.average_odds_difference()\n",
    "    metrics[\"Equal opportunity difference\"] = classified_metric_pred.equal_opportunity_difference()\n",
    "    metrics[\"Theil index\"] = classified_metric_pred.theil_index()\n",
    "    \n",
    "    if disp:\n",
    "        for k in metrics:\n",
    "            print(\"%s = %.4f\" % (k, metrics[k]))\n",
    "    \n",
    "    return metrics"
   ]
  },
  {
   "cell_type": "code",
   "execution_count": 69,
   "metadata": {},
   "outputs": [],
   "source": [
    "import os\n",
    "\n",
    "import pandas as pd\n",
    "\n",
    "from aif360.datasets import StandardDataset\n",
    "\n",
    "\n",
    "\n",
    "\n",
    "class BenefitsDataset(StandardDataset):\n",
    "    \"\"\"Adult Census Income Dataset.\n",
    "\n",
    "    See :file:`aif360/data/raw/adult/README.md`.\n",
    "    \"\"\"\n",
    "\n",
    "    def __init__(self, label_name='checked',\n",
    "                 favorable_classes=[1],\n",
    "                 protected_attribute_names=['persoon_geslacht_vrouw', 'typering_ind'],\n",
    "                 privileged_classes=[[0], [0]],\n",
    "                 instance_weights_name=None,\n",
    "                 categorical_features=[],\n",
    "                 features_to_keep=[], features_to_drop=[],\n",
    "                 na_values=['?'], custom_preprocessing=None,\n",
    "                 metadata=None):\n",
    "\n",
    "        df = pd.read_csv(\"./../data/synth_data_for_training.csv\")\n",
    "\n",
    "        df = df.astype(np.float32)\n",
    "\n",
    "        super(BenefitsDataset, self).__init__(df=df, label_name=label_name,\n",
    "            favorable_classes=favorable_classes,\n",
    "            protected_attribute_names=protected_attribute_names,\n",
    "            privileged_classes=privileged_classes,\n",
    "            instance_weights_name=instance_weights_name,\n",
    "            categorical_features=categorical_features,\n",
    "            features_to_keep=features_to_keep,\n",
    "            features_to_drop=features_to_drop, na_values=na_values,\n",
    "            custom_preprocessing=custom_preprocessing, metadata=metadata)\n"
   ]
  },
  {
   "cell_type": "markdown",
   "metadata": {},
   "source": [
    "#### Load dataset and set options"
   ]
  },
  {
   "cell_type": "code",
   "execution_count": 70,
   "metadata": {},
   "outputs": [],
   "source": [
    "# Get the dataset and split into train and test\n",
    "dataset_orig = BenefitsDataset(label_name='checked')\n",
    "dataset_orig_train, dataset_orig_test = dataset_orig.split([0.7], shuffle=True)\n",
    "gender_column = dataset_orig.features[:, dataset_orig_train.feature_names.index('persoon_geslacht_vrouw')]\n"
   ]
  },
  {
   "cell_type": "markdown",
   "metadata": {},
   "source": [
    "#### Clean up training data"
   ]
  },
  {
   "cell_type": "code",
   "execution_count": 71,
   "metadata": {},
   "outputs": [
    {
     "data": {
      "text/markdown": [
       "#### Training Dataset shape"
      ],
      "text/plain": [
       "<IPython.core.display.Markdown object>"
      ]
     },
     "metadata": {},
     "output_type": "display_data"
    },
    {
     "name": "stdout",
     "output_type": "stream",
     "text": [
      "(8851, 315)\n"
     ]
    },
    {
     "data": {
      "text/markdown": [
       "#### Favorable and unfavorable labels"
      ],
      "text/plain": [
       "<IPython.core.display.Markdown object>"
      ]
     },
     "metadata": {},
     "output_type": "display_data"
    },
    {
     "name": "stdout",
     "output_type": "stream",
     "text": [
      "1.0 0.0\n"
     ]
    },
    {
     "data": {
      "text/markdown": [
       "#### Protected attribute names"
      ],
      "text/plain": [
       "<IPython.core.display.Markdown object>"
      ]
     },
     "metadata": {},
     "output_type": "display_data"
    },
    {
     "name": "stdout",
     "output_type": "stream",
     "text": [
      "['persoon_geslacht_vrouw', 'typering_ind']\n"
     ]
    },
    {
     "data": {
      "text/markdown": [
       "#### Privileged and unprivileged protected attribute values"
      ],
      "text/plain": [
       "<IPython.core.display.Markdown object>"
      ]
     },
     "metadata": {},
     "output_type": "display_data"
    },
    {
     "name": "stdout",
     "output_type": "stream",
     "text": [
      "[array([0.]), array([0.])] [array([1.]), array([1.])]\n"
     ]
    },
    {
     "data": {
      "text/markdown": [
       "#### Dataset feature names"
      ],
      "text/plain": [
       "<IPython.core.display.Markdown object>"
      ]
     },
     "metadata": {},
     "output_type": "display_data"
    },
    {
     "name": "stdout",
     "output_type": "stream",
     "text": [
      "['adres_aantal_brp_adres', 'adres_aantal_verschillende_wijken', 'adres_aantal_verzendadres', 'adres_aantal_woonadres_handmatig', 'adres_dagen_op_adres', 'adres_recentst_onderdeel_rdam', 'adres_recentste_buurt_groot_ijsselmonde', 'adres_recentste_buurt_nieuwe_westen', 'adres_recentste_buurt_other', 'adres_recentste_buurt_oude_noorden', 'adres_recentste_buurt_vreewijk', 'adres_recentste_plaats_other', 'adres_recentste_plaats_rotterdam', 'adres_recentste_wijk_charlois', 'adres_recentste_wijk_delfshaven', 'adres_recentste_wijk_feijenoord', 'adres_recentste_wijk_ijsselmonde', 'adres_recentste_wijk_kralingen_c', 'adres_recentste_wijk_noord', 'adres_recentste_wijk_other', 'adres_recentste_wijk_prins_alexa', 'adres_recentste_wijk_stadscentru', 'adres_unieke_wijk_ratio', 'afspraak_aanmelding_afgesloten', 'afspraak_aantal_woorden', 'afspraak_afgelopen_jaar_afsprakenplan', 'afspraak_afgelopen_jaar_monitoring_insp__wet_taaleis_na_12_mnd_n_a_v__taa04_____geen_maatregel', 'afspraak_afgelopen_jaar_ontheffing', 'afspraak_afgelopen_jaar_ontheffing_taaleis', 'afspraak_afgelopen_jaar_plan_van_aanpak', 'afspraak_afgelopen_jaar_signaal_voor_medewerker', 'afspraak_afgelopen_jaar_vervolgmeting_matchbaarheid_werkzoekende_klant', 'afspraak_afgelopen_jaar_voortgang_aanmelding_en_deelname', 'afspraak_afsprakenplan', 'afspraak_controle_aankondiging_maatregel', 'afspraak_controle_verwijzing', 'afspraak_deelname_compleet_uit_webapplicatie', 'afspraak_galo_gesprek', 'afspraak_gespr__einde_zoekt___galo_gesprek_', 'afspraak_inspanningsperiode', 'afspraak_laatstejaar_aantal_woorden', 'afspraak_laatstejaar_resultaat_ingevuld', 'afspraak_laatstejaar_resultaat_ingevuld_uniek', 'afspraak_other', 'afspraak_participatietrede_vervolgmeting', 'afspraak_resultaat_ingevuld_uniek', 'afspraak_signaal_van_aanbieder', 'afspraak_signaal_voor_medewerker', 'afspraak_toevoegen_inschrijving_uwvwb', 'afspraak_vervolgmeting_matchbaarheid_werkzoekende_klant', 'afspraak_verzenden_beschikking_i_v_m__niet_voldoen_aan_wet_taaleis', 'afspraak_voortgangsgesprek', 'belemmering_aantal_huidig', 'belemmering_dagen_financiele_problemen', 'belemmering_dagen_lichamelijke_problematiek', 'belemmering_dagen_psychische_problemen', 'belemmering_financiele_problemen', 'belemmering_hist_lichamelijke_problematiek', 'belemmering_hist_psychische_problemen', 'belemmering_hist_stabiele_mix__sz____dagbesteding_werk', 'belemmering_hist_taal', 'belemmering_hist_verslavingsproblematiek', 'belemmering_ind', 'belemmering_ind_hist', 'belemmering_niet_computervaardig', 'belemmering_psychische_problemen', 'belemmering_woonsituatie', 'beschikbaarheid_aantal_historie_afwijkend_wegens_medische_omstandigheden', 'beschikbaarheid_aantal_historie_afwijkend_wegens_sociaal_maatschappelijke_situatie', 'beschikbaarheid_huidig_afwijkend_wegens_medische_omstandigheden', 'beschikbaarheid_huidig_bekend', 'beschikbaarheid_recent_afwijkend_wegens_medische_omstandigheden', 'beschikbaarheid_recent_afwijkend_wegens_sociaal_maatschappelijke_situatie', 'competentie_aansturen', 'competentie_analyseren', 'competentie_ethisch_en_integer_handelen', 'competentie_formuleren_en_rapporteren', 'competentie_gedrevenheid_en_ambitie_tonen', 'competentie_instructies_en_procedures_opvolgen', 'competentie_kwaliteit_leveren', 'competentie_leren', 'competentie_materialen_en_middelen_inzetten', 'competentie_met_druk_en_tegenslag_omgaan', 'competentie_omgaan_met_verandering_en_aanpassen', 'competentie_onderzoeken', 'competentie_op_de_behoeften_en_verwachtingen_van_de__klant__richten', 'competentie_other', 'competentie_overtuigen_en_beïnvloeden', 'competentie_plannen_en_organiseren', 'competentie_samenwerken_en_overleggen', 'competentie_vakdeskundigheid_toepassen', 'contacten_onderwerp__arbeids_motivatie', 'contacten_onderwerp__pre__intake', 'contacten_onderwerp__werk_intake', 'contacten_onderwerp_arbeidsdiagnose_dariuz', 'contacten_onderwerp_beoordelen_taaleis', 'contacten_onderwerp_boolean__arbeids_motivatie', 'contacten_onderwerp_boolean__pre__intake', 'contacten_onderwerp_boolean__werk_intake', 'contacten_onderwerp_boolean_beoordelen_taaleis', 'contacten_onderwerp_boolean_contact_derden', 'contacten_onderwerp_boolean_contact_met_aanbieder', 'contacten_onderwerp_boolean_diagnosegesprek', 'contacten_onderwerp_boolean_documenten__innemen_', 'contacten_onderwerp_boolean_documenttype__cv_', 'contacten_onderwerp_boolean_documenttype__diploma_s_en_certificaten_', 'contacten_onderwerp_boolean_documenttype__overeenkomst_', 'contacten_onderwerp_boolean_financiële_situatie', 'contacten_onderwerp_boolean_groepsbijeenkomst', 'contacten_onderwerp_boolean_inkomen', 'contacten_onderwerp_boolean_maatregel_overweging', 'contacten_onderwerp_boolean_match___werk', 'contacten_onderwerp_boolean_matching', 'contacten_onderwerp_boolean_motivatie', 'contacten_onderwerp_boolean_mutatie', 'contacten_onderwerp_boolean_no_show', 'contacten_onderwerp_boolean_overige', 'contacten_onderwerp_boolean_overleg_met_inkomen', 'contacten_onderwerp_boolean_scholing', 'contacten_onderwerp_boolean_sollicitatie', 'contacten_onderwerp_boolean_taaleis___voldoet', 'contacten_onderwerp_boolean_terugbelverzoek', 'contacten_onderwerp_boolean_traject', 'contacten_onderwerp_boolean_uitnodiging', 'contacten_onderwerp_boolean_ziek__of_afmelding', 'contacten_onderwerp_boolean_zorg', 'contacten_onderwerp_contact_derden', 'contacten_onderwerp_contact_met_aanbieder', 'contacten_onderwerp_diagnosegesprek', 'contacten_onderwerp_documenten__innemen_', 'contacten_onderwerp_documenttype__cv_', 'contacten_onderwerp_documenttype__overeenkomst_', 'contacten_onderwerp_financiële_situatie', 'contacten_onderwerp_groepsbijeenkomst', 'contacten_onderwerp_inkomen', 'contacten_onderwerp_inname_aanvraag', 'contacten_onderwerp_inspanningstoets', 'contacten_onderwerp_maatregel_overweging', 'contacten_onderwerp_matching', 'contacten_onderwerp_mutatie', 'contacten_onderwerp_no_show', 'contacten_onderwerp_overige', 'contacten_onderwerp_overleg_met_inkomen', 'contacten_onderwerp_quickscan', 'contacten_onderwerp_scholing', 'contacten_onderwerp_screening', 'contacten_onderwerp_terugbelverzoek', 'contacten_onderwerp_traject', 'contacten_onderwerp_uitnodiging', 'contacten_onderwerp_vakantie', 'contacten_onderwerp_werkintake__niet_verschenen', 'contacten_onderwerp_ziek__of_afmelding', 'contacten_onderwerp_zorg', 'contacten_soort_afgelopenjaar_anders', 'contacten_soort_afgelopenjaar_document__inkomend_', 'contacten_soort_afgelopenjaar_document__uitgaand_', 'contacten_soort_afgelopenjaar_e_mail__inkomend_', 'contacten_soort_afgelopenjaar_e_mail__uitgaand_', 'contacten_soort_afgelopenjaar_gesprek', 'contacten_soort_afgelopenjaar_gesprek_op_locatie', 'contacten_soort_afgelopenjaar_rapportage_rib', 'contacten_soort_afgelopenjaar_telefoontje__inkomend_', 'contacten_soort_afgelopenjaar_telefoontje__uitgaand_', 'contacten_soort_anders', 'contacten_soort_document__inkomend_', 'contacten_soort_document__uitgaand_', 'contacten_soort_e_mail__inkomend_', 'contacten_soort_e_mail__uitgaand_', 'contacten_soort_gesprek_op_locatie', 'contacten_soort_groepsbijeenkomsten', 'contacten_soort_rapportage_deelname', 'contacten_soort_rapportage_rib', 'contacten_soort_telefoontje__inkomend_', 'contacten_soort_telefoontje__uitgaand_', 'deelname_act_actueel_projecten_uniek', 'deelname_act_hist_projecten_niet_gestart', 'deelname_act_reintegratieladder_ondersteunende_instrumenten', 'deelname_act_reintegratieladder_werk_re_integratie', 'instrument_aantal_laatstejaar', 'instrument_ladder_historie_activering', 'instrument_ladder_historie_other', 'instrument_ladder_huidig_activering', 'instrument_ladder_huidig_other', 'instrument_ladder_huidig_werk_re_integratie', 'instrument_reden_beeindiging_historie_centrale_actie_wigo4it', 'instrument_reden_beeindiging_historie_diagnose_gesteld', 'instrument_reden_beeindiging_historie_direct_matchbaar', 'instrument_reden_beeindiging_historie_doelstelling_bereikt__geen_uitstroom', 'instrument_reden_beeindiging_historie_doelstelling_bereikt__uitstroom_naar_regulier_werk', 'instrument_reden_beeindiging_historie_doelstelling_bereikt__uitstroom_overig', 'instrument_reden_beeindiging_historie_doelstelling_niet_bereikt__geen_uitstroom', 'instrument_reden_beeindiging_historie_niet_matchbaar', 'instrument_reden_beeindiging_historie_niet_succesvol', 'instrument_reden_beeindiging_historie_niet_succesvol__reden_bij_werkzoekende', 'instrument_reden_beeindiging_historie_op_termijn_matchbaar', 'instrument_reden_beeindiging_historie_other', 'instrument_reden_beeindiging_historie_overdracht_naar_mo', 'instrument_reden_beeindiging_historie_overdracht_naar_prematching', 'instrument_reden_beeindiging_historie_overdracht_naar_regulier_team_iwpm', 'instrument_reden_beeindiging_historie_overdracht_succesvol', 'instrument_reden_beeindiging_historie_succesvol', 'instrument_reden_beeindiging_historie_succesvol__doelstelling_bereikt', 'instrument_reden_beeindiging_historie_uitval__aanbod_niet_langer_zinvol_volgens_gemeente', 'instrument_reden_beeindiging_historie_uitval__klant_wz__ziet_af_van_aanbod', 'ontheffing_actueel_ind', 'ontheffing_dagen_hist_mean', 'ontheffing_dagen_hist_vanwege_uw_medische_omstandigheden', 'ontheffing_hist_ind', 'ontheffing_reden_hist_medische_gronden', 'ontheffing_reden_hist_other', 'ontheffing_reden_hist_sociale_gronden', 'ontheffing_reden_hist_tijdelijke_ontheffing_arbeidsverpl__en_tegenprestatie', 'ontheffing_reden_hist_tijdelijke_ontheffing_arbeidsverplichtingen', 'ontheffing_reden_hist_vanwege_uw_sociaal_maatschappelijke_situatie', 'ontheffing_reden_tijdelijke_ontheffing_arbeidsverpl__en_tegenprestatie', 'persoon_geslacht_vrouw', 'persoon_leeftijd_bij_onderzoek', 'persoonlijke_eigenschappen_communicatie_opm', 'persoonlijke_eigenschappen_dagen_sinds_opvoer', 'persoonlijke_eigenschappen_dagen_sinds_taaleis', 'persoonlijke_eigenschappen_doorzettingsvermogen_opm', 'persoonlijke_eigenschappen_flexibiliteit_opm', 'persoonlijke_eigenschappen_hobbies_sport', 'persoonlijke_eigenschappen_houding_opm', 'persoonlijke_eigenschappen_ind_activering_traject', 'persoonlijke_eigenschappen_ind_buiten_kantoortijden', 'persoonlijke_eigenschappen_ind_regulier_arbeidsritme', 'persoonlijke_eigenschappen_initiatief_opm', 'persoonlijke_eigenschappen_leergierigheid_opm', 'persoonlijke_eigenschappen_motivatie_opm', 'persoonlijke_eigenschappen_nl_begrijpen3', 'persoonlijke_eigenschappen_nl_lezen3', 'persoonlijke_eigenschappen_nl_lezen4', 'persoonlijke_eigenschappen_nl_schrijven0', 'persoonlijke_eigenschappen_nl_schrijven1', 'persoonlijke_eigenschappen_nl_schrijven2', 'persoonlijke_eigenschappen_nl_schrijven3', 'persoonlijke_eigenschappen_nl_schrijvenfalse', 'persoonlijke_eigenschappen_nl_spreken1', 'persoonlijke_eigenschappen_nl_spreken2', 'persoonlijke_eigenschappen_nl_spreken3', 'persoonlijke_eigenschappen_opstelling', 'persoonlijke_eigenschappen_overige_opmerkingen', 'persoonlijke_eigenschappen_presentatie_opm', 'persoonlijke_eigenschappen_spreektaal', 'persoonlijke_eigenschappen_spreektaal_anders', 'persoonlijke_eigenschappen_taaleis_schrijfv_ok', 'persoonlijke_eigenschappen_taaleis_voldaan', 'persoonlijke_eigenschappen_uiterlijke_verzorging_opm', 'persoonlijke_eigenschappen_uitstroom_verw_vlgs_klant', 'persoonlijke_eigenschappen_uitstroom_verw_vlgs_km', 'persoonlijke_eigenschappen_zelfstandigheid_opm', 'pla_actueel_pla_categorie_doelstelling_16', 'pla_actueel_pla_categorie_doelstelling_9', 'pla_einde_doelstelling_bereikt', 'pla_einde_doelstelling_bereikt__nieuw_trajectplan', 'pla_einde_doelstelling_bereikt__overdracht', 'pla_einde_doelstelling_niet_bereikt', 'pla_einde_doelstelling_niet_bereikt__nieuw_trajectplan', 'pla_einde_doelstelling_niet_bereikt__overdracht', 'pla_einde_geplande_einddatum_overschreden_zonder_nader_bericht', 'pla_einde_other', 'pla_einde_uitstroom_anders_dan_volgen_onderwijs__regulier_werk_of_als_zelfstandige', 'pla_hist_pla_categorie_doelstelling_1', 'pla_hist_pla_categorie_doelstelling_10', 'pla_hist_pla_categorie_doelstelling_11', 'pla_hist_pla_categorie_doelstelling_16', 'pla_hist_pla_categorie_doelstelling_2', 'pla_hist_pla_categorie_doelstelling_27', 'pla_hist_pla_categorie_doelstelling_3', 'pla_hist_pla_categorie_doelstelling_4', 'pla_hist_pla_categorie_doelstelling_5', 'pla_hist_pla_categorie_doelstelling_6', 'pla_hist_pla_categorie_doelstelling_9', 'pla_hist_pla_categorie_doelstelling_other', 'pla_historie_maatschappelijke_inspanning', 'pla_historie_ontwikkeling', 'pla_historie_other', 'pla_historie_werk', 'pla_historie_werk_en_inburgering', 'pla_ondertekeningen_actueel', 'pla_ondertekeningen_historie', 'relatie_kind_basisschool_kind', 'relatie_kind_heeft_kinderen', 'relatie_kind_huidige_aantal', 'relatie_kind_jongvolwassen', 'relatie_kind_leeftijd_verschil_ouder_eerste_kind', 'relatie_kind_tiener', 'relatie_kind_volwassen', 'relatie_overig_actueel_vorm__gemachtigde', 'relatie_overig_actueel_vorm__kostendeler', 'relatie_overig_actueel_vorm__onderhoudsplichtige', 'relatie_overig_actueel_vorm__ouders_verzorgers', 'relatie_overig_actueel_vorm_other', 'relatie_overig_bewindvoerder', 'relatie_overig_historie_vorm__andere_inwonende', 'relatie_overig_historie_vorm__gemachtigde', 'relatie_overig_historie_vorm__kostendeler', 'relatie_overig_historie_vorm__onderhoudsplichtige', 'relatie_overig_kostendeler', 'relatie_partner_aantal_partner___partner__gehuwd_', 'relatie_partner_aantal_partner___partner__ongehuwd_', 'relatie_partner_huidige_partner___partner__gehuwd_', 'relatie_partner_totaal_dagen_partner', 'typering_aantal', 'typering_dagen_som', 'typering_hist_aantal', 'typering_hist_inburgeringsbehoeftig', 'typering_hist_ind', 'typering_hist_sector_zorg', 'typering_ind', 'typering_indicatie_geheime_gegevens', 'typering_other', 'typering_transport__logistiek___tuinbouw', 'typering_zorg__schoonmaak___welzijn']\n"
     ]
    }
   ],
   "source": [
    "# print out some labels, names, etc.\n",
    "display(Markdown(\"#### Training Dataset shape\"))\n",
    "print(dataset_orig_train.features.shape)\n",
    "display(Markdown(\"#### Favorable and unfavorable labels\"))\n",
    "print(dataset_orig_train.favorable_label, dataset_orig_train.unfavorable_label)\n",
    "display(Markdown(\"#### Protected attribute names\"))\n",
    "print(dataset_orig_train.protected_attribute_names)\n",
    "display(Markdown(\"#### Privileged and unprivileged protected attribute values\"))\n",
    "print(dataset_orig_train.privileged_protected_attributes, \n",
    "      dataset_orig_train.unprivileged_protected_attributes)\n",
    "display(Markdown(\"#### Dataset feature names\"))\n",
    "print(dataset_orig_train.feature_names)"
   ]
  },
  {
   "cell_type": "code",
   "execution_count": null,
   "metadata": {},
   "outputs": [],
   "source": []
  },
  {
   "cell_type": "markdown",
   "metadata": {},
   "source": [
    "#### Metric for original training data"
   ]
  },
  {
   "cell_type": "code",
   "execution_count": 72,
   "metadata": {},
   "outputs": [
    {
     "ename": "ValueError",
     "evalue": "'privileged_groups' and 'unprivileged_groups' must be disjoint.",
     "output_type": "error",
     "traceback": [
      "\u001b[1;31m---------------------------------------------------------------------------\u001b[0m",
      "\u001b[1;31mValueError\u001b[0m                                Traceback (most recent call last)",
      "Cell \u001b[1;32mIn[72], line 6\u001b[0m\n\u001b[0;32m      2\u001b[0m privileged_groups \u001b[38;5;241m=\u001b[39m [{\u001b[38;5;124m'\u001b[39m\u001b[38;5;124mpersoon_geslacht_vrouw\u001b[39m\u001b[38;5;124m'\u001b[39m: \u001b[38;5;241m0.0\u001b[39m}, {\u001b[38;5;124m'\u001b[39m\u001b[38;5;124mtypering_ind\u001b[39m\u001b[38;5;124m'\u001b[39m: \u001b[38;5;241m0.0\u001b[39m}]\n\u001b[0;32m      3\u001b[0m unprivileged_groups \u001b[38;5;241m=\u001b[39m [{\u001b[38;5;124m'\u001b[39m\u001b[38;5;124mpersoon_geslacht_vrouw\u001b[39m\u001b[38;5;124m'\u001b[39m: \u001b[38;5;241m1.0\u001b[39m}, {\u001b[38;5;124m'\u001b[39m\u001b[38;5;124mtypering_ind\u001b[39m\u001b[38;5;124m'\u001b[39m: \u001b[38;5;241m1.0\u001b[39m}]\n\u001b[1;32m----> 6\u001b[0m metric_orig_train \u001b[38;5;241m=\u001b[39m \u001b[43mBinaryLabelDatasetMetric\u001b[49m\u001b[43m(\u001b[49m\u001b[43mdataset_orig_train\u001b[49m\u001b[43m,\u001b[49m\u001b[43m \u001b[49m\n\u001b[0;32m      7\u001b[0m \u001b[43m                                             \u001b[49m\u001b[43munprivileged_groups\u001b[49m\u001b[38;5;241;43m=\u001b[39;49m\u001b[43munprivileged_groups\u001b[49m\u001b[43m,\u001b[49m\n\u001b[0;32m      8\u001b[0m \u001b[43m                                             \u001b[49m\u001b[43mprivileged_groups\u001b[49m\u001b[38;5;241;43m=\u001b[39;49m\u001b[43mprivileged_groups\u001b[49m\u001b[43m)\u001b[49m\n\u001b[0;32m      9\u001b[0m display(Markdown(\u001b[38;5;124m\"\u001b[39m\u001b[38;5;124m#### Original training dataset\u001b[39m\u001b[38;5;124m\"\u001b[39m))\n\u001b[0;32m     10\u001b[0m \u001b[38;5;28mprint\u001b[39m(\u001b[38;5;124m\"\u001b[39m\u001b[38;5;124mDifference in mean outcomes between unprivileged and privileged groups = \u001b[39m\u001b[38;5;132;01m%f\u001b[39;00m\u001b[38;5;124m\"\u001b[39m \u001b[38;5;241m%\u001b[39m metric_orig_train\u001b[38;5;241m.\u001b[39mmean_difference())\n",
      "File \u001b[1;32md:\\tudelft\\test-val-for-ai-project\\.env\\Lib\\site-packages\\aif360\\metrics\\binary_label_dataset_metric.py:34\u001b[0m, in \u001b[0;36mBinaryLabelDatasetMetric.__init__\u001b[1;34m(self, dataset, unprivileged_groups, privileged_groups)\u001b[0m\n\u001b[0;32m     31\u001b[0m     \u001b[38;5;28;01mraise\u001b[39;00m \u001b[38;5;167;01mTypeError\u001b[39;00m(\u001b[38;5;124m\"\u001b[39m\u001b[38;5;124m'\u001b[39m\u001b[38;5;124mdataset\u001b[39m\u001b[38;5;124m'\u001b[39m\u001b[38;5;124m should be a BinaryLabelDataset or a MulticlassLabelDataset\u001b[39m\u001b[38;5;124m\"\u001b[39m)\n\u001b[0;32m     33\u001b[0m \u001b[38;5;66;03m# sets self.dataset, self.unprivileged_groups, self.privileged_groups\u001b[39;00m\n\u001b[1;32m---> 34\u001b[0m \u001b[38;5;28;43msuper\u001b[39;49m\u001b[43m(\u001b[49m\u001b[43mBinaryLabelDatasetMetric\u001b[49m\u001b[43m,\u001b[49m\u001b[43m \u001b[49m\u001b[38;5;28;43mself\u001b[39;49m\u001b[43m)\u001b[49m\u001b[38;5;241;43m.\u001b[39;49m\u001b[38;5;21;43m__init__\u001b[39;49m\u001b[43m(\u001b[49m\u001b[43mdataset\u001b[49m\u001b[43m,\u001b[49m\n\u001b[0;32m     35\u001b[0m \u001b[43m    \u001b[49m\u001b[43munprivileged_groups\u001b[49m\u001b[38;5;241;43m=\u001b[39;49m\u001b[43munprivileged_groups\u001b[49m\u001b[43m,\u001b[49m\n\u001b[0;32m     36\u001b[0m \u001b[43m    \u001b[49m\u001b[43mprivileged_groups\u001b[49m\u001b[38;5;241;43m=\u001b[39;49m\u001b[43mprivileged_groups\u001b[49m\u001b[43m)\u001b[49m\n\u001b[0;32m     38\u001b[0m \u001b[38;5;28;01mif\u001b[39;00m \u001b[38;5;28misinstance\u001b[39m(dataset, MulticlassLabelDataset):\n\u001b[0;32m     39\u001b[0m     fav_label_value \u001b[38;5;241m=\u001b[39m \u001b[38;5;241m1.\u001b[39m\n",
      "File \u001b[1;32md:\\tudelft\\test-val-for-ai-project\\.env\\Lib\\site-packages\\aif360\\metrics\\dataset_metric.py:55\u001b[0m, in \u001b[0;36mDatasetMetric.__init__\u001b[1;34m(self, dataset, unprivileged_groups, privileged_groups)\u001b[0m\n\u001b[0;32m     51\u001b[0m unpriv_mask \u001b[38;5;241m=\u001b[39m utils\u001b[38;5;241m.\u001b[39mcompute_boolean_conditioning_vector(\n\u001b[0;32m     52\u001b[0m     \u001b[38;5;28mself\u001b[39m\u001b[38;5;241m.\u001b[39mdataset\u001b[38;5;241m.\u001b[39mprotected_attributes,\n\u001b[0;32m     53\u001b[0m     \u001b[38;5;28mself\u001b[39m\u001b[38;5;241m.\u001b[39mdataset\u001b[38;5;241m.\u001b[39mprotected_attribute_names, \u001b[38;5;28mself\u001b[39m\u001b[38;5;241m.\u001b[39munprivileged_groups)\n\u001b[0;32m     54\u001b[0m \u001b[38;5;28;01mif\u001b[39;00m np\u001b[38;5;241m.\u001b[39many(np\u001b[38;5;241m.\u001b[39mlogical_and(priv_mask, unpriv_mask)):\n\u001b[1;32m---> 55\u001b[0m     \u001b[38;5;28;01mraise\u001b[39;00m \u001b[38;5;167;01mValueError\u001b[39;00m(\u001b[38;5;124m\"\u001b[39m\u001b[38;5;124m'\u001b[39m\u001b[38;5;124mprivileged_groups\u001b[39m\u001b[38;5;124m'\u001b[39m\u001b[38;5;124m and \u001b[39m\u001b[38;5;124m'\u001b[39m\u001b[38;5;124munprivileged_groups\u001b[39m\u001b[38;5;124m'\u001b[39m\u001b[38;5;124m\"\u001b[39m\n\u001b[0;32m     56\u001b[0m                      \u001b[38;5;124m\"\u001b[39m\u001b[38;5;124m must be disjoint.\u001b[39m\u001b[38;5;124m\"\u001b[39m)\n",
      "\u001b[1;31mValueError\u001b[0m: 'privileged_groups' and 'unprivileged_groups' must be disjoint."
     ]
    }
   ],
   "source": [
    "# Metric for the original dataset\n",
    "privileged_groups = [{'persoon_geslacht_vrouw': 0.0}, {'typering_ind': 0.0}]\n",
    "unprivileged_groups = [{'persoon_geslacht_vrouw': 1.0}, {'typering_ind': 1.0}]\n",
    "\n",
    "\n",
    "metric_orig_train = BinaryLabelDatasetMetric(dataset_orig_train, \n",
    "                                             unprivileged_groups=unprivileged_groups,\n",
    "                                             privileged_groups=privileged_groups)\n",
    "display(Markdown(\"#### Original training dataset\"))\n",
    "print(\"Difference in mean outcomes between unprivileged and privileged groups = %f\" % metric_orig_train.mean_difference())\n",
    "metric_orig_test = BinaryLabelDatasetMetric(dataset_orig_test, \n",
    "                                             unprivileged_groups=unprivileged_groups,\n",
    "                                             privileged_groups=privileged_groups)\n",
    "display(Markdown(\"#### Original test dataset\"))\n",
    "print(\"Difference in mean outcomes between unprivileged and privileged groups = %f\" % metric_orig_test.mean_difference())\n"
   ]
  },
  {
   "cell_type": "markdown",
   "metadata": {},
   "source": [
    "#### Train with and transform the original training data"
   ]
  },
  {
   "cell_type": "code",
   "execution_count": 73,
   "metadata": {},
   "outputs": [],
   "source": [
    "scale_orig = StandardScaler()\n",
    "dataset_orig_train.features = scale_orig.fit_transform(dataset_orig_train.features)\n",
    "dataset_orig_test.features = scale_orig.transform(dataset_orig_test.features)"
   ]
  },
  {
   "cell_type": "code",
   "execution_count": 74,
   "metadata": {},
   "outputs": [
    {
     "name": "stderr",
     "output_type": "stream",
     "text": [
      "d:\\tudelft\\test-val-for-ai-project\\.env\\Lib\\site-packages\\aif360\\algorithms\\preprocessing\\optim_preproc_helpers\\opt_tools.py:98: PerformanceWarning: DataFrame is highly fragmented.  This is usually the result of calling `frame.insert` many times, which has poor performance.  Consider joining all columns at once using pd.concat(axis=1) instead. To get a de-fragmented frame, use `newframe = frame.copy()`\n",
      "  self.dfJoint = self.df.groupby(self.features).size().reset_index()\n",
      "d:\\tudelft\\test-val-for-ai-project\\.env\\Lib\\site-packages\\aif360\\algorithms\\preprocessing\\optim_preproc_helpers\\opt_tools.py:98: PerformanceWarning: DataFrame is highly fragmented.  This is usually the result of calling `frame.insert` many times, which has poor performance.  Consider joining all columns at once using pd.concat(axis=1) instead. To get a de-fragmented frame, use `newframe = frame.copy()`\n",
      "  self.dfJoint = self.df.groupby(self.features).size().reset_index()\n",
      "d:\\tudelft\\test-val-for-ai-project\\.env\\Lib\\site-packages\\aif360\\algorithms\\preprocessing\\optim_preproc_helpers\\opt_tools.py:98: PerformanceWarning: DataFrame is highly fragmented.  This is usually the result of calling `frame.insert` many times, which has poor performance.  Consider joining all columns at once using pd.concat(axis=1) instead. To get a de-fragmented frame, use `newframe = frame.copy()`\n",
      "  self.dfJoint = self.df.groupby(self.features).size().reset_index()\n",
      "d:\\tudelft\\test-val-for-ai-project\\.env\\Lib\\site-packages\\aif360\\algorithms\\preprocessing\\optim_preproc_helpers\\opt_tools.py:98: PerformanceWarning: DataFrame is highly fragmented.  This is usually the result of calling `frame.insert` many times, which has poor performance.  Consider joining all columns at once using pd.concat(axis=1) instead. To get a de-fragmented frame, use `newframe = frame.copy()`\n",
      "  self.dfJoint = self.df.groupby(self.features).size().reset_index()\n",
      "d:\\tudelft\\test-val-for-ai-project\\.env\\Lib\\site-packages\\aif360\\algorithms\\preprocessing\\optim_preproc_helpers\\opt_tools.py:98: PerformanceWarning: DataFrame is highly fragmented.  This is usually the result of calling `frame.insert` many times, which has poor performance.  Consider joining all columns at once using pd.concat(axis=1) instead. To get a de-fragmented frame, use `newframe = frame.copy()`\n",
      "  self.dfJoint = self.df.groupby(self.features).size().reset_index()\n",
      "d:\\tudelft\\test-val-for-ai-project\\.env\\Lib\\site-packages\\aif360\\algorithms\\preprocessing\\optim_preproc_helpers\\opt_tools.py:98: PerformanceWarning: DataFrame is highly fragmented.  This is usually the result of calling `frame.insert` many times, which has poor performance.  Consider joining all columns at once using pd.concat(axis=1) instead. To get a de-fragmented frame, use `newframe = frame.copy()`\n",
      "  self.dfJoint = self.df.groupby(self.features).size().reset_index()\n",
      "d:\\tudelft\\test-val-for-ai-project\\.env\\Lib\\site-packages\\aif360\\algorithms\\preprocessing\\optim_preproc_helpers\\opt_tools.py:98: PerformanceWarning: DataFrame is highly fragmented.  This is usually the result of calling `frame.insert` many times, which has poor performance.  Consider joining all columns at once using pd.concat(axis=1) instead. To get a de-fragmented frame, use `newframe = frame.copy()`\n",
      "  self.dfJoint = self.df.groupby(self.features).size().reset_index()\n",
      "d:\\tudelft\\test-val-for-ai-project\\.env\\Lib\\site-packages\\aif360\\algorithms\\preprocessing\\optim_preproc_helpers\\opt_tools.py:98: PerformanceWarning: DataFrame is highly fragmented.  This is usually the result of calling `frame.insert` many times, which has poor performance.  Consider joining all columns at once using pd.concat(axis=1) instead. To get a de-fragmented frame, use `newframe = frame.copy()`\n",
      "  self.dfJoint = self.df.groupby(self.features).size().reset_index()\n",
      "d:\\tudelft\\test-val-for-ai-project\\.env\\Lib\\site-packages\\aif360\\algorithms\\preprocessing\\optim_preproc_helpers\\opt_tools.py:98: PerformanceWarning: DataFrame is highly fragmented.  This is usually the result of calling `frame.insert` many times, which has poor performance.  Consider joining all columns at once using pd.concat(axis=1) instead. To get a de-fragmented frame, use `newframe = frame.copy()`\n",
      "  self.dfJoint = self.df.groupby(self.features).size().reset_index()\n",
      "d:\\tudelft\\test-val-for-ai-project\\.env\\Lib\\site-packages\\aif360\\algorithms\\preprocessing\\optim_preproc_helpers\\opt_tools.py:98: PerformanceWarning: DataFrame is highly fragmented.  This is usually the result of calling `frame.insert` many times, which has poor performance.  Consider joining all columns at once using pd.concat(axis=1) instead. To get a de-fragmented frame, use `newframe = frame.copy()`\n",
      "  self.dfJoint = self.df.groupby(self.features).size().reset_index()\n",
      "d:\\tudelft\\test-val-for-ai-project\\.env\\Lib\\site-packages\\aif360\\algorithms\\preprocessing\\optim_preproc_helpers\\opt_tools.py:98: PerformanceWarning: DataFrame is highly fragmented.  This is usually the result of calling `frame.insert` many times, which has poor performance.  Consider joining all columns at once using pd.concat(axis=1) instead. To get a de-fragmented frame, use `newframe = frame.copy()`\n",
      "  self.dfJoint = self.df.groupby(self.features).size().reset_index()\n",
      "d:\\tudelft\\test-val-for-ai-project\\.env\\Lib\\site-packages\\aif360\\algorithms\\preprocessing\\optim_preproc_helpers\\opt_tools.py:98: PerformanceWarning: DataFrame is highly fragmented.  This is usually the result of calling `frame.insert` many times, which has poor performance.  Consider joining all columns at once using pd.concat(axis=1) instead. To get a de-fragmented frame, use `newframe = frame.copy()`\n",
      "  self.dfJoint = self.df.groupby(self.features).size().reset_index()\n",
      "d:\\tudelft\\test-val-for-ai-project\\.env\\Lib\\site-packages\\aif360\\algorithms\\preprocessing\\optim_preproc_helpers\\opt_tools.py:98: PerformanceWarning: DataFrame is highly fragmented.  This is usually the result of calling `frame.insert` many times, which has poor performance.  Consider joining all columns at once using pd.concat(axis=1) instead. To get a de-fragmented frame, use `newframe = frame.copy()`\n",
      "  self.dfJoint = self.df.groupby(self.features).size().reset_index()\n",
      "d:\\tudelft\\test-val-for-ai-project\\.env\\Lib\\site-packages\\aif360\\algorithms\\preprocessing\\optim_preproc_helpers\\opt_tools.py:98: PerformanceWarning: DataFrame is highly fragmented.  This is usually the result of calling `frame.insert` many times, which has poor performance.  Consider joining all columns at once using pd.concat(axis=1) instead. To get a de-fragmented frame, use `newframe = frame.copy()`\n",
      "  self.dfJoint = self.df.groupby(self.features).size().reset_index()\n",
      "d:\\tudelft\\test-val-for-ai-project\\.env\\Lib\\site-packages\\aif360\\algorithms\\preprocessing\\optim_preproc_helpers\\opt_tools.py:98: PerformanceWarning: DataFrame is highly fragmented.  This is usually the result of calling `frame.insert` many times, which has poor performance.  Consider joining all columns at once using pd.concat(axis=1) instead. To get a de-fragmented frame, use `newframe = frame.copy()`\n",
      "  self.dfJoint = self.df.groupby(self.features).size().reset_index()\n",
      "d:\\tudelft\\test-val-for-ai-project\\.env\\Lib\\site-packages\\aif360\\algorithms\\preprocessing\\optim_preproc_helpers\\opt_tools.py:98: PerformanceWarning: DataFrame is highly fragmented.  This is usually the result of calling `frame.insert` many times, which has poor performance.  Consider joining all columns at once using pd.concat(axis=1) instead. To get a de-fragmented frame, use `newframe = frame.copy()`\n",
      "  self.dfJoint = self.df.groupby(self.features).size().reset_index()\n",
      "d:\\tudelft\\test-val-for-ai-project\\.env\\Lib\\site-packages\\aif360\\algorithms\\preprocessing\\optim_preproc_helpers\\opt_tools.py:98: PerformanceWarning: DataFrame is highly fragmented.  This is usually the result of calling `frame.insert` many times, which has poor performance.  Consider joining all columns at once using pd.concat(axis=1) instead. To get a de-fragmented frame, use `newframe = frame.copy()`\n",
      "  self.dfJoint = self.df.groupby(self.features).size().reset_index()\n",
      "d:\\tudelft\\test-val-for-ai-project\\.env\\Lib\\site-packages\\aif360\\algorithms\\preprocessing\\optim_preproc_helpers\\opt_tools.py:98: PerformanceWarning: DataFrame is highly fragmented.  This is usually the result of calling `frame.insert` many times, which has poor performance.  Consider joining all columns at once using pd.concat(axis=1) instead. To get a de-fragmented frame, use `newframe = frame.copy()`\n",
      "  self.dfJoint = self.df.groupby(self.features).size().reset_index()\n",
      "d:\\tudelft\\test-val-for-ai-project\\.env\\Lib\\site-packages\\aif360\\algorithms\\preprocessing\\optim_preproc_helpers\\opt_tools.py:98: PerformanceWarning: DataFrame is highly fragmented.  This is usually the result of calling `frame.insert` many times, which has poor performance.  Consider joining all columns at once using pd.concat(axis=1) instead. To get a de-fragmented frame, use `newframe = frame.copy()`\n",
      "  self.dfJoint = self.df.groupby(self.features).size().reset_index()\n",
      "d:\\tudelft\\test-val-for-ai-project\\.env\\Lib\\site-packages\\aif360\\algorithms\\preprocessing\\optim_preproc_helpers\\opt_tools.py:98: PerformanceWarning: DataFrame is highly fragmented.  This is usually the result of calling `frame.insert` many times, which has poor performance.  Consider joining all columns at once using pd.concat(axis=1) instead. To get a de-fragmented frame, use `newframe = frame.copy()`\n",
      "  self.dfJoint = self.df.groupby(self.features).size().reset_index()\n",
      "d:\\tudelft\\test-val-for-ai-project\\.env\\Lib\\site-packages\\aif360\\algorithms\\preprocessing\\optim_preproc_helpers\\opt_tools.py:98: PerformanceWarning: DataFrame is highly fragmented.  This is usually the result of calling `frame.insert` many times, which has poor performance.  Consider joining all columns at once using pd.concat(axis=1) instead. To get a de-fragmented frame, use `newframe = frame.copy()`\n",
      "  self.dfJoint = self.df.groupby(self.features).size().reset_index()\n",
      "d:\\tudelft\\test-val-for-ai-project\\.env\\Lib\\site-packages\\aif360\\algorithms\\preprocessing\\optim_preproc_helpers\\opt_tools.py:98: PerformanceWarning: DataFrame is highly fragmented.  This is usually the result of calling `frame.insert` many times, which has poor performance.  Consider joining all columns at once using pd.concat(axis=1) instead. To get a de-fragmented frame, use `newframe = frame.copy()`\n",
      "  self.dfJoint = self.df.groupby(self.features).size().reset_index()\n",
      "d:\\tudelft\\test-val-for-ai-project\\.env\\Lib\\site-packages\\aif360\\algorithms\\preprocessing\\optim_preproc_helpers\\opt_tools.py:98: PerformanceWarning: DataFrame is highly fragmented.  This is usually the result of calling `frame.insert` many times, which has poor performance.  Consider joining all columns at once using pd.concat(axis=1) instead. To get a de-fragmented frame, use `newframe = frame.copy()`\n",
      "  self.dfJoint = self.df.groupby(self.features).size().reset_index()\n",
      "d:\\tudelft\\test-val-for-ai-project\\.env\\Lib\\site-packages\\aif360\\algorithms\\preprocessing\\optim_preproc_helpers\\opt_tools.py:98: PerformanceWarning: DataFrame is highly fragmented.  This is usually the result of calling `frame.insert` many times, which has poor performance.  Consider joining all columns at once using pd.concat(axis=1) instead. To get a de-fragmented frame, use `newframe = frame.copy()`\n",
      "  self.dfJoint = self.df.groupby(self.features).size().reset_index()\n",
      "d:\\tudelft\\test-val-for-ai-project\\.env\\Lib\\site-packages\\aif360\\algorithms\\preprocessing\\optim_preproc_helpers\\opt_tools.py:98: PerformanceWarning: DataFrame is highly fragmented.  This is usually the result of calling `frame.insert` many times, which has poor performance.  Consider joining all columns at once using pd.concat(axis=1) instead. To get a de-fragmented frame, use `newframe = frame.copy()`\n",
      "  self.dfJoint = self.df.groupby(self.features).size().reset_index()\n",
      "d:\\tudelft\\test-val-for-ai-project\\.env\\Lib\\site-packages\\aif360\\algorithms\\preprocessing\\optim_preproc_helpers\\opt_tools.py:98: PerformanceWarning: DataFrame is highly fragmented.  This is usually the result of calling `frame.insert` many times, which has poor performance.  Consider joining all columns at once using pd.concat(axis=1) instead. To get a de-fragmented frame, use `newframe = frame.copy()`\n",
      "  self.dfJoint = self.df.groupby(self.features).size().reset_index()\n",
      "d:\\tudelft\\test-val-for-ai-project\\.env\\Lib\\site-packages\\aif360\\algorithms\\preprocessing\\optim_preproc_helpers\\opt_tools.py:98: PerformanceWarning: DataFrame is highly fragmented.  This is usually the result of calling `frame.insert` many times, which has poor performance.  Consider joining all columns at once using pd.concat(axis=1) instead. To get a de-fragmented frame, use `newframe = frame.copy()`\n",
      "  self.dfJoint = self.df.groupby(self.features).size().reset_index()\n",
      "d:\\tudelft\\test-val-for-ai-project\\.env\\Lib\\site-packages\\aif360\\algorithms\\preprocessing\\optim_preproc_helpers\\opt_tools.py:98: PerformanceWarning: DataFrame is highly fragmented.  This is usually the result of calling `frame.insert` many times, which has poor performance.  Consider joining all columns at once using pd.concat(axis=1) instead. To get a de-fragmented frame, use `newframe = frame.copy()`\n",
      "  self.dfJoint = self.df.groupby(self.features).size().reset_index()\n",
      "d:\\tudelft\\test-val-for-ai-project\\.env\\Lib\\site-packages\\aif360\\algorithms\\preprocessing\\optim_preproc_helpers\\opt_tools.py:98: PerformanceWarning: DataFrame is highly fragmented.  This is usually the result of calling `frame.insert` many times, which has poor performance.  Consider joining all columns at once using pd.concat(axis=1) instead. To get a de-fragmented frame, use `newframe = frame.copy()`\n",
      "  self.dfJoint = self.df.groupby(self.features).size().reset_index()\n",
      "d:\\tudelft\\test-val-for-ai-project\\.env\\Lib\\site-packages\\aif360\\algorithms\\preprocessing\\optim_preproc_helpers\\opt_tools.py:98: PerformanceWarning: DataFrame is highly fragmented.  This is usually the result of calling `frame.insert` many times, which has poor performance.  Consider joining all columns at once using pd.concat(axis=1) instead. To get a de-fragmented frame, use `newframe = frame.copy()`\n",
      "  self.dfJoint = self.df.groupby(self.features).size().reset_index()\n",
      "d:\\tudelft\\test-val-for-ai-project\\.env\\Lib\\site-packages\\aif360\\algorithms\\preprocessing\\optim_preproc_helpers\\opt_tools.py:98: PerformanceWarning: DataFrame is highly fragmented.  This is usually the result of calling `frame.insert` many times, which has poor performance.  Consider joining all columns at once using pd.concat(axis=1) instead. To get a de-fragmented frame, use `newframe = frame.copy()`\n",
      "  self.dfJoint = self.df.groupby(self.features).size().reset_index()\n",
      "d:\\tudelft\\test-val-for-ai-project\\.env\\Lib\\site-packages\\aif360\\algorithms\\preprocessing\\optim_preproc_helpers\\opt_tools.py:98: PerformanceWarning: DataFrame is highly fragmented.  This is usually the result of calling `frame.insert` many times, which has poor performance.  Consider joining all columns at once using pd.concat(axis=1) instead. To get a de-fragmented frame, use `newframe = frame.copy()`\n",
      "  self.dfJoint = self.df.groupby(self.features).size().reset_index()\n",
      "d:\\tudelft\\test-val-for-ai-project\\.env\\Lib\\site-packages\\aif360\\algorithms\\preprocessing\\optim_preproc_helpers\\opt_tools.py:98: PerformanceWarning: DataFrame is highly fragmented.  This is usually the result of calling `frame.insert` many times, which has poor performance.  Consider joining all columns at once using pd.concat(axis=1) instead. To get a de-fragmented frame, use `newframe = frame.copy()`\n",
      "  self.dfJoint = self.df.groupby(self.features).size().reset_index()\n",
      "d:\\tudelft\\test-val-for-ai-project\\.env\\Lib\\site-packages\\aif360\\algorithms\\preprocessing\\optim_preproc_helpers\\opt_tools.py:98: PerformanceWarning: DataFrame is highly fragmented.  This is usually the result of calling `frame.insert` many times, which has poor performance.  Consider joining all columns at once using pd.concat(axis=1) instead. To get a de-fragmented frame, use `newframe = frame.copy()`\n",
      "  self.dfJoint = self.df.groupby(self.features).size().reset_index()\n",
      "d:\\tudelft\\test-val-for-ai-project\\.env\\Lib\\site-packages\\aif360\\algorithms\\preprocessing\\optim_preproc_helpers\\opt_tools.py:98: PerformanceWarning: DataFrame is highly fragmented.  This is usually the result of calling `frame.insert` many times, which has poor performance.  Consider joining all columns at once using pd.concat(axis=1) instead. To get a de-fragmented frame, use `newframe = frame.copy()`\n",
      "  self.dfJoint = self.df.groupby(self.features).size().reset_index()\n",
      "d:\\tudelft\\test-val-for-ai-project\\.env\\Lib\\site-packages\\aif360\\algorithms\\preprocessing\\optim_preproc_helpers\\opt_tools.py:98: PerformanceWarning: DataFrame is highly fragmented.  This is usually the result of calling `frame.insert` many times, which has poor performance.  Consider joining all columns at once using pd.concat(axis=1) instead. To get a de-fragmented frame, use `newframe = frame.copy()`\n",
      "  self.dfJoint = self.df.groupby(self.features).size().reset_index()\n",
      "d:\\tudelft\\test-val-for-ai-project\\.env\\Lib\\site-packages\\aif360\\algorithms\\preprocessing\\optim_preproc_helpers\\opt_tools.py:98: PerformanceWarning: DataFrame is highly fragmented.  This is usually the result of calling `frame.insert` many times, which has poor performance.  Consider joining all columns at once using pd.concat(axis=1) instead. To get a de-fragmented frame, use `newframe = frame.copy()`\n",
      "  self.dfJoint = self.df.groupby(self.features).size().reset_index()\n",
      "d:\\tudelft\\test-val-for-ai-project\\.env\\Lib\\site-packages\\aif360\\algorithms\\preprocessing\\optim_preproc_helpers\\opt_tools.py:98: PerformanceWarning: DataFrame is highly fragmented.  This is usually the result of calling `frame.insert` many times, which has poor performance.  Consider joining all columns at once using pd.concat(axis=1) instead. To get a de-fragmented frame, use `newframe = frame.copy()`\n",
      "  self.dfJoint = self.df.groupby(self.features).size().reset_index()\n",
      "d:\\tudelft\\test-val-for-ai-project\\.env\\Lib\\site-packages\\aif360\\algorithms\\preprocessing\\optim_preproc_helpers\\opt_tools.py:98: PerformanceWarning: DataFrame is highly fragmented.  This is usually the result of calling `frame.insert` many times, which has poor performance.  Consider joining all columns at once using pd.concat(axis=1) instead. To get a de-fragmented frame, use `newframe = frame.copy()`\n",
      "  self.dfJoint = self.df.groupby(self.features).size().reset_index()\n",
      "d:\\tudelft\\test-val-for-ai-project\\.env\\Lib\\site-packages\\aif360\\algorithms\\preprocessing\\optim_preproc_helpers\\opt_tools.py:98: PerformanceWarning: DataFrame is highly fragmented.  This is usually the result of calling `frame.insert` many times, which has poor performance.  Consider joining all columns at once using pd.concat(axis=1) instead. To get a de-fragmented frame, use `newframe = frame.copy()`\n",
      "  self.dfJoint = self.df.groupby(self.features).size().reset_index()\n",
      "d:\\tudelft\\test-val-for-ai-project\\.env\\Lib\\site-packages\\aif360\\algorithms\\preprocessing\\optim_preproc_helpers\\opt_tools.py:98: PerformanceWarning: DataFrame is highly fragmented.  This is usually the result of calling `frame.insert` many times, which has poor performance.  Consider joining all columns at once using pd.concat(axis=1) instead. To get a de-fragmented frame, use `newframe = frame.copy()`\n",
      "  self.dfJoint = self.df.groupby(self.features).size().reset_index()\n",
      "d:\\tudelft\\test-val-for-ai-project\\.env\\Lib\\site-packages\\aif360\\algorithms\\preprocessing\\optim_preproc_helpers\\opt_tools.py:98: PerformanceWarning: DataFrame is highly fragmented.  This is usually the result of calling `frame.insert` many times, which has poor performance.  Consider joining all columns at once using pd.concat(axis=1) instead. To get a de-fragmented frame, use `newframe = frame.copy()`\n",
      "  self.dfJoint = self.df.groupby(self.features).size().reset_index()\n",
      "d:\\tudelft\\test-val-for-ai-project\\.env\\Lib\\site-packages\\aif360\\algorithms\\preprocessing\\optim_preproc_helpers\\opt_tools.py:98: PerformanceWarning: DataFrame is highly fragmented.  This is usually the result of calling `frame.insert` many times, which has poor performance.  Consider joining all columns at once using pd.concat(axis=1) instead. To get a de-fragmented frame, use `newframe = frame.copy()`\n",
      "  self.dfJoint = self.df.groupby(self.features).size().reset_index()\n",
      "d:\\tudelft\\test-val-for-ai-project\\.env\\Lib\\site-packages\\aif360\\algorithms\\preprocessing\\optim_preproc_helpers\\opt_tools.py:98: PerformanceWarning: DataFrame is highly fragmented.  This is usually the result of calling `frame.insert` many times, which has poor performance.  Consider joining all columns at once using pd.concat(axis=1) instead. To get a de-fragmented frame, use `newframe = frame.copy()`\n",
      "  self.dfJoint = self.df.groupby(self.features).size().reset_index()\n",
      "d:\\tudelft\\test-val-for-ai-project\\.env\\Lib\\site-packages\\aif360\\algorithms\\preprocessing\\optim_preproc_helpers\\opt_tools.py:98: PerformanceWarning: DataFrame is highly fragmented.  This is usually the result of calling `frame.insert` many times, which has poor performance.  Consider joining all columns at once using pd.concat(axis=1) instead. To get a de-fragmented frame, use `newframe = frame.copy()`\n",
      "  self.dfJoint = self.df.groupby(self.features).size().reset_index()\n",
      "d:\\tudelft\\test-val-for-ai-project\\.env\\Lib\\site-packages\\aif360\\algorithms\\preprocessing\\optim_preproc_helpers\\opt_tools.py:98: PerformanceWarning: DataFrame is highly fragmented.  This is usually the result of calling `frame.insert` many times, which has poor performance.  Consider joining all columns at once using pd.concat(axis=1) instead. To get a de-fragmented frame, use `newframe = frame.copy()`\n",
      "  self.dfJoint = self.df.groupby(self.features).size().reset_index()\n",
      "d:\\tudelft\\test-val-for-ai-project\\.env\\Lib\\site-packages\\aif360\\algorithms\\preprocessing\\optim_preproc_helpers\\opt_tools.py:98: PerformanceWarning: DataFrame is highly fragmented.  This is usually the result of calling `frame.insert` many times, which has poor performance.  Consider joining all columns at once using pd.concat(axis=1) instead. To get a de-fragmented frame, use `newframe = frame.copy()`\n",
      "  self.dfJoint = self.df.groupby(self.features).size().reset_index()\n",
      "d:\\tudelft\\test-val-for-ai-project\\.env\\Lib\\site-packages\\aif360\\algorithms\\preprocessing\\optim_preproc_helpers\\opt_tools.py:98: PerformanceWarning: DataFrame is highly fragmented.  This is usually the result of calling `frame.insert` many times, which has poor performance.  Consider joining all columns at once using pd.concat(axis=1) instead. To get a de-fragmented frame, use `newframe = frame.copy()`\n",
      "  self.dfJoint = self.df.groupby(self.features).size().reset_index()\n",
      "d:\\tudelft\\test-val-for-ai-project\\.env\\Lib\\site-packages\\aif360\\algorithms\\preprocessing\\optim_preproc_helpers\\opt_tools.py:98: PerformanceWarning: DataFrame is highly fragmented.  This is usually the result of calling `frame.insert` many times, which has poor performance.  Consider joining all columns at once using pd.concat(axis=1) instead. To get a de-fragmented frame, use `newframe = frame.copy()`\n",
      "  self.dfJoint = self.df.groupby(self.features).size().reset_index()\n",
      "d:\\tudelft\\test-val-for-ai-project\\.env\\Lib\\site-packages\\aif360\\algorithms\\preprocessing\\optim_preproc_helpers\\opt_tools.py:98: PerformanceWarning: DataFrame is highly fragmented.  This is usually the result of calling `frame.insert` many times, which has poor performance.  Consider joining all columns at once using pd.concat(axis=1) instead. To get a de-fragmented frame, use `newframe = frame.copy()`\n",
      "  self.dfJoint = self.df.groupby(self.features).size().reset_index()\n",
      "d:\\tudelft\\test-val-for-ai-project\\.env\\Lib\\site-packages\\aif360\\algorithms\\preprocessing\\optim_preproc_helpers\\opt_tools.py:98: PerformanceWarning: DataFrame is highly fragmented.  This is usually the result of calling `frame.insert` many times, which has poor performance.  Consider joining all columns at once using pd.concat(axis=1) instead. To get a de-fragmented frame, use `newframe = frame.copy()`\n",
      "  self.dfJoint = self.df.groupby(self.features).size().reset_index()\n",
      "d:\\tudelft\\test-val-for-ai-project\\.env\\Lib\\site-packages\\aif360\\algorithms\\preprocessing\\optim_preproc_helpers\\opt_tools.py:98: PerformanceWarning: DataFrame is highly fragmented.  This is usually the result of calling `frame.insert` many times, which has poor performance.  Consider joining all columns at once using pd.concat(axis=1) instead. To get a de-fragmented frame, use `newframe = frame.copy()`\n",
      "  self.dfJoint = self.df.groupby(self.features).size().reset_index()\n",
      "d:\\tudelft\\test-val-for-ai-project\\.env\\Lib\\site-packages\\aif360\\algorithms\\preprocessing\\optim_preproc_helpers\\opt_tools.py:98: PerformanceWarning: DataFrame is highly fragmented.  This is usually the result of calling `frame.insert` many times, which has poor performance.  Consider joining all columns at once using pd.concat(axis=1) instead. To get a de-fragmented frame, use `newframe = frame.copy()`\n",
      "  self.dfJoint = self.df.groupby(self.features).size().reset_index()\n",
      "d:\\tudelft\\test-val-for-ai-project\\.env\\Lib\\site-packages\\aif360\\algorithms\\preprocessing\\optim_preproc_helpers\\opt_tools.py:98: PerformanceWarning: DataFrame is highly fragmented.  This is usually the result of calling `frame.insert` many times, which has poor performance.  Consider joining all columns at once using pd.concat(axis=1) instead. To get a de-fragmented frame, use `newframe = frame.copy()`\n",
      "  self.dfJoint = self.df.groupby(self.features).size().reset_index()\n",
      "d:\\tudelft\\test-val-for-ai-project\\.env\\Lib\\site-packages\\aif360\\algorithms\\preprocessing\\optim_preproc_helpers\\opt_tools.py:98: PerformanceWarning: DataFrame is highly fragmented.  This is usually the result of calling `frame.insert` many times, which has poor performance.  Consider joining all columns at once using pd.concat(axis=1) instead. To get a de-fragmented frame, use `newframe = frame.copy()`\n",
      "  self.dfJoint = self.df.groupby(self.features).size().reset_index()\n",
      "d:\\tudelft\\test-val-for-ai-project\\.env\\Lib\\site-packages\\aif360\\algorithms\\preprocessing\\optim_preproc_helpers\\opt_tools.py:98: PerformanceWarning: DataFrame is highly fragmented.  This is usually the result of calling `frame.insert` many times, which has poor performance.  Consider joining all columns at once using pd.concat(axis=1) instead. To get a de-fragmented frame, use `newframe = frame.copy()`\n",
      "  self.dfJoint = self.df.groupby(self.features).size().reset_index()\n",
      "d:\\tudelft\\test-val-for-ai-project\\.env\\Lib\\site-packages\\aif360\\algorithms\\preprocessing\\optim_preproc_helpers\\opt_tools.py:98: PerformanceWarning: DataFrame is highly fragmented.  This is usually the result of calling `frame.insert` many times, which has poor performance.  Consider joining all columns at once using pd.concat(axis=1) instead. To get a de-fragmented frame, use `newframe = frame.copy()`\n",
      "  self.dfJoint = self.df.groupby(self.features).size().reset_index()\n",
      "d:\\tudelft\\test-val-for-ai-project\\.env\\Lib\\site-packages\\aif360\\algorithms\\preprocessing\\optim_preproc_helpers\\opt_tools.py:98: PerformanceWarning: DataFrame is highly fragmented.  This is usually the result of calling `frame.insert` many times, which has poor performance.  Consider joining all columns at once using pd.concat(axis=1) instead. To get a de-fragmented frame, use `newframe = frame.copy()`\n",
      "  self.dfJoint = self.df.groupby(self.features).size().reset_index()\n",
      "d:\\tudelft\\test-val-for-ai-project\\.env\\Lib\\site-packages\\aif360\\algorithms\\preprocessing\\optim_preproc_helpers\\opt_tools.py:98: PerformanceWarning: DataFrame is highly fragmented.  This is usually the result of calling `frame.insert` many times, which has poor performance.  Consider joining all columns at once using pd.concat(axis=1) instead. To get a de-fragmented frame, use `newframe = frame.copy()`\n",
      "  self.dfJoint = self.df.groupby(self.features).size().reset_index()\n",
      "d:\\tudelft\\test-val-for-ai-project\\.env\\Lib\\site-packages\\aif360\\algorithms\\preprocessing\\optim_preproc_helpers\\opt_tools.py:98: PerformanceWarning: DataFrame is highly fragmented.  This is usually the result of calling `frame.insert` many times, which has poor performance.  Consider joining all columns at once using pd.concat(axis=1) instead. To get a de-fragmented frame, use `newframe = frame.copy()`\n",
      "  self.dfJoint = self.df.groupby(self.features).size().reset_index()\n",
      "d:\\tudelft\\test-val-for-ai-project\\.env\\Lib\\site-packages\\aif360\\algorithms\\preprocessing\\optim_preproc_helpers\\opt_tools.py:98: PerformanceWarning: DataFrame is highly fragmented.  This is usually the result of calling `frame.insert` many times, which has poor performance.  Consider joining all columns at once using pd.concat(axis=1) instead. To get a de-fragmented frame, use `newframe = frame.copy()`\n",
      "  self.dfJoint = self.df.groupby(self.features).size().reset_index()\n",
      "d:\\tudelft\\test-val-for-ai-project\\.env\\Lib\\site-packages\\aif360\\algorithms\\preprocessing\\optim_preproc_helpers\\opt_tools.py:98: PerformanceWarning: DataFrame is highly fragmented.  This is usually the result of calling `frame.insert` many times, which has poor performance.  Consider joining all columns at once using pd.concat(axis=1) instead. To get a de-fragmented frame, use `newframe = frame.copy()`\n",
      "  self.dfJoint = self.df.groupby(self.features).size().reset_index()\n",
      "d:\\tudelft\\test-val-for-ai-project\\.env\\Lib\\site-packages\\aif360\\algorithms\\preprocessing\\optim_preproc_helpers\\opt_tools.py:98: PerformanceWarning: DataFrame is highly fragmented.  This is usually the result of calling `frame.insert` many times, which has poor performance.  Consider joining all columns at once using pd.concat(axis=1) instead. To get a de-fragmented frame, use `newframe = frame.copy()`\n",
      "  self.dfJoint = self.df.groupby(self.features).size().reset_index()\n",
      "d:\\tudelft\\test-val-for-ai-project\\.env\\Lib\\site-packages\\aif360\\algorithms\\preprocessing\\optim_preproc_helpers\\opt_tools.py:98: PerformanceWarning: DataFrame is highly fragmented.  This is usually the result of calling `frame.insert` many times, which has poor performance.  Consider joining all columns at once using pd.concat(axis=1) instead. To get a de-fragmented frame, use `newframe = frame.copy()`\n",
      "  self.dfJoint = self.df.groupby(self.features).size().reset_index()\n",
      "d:\\tudelft\\test-val-for-ai-project\\.env\\Lib\\site-packages\\aif360\\algorithms\\preprocessing\\optim_preproc_helpers\\opt_tools.py:98: PerformanceWarning: DataFrame is highly fragmented.  This is usually the result of calling `frame.insert` many times, which has poor performance.  Consider joining all columns at once using pd.concat(axis=1) instead. To get a de-fragmented frame, use `newframe = frame.copy()`\n",
      "  self.dfJoint = self.df.groupby(self.features).size().reset_index()\n",
      "d:\\tudelft\\test-val-for-ai-project\\.env\\Lib\\site-packages\\aif360\\algorithms\\preprocessing\\optim_preproc_helpers\\opt_tools.py:98: PerformanceWarning: DataFrame is highly fragmented.  This is usually the result of calling `frame.insert` many times, which has poor performance.  Consider joining all columns at once using pd.concat(axis=1) instead. To get a de-fragmented frame, use `newframe = frame.copy()`\n",
      "  self.dfJoint = self.df.groupby(self.features).size().reset_index()\n",
      "d:\\tudelft\\test-val-for-ai-project\\.env\\Lib\\site-packages\\aif360\\algorithms\\preprocessing\\optim_preproc_helpers\\opt_tools.py:98: PerformanceWarning: DataFrame is highly fragmented.  This is usually the result of calling `frame.insert` many times, which has poor performance.  Consider joining all columns at once using pd.concat(axis=1) instead. To get a de-fragmented frame, use `newframe = frame.copy()`\n",
      "  self.dfJoint = self.df.groupby(self.features).size().reset_index()\n",
      "d:\\tudelft\\test-val-for-ai-project\\.env\\Lib\\site-packages\\aif360\\algorithms\\preprocessing\\optim_preproc_helpers\\opt_tools.py:98: PerformanceWarning: DataFrame is highly fragmented.  This is usually the result of calling `frame.insert` many times, which has poor performance.  Consider joining all columns at once using pd.concat(axis=1) instead. To get a de-fragmented frame, use `newframe = frame.copy()`\n",
      "  self.dfJoint = self.df.groupby(self.features).size().reset_index()\n",
      "d:\\tudelft\\test-val-for-ai-project\\.env\\Lib\\site-packages\\aif360\\algorithms\\preprocessing\\optim_preproc_helpers\\opt_tools.py:98: PerformanceWarning: DataFrame is highly fragmented.  This is usually the result of calling `frame.insert` many times, which has poor performance.  Consider joining all columns at once using pd.concat(axis=1) instead. To get a de-fragmented frame, use `newframe = frame.copy()`\n",
      "  self.dfJoint = self.df.groupby(self.features).size().reset_index()\n",
      "d:\\tudelft\\test-val-for-ai-project\\.env\\Lib\\site-packages\\aif360\\algorithms\\preprocessing\\optim_preproc_helpers\\opt_tools.py:98: PerformanceWarning: DataFrame is highly fragmented.  This is usually the result of calling `frame.insert` many times, which has poor performance.  Consider joining all columns at once using pd.concat(axis=1) instead. To get a de-fragmented frame, use `newframe = frame.copy()`\n",
      "  self.dfJoint = self.df.groupby(self.features).size().reset_index()\n",
      "d:\\tudelft\\test-val-for-ai-project\\.env\\Lib\\site-packages\\aif360\\algorithms\\preprocessing\\optim_preproc_helpers\\opt_tools.py:98: PerformanceWarning: DataFrame is highly fragmented.  This is usually the result of calling `frame.insert` many times, which has poor performance.  Consider joining all columns at once using pd.concat(axis=1) instead. To get a de-fragmented frame, use `newframe = frame.copy()`\n",
      "  self.dfJoint = self.df.groupby(self.features).size().reset_index()\n",
      "d:\\tudelft\\test-val-for-ai-project\\.env\\Lib\\site-packages\\aif360\\algorithms\\preprocessing\\optim_preproc_helpers\\opt_tools.py:98: PerformanceWarning: DataFrame is highly fragmented.  This is usually the result of calling `frame.insert` many times, which has poor performance.  Consider joining all columns at once using pd.concat(axis=1) instead. To get a de-fragmented frame, use `newframe = frame.copy()`\n",
      "  self.dfJoint = self.df.groupby(self.features).size().reset_index()\n",
      "d:\\tudelft\\test-val-for-ai-project\\.env\\Lib\\site-packages\\aif360\\algorithms\\preprocessing\\optim_preproc_helpers\\opt_tools.py:98: PerformanceWarning: DataFrame is highly fragmented.  This is usually the result of calling `frame.insert` many times, which has poor performance.  Consider joining all columns at once using pd.concat(axis=1) instead. To get a de-fragmented frame, use `newframe = frame.copy()`\n",
      "  self.dfJoint = self.df.groupby(self.features).size().reset_index()\n",
      "d:\\tudelft\\test-val-for-ai-project\\.env\\Lib\\site-packages\\aif360\\algorithms\\preprocessing\\optim_preproc_helpers\\opt_tools.py:98: PerformanceWarning: DataFrame is highly fragmented.  This is usually the result of calling `frame.insert` many times, which has poor performance.  Consider joining all columns at once using pd.concat(axis=1) instead. To get a de-fragmented frame, use `newframe = frame.copy()`\n",
      "  self.dfJoint = self.df.groupby(self.features).size().reset_index()\n",
      "d:\\tudelft\\test-val-for-ai-project\\.env\\Lib\\site-packages\\aif360\\algorithms\\preprocessing\\optim_preproc_helpers\\opt_tools.py:98: PerformanceWarning: DataFrame is highly fragmented.  This is usually the result of calling `frame.insert` many times, which has poor performance.  Consider joining all columns at once using pd.concat(axis=1) instead. To get a de-fragmented frame, use `newframe = frame.copy()`\n",
      "  self.dfJoint = self.df.groupby(self.features).size().reset_index()\n",
      "d:\\tudelft\\test-val-for-ai-project\\.env\\Lib\\site-packages\\aif360\\algorithms\\preprocessing\\optim_preproc_helpers\\opt_tools.py:98: PerformanceWarning: DataFrame is highly fragmented.  This is usually the result of calling `frame.insert` many times, which has poor performance.  Consider joining all columns at once using pd.concat(axis=1) instead. To get a de-fragmented frame, use `newframe = frame.copy()`\n",
      "  self.dfJoint = self.df.groupby(self.features).size().reset_index()\n",
      "d:\\tudelft\\test-val-for-ai-project\\.env\\Lib\\site-packages\\aif360\\algorithms\\preprocessing\\optim_preproc_helpers\\opt_tools.py:98: PerformanceWarning: DataFrame is highly fragmented.  This is usually the result of calling `frame.insert` many times, which has poor performance.  Consider joining all columns at once using pd.concat(axis=1) instead. To get a de-fragmented frame, use `newframe = frame.copy()`\n",
      "  self.dfJoint = self.df.groupby(self.features).size().reset_index()\n",
      "d:\\tudelft\\test-val-for-ai-project\\.env\\Lib\\site-packages\\aif360\\algorithms\\preprocessing\\optim_preproc_helpers\\opt_tools.py:98: PerformanceWarning: DataFrame is highly fragmented.  This is usually the result of calling `frame.insert` many times, which has poor performance.  Consider joining all columns at once using pd.concat(axis=1) instead. To get a de-fragmented frame, use `newframe = frame.copy()`\n",
      "  self.dfJoint = self.df.groupby(self.features).size().reset_index()\n",
      "d:\\tudelft\\test-val-for-ai-project\\.env\\Lib\\site-packages\\aif360\\algorithms\\preprocessing\\optim_preproc_helpers\\opt_tools.py:98: PerformanceWarning: DataFrame is highly fragmented.  This is usually the result of calling `frame.insert` many times, which has poor performance.  Consider joining all columns at once using pd.concat(axis=1) instead. To get a de-fragmented frame, use `newframe = frame.copy()`\n",
      "  self.dfJoint = self.df.groupby(self.features).size().reset_index()\n",
      "d:\\tudelft\\test-val-for-ai-project\\.env\\Lib\\site-packages\\aif360\\algorithms\\preprocessing\\optim_preproc_helpers\\opt_tools.py:98: PerformanceWarning: DataFrame is highly fragmented.  This is usually the result of calling `frame.insert` many times, which has poor performance.  Consider joining all columns at once using pd.concat(axis=1) instead. To get a de-fragmented frame, use `newframe = frame.copy()`\n",
      "  self.dfJoint = self.df.groupby(self.features).size().reset_index()\n",
      "d:\\tudelft\\test-val-for-ai-project\\.env\\Lib\\site-packages\\aif360\\algorithms\\preprocessing\\optim_preproc_helpers\\opt_tools.py:98: PerformanceWarning: DataFrame is highly fragmented.  This is usually the result of calling `frame.insert` many times, which has poor performance.  Consider joining all columns at once using pd.concat(axis=1) instead. To get a de-fragmented frame, use `newframe = frame.copy()`\n",
      "  self.dfJoint = self.df.groupby(self.features).size().reset_index()\n",
      "d:\\tudelft\\test-val-for-ai-project\\.env\\Lib\\site-packages\\aif360\\algorithms\\preprocessing\\optim_preproc_helpers\\opt_tools.py:98: PerformanceWarning: DataFrame is highly fragmented.  This is usually the result of calling `frame.insert` many times, which has poor performance.  Consider joining all columns at once using pd.concat(axis=1) instead. To get a de-fragmented frame, use `newframe = frame.copy()`\n",
      "  self.dfJoint = self.df.groupby(self.features).size().reset_index()\n",
      "d:\\tudelft\\test-val-for-ai-project\\.env\\Lib\\site-packages\\aif360\\algorithms\\preprocessing\\optim_preproc_helpers\\opt_tools.py:98: PerformanceWarning: DataFrame is highly fragmented.  This is usually the result of calling `frame.insert` many times, which has poor performance.  Consider joining all columns at once using pd.concat(axis=1) instead. To get a de-fragmented frame, use `newframe = frame.copy()`\n",
      "  self.dfJoint = self.df.groupby(self.features).size().reset_index()\n",
      "d:\\tudelft\\test-val-for-ai-project\\.env\\Lib\\site-packages\\aif360\\algorithms\\preprocessing\\optim_preproc_helpers\\opt_tools.py:98: PerformanceWarning: DataFrame is highly fragmented.  This is usually the result of calling `frame.insert` many times, which has poor performance.  Consider joining all columns at once using pd.concat(axis=1) instead. To get a de-fragmented frame, use `newframe = frame.copy()`\n",
      "  self.dfJoint = self.df.groupby(self.features).size().reset_index()\n",
      "d:\\tudelft\\test-val-for-ai-project\\.env\\Lib\\site-packages\\aif360\\algorithms\\preprocessing\\optim_preproc_helpers\\opt_tools.py:98: PerformanceWarning: DataFrame is highly fragmented.  This is usually the result of calling `frame.insert` many times, which has poor performance.  Consider joining all columns at once using pd.concat(axis=1) instead. To get a de-fragmented frame, use `newframe = frame.copy()`\n",
      "  self.dfJoint = self.df.groupby(self.features).size().reset_index()\n",
      "d:\\tudelft\\test-val-for-ai-project\\.env\\Lib\\site-packages\\aif360\\algorithms\\preprocessing\\optim_preproc_helpers\\opt_tools.py:98: PerformanceWarning: DataFrame is highly fragmented.  This is usually the result of calling `frame.insert` many times, which has poor performance.  Consider joining all columns at once using pd.concat(axis=1) instead. To get a de-fragmented frame, use `newframe = frame.copy()`\n",
      "  self.dfJoint = self.df.groupby(self.features).size().reset_index()\n",
      "d:\\tudelft\\test-val-for-ai-project\\.env\\Lib\\site-packages\\aif360\\algorithms\\preprocessing\\optim_preproc_helpers\\opt_tools.py:98: PerformanceWarning: DataFrame is highly fragmented.  This is usually the result of calling `frame.insert` many times, which has poor performance.  Consider joining all columns at once using pd.concat(axis=1) instead. To get a de-fragmented frame, use `newframe = frame.copy()`\n",
      "  self.dfJoint = self.df.groupby(self.features).size().reset_index()\n",
      "d:\\tudelft\\test-val-for-ai-project\\.env\\Lib\\site-packages\\aif360\\algorithms\\preprocessing\\optim_preproc_helpers\\opt_tools.py:98: PerformanceWarning: DataFrame is highly fragmented.  This is usually the result of calling `frame.insert` many times, which has poor performance.  Consider joining all columns at once using pd.concat(axis=1) instead. To get a de-fragmented frame, use `newframe = frame.copy()`\n",
      "  self.dfJoint = self.df.groupby(self.features).size().reset_index()\n",
      "d:\\tudelft\\test-val-for-ai-project\\.env\\Lib\\site-packages\\aif360\\algorithms\\preprocessing\\optim_preproc_helpers\\opt_tools.py:98: PerformanceWarning: DataFrame is highly fragmented.  This is usually the result of calling `frame.insert` many times, which has poor performance.  Consider joining all columns at once using pd.concat(axis=1) instead. To get a de-fragmented frame, use `newframe = frame.copy()`\n",
      "  self.dfJoint = self.df.groupby(self.features).size().reset_index()\n",
      "d:\\tudelft\\test-val-for-ai-project\\.env\\Lib\\site-packages\\aif360\\algorithms\\preprocessing\\optim_preproc_helpers\\opt_tools.py:98: PerformanceWarning: DataFrame is highly fragmented.  This is usually the result of calling `frame.insert` many times, which has poor performance.  Consider joining all columns at once using pd.concat(axis=1) instead. To get a de-fragmented frame, use `newframe = frame.copy()`\n",
      "  self.dfJoint = self.df.groupby(self.features).size().reset_index()\n",
      "d:\\tudelft\\test-val-for-ai-project\\.env\\Lib\\site-packages\\aif360\\algorithms\\preprocessing\\optim_preproc_helpers\\opt_tools.py:98: PerformanceWarning: DataFrame is highly fragmented.  This is usually the result of calling `frame.insert` many times, which has poor performance.  Consider joining all columns at once using pd.concat(axis=1) instead. To get a de-fragmented frame, use `newframe = frame.copy()`\n",
      "  self.dfJoint = self.df.groupby(self.features).size().reset_index()\n",
      "d:\\tudelft\\test-val-for-ai-project\\.env\\Lib\\site-packages\\aif360\\algorithms\\preprocessing\\optim_preproc_helpers\\opt_tools.py:98: PerformanceWarning: DataFrame is highly fragmented.  This is usually the result of calling `frame.insert` many times, which has poor performance.  Consider joining all columns at once using pd.concat(axis=1) instead. To get a de-fragmented frame, use `newframe = frame.copy()`\n",
      "  self.dfJoint = self.df.groupby(self.features).size().reset_index()\n",
      "d:\\tudelft\\test-val-for-ai-project\\.env\\Lib\\site-packages\\aif360\\algorithms\\preprocessing\\optim_preproc_helpers\\opt_tools.py:98: PerformanceWarning: DataFrame is highly fragmented.  This is usually the result of calling `frame.insert` many times, which has poor performance.  Consider joining all columns at once using pd.concat(axis=1) instead. To get a de-fragmented frame, use `newframe = frame.copy()`\n",
      "  self.dfJoint = self.df.groupby(self.features).size().reset_index()\n",
      "d:\\tudelft\\test-val-for-ai-project\\.env\\Lib\\site-packages\\aif360\\algorithms\\preprocessing\\optim_preproc_helpers\\opt_tools.py:98: PerformanceWarning: DataFrame is highly fragmented.  This is usually the result of calling `frame.insert` many times, which has poor performance.  Consider joining all columns at once using pd.concat(axis=1) instead. To get a de-fragmented frame, use `newframe = frame.copy()`\n",
      "  self.dfJoint = self.df.groupby(self.features).size().reset_index()\n",
      "d:\\tudelft\\test-val-for-ai-project\\.env\\Lib\\site-packages\\aif360\\algorithms\\preprocessing\\optim_preproc_helpers\\opt_tools.py:98: PerformanceWarning: DataFrame is highly fragmented.  This is usually the result of calling `frame.insert` many times, which has poor performance.  Consider joining all columns at once using pd.concat(axis=1) instead. To get a de-fragmented frame, use `newframe = frame.copy()`\n",
      "  self.dfJoint = self.df.groupby(self.features).size().reset_index()\n",
      "d:\\tudelft\\test-val-for-ai-project\\.env\\Lib\\site-packages\\aif360\\algorithms\\preprocessing\\optim_preproc_helpers\\opt_tools.py:98: PerformanceWarning: DataFrame is highly fragmented.  This is usually the result of calling `frame.insert` many times, which has poor performance.  Consider joining all columns at once using pd.concat(axis=1) instead. To get a de-fragmented frame, use `newframe = frame.copy()`\n",
      "  self.dfJoint = self.df.groupby(self.features).size().reset_index()\n",
      "d:\\tudelft\\test-val-for-ai-project\\.env\\Lib\\site-packages\\aif360\\algorithms\\preprocessing\\optim_preproc_helpers\\opt_tools.py:98: PerformanceWarning: DataFrame is highly fragmented.  This is usually the result of calling `frame.insert` many times, which has poor performance.  Consider joining all columns at once using pd.concat(axis=1) instead. To get a de-fragmented frame, use `newframe = frame.copy()`\n",
      "  self.dfJoint = self.df.groupby(self.features).size().reset_index()\n",
      "d:\\tudelft\\test-val-for-ai-project\\.env\\Lib\\site-packages\\aif360\\algorithms\\preprocessing\\optim_preproc_helpers\\opt_tools.py:98: PerformanceWarning: DataFrame is highly fragmented.  This is usually the result of calling `frame.insert` many times, which has poor performance.  Consider joining all columns at once using pd.concat(axis=1) instead. To get a de-fragmented frame, use `newframe = frame.copy()`\n",
      "  self.dfJoint = self.df.groupby(self.features).size().reset_index()\n",
      "d:\\tudelft\\test-val-for-ai-project\\.env\\Lib\\site-packages\\aif360\\algorithms\\preprocessing\\optim_preproc_helpers\\opt_tools.py:98: PerformanceWarning: DataFrame is highly fragmented.  This is usually the result of calling `frame.insert` many times, which has poor performance.  Consider joining all columns at once using pd.concat(axis=1) instead. To get a de-fragmented frame, use `newframe = frame.copy()`\n",
      "  self.dfJoint = self.df.groupby(self.features).size().reset_index()\n",
      "d:\\tudelft\\test-val-for-ai-project\\.env\\Lib\\site-packages\\aif360\\algorithms\\preprocessing\\optim_preproc_helpers\\opt_tools.py:98: PerformanceWarning: DataFrame is highly fragmented.  This is usually the result of calling `frame.insert` many times, which has poor performance.  Consider joining all columns at once using pd.concat(axis=1) instead. To get a de-fragmented frame, use `newframe = frame.copy()`\n",
      "  self.dfJoint = self.df.groupby(self.features).size().reset_index()\n",
      "d:\\tudelft\\test-val-for-ai-project\\.env\\Lib\\site-packages\\aif360\\algorithms\\preprocessing\\optim_preproc_helpers\\opt_tools.py:98: PerformanceWarning: DataFrame is highly fragmented.  This is usually the result of calling `frame.insert` many times, which has poor performance.  Consider joining all columns at once using pd.concat(axis=1) instead. To get a de-fragmented frame, use `newframe = frame.copy()`\n",
      "  self.dfJoint = self.df.groupby(self.features).size().reset_index()\n",
      "d:\\tudelft\\test-val-for-ai-project\\.env\\Lib\\site-packages\\aif360\\algorithms\\preprocessing\\optim_preproc_helpers\\opt_tools.py:98: PerformanceWarning: DataFrame is highly fragmented.  This is usually the result of calling `frame.insert` many times, which has poor performance.  Consider joining all columns at once using pd.concat(axis=1) instead. To get a de-fragmented frame, use `newframe = frame.copy()`\n",
      "  self.dfJoint = self.df.groupby(self.features).size().reset_index()\n",
      "d:\\tudelft\\test-val-for-ai-project\\.env\\Lib\\site-packages\\aif360\\algorithms\\preprocessing\\optim_preproc_helpers\\opt_tools.py:98: PerformanceWarning: DataFrame is highly fragmented.  This is usually the result of calling `frame.insert` many times, which has poor performance.  Consider joining all columns at once using pd.concat(axis=1) instead. To get a de-fragmented frame, use `newframe = frame.copy()`\n",
      "  self.dfJoint = self.df.groupby(self.features).size().reset_index()\n",
      "d:\\tudelft\\test-val-for-ai-project\\.env\\Lib\\site-packages\\aif360\\algorithms\\preprocessing\\optim_preproc_helpers\\opt_tools.py:98: PerformanceWarning: DataFrame is highly fragmented.  This is usually the result of calling `frame.insert` many times, which has poor performance.  Consider joining all columns at once using pd.concat(axis=1) instead. To get a de-fragmented frame, use `newframe = frame.copy()`\n",
      "  self.dfJoint = self.df.groupby(self.features).size().reset_index()\n",
      "d:\\tudelft\\test-val-for-ai-project\\.env\\Lib\\site-packages\\aif360\\algorithms\\preprocessing\\optim_preproc_helpers\\opt_tools.py:98: PerformanceWarning: DataFrame is highly fragmented.  This is usually the result of calling `frame.insert` many times, which has poor performance.  Consider joining all columns at once using pd.concat(axis=1) instead. To get a de-fragmented frame, use `newframe = frame.copy()`\n",
      "  self.dfJoint = self.df.groupby(self.features).size().reset_index()\n",
      "d:\\tudelft\\test-val-for-ai-project\\.env\\Lib\\site-packages\\aif360\\algorithms\\preprocessing\\optim_preproc_helpers\\opt_tools.py:98: PerformanceWarning: DataFrame is highly fragmented.  This is usually the result of calling `frame.insert` many times, which has poor performance.  Consider joining all columns at once using pd.concat(axis=1) instead. To get a de-fragmented frame, use `newframe = frame.copy()`\n",
      "  self.dfJoint = self.df.groupby(self.features).size().reset_index()\n",
      "d:\\tudelft\\test-val-for-ai-project\\.env\\Lib\\site-packages\\aif360\\algorithms\\preprocessing\\optim_preproc_helpers\\opt_tools.py:98: PerformanceWarning: DataFrame is highly fragmented.  This is usually the result of calling `frame.insert` many times, which has poor performance.  Consider joining all columns at once using pd.concat(axis=1) instead. To get a de-fragmented frame, use `newframe = frame.copy()`\n",
      "  self.dfJoint = self.df.groupby(self.features).size().reset_index()\n",
      "d:\\tudelft\\test-val-for-ai-project\\.env\\Lib\\site-packages\\aif360\\algorithms\\preprocessing\\optim_preproc_helpers\\opt_tools.py:98: PerformanceWarning: DataFrame is highly fragmented.  This is usually the result of calling `frame.insert` many times, which has poor performance.  Consider joining all columns at once using pd.concat(axis=1) instead. To get a de-fragmented frame, use `newframe = frame.copy()`\n",
      "  self.dfJoint = self.df.groupby(self.features).size().reset_index()\n",
      "d:\\tudelft\\test-val-for-ai-project\\.env\\Lib\\site-packages\\aif360\\algorithms\\preprocessing\\optim_preproc_helpers\\opt_tools.py:98: PerformanceWarning: DataFrame is highly fragmented.  This is usually the result of calling `frame.insert` many times, which has poor performance.  Consider joining all columns at once using pd.concat(axis=1) instead. To get a de-fragmented frame, use `newframe = frame.copy()`\n",
      "  self.dfJoint = self.df.groupby(self.features).size().reset_index()\n",
      "d:\\tudelft\\test-val-for-ai-project\\.env\\Lib\\site-packages\\aif360\\algorithms\\preprocessing\\optim_preproc_helpers\\opt_tools.py:98: PerformanceWarning: DataFrame is highly fragmented.  This is usually the result of calling `frame.insert` many times, which has poor performance.  Consider joining all columns at once using pd.concat(axis=1) instead. To get a de-fragmented frame, use `newframe = frame.copy()`\n",
      "  self.dfJoint = self.df.groupby(self.features).size().reset_index()\n",
      "d:\\tudelft\\test-val-for-ai-project\\.env\\Lib\\site-packages\\aif360\\algorithms\\preprocessing\\optim_preproc_helpers\\opt_tools.py:98: PerformanceWarning: DataFrame is highly fragmented.  This is usually the result of calling `frame.insert` many times, which has poor performance.  Consider joining all columns at once using pd.concat(axis=1) instead. To get a de-fragmented frame, use `newframe = frame.copy()`\n",
      "  self.dfJoint = self.df.groupby(self.features).size().reset_index()\n",
      "d:\\tudelft\\test-val-for-ai-project\\.env\\Lib\\site-packages\\aif360\\algorithms\\preprocessing\\optim_preproc_helpers\\opt_tools.py:98: PerformanceWarning: DataFrame is highly fragmented.  This is usually the result of calling `frame.insert` many times, which has poor performance.  Consider joining all columns at once using pd.concat(axis=1) instead. To get a de-fragmented frame, use `newframe = frame.copy()`\n",
      "  self.dfJoint = self.df.groupby(self.features).size().reset_index()\n",
      "d:\\tudelft\\test-val-for-ai-project\\.env\\Lib\\site-packages\\aif360\\algorithms\\preprocessing\\optim_preproc_helpers\\opt_tools.py:98: PerformanceWarning: DataFrame is highly fragmented.  This is usually the result of calling `frame.insert` many times, which has poor performance.  Consider joining all columns at once using pd.concat(axis=1) instead. To get a de-fragmented frame, use `newframe = frame.copy()`\n",
      "  self.dfJoint = self.df.groupby(self.features).size().reset_index()\n",
      "d:\\tudelft\\test-val-for-ai-project\\.env\\Lib\\site-packages\\aif360\\algorithms\\preprocessing\\optim_preproc_helpers\\opt_tools.py:98: PerformanceWarning: DataFrame is highly fragmented.  This is usually the result of calling `frame.insert` many times, which has poor performance.  Consider joining all columns at once using pd.concat(axis=1) instead. To get a de-fragmented frame, use `newframe = frame.copy()`\n",
      "  self.dfJoint = self.df.groupby(self.features).size().reset_index()\n",
      "d:\\tudelft\\test-val-for-ai-project\\.env\\Lib\\site-packages\\aif360\\algorithms\\preprocessing\\optim_preproc_helpers\\opt_tools.py:98: PerformanceWarning: DataFrame is highly fragmented.  This is usually the result of calling `frame.insert` many times, which has poor performance.  Consider joining all columns at once using pd.concat(axis=1) instead. To get a de-fragmented frame, use `newframe = frame.copy()`\n",
      "  self.dfJoint = self.df.groupby(self.features).size().reset_index()\n",
      "d:\\tudelft\\test-val-for-ai-project\\.env\\Lib\\site-packages\\aif360\\algorithms\\preprocessing\\optim_preproc_helpers\\opt_tools.py:98: PerformanceWarning: DataFrame is highly fragmented.  This is usually the result of calling `frame.insert` many times, which has poor performance.  Consider joining all columns at once using pd.concat(axis=1) instead. To get a de-fragmented frame, use `newframe = frame.copy()`\n",
      "  self.dfJoint = self.df.groupby(self.features).size().reset_index()\n",
      "d:\\tudelft\\test-val-for-ai-project\\.env\\Lib\\site-packages\\aif360\\algorithms\\preprocessing\\optim_preproc_helpers\\opt_tools.py:98: PerformanceWarning: DataFrame is highly fragmented.  This is usually the result of calling `frame.insert` many times, which has poor performance.  Consider joining all columns at once using pd.concat(axis=1) instead. To get a de-fragmented frame, use `newframe = frame.copy()`\n",
      "  self.dfJoint = self.df.groupby(self.features).size().reset_index()\n",
      "d:\\tudelft\\test-val-for-ai-project\\.env\\Lib\\site-packages\\aif360\\algorithms\\preprocessing\\optim_preproc_helpers\\opt_tools.py:98: PerformanceWarning: DataFrame is highly fragmented.  This is usually the result of calling `frame.insert` many times, which has poor performance.  Consider joining all columns at once using pd.concat(axis=1) instead. To get a de-fragmented frame, use `newframe = frame.copy()`\n",
      "  self.dfJoint = self.df.groupby(self.features).size().reset_index()\n",
      "d:\\tudelft\\test-val-for-ai-project\\.env\\Lib\\site-packages\\aif360\\algorithms\\preprocessing\\optim_preproc_helpers\\opt_tools.py:98: PerformanceWarning: DataFrame is highly fragmented.  This is usually the result of calling `frame.insert` many times, which has poor performance.  Consider joining all columns at once using pd.concat(axis=1) instead. To get a de-fragmented frame, use `newframe = frame.copy()`\n",
      "  self.dfJoint = self.df.groupby(self.features).size().reset_index()\n",
      "d:\\tudelft\\test-val-for-ai-project\\.env\\Lib\\site-packages\\aif360\\algorithms\\preprocessing\\optim_preproc_helpers\\opt_tools.py:98: PerformanceWarning: DataFrame is highly fragmented.  This is usually the result of calling `frame.insert` many times, which has poor performance.  Consider joining all columns at once using pd.concat(axis=1) instead. To get a de-fragmented frame, use `newframe = frame.copy()`\n",
      "  self.dfJoint = self.df.groupby(self.features).size().reset_index()\n",
      "d:\\tudelft\\test-val-for-ai-project\\.env\\Lib\\site-packages\\aif360\\algorithms\\preprocessing\\optim_preproc_helpers\\opt_tools.py:98: PerformanceWarning: DataFrame is highly fragmented.  This is usually the result of calling `frame.insert` many times, which has poor performance.  Consider joining all columns at once using pd.concat(axis=1) instead. To get a de-fragmented frame, use `newframe = frame.copy()`\n",
      "  self.dfJoint = self.df.groupby(self.features).size().reset_index()\n",
      "d:\\tudelft\\test-val-for-ai-project\\.env\\Lib\\site-packages\\aif360\\algorithms\\preprocessing\\optim_preproc_helpers\\opt_tools.py:98: PerformanceWarning: DataFrame is highly fragmented.  This is usually the result of calling `frame.insert` many times, which has poor performance.  Consider joining all columns at once using pd.concat(axis=1) instead. To get a de-fragmented frame, use `newframe = frame.copy()`\n",
      "  self.dfJoint = self.df.groupby(self.features).size().reset_index()\n",
      "d:\\tudelft\\test-val-for-ai-project\\.env\\Lib\\site-packages\\aif360\\algorithms\\preprocessing\\optim_preproc_helpers\\opt_tools.py:98: PerformanceWarning: DataFrame is highly fragmented.  This is usually the result of calling `frame.insert` many times, which has poor performance.  Consider joining all columns at once using pd.concat(axis=1) instead. To get a de-fragmented frame, use `newframe = frame.copy()`\n",
      "  self.dfJoint = self.df.groupby(self.features).size().reset_index()\n",
      "d:\\tudelft\\test-val-for-ai-project\\.env\\Lib\\site-packages\\aif360\\algorithms\\preprocessing\\optim_preproc_helpers\\opt_tools.py:98: PerformanceWarning: DataFrame is highly fragmented.  This is usually the result of calling `frame.insert` many times, which has poor performance.  Consider joining all columns at once using pd.concat(axis=1) instead. To get a de-fragmented frame, use `newframe = frame.copy()`\n",
      "  self.dfJoint = self.df.groupby(self.features).size().reset_index()\n",
      "d:\\tudelft\\test-val-for-ai-project\\.env\\Lib\\site-packages\\aif360\\algorithms\\preprocessing\\optim_preproc_helpers\\opt_tools.py:98: PerformanceWarning: DataFrame is highly fragmented.  This is usually the result of calling `frame.insert` many times, which has poor performance.  Consider joining all columns at once using pd.concat(axis=1) instead. To get a de-fragmented frame, use `newframe = frame.copy()`\n",
      "  self.dfJoint = self.df.groupby(self.features).size().reset_index()\n",
      "d:\\tudelft\\test-val-for-ai-project\\.env\\Lib\\site-packages\\aif360\\algorithms\\preprocessing\\optim_preproc_helpers\\opt_tools.py:98: PerformanceWarning: DataFrame is highly fragmented.  This is usually the result of calling `frame.insert` many times, which has poor performance.  Consider joining all columns at once using pd.concat(axis=1) instead. To get a de-fragmented frame, use `newframe = frame.copy()`\n",
      "  self.dfJoint = self.df.groupby(self.features).size().reset_index()\n",
      "d:\\tudelft\\test-val-for-ai-project\\.env\\Lib\\site-packages\\aif360\\algorithms\\preprocessing\\optim_preproc_helpers\\opt_tools.py:98: PerformanceWarning: DataFrame is highly fragmented.  This is usually the result of calling `frame.insert` many times, which has poor performance.  Consider joining all columns at once using pd.concat(axis=1) instead. To get a de-fragmented frame, use `newframe = frame.copy()`\n",
      "  self.dfJoint = self.df.groupby(self.features).size().reset_index()\n",
      "d:\\tudelft\\test-val-for-ai-project\\.env\\Lib\\site-packages\\aif360\\algorithms\\preprocessing\\optim_preproc_helpers\\opt_tools.py:98: PerformanceWarning: DataFrame is highly fragmented.  This is usually the result of calling `frame.insert` many times, which has poor performance.  Consider joining all columns at once using pd.concat(axis=1) instead. To get a de-fragmented frame, use `newframe = frame.copy()`\n",
      "  self.dfJoint = self.df.groupby(self.features).size().reset_index()\n",
      "d:\\tudelft\\test-val-for-ai-project\\.env\\Lib\\site-packages\\aif360\\algorithms\\preprocessing\\optim_preproc_helpers\\opt_tools.py:98: PerformanceWarning: DataFrame is highly fragmented.  This is usually the result of calling `frame.insert` many times, which has poor performance.  Consider joining all columns at once using pd.concat(axis=1) instead. To get a de-fragmented frame, use `newframe = frame.copy()`\n",
      "  self.dfJoint = self.df.groupby(self.features).size().reset_index()\n",
      "d:\\tudelft\\test-val-for-ai-project\\.env\\Lib\\site-packages\\aif360\\algorithms\\preprocessing\\optim_preproc_helpers\\opt_tools.py:98: PerformanceWarning: DataFrame is highly fragmented.  This is usually the result of calling `frame.insert` many times, which has poor performance.  Consider joining all columns at once using pd.concat(axis=1) instead. To get a de-fragmented frame, use `newframe = frame.copy()`\n",
      "  self.dfJoint = self.df.groupby(self.features).size().reset_index()\n",
      "d:\\tudelft\\test-val-for-ai-project\\.env\\Lib\\site-packages\\aif360\\algorithms\\preprocessing\\optim_preproc_helpers\\opt_tools.py:98: PerformanceWarning: DataFrame is highly fragmented.  This is usually the result of calling `frame.insert` many times, which has poor performance.  Consider joining all columns at once using pd.concat(axis=1) instead. To get a de-fragmented frame, use `newframe = frame.copy()`\n",
      "  self.dfJoint = self.df.groupby(self.features).size().reset_index()\n",
      "d:\\tudelft\\test-val-for-ai-project\\.env\\Lib\\site-packages\\aif360\\algorithms\\preprocessing\\optim_preproc_helpers\\opt_tools.py:98: PerformanceWarning: DataFrame is highly fragmented.  This is usually the result of calling `frame.insert` many times, which has poor performance.  Consider joining all columns at once using pd.concat(axis=1) instead. To get a de-fragmented frame, use `newframe = frame.copy()`\n",
      "  self.dfJoint = self.df.groupby(self.features).size().reset_index()\n",
      "d:\\tudelft\\test-val-for-ai-project\\.env\\Lib\\site-packages\\aif360\\algorithms\\preprocessing\\optim_preproc_helpers\\opt_tools.py:98: PerformanceWarning: DataFrame is highly fragmented.  This is usually the result of calling `frame.insert` many times, which has poor performance.  Consider joining all columns at once using pd.concat(axis=1) instead. To get a de-fragmented frame, use `newframe = frame.copy()`\n",
      "  self.dfJoint = self.df.groupby(self.features).size().reset_index()\n",
      "d:\\tudelft\\test-val-for-ai-project\\.env\\Lib\\site-packages\\aif360\\algorithms\\preprocessing\\optim_preproc_helpers\\opt_tools.py:98: PerformanceWarning: DataFrame is highly fragmented.  This is usually the result of calling `frame.insert` many times, which has poor performance.  Consider joining all columns at once using pd.concat(axis=1) instead. To get a de-fragmented frame, use `newframe = frame.copy()`\n",
      "  self.dfJoint = self.df.groupby(self.features).size().reset_index()\n",
      "d:\\tudelft\\test-val-for-ai-project\\.env\\Lib\\site-packages\\aif360\\algorithms\\preprocessing\\optim_preproc_helpers\\opt_tools.py:98: PerformanceWarning: DataFrame is highly fragmented.  This is usually the result of calling `frame.insert` many times, which has poor performance.  Consider joining all columns at once using pd.concat(axis=1) instead. To get a de-fragmented frame, use `newframe = frame.copy()`\n",
      "  self.dfJoint = self.df.groupby(self.features).size().reset_index()\n",
      "d:\\tudelft\\test-val-for-ai-project\\.env\\Lib\\site-packages\\aif360\\algorithms\\preprocessing\\optim_preproc_helpers\\opt_tools.py:98: PerformanceWarning: DataFrame is highly fragmented.  This is usually the result of calling `frame.insert` many times, which has poor performance.  Consider joining all columns at once using pd.concat(axis=1) instead. To get a de-fragmented frame, use `newframe = frame.copy()`\n",
      "  self.dfJoint = self.df.groupby(self.features).size().reset_index()\n",
      "d:\\tudelft\\test-val-for-ai-project\\.env\\Lib\\site-packages\\aif360\\algorithms\\preprocessing\\optim_preproc_helpers\\opt_tools.py:98: PerformanceWarning: DataFrame is highly fragmented.  This is usually the result of calling `frame.insert` many times, which has poor performance.  Consider joining all columns at once using pd.concat(axis=1) instead. To get a de-fragmented frame, use `newframe = frame.copy()`\n",
      "  self.dfJoint = self.df.groupby(self.features).size().reset_index()\n",
      "d:\\tudelft\\test-val-for-ai-project\\.env\\Lib\\site-packages\\aif360\\algorithms\\preprocessing\\optim_preproc_helpers\\opt_tools.py:98: PerformanceWarning: DataFrame is highly fragmented.  This is usually the result of calling `frame.insert` many times, which has poor performance.  Consider joining all columns at once using pd.concat(axis=1) instead. To get a de-fragmented frame, use `newframe = frame.copy()`\n",
      "  self.dfJoint = self.df.groupby(self.features).size().reset_index()\n",
      "d:\\tudelft\\test-val-for-ai-project\\.env\\Lib\\site-packages\\aif360\\algorithms\\preprocessing\\optim_preproc_helpers\\opt_tools.py:98: PerformanceWarning: DataFrame is highly fragmented.  This is usually the result of calling `frame.insert` many times, which has poor performance.  Consider joining all columns at once using pd.concat(axis=1) instead. To get a de-fragmented frame, use `newframe = frame.copy()`\n",
      "  self.dfJoint = self.df.groupby(self.features).size().reset_index()\n",
      "d:\\tudelft\\test-val-for-ai-project\\.env\\Lib\\site-packages\\aif360\\algorithms\\preprocessing\\optim_preproc_helpers\\opt_tools.py:98: PerformanceWarning: DataFrame is highly fragmented.  This is usually the result of calling `frame.insert` many times, which has poor performance.  Consider joining all columns at once using pd.concat(axis=1) instead. To get a de-fragmented frame, use `newframe = frame.copy()`\n",
      "  self.dfJoint = self.df.groupby(self.features).size().reset_index()\n",
      "d:\\tudelft\\test-val-for-ai-project\\.env\\Lib\\site-packages\\aif360\\algorithms\\preprocessing\\optim_preproc_helpers\\opt_tools.py:98: PerformanceWarning: DataFrame is highly fragmented.  This is usually the result of calling `frame.insert` many times, which has poor performance.  Consider joining all columns at once using pd.concat(axis=1) instead. To get a de-fragmented frame, use `newframe = frame.copy()`\n",
      "  self.dfJoint = self.df.groupby(self.features).size().reset_index()\n",
      "d:\\tudelft\\test-val-for-ai-project\\.env\\Lib\\site-packages\\aif360\\algorithms\\preprocessing\\optim_preproc_helpers\\opt_tools.py:98: PerformanceWarning: DataFrame is highly fragmented.  This is usually the result of calling `frame.insert` many times, which has poor performance.  Consider joining all columns at once using pd.concat(axis=1) instead. To get a de-fragmented frame, use `newframe = frame.copy()`\n",
      "  self.dfJoint = self.df.groupby(self.features).size().reset_index()\n",
      "d:\\tudelft\\test-val-for-ai-project\\.env\\Lib\\site-packages\\aif360\\algorithms\\preprocessing\\optim_preproc_helpers\\opt_tools.py:98: PerformanceWarning: DataFrame is highly fragmented.  This is usually the result of calling `frame.insert` many times, which has poor performance.  Consider joining all columns at once using pd.concat(axis=1) instead. To get a de-fragmented frame, use `newframe = frame.copy()`\n",
      "  self.dfJoint = self.df.groupby(self.features).size().reset_index()\n",
      "d:\\tudelft\\test-val-for-ai-project\\.env\\Lib\\site-packages\\aif360\\algorithms\\preprocessing\\optim_preproc_helpers\\opt_tools.py:98: PerformanceWarning: DataFrame is highly fragmented.  This is usually the result of calling `frame.insert` many times, which has poor performance.  Consider joining all columns at once using pd.concat(axis=1) instead. To get a de-fragmented frame, use `newframe = frame.copy()`\n",
      "  self.dfJoint = self.df.groupby(self.features).size().reset_index()\n",
      "d:\\tudelft\\test-val-for-ai-project\\.env\\Lib\\site-packages\\aif360\\algorithms\\preprocessing\\optim_preproc_helpers\\opt_tools.py:98: PerformanceWarning: DataFrame is highly fragmented.  This is usually the result of calling `frame.insert` many times, which has poor performance.  Consider joining all columns at once using pd.concat(axis=1) instead. To get a de-fragmented frame, use `newframe = frame.copy()`\n",
      "  self.dfJoint = self.df.groupby(self.features).size().reset_index()\n",
      "d:\\tudelft\\test-val-for-ai-project\\.env\\Lib\\site-packages\\aif360\\algorithms\\preprocessing\\optim_preproc_helpers\\opt_tools.py:98: PerformanceWarning: DataFrame is highly fragmented.  This is usually the result of calling `frame.insert` many times, which has poor performance.  Consider joining all columns at once using pd.concat(axis=1) instead. To get a de-fragmented frame, use `newframe = frame.copy()`\n",
      "  self.dfJoint = self.df.groupby(self.features).size().reset_index()\n",
      "d:\\tudelft\\test-val-for-ai-project\\.env\\Lib\\site-packages\\aif360\\algorithms\\preprocessing\\optim_preproc_helpers\\opt_tools.py:98: PerformanceWarning: DataFrame is highly fragmented.  This is usually the result of calling `frame.insert` many times, which has poor performance.  Consider joining all columns at once using pd.concat(axis=1) instead. To get a de-fragmented frame, use `newframe = frame.copy()`\n",
      "  self.dfJoint = self.df.groupby(self.features).size().reset_index()\n",
      "d:\\tudelft\\test-val-for-ai-project\\.env\\Lib\\site-packages\\aif360\\algorithms\\preprocessing\\optim_preproc_helpers\\opt_tools.py:98: PerformanceWarning: DataFrame is highly fragmented.  This is usually the result of calling `frame.insert` many times, which has poor performance.  Consider joining all columns at once using pd.concat(axis=1) instead. To get a de-fragmented frame, use `newframe = frame.copy()`\n",
      "  self.dfJoint = self.df.groupby(self.features).size().reset_index()\n",
      "d:\\tudelft\\test-val-for-ai-project\\.env\\Lib\\site-packages\\aif360\\algorithms\\preprocessing\\optim_preproc_helpers\\opt_tools.py:98: PerformanceWarning: DataFrame is highly fragmented.  This is usually the result of calling `frame.insert` many times, which has poor performance.  Consider joining all columns at once using pd.concat(axis=1) instead. To get a de-fragmented frame, use `newframe = frame.copy()`\n",
      "  self.dfJoint = self.df.groupby(self.features).size().reset_index()\n",
      "d:\\tudelft\\test-val-for-ai-project\\.env\\Lib\\site-packages\\aif360\\algorithms\\preprocessing\\optim_preproc_helpers\\opt_tools.py:98: PerformanceWarning: DataFrame is highly fragmented.  This is usually the result of calling `frame.insert` many times, which has poor performance.  Consider joining all columns at once using pd.concat(axis=1) instead. To get a de-fragmented frame, use `newframe = frame.copy()`\n",
      "  self.dfJoint = self.df.groupby(self.features).size().reset_index()\n",
      "d:\\tudelft\\test-val-for-ai-project\\.env\\Lib\\site-packages\\aif360\\algorithms\\preprocessing\\optim_preproc_helpers\\opt_tools.py:98: PerformanceWarning: DataFrame is highly fragmented.  This is usually the result of calling `frame.insert` many times, which has poor performance.  Consider joining all columns at once using pd.concat(axis=1) instead. To get a de-fragmented frame, use `newframe = frame.copy()`\n",
      "  self.dfJoint = self.df.groupby(self.features).size().reset_index()\n",
      "d:\\tudelft\\test-val-for-ai-project\\.env\\Lib\\site-packages\\aif360\\algorithms\\preprocessing\\optim_preproc_helpers\\opt_tools.py:98: PerformanceWarning: DataFrame is highly fragmented.  This is usually the result of calling `frame.insert` many times, which has poor performance.  Consider joining all columns at once using pd.concat(axis=1) instead. To get a de-fragmented frame, use `newframe = frame.copy()`\n",
      "  self.dfJoint = self.df.groupby(self.features).size().reset_index()\n",
      "d:\\tudelft\\test-val-for-ai-project\\.env\\Lib\\site-packages\\aif360\\algorithms\\preprocessing\\optim_preproc_helpers\\opt_tools.py:98: PerformanceWarning: DataFrame is highly fragmented.  This is usually the result of calling `frame.insert` many times, which has poor performance.  Consider joining all columns at once using pd.concat(axis=1) instead. To get a de-fragmented frame, use `newframe = frame.copy()`\n",
      "  self.dfJoint = self.df.groupby(self.features).size().reset_index()\n",
      "d:\\tudelft\\test-val-for-ai-project\\.env\\Lib\\site-packages\\aif360\\algorithms\\preprocessing\\optim_preproc_helpers\\opt_tools.py:98: PerformanceWarning: DataFrame is highly fragmented.  This is usually the result of calling `frame.insert` many times, which has poor performance.  Consider joining all columns at once using pd.concat(axis=1) instead. To get a de-fragmented frame, use `newframe = frame.copy()`\n",
      "  self.dfJoint = self.df.groupby(self.features).size().reset_index()\n",
      "d:\\tudelft\\test-val-for-ai-project\\.env\\Lib\\site-packages\\aif360\\algorithms\\preprocessing\\optim_preproc_helpers\\opt_tools.py:98: PerformanceWarning: DataFrame is highly fragmented.  This is usually the result of calling `frame.insert` many times, which has poor performance.  Consider joining all columns at once using pd.concat(axis=1) instead. To get a de-fragmented frame, use `newframe = frame.copy()`\n",
      "  self.dfJoint = self.df.groupby(self.features).size().reset_index()\n",
      "d:\\tudelft\\test-val-for-ai-project\\.env\\Lib\\site-packages\\aif360\\algorithms\\preprocessing\\optim_preproc_helpers\\opt_tools.py:98: PerformanceWarning: DataFrame is highly fragmented.  This is usually the result of calling `frame.insert` many times, which has poor performance.  Consider joining all columns at once using pd.concat(axis=1) instead. To get a de-fragmented frame, use `newframe = frame.copy()`\n",
      "  self.dfJoint = self.df.groupby(self.features).size().reset_index()\n",
      "d:\\tudelft\\test-val-for-ai-project\\.env\\Lib\\site-packages\\aif360\\algorithms\\preprocessing\\optim_preproc_helpers\\opt_tools.py:98: PerformanceWarning: DataFrame is highly fragmented.  This is usually the result of calling `frame.insert` many times, which has poor performance.  Consider joining all columns at once using pd.concat(axis=1) instead. To get a de-fragmented frame, use `newframe = frame.copy()`\n",
      "  self.dfJoint = self.df.groupby(self.features).size().reset_index()\n",
      "d:\\tudelft\\test-val-for-ai-project\\.env\\Lib\\site-packages\\aif360\\algorithms\\preprocessing\\optim_preproc_helpers\\opt_tools.py:98: PerformanceWarning: DataFrame is highly fragmented.  This is usually the result of calling `frame.insert` many times, which has poor performance.  Consider joining all columns at once using pd.concat(axis=1) instead. To get a de-fragmented frame, use `newframe = frame.copy()`\n",
      "  self.dfJoint = self.df.groupby(self.features).size().reset_index()\n",
      "d:\\tudelft\\test-val-for-ai-project\\.env\\Lib\\site-packages\\aif360\\algorithms\\preprocessing\\optim_preproc_helpers\\opt_tools.py:98: PerformanceWarning: DataFrame is highly fragmented.  This is usually the result of calling `frame.insert` many times, which has poor performance.  Consider joining all columns at once using pd.concat(axis=1) instead. To get a de-fragmented frame, use `newframe = frame.copy()`\n",
      "  self.dfJoint = self.df.groupby(self.features).size().reset_index()\n",
      "d:\\tudelft\\test-val-for-ai-project\\.env\\Lib\\site-packages\\aif360\\algorithms\\preprocessing\\optim_preproc_helpers\\opt_tools.py:98: PerformanceWarning: DataFrame is highly fragmented.  This is usually the result of calling `frame.insert` many times, which has poor performance.  Consider joining all columns at once using pd.concat(axis=1) instead. To get a de-fragmented frame, use `newframe = frame.copy()`\n",
      "  self.dfJoint = self.df.groupby(self.features).size().reset_index()\n",
      "d:\\tudelft\\test-val-for-ai-project\\.env\\Lib\\site-packages\\aif360\\algorithms\\preprocessing\\optim_preproc_helpers\\opt_tools.py:98: PerformanceWarning: DataFrame is highly fragmented.  This is usually the result of calling `frame.insert` many times, which has poor performance.  Consider joining all columns at once using pd.concat(axis=1) instead. To get a de-fragmented frame, use `newframe = frame.copy()`\n",
      "  self.dfJoint = self.df.groupby(self.features).size().reset_index()\n",
      "d:\\tudelft\\test-val-for-ai-project\\.env\\Lib\\site-packages\\aif360\\algorithms\\preprocessing\\optim_preproc_helpers\\opt_tools.py:98: PerformanceWarning: DataFrame is highly fragmented.  This is usually the result of calling `frame.insert` many times, which has poor performance.  Consider joining all columns at once using pd.concat(axis=1) instead. To get a de-fragmented frame, use `newframe = frame.copy()`\n",
      "  self.dfJoint = self.df.groupby(self.features).size().reset_index()\n",
      "d:\\tudelft\\test-val-for-ai-project\\.env\\Lib\\site-packages\\aif360\\algorithms\\preprocessing\\optim_preproc_helpers\\opt_tools.py:98: PerformanceWarning: DataFrame is highly fragmented.  This is usually the result of calling `frame.insert` many times, which has poor performance.  Consider joining all columns at once using pd.concat(axis=1) instead. To get a de-fragmented frame, use `newframe = frame.copy()`\n",
      "  self.dfJoint = self.df.groupby(self.features).size().reset_index()\n",
      "d:\\tudelft\\test-val-for-ai-project\\.env\\Lib\\site-packages\\aif360\\algorithms\\preprocessing\\optim_preproc_helpers\\opt_tools.py:98: PerformanceWarning: DataFrame is highly fragmented.  This is usually the result of calling `frame.insert` many times, which has poor performance.  Consider joining all columns at once using pd.concat(axis=1) instead. To get a de-fragmented frame, use `newframe = frame.copy()`\n",
      "  self.dfJoint = self.df.groupby(self.features).size().reset_index()\n",
      "d:\\tudelft\\test-val-for-ai-project\\.env\\Lib\\site-packages\\aif360\\algorithms\\preprocessing\\optim_preproc_helpers\\opt_tools.py:98: PerformanceWarning: DataFrame is highly fragmented.  This is usually the result of calling `frame.insert` many times, which has poor performance.  Consider joining all columns at once using pd.concat(axis=1) instead. To get a de-fragmented frame, use `newframe = frame.copy()`\n",
      "  self.dfJoint = self.df.groupby(self.features).size().reset_index()\n",
      "d:\\tudelft\\test-val-for-ai-project\\.env\\Lib\\site-packages\\aif360\\algorithms\\preprocessing\\optim_preproc_helpers\\opt_tools.py:98: PerformanceWarning: DataFrame is highly fragmented.  This is usually the result of calling `frame.insert` many times, which has poor performance.  Consider joining all columns at once using pd.concat(axis=1) instead. To get a de-fragmented frame, use `newframe = frame.copy()`\n",
      "  self.dfJoint = self.df.groupby(self.features).size().reset_index()\n",
      "d:\\tudelft\\test-val-for-ai-project\\.env\\Lib\\site-packages\\aif360\\algorithms\\preprocessing\\optim_preproc_helpers\\opt_tools.py:98: PerformanceWarning: DataFrame is highly fragmented.  This is usually the result of calling `frame.insert` many times, which has poor performance.  Consider joining all columns at once using pd.concat(axis=1) instead. To get a de-fragmented frame, use `newframe = frame.copy()`\n",
      "  self.dfJoint = self.df.groupby(self.features).size().reset_index()\n",
      "d:\\tudelft\\test-val-for-ai-project\\.env\\Lib\\site-packages\\aif360\\algorithms\\preprocessing\\optim_preproc_helpers\\opt_tools.py:98: PerformanceWarning: DataFrame is highly fragmented.  This is usually the result of calling `frame.insert` many times, which has poor performance.  Consider joining all columns at once using pd.concat(axis=1) instead. To get a de-fragmented frame, use `newframe = frame.copy()`\n",
      "  self.dfJoint = self.df.groupby(self.features).size().reset_index()\n",
      "d:\\tudelft\\test-val-for-ai-project\\.env\\Lib\\site-packages\\aif360\\algorithms\\preprocessing\\optim_preproc_helpers\\opt_tools.py:98: PerformanceWarning: DataFrame is highly fragmented.  This is usually the result of calling `frame.insert` many times, which has poor performance.  Consider joining all columns at once using pd.concat(axis=1) instead. To get a de-fragmented frame, use `newframe = frame.copy()`\n",
      "  self.dfJoint = self.df.groupby(self.features).size().reset_index()\n",
      "d:\\tudelft\\test-val-for-ai-project\\.env\\Lib\\site-packages\\aif360\\algorithms\\preprocessing\\optim_preproc_helpers\\opt_tools.py:98: PerformanceWarning: DataFrame is highly fragmented.  This is usually the result of calling `frame.insert` many times, which has poor performance.  Consider joining all columns at once using pd.concat(axis=1) instead. To get a de-fragmented frame, use `newframe = frame.copy()`\n",
      "  self.dfJoint = self.df.groupby(self.features).size().reset_index()\n",
      "d:\\tudelft\\test-val-for-ai-project\\.env\\Lib\\site-packages\\aif360\\algorithms\\preprocessing\\optim_preproc_helpers\\opt_tools.py:98: PerformanceWarning: DataFrame is highly fragmented.  This is usually the result of calling `frame.insert` many times, which has poor performance.  Consider joining all columns at once using pd.concat(axis=1) instead. To get a de-fragmented frame, use `newframe = frame.copy()`\n",
      "  self.dfJoint = self.df.groupby(self.features).size().reset_index()\n",
      "d:\\tudelft\\test-val-for-ai-project\\.env\\Lib\\site-packages\\aif360\\algorithms\\preprocessing\\optim_preproc_helpers\\opt_tools.py:98: PerformanceWarning: DataFrame is highly fragmented.  This is usually the result of calling `frame.insert` many times, which has poor performance.  Consider joining all columns at once using pd.concat(axis=1) instead. To get a de-fragmented frame, use `newframe = frame.copy()`\n",
      "  self.dfJoint = self.df.groupby(self.features).size().reset_index()\n",
      "d:\\tudelft\\test-val-for-ai-project\\.env\\Lib\\site-packages\\aif360\\algorithms\\preprocessing\\optim_preproc_helpers\\opt_tools.py:98: PerformanceWarning: DataFrame is highly fragmented.  This is usually the result of calling `frame.insert` many times, which has poor performance.  Consider joining all columns at once using pd.concat(axis=1) instead. To get a de-fragmented frame, use `newframe = frame.copy()`\n",
      "  self.dfJoint = self.df.groupby(self.features).size().reset_index()\n",
      "d:\\tudelft\\test-val-for-ai-project\\.env\\Lib\\site-packages\\aif360\\algorithms\\preprocessing\\optim_preproc_helpers\\opt_tools.py:98: PerformanceWarning: DataFrame is highly fragmented.  This is usually the result of calling `frame.insert` many times, which has poor performance.  Consider joining all columns at once using pd.concat(axis=1) instead. To get a de-fragmented frame, use `newframe = frame.copy()`\n",
      "  self.dfJoint = self.df.groupby(self.features).size().reset_index()\n",
      "d:\\tudelft\\test-val-for-ai-project\\.env\\Lib\\site-packages\\aif360\\algorithms\\preprocessing\\optim_preproc_helpers\\opt_tools.py:98: PerformanceWarning: DataFrame is highly fragmented.  This is usually the result of calling `frame.insert` many times, which has poor performance.  Consider joining all columns at once using pd.concat(axis=1) instead. To get a de-fragmented frame, use `newframe = frame.copy()`\n",
      "  self.dfJoint = self.df.groupby(self.features).size().reset_index()\n",
      "d:\\tudelft\\test-val-for-ai-project\\.env\\Lib\\site-packages\\aif360\\algorithms\\preprocessing\\optim_preproc_helpers\\opt_tools.py:98: PerformanceWarning: DataFrame is highly fragmented.  This is usually the result of calling `frame.insert` many times, which has poor performance.  Consider joining all columns at once using pd.concat(axis=1) instead. To get a de-fragmented frame, use `newframe = frame.copy()`\n",
      "  self.dfJoint = self.df.groupby(self.features).size().reset_index()\n",
      "d:\\tudelft\\test-val-for-ai-project\\.env\\Lib\\site-packages\\aif360\\algorithms\\preprocessing\\optim_preproc_helpers\\opt_tools.py:98: PerformanceWarning: DataFrame is highly fragmented.  This is usually the result of calling `frame.insert` many times, which has poor performance.  Consider joining all columns at once using pd.concat(axis=1) instead. To get a de-fragmented frame, use `newframe = frame.copy()`\n",
      "  self.dfJoint = self.df.groupby(self.features).size().reset_index()\n",
      "d:\\tudelft\\test-val-for-ai-project\\.env\\Lib\\site-packages\\aif360\\algorithms\\preprocessing\\optim_preproc_helpers\\opt_tools.py:98: PerformanceWarning: DataFrame is highly fragmented.  This is usually the result of calling `frame.insert` many times, which has poor performance.  Consider joining all columns at once using pd.concat(axis=1) instead. To get a de-fragmented frame, use `newframe = frame.copy()`\n",
      "  self.dfJoint = self.df.groupby(self.features).size().reset_index()\n",
      "d:\\tudelft\\test-val-for-ai-project\\.env\\Lib\\site-packages\\aif360\\algorithms\\preprocessing\\optim_preproc_helpers\\opt_tools.py:98: PerformanceWarning: DataFrame is highly fragmented.  This is usually the result of calling `frame.insert` many times, which has poor performance.  Consider joining all columns at once using pd.concat(axis=1) instead. To get a de-fragmented frame, use `newframe = frame.copy()`\n",
      "  self.dfJoint = self.df.groupby(self.features).size().reset_index()\n",
      "d:\\tudelft\\test-val-for-ai-project\\.env\\Lib\\site-packages\\aif360\\algorithms\\preprocessing\\optim_preproc_helpers\\opt_tools.py:98: PerformanceWarning: DataFrame is highly fragmented.  This is usually the result of calling `frame.insert` many times, which has poor performance.  Consider joining all columns at once using pd.concat(axis=1) instead. To get a de-fragmented frame, use `newframe = frame.copy()`\n",
      "  self.dfJoint = self.df.groupby(self.features).size().reset_index()\n",
      "d:\\tudelft\\test-val-for-ai-project\\.env\\Lib\\site-packages\\aif360\\algorithms\\preprocessing\\optim_preproc_helpers\\opt_tools.py:98: PerformanceWarning: DataFrame is highly fragmented.  This is usually the result of calling `frame.insert` many times, which has poor performance.  Consider joining all columns at once using pd.concat(axis=1) instead. To get a de-fragmented frame, use `newframe = frame.copy()`\n",
      "  self.dfJoint = self.df.groupby(self.features).size().reset_index()\n",
      "d:\\tudelft\\test-val-for-ai-project\\.env\\Lib\\site-packages\\aif360\\algorithms\\preprocessing\\optim_preproc_helpers\\opt_tools.py:98: PerformanceWarning: DataFrame is highly fragmented.  This is usually the result of calling `frame.insert` many times, which has poor performance.  Consider joining all columns at once using pd.concat(axis=1) instead. To get a de-fragmented frame, use `newframe = frame.copy()`\n",
      "  self.dfJoint = self.df.groupby(self.features).size().reset_index()\n",
      "d:\\tudelft\\test-val-for-ai-project\\.env\\Lib\\site-packages\\aif360\\algorithms\\preprocessing\\optim_preproc_helpers\\opt_tools.py:98: PerformanceWarning: DataFrame is highly fragmented.  This is usually the result of calling `frame.insert` many times, which has poor performance.  Consider joining all columns at once using pd.concat(axis=1) instead. To get a de-fragmented frame, use `newframe = frame.copy()`\n",
      "  self.dfJoint = self.df.groupby(self.features).size().reset_index()\n",
      "d:\\tudelft\\test-val-for-ai-project\\.env\\Lib\\site-packages\\aif360\\algorithms\\preprocessing\\optim_preproc_helpers\\opt_tools.py:98: PerformanceWarning: DataFrame is highly fragmented.  This is usually the result of calling `frame.insert` many times, which has poor performance.  Consider joining all columns at once using pd.concat(axis=1) instead. To get a de-fragmented frame, use `newframe = frame.copy()`\n",
      "  self.dfJoint = self.df.groupby(self.features).size().reset_index()\n",
      "d:\\tudelft\\test-val-for-ai-project\\.env\\Lib\\site-packages\\aif360\\algorithms\\preprocessing\\optim_preproc_helpers\\opt_tools.py:98: PerformanceWarning: DataFrame is highly fragmented.  This is usually the result of calling `frame.insert` many times, which has poor performance.  Consider joining all columns at once using pd.concat(axis=1) instead. To get a de-fragmented frame, use `newframe = frame.copy()`\n",
      "  self.dfJoint = self.df.groupby(self.features).size().reset_index()\n",
      "d:\\tudelft\\test-val-for-ai-project\\.env\\Lib\\site-packages\\aif360\\algorithms\\preprocessing\\optim_preproc_helpers\\opt_tools.py:98: PerformanceWarning: DataFrame is highly fragmented.  This is usually the result of calling `frame.insert` many times, which has poor performance.  Consider joining all columns at once using pd.concat(axis=1) instead. To get a de-fragmented frame, use `newframe = frame.copy()`\n",
      "  self.dfJoint = self.df.groupby(self.features).size().reset_index()\n",
      "d:\\tudelft\\test-val-for-ai-project\\.env\\Lib\\site-packages\\aif360\\algorithms\\preprocessing\\optim_preproc_helpers\\opt_tools.py:98: PerformanceWarning: DataFrame is highly fragmented.  This is usually the result of calling `frame.insert` many times, which has poor performance.  Consider joining all columns at once using pd.concat(axis=1) instead. To get a de-fragmented frame, use `newframe = frame.copy()`\n",
      "  self.dfJoint = self.df.groupby(self.features).size().reset_index()\n",
      "d:\\tudelft\\test-val-for-ai-project\\.env\\Lib\\site-packages\\aif360\\algorithms\\preprocessing\\optim_preproc_helpers\\opt_tools.py:98: PerformanceWarning: DataFrame is highly fragmented.  This is usually the result of calling `frame.insert` many times, which has poor performance.  Consider joining all columns at once using pd.concat(axis=1) instead. To get a de-fragmented frame, use `newframe = frame.copy()`\n",
      "  self.dfJoint = self.df.groupby(self.features).size().reset_index()\n",
      "d:\\tudelft\\test-val-for-ai-project\\.env\\Lib\\site-packages\\aif360\\algorithms\\preprocessing\\optim_preproc_helpers\\opt_tools.py:98: PerformanceWarning: DataFrame is highly fragmented.  This is usually the result of calling `frame.insert` many times, which has poor performance.  Consider joining all columns at once using pd.concat(axis=1) instead. To get a de-fragmented frame, use `newframe = frame.copy()`\n",
      "  self.dfJoint = self.df.groupby(self.features).size().reset_index()\n",
      "d:\\tudelft\\test-val-for-ai-project\\.env\\Lib\\site-packages\\aif360\\algorithms\\preprocessing\\optim_preproc_helpers\\opt_tools.py:98: PerformanceWarning: DataFrame is highly fragmented.  This is usually the result of calling `frame.insert` many times, which has poor performance.  Consider joining all columns at once using pd.concat(axis=1) instead. To get a de-fragmented frame, use `newframe = frame.copy()`\n",
      "  self.dfJoint = self.df.groupby(self.features).size().reset_index()\n",
      "d:\\tudelft\\test-val-for-ai-project\\.env\\Lib\\site-packages\\aif360\\algorithms\\preprocessing\\optim_preproc_helpers\\opt_tools.py:98: PerformanceWarning: DataFrame is highly fragmented.  This is usually the result of calling `frame.insert` many times, which has poor performance.  Consider joining all columns at once using pd.concat(axis=1) instead. To get a de-fragmented frame, use `newframe = frame.copy()`\n",
      "  self.dfJoint = self.df.groupby(self.features).size().reset_index()\n",
      "d:\\tudelft\\test-val-for-ai-project\\.env\\Lib\\site-packages\\aif360\\algorithms\\preprocessing\\optim_preproc_helpers\\opt_tools.py:98: PerformanceWarning: DataFrame is highly fragmented.  This is usually the result of calling `frame.insert` many times, which has poor performance.  Consider joining all columns at once using pd.concat(axis=1) instead. To get a de-fragmented frame, use `newframe = frame.copy()`\n",
      "  self.dfJoint = self.df.groupby(self.features).size().reset_index()\n",
      "d:\\tudelft\\test-val-for-ai-project\\.env\\Lib\\site-packages\\aif360\\algorithms\\preprocessing\\optim_preproc_helpers\\opt_tools.py:98: PerformanceWarning: DataFrame is highly fragmented.  This is usually the result of calling `frame.insert` many times, which has poor performance.  Consider joining all columns at once using pd.concat(axis=1) instead. To get a de-fragmented frame, use `newframe = frame.copy()`\n",
      "  self.dfJoint = self.df.groupby(self.features).size().reset_index()\n",
      "d:\\tudelft\\test-val-for-ai-project\\.env\\Lib\\site-packages\\aif360\\algorithms\\preprocessing\\optim_preproc_helpers\\opt_tools.py:98: PerformanceWarning: DataFrame is highly fragmented.  This is usually the result of calling `frame.insert` many times, which has poor performance.  Consider joining all columns at once using pd.concat(axis=1) instead. To get a de-fragmented frame, use `newframe = frame.copy()`\n",
      "  self.dfJoint = self.df.groupby(self.features).size().reset_index()\n",
      "d:\\tudelft\\test-val-for-ai-project\\.env\\Lib\\site-packages\\aif360\\algorithms\\preprocessing\\optim_preproc_helpers\\opt_tools.py:98: PerformanceWarning: DataFrame is highly fragmented.  This is usually the result of calling `frame.insert` many times, which has poor performance.  Consider joining all columns at once using pd.concat(axis=1) instead. To get a de-fragmented frame, use `newframe = frame.copy()`\n",
      "  self.dfJoint = self.df.groupby(self.features).size().reset_index()\n",
      "d:\\tudelft\\test-val-for-ai-project\\.env\\Lib\\site-packages\\aif360\\algorithms\\preprocessing\\optim_preproc_helpers\\opt_tools.py:98: PerformanceWarning: DataFrame is highly fragmented.  This is usually the result of calling `frame.insert` many times, which has poor performance.  Consider joining all columns at once using pd.concat(axis=1) instead. To get a de-fragmented frame, use `newframe = frame.copy()`\n",
      "  self.dfJoint = self.df.groupby(self.features).size().reset_index()\n",
      "d:\\tudelft\\test-val-for-ai-project\\.env\\Lib\\site-packages\\aif360\\algorithms\\preprocessing\\optim_preproc_helpers\\opt_tools.py:98: PerformanceWarning: DataFrame is highly fragmented.  This is usually the result of calling `frame.insert` many times, which has poor performance.  Consider joining all columns at once using pd.concat(axis=1) instead. To get a de-fragmented frame, use `newframe = frame.copy()`\n",
      "  self.dfJoint = self.df.groupby(self.features).size().reset_index()\n",
      "d:\\tudelft\\test-val-for-ai-project\\.env\\Lib\\site-packages\\aif360\\algorithms\\preprocessing\\optim_preproc_helpers\\opt_tools.py:98: PerformanceWarning: DataFrame is highly fragmented.  This is usually the result of calling `frame.insert` many times, which has poor performance.  Consider joining all columns at once using pd.concat(axis=1) instead. To get a de-fragmented frame, use `newframe = frame.copy()`\n",
      "  self.dfJoint = self.df.groupby(self.features).size().reset_index()\n",
      "d:\\tudelft\\test-val-for-ai-project\\.env\\Lib\\site-packages\\aif360\\algorithms\\preprocessing\\optim_preproc_helpers\\opt_tools.py:98: PerformanceWarning: DataFrame is highly fragmented.  This is usually the result of calling `frame.insert` many times, which has poor performance.  Consider joining all columns at once using pd.concat(axis=1) instead. To get a de-fragmented frame, use `newframe = frame.copy()`\n",
      "  self.dfJoint = self.df.groupby(self.features).size().reset_index()\n",
      "d:\\tudelft\\test-val-for-ai-project\\.env\\Lib\\site-packages\\aif360\\algorithms\\preprocessing\\optim_preproc_helpers\\opt_tools.py:98: PerformanceWarning: DataFrame is highly fragmented.  This is usually the result of calling `frame.insert` many times, which has poor performance.  Consider joining all columns at once using pd.concat(axis=1) instead. To get a de-fragmented frame, use `newframe = frame.copy()`\n",
      "  self.dfJoint = self.df.groupby(self.features).size().reset_index()\n",
      "d:\\tudelft\\test-val-for-ai-project\\.env\\Lib\\site-packages\\aif360\\algorithms\\preprocessing\\optim_preproc_helpers\\opt_tools.py:98: PerformanceWarning: DataFrame is highly fragmented.  This is usually the result of calling `frame.insert` many times, which has poor performance.  Consider joining all columns at once using pd.concat(axis=1) instead. To get a de-fragmented frame, use `newframe = frame.copy()`\n",
      "  self.dfJoint = self.df.groupby(self.features).size().reset_index()\n",
      "d:\\tudelft\\test-val-for-ai-project\\.env\\Lib\\site-packages\\aif360\\algorithms\\preprocessing\\optim_preproc_helpers\\opt_tools.py:98: PerformanceWarning: DataFrame is highly fragmented.  This is usually the result of calling `frame.insert` many times, which has poor performance.  Consider joining all columns at once using pd.concat(axis=1) instead. To get a de-fragmented frame, use `newframe = frame.copy()`\n",
      "  self.dfJoint = self.df.groupby(self.features).size().reset_index()\n",
      "d:\\tudelft\\test-val-for-ai-project\\.env\\Lib\\site-packages\\aif360\\algorithms\\preprocessing\\optim_preproc_helpers\\opt_tools.py:98: PerformanceWarning: DataFrame is highly fragmented.  This is usually the result of calling `frame.insert` many times, which has poor performance.  Consider joining all columns at once using pd.concat(axis=1) instead. To get a de-fragmented frame, use `newframe = frame.copy()`\n",
      "  self.dfJoint = self.df.groupby(self.features).size().reset_index()\n",
      "d:\\tudelft\\test-val-for-ai-project\\.env\\Lib\\site-packages\\aif360\\algorithms\\preprocessing\\optim_preproc_helpers\\opt_tools.py:98: PerformanceWarning: DataFrame is highly fragmented.  This is usually the result of calling `frame.insert` many times, which has poor performance.  Consider joining all columns at once using pd.concat(axis=1) instead. To get a de-fragmented frame, use `newframe = frame.copy()`\n",
      "  self.dfJoint = self.df.groupby(self.features).size().reset_index()\n",
      "d:\\tudelft\\test-val-for-ai-project\\.env\\Lib\\site-packages\\aif360\\algorithms\\preprocessing\\optim_preproc_helpers\\opt_tools.py:98: PerformanceWarning: DataFrame is highly fragmented.  This is usually the result of calling `frame.insert` many times, which has poor performance.  Consider joining all columns at once using pd.concat(axis=1) instead. To get a de-fragmented frame, use `newframe = frame.copy()`\n",
      "  self.dfJoint = self.df.groupby(self.features).size().reset_index()\n",
      "d:\\tudelft\\test-val-for-ai-project\\.env\\Lib\\site-packages\\aif360\\algorithms\\preprocessing\\optim_preproc_helpers\\opt_tools.py:98: PerformanceWarning: DataFrame is highly fragmented.  This is usually the result of calling `frame.insert` many times, which has poor performance.  Consider joining all columns at once using pd.concat(axis=1) instead. To get a de-fragmented frame, use `newframe = frame.copy()`\n",
      "  self.dfJoint = self.df.groupby(self.features).size().reset_index()\n",
      "d:\\tudelft\\test-val-for-ai-project\\.env\\Lib\\site-packages\\aif360\\algorithms\\preprocessing\\optim_preproc_helpers\\opt_tools.py:98: PerformanceWarning: DataFrame is highly fragmented.  This is usually the result of calling `frame.insert` many times, which has poor performance.  Consider joining all columns at once using pd.concat(axis=1) instead. To get a de-fragmented frame, use `newframe = frame.copy()`\n",
      "  self.dfJoint = self.df.groupby(self.features).size().reset_index()\n",
      "d:\\tudelft\\test-val-for-ai-project\\.env\\Lib\\site-packages\\aif360\\algorithms\\preprocessing\\optim_preproc_helpers\\opt_tools.py:98: PerformanceWarning: DataFrame is highly fragmented.  This is usually the result of calling `frame.insert` many times, which has poor performance.  Consider joining all columns at once using pd.concat(axis=1) instead. To get a de-fragmented frame, use `newframe = frame.copy()`\n",
      "  self.dfJoint = self.df.groupby(self.features).size().reset_index()\n",
      "d:\\tudelft\\test-val-for-ai-project\\.env\\Lib\\site-packages\\aif360\\algorithms\\preprocessing\\optim_preproc_helpers\\opt_tools.py:98: PerformanceWarning: DataFrame is highly fragmented.  This is usually the result of calling `frame.insert` many times, which has poor performance.  Consider joining all columns at once using pd.concat(axis=1) instead. To get a de-fragmented frame, use `newframe = frame.copy()`\n",
      "  self.dfJoint = self.df.groupby(self.features).size().reset_index()\n",
      "d:\\tudelft\\test-val-for-ai-project\\.env\\Lib\\site-packages\\aif360\\algorithms\\preprocessing\\optim_preproc_helpers\\opt_tools.py:98: PerformanceWarning: DataFrame is highly fragmented.  This is usually the result of calling `frame.insert` many times, which has poor performance.  Consider joining all columns at once using pd.concat(axis=1) instead. To get a de-fragmented frame, use `newframe = frame.copy()`\n",
      "  self.dfJoint = self.df.groupby(self.features).size().reset_index()\n",
      "d:\\tudelft\\test-val-for-ai-project\\.env\\Lib\\site-packages\\aif360\\algorithms\\preprocessing\\optim_preproc_helpers\\opt_tools.py:98: PerformanceWarning: DataFrame is highly fragmented.  This is usually the result of calling `frame.insert` many times, which has poor performance.  Consider joining all columns at once using pd.concat(axis=1) instead. To get a de-fragmented frame, use `newframe = frame.copy()`\n",
      "  self.dfJoint = self.df.groupby(self.features).size().reset_index()\n",
      "d:\\tudelft\\test-val-for-ai-project\\.env\\Lib\\site-packages\\aif360\\algorithms\\preprocessing\\optim_preproc_helpers\\opt_tools.py:98: PerformanceWarning: DataFrame is highly fragmented.  This is usually the result of calling `frame.insert` many times, which has poor performance.  Consider joining all columns at once using pd.concat(axis=1) instead. To get a de-fragmented frame, use `newframe = frame.copy()`\n",
      "  self.dfJoint = self.df.groupby(self.features).size().reset_index()\n",
      "d:\\tudelft\\test-val-for-ai-project\\.env\\Lib\\site-packages\\aif360\\algorithms\\preprocessing\\optim_preproc_helpers\\opt_tools.py:98: PerformanceWarning: DataFrame is highly fragmented.  This is usually the result of calling `frame.insert` many times, which has poor performance.  Consider joining all columns at once using pd.concat(axis=1) instead. To get a de-fragmented frame, use `newframe = frame.copy()`\n",
      "  self.dfJoint = self.df.groupby(self.features).size().reset_index()\n",
      "d:\\tudelft\\test-val-for-ai-project\\.env\\Lib\\site-packages\\aif360\\algorithms\\preprocessing\\optim_preproc_helpers\\opt_tools.py:98: PerformanceWarning: DataFrame is highly fragmented.  This is usually the result of calling `frame.insert` many times, which has poor performance.  Consider joining all columns at once using pd.concat(axis=1) instead. To get a de-fragmented frame, use `newframe = frame.copy()`\n",
      "  self.dfJoint = self.df.groupby(self.features).size().reset_index()\n",
      "d:\\tudelft\\test-val-for-ai-project\\.env\\Lib\\site-packages\\aif360\\algorithms\\preprocessing\\optim_preproc_helpers\\opt_tools.py:98: PerformanceWarning: DataFrame is highly fragmented.  This is usually the result of calling `frame.insert` many times, which has poor performance.  Consider joining all columns at once using pd.concat(axis=1) instead. To get a de-fragmented frame, use `newframe = frame.copy()`\n",
      "  self.dfJoint = self.df.groupby(self.features).size().reset_index()\n",
      "d:\\tudelft\\test-val-for-ai-project\\.env\\Lib\\site-packages\\aif360\\algorithms\\preprocessing\\optim_preproc_helpers\\opt_tools.py:98: PerformanceWarning: DataFrame is highly fragmented.  This is usually the result of calling `frame.insert` many times, which has poor performance.  Consider joining all columns at once using pd.concat(axis=1) instead. To get a de-fragmented frame, use `newframe = frame.copy()`\n",
      "  self.dfJoint = self.df.groupby(self.features).size().reset_index()\n",
      "d:\\tudelft\\test-val-for-ai-project\\.env\\Lib\\site-packages\\aif360\\algorithms\\preprocessing\\optim_preproc_helpers\\opt_tools.py:98: PerformanceWarning: DataFrame is highly fragmented.  This is usually the result of calling `frame.insert` many times, which has poor performance.  Consider joining all columns at once using pd.concat(axis=1) instead. To get a de-fragmented frame, use `newframe = frame.copy()`\n",
      "  self.dfJoint = self.df.groupby(self.features).size().reset_index()\n",
      "d:\\tudelft\\test-val-for-ai-project\\.env\\Lib\\site-packages\\aif360\\algorithms\\preprocessing\\optim_preproc_helpers\\opt_tools.py:100: PerformanceWarning: DataFrame is highly fragmented.  This is usually the result of calling `frame.insert` many times, which has poor performance.  Consider joining all columns at once using pd.concat(axis=1) instead. To get a de-fragmented frame, use `newframe = frame.copy()`\n",
      "  self.dfJoint['Frequency'] = self.dfJoint['Count'].apply(\n"
     ]
    },
    {
     "ename": "ValueError",
     "evalue": "Product space too large to allocate arrays!",
     "output_type": "error",
     "traceback": [
      "\u001b[1;31m---------------------------------------------------------------------------\u001b[0m",
      "\u001b[1;31mValueError\u001b[0m                                Traceback (most recent call last)",
      "Cell \u001b[1;32mIn[74], line 7\u001b[0m\n\u001b[0;32m      1\u001b[0m optim_options \u001b[38;5;241m=\u001b[39m {\n\u001b[0;32m      2\u001b[0m \u001b[38;5;124m\"\u001b[39m\u001b[38;5;124mepsilon\u001b[39m\u001b[38;5;124m\"\u001b[39m: \u001b[38;5;241m0.05\u001b[39m,\n\u001b[0;32m      3\u001b[0m \u001b[38;5;124m\"\u001b[39m\u001b[38;5;124mclist\u001b[39m\u001b[38;5;124m\"\u001b[39m: [\u001b[38;5;241m0.99\u001b[39m, \u001b[38;5;241m1.99\u001b[39m, \u001b[38;5;241m2.99\u001b[39m],\n\u001b[0;32m      4\u001b[0m \u001b[38;5;124m\"\u001b[39m\u001b[38;5;124mdlist\u001b[39m\u001b[38;5;124m\"\u001b[39m: [\u001b[38;5;241m.1\u001b[39m, \u001b[38;5;241m0.05\u001b[39m, \u001b[38;5;241m0\u001b[39m]\n\u001b[0;32m      5\u001b[0m }\n\u001b[0;32m      6\u001b[0m OP \u001b[38;5;241m=\u001b[39m OptimPreproc(OptTools, optim_options)\n\u001b[1;32m----> 7\u001b[0m OP \u001b[38;5;241m=\u001b[39m \u001b[43mOP\u001b[49m\u001b[38;5;241;43m.\u001b[39;49m\u001b[43mfit\u001b[49m\u001b[43m(\u001b[49m\u001b[43mdataset_orig_train\u001b[49m\u001b[43m)\u001b[49m\n\u001b[0;32m      8\u001b[0m dataset_transf_train \u001b[38;5;241m=\u001b[39m OP\u001b[38;5;241m.\u001b[39mtransform(dataset_orig_train,  transform_Y\u001b[38;5;241m=\u001b[39m\u001b[38;5;28;01mTrue\u001b[39;00m)\n\u001b[0;32m      9\u001b[0m dataset_transf_train \u001b[38;5;241m=\u001b[39m dataset_orig_train\u001b[38;5;241m.\u001b[39malign_datasets(dataset_transf_train)\n",
      "File \u001b[1;32md:\\tudelft\\test-val-for-ai-project\\.env\\Lib\\site-packages\\aif360\\algorithms\\transformer.py:27\u001b[0m, in \u001b[0;36maddmetadata.<locals>.wrapper\u001b[1;34m(self, *args, **kwargs)\u001b[0m\n\u001b[0;32m     25\u001b[0m \u001b[38;5;129m@wraps\u001b[39m(func)\n\u001b[0;32m     26\u001b[0m \u001b[38;5;28;01mdef\u001b[39;00m \u001b[38;5;21mwrapper\u001b[39m(\u001b[38;5;28mself\u001b[39m, \u001b[38;5;241m*\u001b[39margs, \u001b[38;5;241m*\u001b[39m\u001b[38;5;241m*\u001b[39mkwargs):\n\u001b[1;32m---> 27\u001b[0m     new_dataset \u001b[38;5;241m=\u001b[39m \u001b[43mfunc\u001b[49m\u001b[43m(\u001b[49m\u001b[38;5;28;43mself\u001b[39;49m\u001b[43m,\u001b[49m\u001b[43m \u001b[49m\u001b[38;5;241;43m*\u001b[39;49m\u001b[43margs\u001b[49m\u001b[43m,\u001b[49m\u001b[43m \u001b[49m\u001b[38;5;241;43m*\u001b[39;49m\u001b[38;5;241;43m*\u001b[39;49m\u001b[43mkwargs\u001b[49m\u001b[43m)\u001b[49m\n\u001b[0;32m     28\u001b[0m     \u001b[38;5;28;01mif\u001b[39;00m \u001b[38;5;28misinstance\u001b[39m(new_dataset, Dataset):\n\u001b[0;32m     29\u001b[0m         new_dataset\u001b[38;5;241m.\u001b[39mmetadata \u001b[38;5;241m=\u001b[39m new_dataset\u001b[38;5;241m.\u001b[39mmetadata\u001b[38;5;241m.\u001b[39mcopy()\n",
      "File \u001b[1;32md:\\tudelft\\test-val-for-ai-project\\.env\\Lib\\site-packages\\aif360\\algorithms\\preprocessing\\optim_preproc.py:110\u001b[0m, in \u001b[0;36mOptimPreproc.fit\u001b[1;34m(self, dataset, sep)\u001b[0m\n\u001b[0;32m    107\u001b[0m \u001b[38;5;28mself\u001b[39m\u001b[38;5;241m.\u001b[39mOpT \u001b[38;5;241m=\u001b[39m \u001b[38;5;28mself\u001b[39m\u001b[38;5;241m.\u001b[39moptimizer(df\u001b[38;5;241m=\u001b[39mdf, features\u001b[38;5;241m=\u001b[39m\u001b[38;5;28mself\u001b[39m\u001b[38;5;241m.\u001b[39mfeature_names)\n\u001b[0;32m    109\u001b[0m \u001b[38;5;66;03m# Set features\u001b[39;00m\n\u001b[1;32m--> 110\u001b[0m \u001b[38;5;28;43mself\u001b[39;49m\u001b[38;5;241;43m.\u001b[39;49m\u001b[43mOpT\u001b[49m\u001b[38;5;241;43m.\u001b[39;49m\u001b[43mset_features\u001b[49m\u001b[43m(\u001b[49m\u001b[43mD\u001b[49m\u001b[38;5;241;43m=\u001b[39;49m\u001b[38;5;28;43mself\u001b[39;49m\u001b[38;5;241;43m.\u001b[39;49m\u001b[43mprotected_attribute_names\u001b[49m\u001b[43m,\u001b[49m\n\u001b[0;32m    111\u001b[0m \u001b[43m                      \u001b[49m\u001b[43mX\u001b[49m\u001b[38;5;241;43m=\u001b[39;49m\u001b[38;5;28;43mself\u001b[39;49m\u001b[38;5;241;43m.\u001b[39;49m\u001b[43mX_feature_names\u001b[49m\u001b[43m,\u001b[49m\n\u001b[0;32m    112\u001b[0m \u001b[43m                      \u001b[49m\u001b[43mY\u001b[49m\u001b[38;5;241;43m=\u001b[39;49m\u001b[38;5;28;43mself\u001b[39;49m\u001b[38;5;241;43m.\u001b[39;49m\u001b[43mY_feature_names\u001b[49m\u001b[43m)\u001b[49m\n\u001b[0;32m    114\u001b[0m \u001b[38;5;66;03m# Set Distortion\u001b[39;00m\n\u001b[0;32m    115\u001b[0m \u001b[38;5;28mself\u001b[39m\u001b[38;5;241m.\u001b[39mOpT\u001b[38;5;241m.\u001b[39mset_distortion(\u001b[38;5;28mself\u001b[39m\u001b[38;5;241m.\u001b[39moptim_options[\u001b[38;5;124m'\u001b[39m\u001b[38;5;124mdistortion_fun\u001b[39m\u001b[38;5;124m'\u001b[39m],\n\u001b[0;32m    116\u001b[0m                         clist\u001b[38;5;241m=\u001b[39m\u001b[38;5;28mself\u001b[39m\u001b[38;5;241m.\u001b[39moptim_options[\u001b[38;5;124m'\u001b[39m\u001b[38;5;124mclist\u001b[39m\u001b[38;5;124m'\u001b[39m])\n",
      "File \u001b[1;32md:\\tudelft\\test-val-for-ai-project\\.env\\Lib\\site-packages\\aif360\\algorithms\\preprocessing\\optim_preproc_helpers\\opt_tools.py:172\u001b[0m, in \u001b[0;36mOptTools.set_features\u001b[1;34m(self, D, X, Y)\u001b[0m\n\u001b[0;32m    170\u001b[0m \u001b[38;5;28mself\u001b[39m\u001b[38;5;241m.\u001b[39mDXY_features \u001b[38;5;241m=\u001b[39m \u001b[38;5;28mself\u001b[39m\u001b[38;5;241m.\u001b[39mD_features\u001b[38;5;241m+\u001b[39m\u001b[38;5;28mself\u001b[39m\u001b[38;5;241m.\u001b[39mX_features\u001b[38;5;241m+\u001b[39m\u001b[38;5;28mself\u001b[39m\u001b[38;5;241m.\u001b[39mY_features\n\u001b[0;32m    171\u001b[0m \u001b[38;5;28mself\u001b[39m\u001b[38;5;241m.\u001b[39mDXY_values \u001b[38;5;241m=\u001b[39m \u001b[38;5;28mself\u001b[39m\u001b[38;5;241m.\u001b[39mD_values\u001b[38;5;241m+\u001b[39m\u001b[38;5;28mself\u001b[39m\u001b[38;5;241m.\u001b[39mX_values\u001b[38;5;241m+\u001b[39m\u001b[38;5;28mself\u001b[39m\u001b[38;5;241m.\u001b[39mY_values\n\u001b[1;32m--> 172\u001b[0m \u001b[38;5;28mself\u001b[39m\u001b[38;5;241m.\u001b[39mDXY_index \u001b[38;5;241m=\u001b[39m \u001b[43mpd\u001b[49m\u001b[38;5;241;43m.\u001b[39;49m\u001b[43mMultiIndex\u001b[49m\u001b[38;5;241;43m.\u001b[39;49m\u001b[43mfrom_product\u001b[49m\u001b[43m(\u001b[49m\u001b[38;5;28;43mself\u001b[39;49m\u001b[38;5;241;43m.\u001b[39;49m\u001b[43mDXY_values\u001b[49m\u001b[43m,\u001b[49m\n\u001b[0;32m    173\u001b[0m \u001b[43m                                            \u001b[49m\u001b[43mnames\u001b[49m\u001b[38;5;241;43m=\u001b[39;49m\u001b[38;5;28;43mself\u001b[39;49m\u001b[38;5;241;43m.\u001b[39;49m\u001b[43mDXY_features\u001b[49m\u001b[43m)\u001b[49m\n\u001b[0;32m    175\u001b[0m \u001b[38;5;66;03m# Create multindex for distortion dataframe\u001b[39;00m\n\u001b[0;32m    176\u001b[0m \u001b[38;5;28mself\u001b[39m\u001b[38;5;241m.\u001b[39mXY_features \u001b[38;5;241m=\u001b[39m \u001b[38;5;28mself\u001b[39m\u001b[38;5;241m.\u001b[39mX_features\u001b[38;5;241m+\u001b[39m\u001b[38;5;28mself\u001b[39m\u001b[38;5;241m.\u001b[39mY_features\n",
      "File \u001b[1;32md:\\tudelft\\test-val-for-ai-project\\.env\\Lib\\site-packages\\pandas\\core\\indexes\\multi.py:684\u001b[0m, in \u001b[0;36mMultiIndex.from_product\u001b[1;34m(cls, iterables, sortorder, names)\u001b[0m\n\u001b[0;32m    681\u001b[0m     names \u001b[38;5;241m=\u001b[39m [\u001b[38;5;28mgetattr\u001b[39m(it, \u001b[38;5;124m\"\u001b[39m\u001b[38;5;124mname\u001b[39m\u001b[38;5;124m\"\u001b[39m, \u001b[38;5;28;01mNone\u001b[39;00m) \u001b[38;5;28;01mfor\u001b[39;00m it \u001b[38;5;129;01min\u001b[39;00m iterables]\n\u001b[0;32m    683\u001b[0m \u001b[38;5;66;03m# codes are all ndarrays, so cartesian_product is lossless\u001b[39;00m\n\u001b[1;32m--> 684\u001b[0m codes \u001b[38;5;241m=\u001b[39m \u001b[43mcartesian_product\u001b[49m\u001b[43m(\u001b[49m\u001b[43mcodes\u001b[49m\u001b[43m)\u001b[49m\n\u001b[0;32m    685\u001b[0m \u001b[38;5;28;01mreturn\u001b[39;00m \u001b[38;5;28mcls\u001b[39m(levels, codes, sortorder\u001b[38;5;241m=\u001b[39msortorder, names\u001b[38;5;241m=\u001b[39mnames)\n",
      "File \u001b[1;32md:\\tudelft\\test-val-for-ai-project\\.env\\Lib\\site-packages\\pandas\\core\\reshape\\util.py:50\u001b[0m, in \u001b[0;36mcartesian_product\u001b[1;34m(X)\u001b[0m\n\u001b[0;32m     47\u001b[0m cumprodX \u001b[38;5;241m=\u001b[39m np\u001b[38;5;241m.\u001b[39mcumprod(lenX)\n\u001b[0;32m     49\u001b[0m \u001b[38;5;28;01mif\u001b[39;00m np\u001b[38;5;241m.\u001b[39many(cumprodX \u001b[38;5;241m<\u001b[39m \u001b[38;5;241m0\u001b[39m):\n\u001b[1;32m---> 50\u001b[0m     \u001b[38;5;28;01mraise\u001b[39;00m \u001b[38;5;167;01mValueError\u001b[39;00m(\u001b[38;5;124m\"\u001b[39m\u001b[38;5;124mProduct space too large to allocate arrays!\u001b[39m\u001b[38;5;124m\"\u001b[39m)\n\u001b[0;32m     52\u001b[0m a \u001b[38;5;241m=\u001b[39m np\u001b[38;5;241m.\u001b[39mroll(cumprodX, \u001b[38;5;241m1\u001b[39m)\n\u001b[0;32m     53\u001b[0m a[\u001b[38;5;241m0\u001b[39m] \u001b[38;5;241m=\u001b[39m \u001b[38;5;241m1\u001b[39m\n",
      "\u001b[1;31mValueError\u001b[0m: Product space too large to allocate arrays!"
     ]
    }
   ],
   "source": [
    "optim_options = {\n",
    "\"epsilon\": 0.05,\n",
    "\"clist\": [0.99, 1.99, 2.99],\n",
    "\"dlist\": [.1, 0.05, 0]\n",
    "}\n",
    "OP = OptimPreproc(OptTools, optim_options)\n",
    "OP = OP.fit(dataset_orig_train)\n",
    "dataset_transf_train = OP.transform(dataset_orig_train,  transform_Y=True)\n",
    "dataset_transf_train = dataset_orig_train.align_datasets(dataset_transf_train)"
   ]
  },
  {
   "cell_type": "code",
   "execution_count": null,
   "metadata": {},
   "outputs": [
    {
     "ename": "ValueError",
     "evalue": "Only one unprivileged_group or privileged_group supported.",
     "output_type": "error",
     "traceback": [
      "\u001b[1;31m---------------------------------------------------------------------------\u001b[0m",
      "\u001b[1;31mValueError\u001b[0m                                Traceback (most recent call last)",
      "Cell \u001b[1;32mIn[47], line 8\u001b[0m\n\u001b[0;32m      5\u001b[0m privileged_groups \u001b[38;5;241m=\u001b[39m [{\u001b[38;5;124m'\u001b[39m\u001b[38;5;124mpersoon_geslacht_vrouw\u001b[39m\u001b[38;5;124m'\u001b[39m: \u001b[38;5;241m0.0\u001b[39m}, {\u001b[38;5;124m'\u001b[39m\u001b[38;5;124mtypering_ind\u001b[39m\u001b[38;5;124m'\u001b[39m: \u001b[38;5;241m0.0\u001b[39m}]\n\u001b[0;32m      6\u001b[0m unprivileged_groups \u001b[38;5;241m=\u001b[39m [{\u001b[38;5;124m'\u001b[39m\u001b[38;5;124mpersoon_geslacht_vrouw\u001b[39m\u001b[38;5;124m'\u001b[39m: \u001b[38;5;241m1.0\u001b[39m}, {\u001b[38;5;124m'\u001b[39m\u001b[38;5;124mtypering_ind\u001b[39m\u001b[38;5;124m'\u001b[39m: \u001b[38;5;241m1.0\u001b[39m}]\n\u001b[1;32m----> 8\u001b[0m TR \u001b[38;5;241m=\u001b[39m \u001b[43mLFR\u001b[49m\u001b[43m(\u001b[49m\u001b[43munprivileged_groups\u001b[49m\u001b[38;5;241;43m=\u001b[39;49m\u001b[43munprivileged_groups\u001b[49m\u001b[43m,\u001b[49m\n\u001b[0;32m      9\u001b[0m \u001b[43m         \u001b[49m\u001b[43mprivileged_groups\u001b[49m\u001b[38;5;241;43m=\u001b[39;49m\u001b[43mprivileged_groups\u001b[49m\u001b[43m,\u001b[49m\n\u001b[0;32m     10\u001b[0m \u001b[43m         \u001b[49m\u001b[43mk\u001b[49m\u001b[38;5;241;43m=\u001b[39;49m\u001b[38;5;241;43m10\u001b[39;49m\u001b[43m,\u001b[49m\u001b[43m \u001b[49m\u001b[43mAx\u001b[49m\u001b[38;5;241;43m=\u001b[39;49m\u001b[38;5;241;43m0.1\u001b[39;49m\u001b[43m,\u001b[49m\u001b[43m \u001b[49m\u001b[43mAy\u001b[49m\u001b[38;5;241;43m=\u001b[39;49m\u001b[38;5;241;43m1.0\u001b[39;49m\u001b[43m,\u001b[49m\u001b[43m \u001b[49m\u001b[43mAz\u001b[49m\u001b[38;5;241;43m=\u001b[39;49m\u001b[38;5;241;43m2.0\u001b[39;49m\u001b[43m,\u001b[49m\n\u001b[0;32m     11\u001b[0m \u001b[43m         \u001b[49m\u001b[43mverbose\u001b[49m\u001b[38;5;241;43m=\u001b[39;49m\u001b[38;5;241;43m1\u001b[39;49m\n\u001b[0;32m     12\u001b[0m \u001b[43m        \u001b[49m\u001b[43m)\u001b[49m\n\u001b[0;32m     13\u001b[0m TR \u001b[38;5;241m=\u001b[39m TR\u001b[38;5;241m.\u001b[39mfit(dataset_orig_train, maxiter\u001b[38;5;241m=\u001b[39m\u001b[38;5;241m5000\u001b[39m, maxfun\u001b[38;5;241m=\u001b[39m\u001b[38;5;241m5000\u001b[39m)\n",
      "File \u001b[1;32md:\\tudelft\\test-val-for-ai-project\\.env\\Lib\\site-packages\\aif360\\algorithms\\preprocessing\\lfr.py:52\u001b[0m, in \u001b[0;36mLFR.__init__\u001b[1;34m(self, unprivileged_groups, privileged_groups, k, Ax, Ay, Az, print_interval, verbose, seed)\u001b[0m\n\u001b[0;32m     50\u001b[0m \u001b[38;5;28mself\u001b[39m\u001b[38;5;241m.\u001b[39mprivileged_groups \u001b[38;5;241m=\u001b[39m privileged_groups\n\u001b[0;32m     51\u001b[0m \u001b[38;5;28;01mif\u001b[39;00m \u001b[38;5;28mlen\u001b[39m(\u001b[38;5;28mself\u001b[39m\u001b[38;5;241m.\u001b[39munprivileged_groups) \u001b[38;5;241m>\u001b[39m \u001b[38;5;241m1\u001b[39m \u001b[38;5;129;01mor\u001b[39;00m \u001b[38;5;28mlen\u001b[39m(\u001b[38;5;28mself\u001b[39m\u001b[38;5;241m.\u001b[39mprivileged_groups) \u001b[38;5;241m>\u001b[39m \u001b[38;5;241m1\u001b[39m:\n\u001b[1;32m---> 52\u001b[0m     \u001b[38;5;28;01mraise\u001b[39;00m \u001b[38;5;167;01mValueError\u001b[39;00m(\u001b[38;5;124m\"\u001b[39m\u001b[38;5;124mOnly one unprivileged_group or privileged_group supported.\u001b[39m\u001b[38;5;124m\"\u001b[39m)\n\u001b[0;32m     53\u001b[0m \u001b[38;5;28mself\u001b[39m\u001b[38;5;241m.\u001b[39mprotected_attribute_name \u001b[38;5;241m=\u001b[39m \u001b[38;5;28mlist\u001b[39m(\u001b[38;5;28mself\u001b[39m\u001b[38;5;241m.\u001b[39munprivileged_groups[\u001b[38;5;241m0\u001b[39m]\u001b[38;5;241m.\u001b[39mkeys())[\u001b[38;5;241m0\u001b[39m]\n\u001b[0;32m     54\u001b[0m \u001b[38;5;28mself\u001b[39m\u001b[38;5;241m.\u001b[39munprivileged_group_protected_attribute_value \u001b[38;5;241m=\u001b[39m \u001b[38;5;28mself\u001b[39m\u001b[38;5;241m.\u001b[39munprivileged_groups[\u001b[38;5;241m0\u001b[39m][\u001b[38;5;28mself\u001b[39m\u001b[38;5;241m.\u001b[39mprotected_attribute_name]\n",
      "\u001b[1;31mValueError\u001b[0m: Only one unprivileged_group or privileged_group supported."
     ]
    }
   ],
   "source": [
    "# Input recontruction quality - Ax\n",
    "# Fairness constraint - Az\n",
    "# Output prediction error - Ay\n",
    "\n",
    "privileged_groups = [{'persoon_geslacht_vrouw': 0.0}, {'typering_ind': 0.0}]\n",
    "unprivileged_groups = [{'persoon_geslacht_vrouw': 1.0}, {'typering_ind': 1.0}]\n",
    "    \n",
    "TR = LFR(unprivileged_groups=unprivileged_groups,\n",
    "         privileged_groups=privileged_groups,\n",
    "         k=10, Ax=0.1, Ay=1.0, Az=2.0,\n",
    "         verbose=1\n",
    "        )\n",
    "TR = TR.fit(dataset_orig_train, maxiter=5000, maxfun=5000)"
   ]
  },
  {
   "cell_type": "code",
   "execution_count": null,
   "metadata": {},
   "outputs": [],
   "source": [
    "# Transform training data and align features\n",
    "dataset_transf_train = TR.transform(dataset_orig_train)\n",
    "dataset_transf_test = TR.transform(dataset_orig_test)"
   ]
  },
  {
   "cell_type": "code",
   "execution_count": null,
   "metadata": {},
   "outputs": [
    {
     "name": "stdout",
     "output_type": "stream",
     "text": [
      "              precision    recall  f1-score   support\n",
      "\n",
      "         0.0       0.90      1.00      0.95      3410\n",
      "         1.0       0.00      0.00      0.00       384\n",
      "\n",
      "    accuracy                           0.90      3794\n",
      "   macro avg       0.45      0.50      0.47      3794\n",
      "weighted avg       0.81      0.90      0.85      3794\n",
      "\n"
     ]
    },
    {
     "name": "stderr",
     "output_type": "stream",
     "text": [
      "d:\\tudelft\\test-val-for-ai-project\\.env\\Lib\\site-packages\\sklearn\\metrics\\_classification.py:1509: UndefinedMetricWarning: Precision is ill-defined and being set to 0.0 in labels with no predicted samples. Use `zero_division` parameter to control this behavior.\n",
      "  _warn_prf(average, modifier, f\"{metric.capitalize()} is\", len(result))\n",
      "d:\\tudelft\\test-val-for-ai-project\\.env\\Lib\\site-packages\\sklearn\\metrics\\_classification.py:1509: UndefinedMetricWarning: Precision is ill-defined and being set to 0.0 in labels with no predicted samples. Use `zero_division` parameter to control this behavior.\n",
      "  _warn_prf(average, modifier, f\"{metric.capitalize()} is\", len(result))\n",
      "d:\\tudelft\\test-val-for-ai-project\\.env\\Lib\\site-packages\\sklearn\\metrics\\_classification.py:1509: UndefinedMetricWarning: Precision is ill-defined and being set to 0.0 in labels with no predicted samples. Use `zero_division` parameter to control this behavior.\n",
      "  _warn_prf(average, modifier, f\"{metric.capitalize()} is\", len(result))\n"
     ]
    }
   ],
   "source": [
    "print(classification_report(dataset_orig_test.labels, dataset_transf_test.labels))"
   ]
  },
  {
   "cell_type": "code",
   "execution_count": null,
   "metadata": {},
   "outputs": [
    {
     "data": {
      "text/markdown": [
       "#### Transformed training dataset"
      ],
      "text/plain": [
       "<IPython.core.display.Markdown object>"
      ]
     },
     "metadata": {},
     "output_type": "display_data"
    },
    {
     "name": "stdout",
     "output_type": "stream",
     "text": [
      "Difference in mean outcomes between unprivileged and privileged groups = 0.000000\n"
     ]
    },
    {
     "data": {
      "text/markdown": [
       "#### Transformed test dataset"
      ],
      "text/plain": [
       "<IPython.core.display.Markdown object>"
      ]
     },
     "metadata": {},
     "output_type": "display_data"
    },
    {
     "name": "stdout",
     "output_type": "stream",
     "text": [
      "Difference in mean outcomes between unprivileged and privileged groups = 0.000000\n"
     ]
    }
   ],
   "source": [
    "metric_transf_train = BinaryLabelDatasetMetric(dataset_transf_train, \n",
    "                                             unprivileged_groups=unprivileged_groups,\n",
    "                                             privileged_groups=privileged_groups)\n",
    "display(Markdown(\"#### Transformed training dataset\"))\n",
    "print(\"Difference in mean outcomes between unprivileged and privileged groups = %f\" % metric_transf_train.mean_difference())\n",
    "metric_transf_test = BinaryLabelDatasetMetric(dataset_transf_test, \n",
    "                                             unprivileged_groups=unprivileged_groups,\n",
    "                                             privileged_groups=privileged_groups)\n",
    "display(Markdown(\"#### Transformed test dataset\"))\n",
    "print(\"Difference in mean outcomes between unprivileged and privileged groups = %f\" % metric_transf_test.mean_difference())\n"
   ]
  },
  {
   "cell_type": "code",
   "execution_count": null,
   "metadata": {},
   "outputs": [
    {
     "data": {
      "text/markdown": [
       "#### Predictions from transformed testing data"
      ],
      "text/plain": [
       "<IPython.core.display.Markdown object>"
      ]
     },
     "metadata": {},
     "output_type": "display_data"
    },
    {
     "name": "stderr",
     "output_type": "stream",
     "text": [
      "d:\\tudelft\\test-val-for-ai-project\\.env\\Lib\\site-packages\\aif360\\metrics\\dataset_metric.py:82: RuntimeWarning: divide by zero encountered in scalar divide\n",
      "  return metric_fun(privileged=False) / metric_fun(privileged=True)\n",
      "d:\\tudelft\\test-val-for-ai-project\\.env\\Lib\\site-packages\\aif360\\metrics\\dataset_metric.py:82: RuntimeWarning: invalid value encountered in scalar divide\n",
      "  return metric_fun(privileged=False) / metric_fun(privileged=True)\n"
     ]
    }
   ],
   "source": [
    "\n",
    "display(Markdown(\"#### Predictions from transformed testing data\"))\n",
    "bal_acc_arr_transf = []\n",
    "disp_imp_arr_transf = []\n",
    "\n",
    "class_thresh_arr = np.linspace(0.01, 0.99, 100)\n",
    "\n",
    "dataset_transf_test_new = dataset_orig_test.copy(deepcopy=True)\n",
    "dataset_transf_test_new.scores = dataset_transf_test.scores\n",
    "\n",
    "\n",
    "for thresh in class_thresh_arr:\n",
    "    \n",
    "    fav_inds = dataset_transf_test_new.scores > thresh\n",
    "    dataset_transf_test_new.labels[fav_inds] = 1.0\n",
    "    dataset_transf_test_new.labels[~fav_inds] = 0.0\n",
    "    \n",
    "    metric_test_aft = compute_metrics(dataset_orig_test, dataset_transf_test_new, \n",
    "                                      unprivileged_groups, privileged_groups,\n",
    "                                      disp = False)\n",
    "\n",
    "    bal_acc_arr_transf.append(metric_test_aft[\"Balanced accuracy\"])\n",
    "    disp_imp_arr_transf.append(metric_test_aft[\"Disparate impact\"])"
   ]
  },
  {
   "cell_type": "code",
   "execution_count": null,
   "metadata": {},
   "outputs": [
    {
     "data": {
      "image/png": "[encoded data removed]",
      "text/plain": [
       "<Figure size 1000x700 with 2 Axes>"
      ]
     },
     "metadata": {},
     "output_type": "display_data"
    }
   ],
   "source": [
    "fig, ax1 = plt.subplots(figsize=(10,7))\n",
    "ax1.plot(class_thresh_arr, bal_acc_arr_transf)\n",
    "ax1.set_xlabel('Classification Thresholds', fontsize=16, fontweight='bold')\n",
    "ax1.set_ylabel('Balanced Accuracy', color='b', fontsize=16, fontweight='bold')\n",
    "ax1.xaxis.set_tick_params(labelsize=14)\n",
    "ax1.yaxis.set_tick_params(labelsize=14)\n",
    "\n",
    "\n",
    "ax2 = ax1.twinx()\n",
    "ax2.plot(class_thresh_arr, np.abs(1.0-np.array(disp_imp_arr_transf)), color='r')\n",
    "ax2.set_ylabel('abs(1-disparate impact)', color='r', fontsize=16, fontweight='bold')\n",
    "ax2.yaxis.set_tick_params(labelsize=14)\n",
    "ax2.grid(True)"
   ]
  },
  {
   "cell_type": "markdown",
   "metadata": {},
   "source": [
    "abs(1-disparate impact) must be small (close to 0) for classifier predictions to be fair."
   ]
  },
  {
   "cell_type": "code",
   "execution_count": null,
   "metadata": {},
   "outputs": [
    {
     "data": {
      "text/markdown": [
       "#### Individual fairness metrics"
      ],
      "text/plain": [
       "<IPython.core.display.Markdown object>"
      ]
     },
     "metadata": {},
     "output_type": "display_data"
    },
    {
     "name": "stderr",
     "output_type": "stream",
     "text": [
      "C:\\Users\\Rody\\AppData\\Local\\Temp\\ipykernel_15864\\1464161055.py:2: DeprecationWarning: Conversion of an array with ndim > 0 to a scalar is deprecated, and will error in future. Ensure you extract a single element from your array before performing this operation. (Deprecated NumPy 1.25.)\n",
      "  print(\"Consistency of labels in transformed training dataset= %f\" %metric_transf_train.consistency())\n"
     ]
    },
    {
     "name": "stdout",
     "output_type": "stream",
     "text": [
      "Consistency of labels in transformed training dataset= 1.000000\n"
     ]
    },
    {
     "name": "stderr",
     "output_type": "stream",
     "text": [
      "C:\\Users\\Rody\\AppData\\Local\\Temp\\ipykernel_15864\\1464161055.py:3: DeprecationWarning: Conversion of an array with ndim > 0 to a scalar is deprecated, and will error in future. Ensure you extract a single element from your array before performing this operation. (Deprecated NumPy 1.25.)\n",
      "  print(\"Consistency of labels in original training dataset= %f\" %metric_orig_train.consistency())\n"
     ]
    },
    {
     "name": "stdout",
     "output_type": "stream",
     "text": [
      "Consistency of labels in original training dataset= 0.888306\n"
     ]
    },
    {
     "name": "stderr",
     "output_type": "stream",
     "text": [
      "C:\\Users\\Rody\\AppData\\Local\\Temp\\ipykernel_15864\\1464161055.py:4: DeprecationWarning: Conversion of an array with ndim > 0 to a scalar is deprecated, and will error in future. Ensure you extract a single element from your array before performing this operation. (Deprecated NumPy 1.25.)\n",
      "  print(\"Consistency of labels in transformed test dataset= %f\" %metric_transf_test.consistency())\n"
     ]
    },
    {
     "name": "stdout",
     "output_type": "stream",
     "text": [
      "Consistency of labels in transformed test dataset= 1.000000\n",
      "Consistency of labels in original test dataset= 0.894043\n"
     ]
    },
    {
     "name": "stderr",
     "output_type": "stream",
     "text": [
      "C:\\Users\\Rody\\AppData\\Local\\Temp\\ipykernel_15864\\1464161055.py:5: DeprecationWarning: Conversion of an array with ndim > 0 to a scalar is deprecated, and will error in future. Ensure you extract a single element from your array before performing this operation. (Deprecated NumPy 1.25.)\n",
      "  print(\"Consistency of labels in original test dataset= %f\" %metric_orig_test.consistency())\n"
     ]
    }
   ],
   "source": [
    "display(Markdown(\"#### Individual fairness metrics\"))\n",
    "print(\"Consistency of labels in transformed training dataset= %f\" %metric_transf_train.consistency())\n",
    "print(\"Consistency of labels in original training dataset= %f\" %metric_orig_train.consistency())\n",
    "print(\"Consistency of labels in transformed test dataset= %f\" %metric_transf_test.consistency())\n",
    "print(\"Consistency of labels in original test dataset= %f\" %metric_orig_test.consistency())"
   ]
  },
  {
   "cell_type": "code",
   "execution_count": null,
   "metadata": {},
   "outputs": [],
   "source": [
    "def check_algorithm_success():\n",
    "    \"\"\"Transformed dataset consistency should be greater than original dataset.\"\"\"\n",
    "    assert metric_transf_test.consistency() > metric_orig_test.consistency(), \"Transformed dataset consistency should be greater than original dataset.\"\n",
    "\n",
    "check_algorithm_success()    "
   ]
  },
  {
   "cell_type": "code",
   "execution_count": null,
   "metadata": {},
   "outputs": [],
   "source": []
  },
  {
   "cell_type": "code",
   "execution_count": null,
   "metadata": {},
   "outputs": [],
   "source": []
  },
  {
   "cell_type": "code",
   "execution_count": null,
   "metadata": {},
   "outputs": [],
   "source": []
  }
 ],
 "metadata": {
  "kernelspec": {
   "display_name": "Python 3",
   "language": "python",
   "name": "python3"
  },
  "language_info": {
   "codemirror_mode": {
    "name": "ipython",
    "version": 3
   },
   "file_extension": ".py",
   "mimetype": "text/x-python",
   "name": "python",
   "nbconvert_exporter": "python",
   "pygments_lexer": "ipython3",
   "version": "3.11.7"
  }
 },
 "nbformat": 4,
 "nbformat_minor": 2
}
