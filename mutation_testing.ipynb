{
 "cells": [
  {
   "cell_type": "code",
   "execution_count": 15,
   "metadata": {
    "ExecuteTime": {
     "end_time": "2024-03-17T16:22:24.928286800Z",
     "start_time": "2024-03-17T16:22:24.922279100Z"
    }
   },
   "outputs": [],
   "source": [
    "import pandas as pd\n",
    "import numpy as np\n",
    "from sklearn.model_selection import train_test_split\n",
    "import onnxruntime as rt\n",
    "import onnx"
   ]
  },
  {
   "cell_type": "code",
   "execution_count": 16,
   "metadata": {
    "ExecuteTime": {
     "end_time": "2024-03-17T16:22:25.470328900Z",
     "start_time": "2024-03-17T16:22:25.313747300Z"
    }
   },
   "outputs": [],
   "source": [
    "data = pd.read_csv('data/synth_data_for_training.csv')"
   ]
  },
  {
   "cell_type": "markdown",
   "metadata": {},
   "source": [
    "## Function for mutation testing"
   ]
  },
  {
   "cell_type": "code",
   "execution_count": 113,
   "metadata": {
    "ExecuteTime": {
     "end_time": "2024-03-17T17:24:38.400704500Z",
     "start_time": "2024-03-17T17:24:38.394697600Z"
    }
   },
   "outputs": [],
   "source": [
    "from onnxruntime.capi.onnxruntime_pybind11_state import InvalidArgument\n",
    "\n",
    "\n",
    "def test_mutation(data, feature_name : str, is_Fraud: bool ,value_from : int, value_to: int):\n",
    "    data_modified = data.copy() \n",
    "    is_checked = 1 if is_Fraud else 0\n",
    "    test_data= data_modified.loc[data_modified['checked'] == is_checked]\n",
    "    test_data = test_data.loc[test_data[feature_name] == value_from]\n",
    "    data_wout = test_data.copy()\n",
    "    y_wout = data_wout['checked']\n",
    "    X_wout= data_wout.drop(['checked'], axis=1)\n",
    "    X_wout = X_wout.astype(np.float32)\n",
    "    test_data[feature_name] = value_to\n",
    "    y_test = test_data['checked']\n",
    "    X_test= test_data.drop(['checked'], axis=1)\n",
    "    X_test = X_test.astype(np.float32)\n",
    "    session = rt.InferenceSession(\"model/model_1.onnx\")\n",
    "    try:\n",
    "        y_pred_onnx1 =  session.run(None, {'X': X_wout.values.astype(np.float32)})\n",
    "        y_pred_onnx2 =  session.run(None, {'X': X_test.values.astype(np.float32)})\n",
    "        y_pred_onnx1_np = np.array(y_pred_onnx1[0])\n",
    "        y_pred_onnx2_np = np.array(y_pred_onnx2[0])\n",
    "        diff_count = np.sum(y_pred_onnx1_np != y_pred_onnx2_np)\n",
    "        return diff_count, len(y_pred_onnx1_np)\n",
    "    except InvalidArgument:\n",
    "        print(\"Got error, \", \"column is: \", feature_name, \" combo is:\", is_Fraud, value_from, value_to)\n",
    "        return 0, 0\n",
    "    # assert y_pred_onnx1[0].all() == y_pred_onnx2[0].all(), f'Model predictions are different. The model has bias towards {feature_name} with value {value_from} '\n",
    "    # return True"
   ]
  },
  {
   "cell_type": "markdown",
   "metadata": {},
   "source": [
    "## Test Cases"
   ]
  },
  {
   "cell_type": "code",
   "execution_count": 80,
   "metadata": {
    "ExecuteTime": {
     "end_time": "2024-03-17T16:44:17.819083800Z",
     "start_time": "2024-03-17T16:44:17.784219Z"
    }
   },
   "outputs": [
    {
     "data": {
      "text/plain": "(16, 663)"
     },
     "execution_count": 80,
     "metadata": {},
     "output_type": "execute_result"
    }
   ],
   "source": [
    "test_mutation(data, 'persoon_geslacht_vrouw', True, 0, 1) #test if changing gender of women who are frauds to men to see if predictions change to not fraud"
   ]
  },
  {
   "cell_type": "code",
   "execution_count": 81,
   "metadata": {
    "ExecuteTime": {
     "end_time": "2024-03-17T16:44:25.288330200Z",
     "start_time": "2024-03-17T16:44:25.216078900Z"
    }
   },
   "outputs": [
    {
     "data": {
      "text/plain": "(11, 5879)"
     },
     "execution_count": 81,
     "metadata": {},
     "output_type": "execute_result"
    }
   ],
   "source": [
    "test_mutation(data, 'persoon_geslacht_vrouw', False, 0, 1) #test if changing gender of men who are not frauds to women to see if predictions change to not fraud"
   ]
  },
  {
   "cell_type": "code",
   "execution_count": 82,
   "metadata": {
    "ExecuteTime": {
     "end_time": "2024-03-17T16:44:25.834065100Z",
     "start_time": "2024-03-17T16:44:25.804276400Z"
    }
   },
   "outputs": [
    {
     "data": {
      "text/plain": "(21, 708)"
     },
     "execution_count": 82,
     "metadata": {},
     "output_type": "execute_result"
    }
   ],
   "source": [
    "test_mutation(data, 'persoonlijke_eigenschappen_taaleis_voldaan', True, 0, 1) #test if changing non dutch speaker people who are frauds to dutch speaking to see if predictions change to not fraud"
   ]
  },
  {
   "cell_type": "code",
   "execution_count": 83,
   "metadata": {
    "ExecuteTime": {
     "end_time": "2024-03-17T16:44:26.247711200Z",
     "start_time": "2024-03-17T16:44:26.156335700Z"
    }
   },
   "outputs": [
    {
     "data": {
      "text/plain": "(13, 6558)"
     },
     "execution_count": 83,
     "metadata": {},
     "output_type": "execute_result"
    }
   ],
   "source": [
    "test_mutation(data, 'persoonlijke_eigenschappen_taaleis_voldaan', False, 1, 0) #test if changing dutch speaker people who are not frauds to non-dutch speaking to see if predictions change to fraud"
   ]
  },
  {
   "cell_type": "code",
   "execution_count": 84,
   "metadata": {
    "ExecuteTime": {
     "end_time": "2024-03-17T16:44:26.671364600Z",
     "start_time": "2024-03-17T16:44:26.633775300Z"
    }
   },
   "outputs": [
    {
     "data": {
      "text/plain": "(4, 104)"
     },
     "execution_count": 84,
     "metadata": {},
     "output_type": "execute_result"
    }
   ],
   "source": [
    "test_mutation(data, 'persoonlijke_eigenschappen_taaleis_voldaan', True, 2, 1) #test if changing people who are frauds and did no take the dutch exam to dutch speaking to see if predictions change to not fraud"
   ]
  },
  {
   "cell_type": "markdown",
   "source": [
    "### Making a generic method that tests all combinations of feature values in mutation testing"
   ],
   "metadata": {
    "collapsed": false
   }
  },
  {
   "cell_type": "code",
   "execution_count": 114,
   "outputs": [
    {
     "name": "stdout",
     "output_type": "stream",
     "text": [
      "Got error,  column is:  adres_aantal_brp_adres  combo is: True 11 11\n",
      "Got error,  column is:  adres_aantal_brp_adres  combo is: True 11 6\n",
      "Got error,  column is:  adres_dagen_op_adres  combo is: True 17312 17312\n",
      "Got error,  column is:  adres_dagen_op_adres  combo is: True 17312 8801\n",
      "Got error,  column is:  adres_dagen_op_adres  combo is: True 8801 17312\n",
      "Got error,  column is:  adres_dagen_op_adres  combo is: True 8801 8801\n",
      "Got error,  column is:  afspraak_aanmelding_afgesloten  combo is: True 8 8\n",
      "Got error,  column is:  afspraak_aanmelding_afgesloten  combo is: True 8 3\n",
      "Got error,  column is:  afspraak_aantal_woorden  combo is: True 600 526\n",
      "Got error,  column is:  afspraak_aantal_woorden  combo is: True 600 600\n",
      "Got error,  column is:  afspraak_laatstejaar_aantal_woorden  combo is: True 222 54\n",
      "Got error,  column is:  afspraak_laatstejaar_aantal_woorden  combo is: True 222 222\n",
      "Got error,  column is:  afspraak_voortgangsgesprek  combo is: True 5 0\n",
      "Got error,  column is:  afspraak_voortgangsgesprek  combo is: True 5 5\n",
      "Got error,  column is:  belemmering_dagen_financiele_problemen  combo is: True -765 1845\n",
      "Got error,  column is:  belemmering_dagen_financiele_problemen  combo is: True -765 -765\n",
      "Got error,  column is:  belemmering_dagen_lichamelijke_problematiek  combo is: True -4173 -4173\n",
      "Got error,  column is:  belemmering_dagen_lichamelijke_problematiek  combo is: True -4173 -7410\n",
      "Got error,  column is:  belemmering_dagen_lichamelijke_problematiek  combo is: True -7410 -4173\n",
      "Got error,  column is:  belemmering_dagen_lichamelijke_problematiek  combo is: True -7410 -7410\n",
      "Got error,  column is:  belemmering_dagen_psychische_problemen  combo is: True 4909 4909\n",
      "Got error,  column is:  belemmering_dagen_psychische_problemen  combo is: True 4909 -22233\n",
      "Got error,  column is:  belemmering_dagen_psychische_problemen  combo is: True -22233 4909\n",
      "Got error,  column is:  belemmering_dagen_psychische_problemen  combo is: True -22233 -22233\n",
      "Got error,  column is:  belemmering_hist_lichamelijke_problematiek  combo is: True 3 2\n",
      "Got error,  column is:  belemmering_hist_lichamelijke_problematiek  combo is: True 3 3\n",
      "Got error,  column is:  competentie_gedrevenheid_en_ambitie_tonen  combo is: True 2 2\n",
      "Got error,  column is:  competentie_gedrevenheid_en_ambitie_tonen  combo is: True 2 0\n",
      "Got error,  column is:  competentie_kwaliteit_leveren  combo is: False 3 3\n",
      "Got error,  column is:  competentie_kwaliteit_leveren  combo is: False 3 0\n",
      "Got error,  column is:  contacten_onderwerp__arbeids_motivatie  combo is: True 14 14\n",
      "Got error,  column is:  contacten_onderwerp__arbeids_motivatie  combo is: True 14 11\n",
      "Got error,  column is:  contacten_onderwerp_quickscan  combo is: True 2 2\n",
      "Got error,  column is:  contacten_onderwerp_quickscan  combo is: True 2 0\n",
      "Got error,  column is:  contacten_onderwerp_uitnodiging  combo is: False 7 7\n",
      "Got error,  column is:  contacten_onderwerp_uitnodiging  combo is: False 7 3\n",
      "Got error,  column is:  contacten_onderwerp_ziek__of_afmelding  combo is: True 8 8\n",
      "Got error,  column is:  contacten_onderwerp_ziek__of_afmelding  combo is: True 8 4\n",
      "Got error,  column is:  contacten_soort_afgelopenjaar_anders  combo is: True 6 1\n",
      "Got error,  column is:  contacten_soort_afgelopenjaar_anders  combo is: True 6 6\n",
      "Got error,  column is:  contacten_soort_afgelopenjaar_telefoontje__inkomend_  combo is: True 7 7\n",
      "Got error,  column is:  contacten_soort_afgelopenjaar_telefoontje__inkomend_  combo is: True 7 2\n",
      "Got error,  column is:  contacten_soort_document__uitgaand_  combo is: True 88 88\n",
      "Got error,  column is:  contacten_soort_document__uitgaand_  combo is: True 88 26\n",
      "Got error,  column is:  contacten_soort_gesprek_op_locatie  combo is: True 2 2\n",
      "Got error,  column is:  contacten_soort_gesprek_op_locatie  combo is: True 2 0\n",
      "Got error,  column is:  contacten_soort_rapportage_deelname  combo is: True 7 7\n",
      "Got error,  column is:  contacten_soort_rapportage_deelname  combo is: True 7 1\n",
      "Got error,  column is:  instrument_reden_beeindiging_historie_doelstelling_niet_bereikt__geen_uitstroom  combo is: True 6 2\n",
      "Got error,  column is:  instrument_reden_beeindiging_historie_doelstelling_niet_bereikt__geen_uitstroom  combo is: True 6 6\n",
      "Got error,  column is:  instrument_reden_beeindiging_historie_succesvol  combo is: True 6 3\n",
      "Got error,  column is:  instrument_reden_beeindiging_historie_succesvol  combo is: True 6 6\n",
      "Got error,  column is:  instrument_reden_beeindiging_historie_uitval__klant_wz__ziet_af_van_aanbod  combo is: True 2 2\n",
      "Got error,  column is:  instrument_reden_beeindiging_historie_uitval__klant_wz__ziet_af_van_aanbod  combo is: True 2 1\n",
      "Got error,  column is:  ontheffing_dagen_hist_mean  combo is: True 2763 2763\n",
      "Got error,  column is:  ontheffing_dagen_hist_mean  combo is: True 2763 1835\n",
      "Got error,  column is:  ontheffing_dagen_hist_mean  combo is: True 1835 2763\n",
      "Got error,  column is:  ontheffing_dagen_hist_mean  combo is: True 1835 1835\n",
      "Got error,  column is:  ontheffing_dagen_hist_vanwege_uw_medische_omstandigheden  combo is: True 750 750\n",
      "Got error,  column is:  ontheffing_dagen_hist_vanwege_uw_medische_omstandigheden  combo is: True 750 5162\n",
      "Got error,  column is:  ontheffing_dagen_hist_vanwege_uw_medische_omstandigheden  combo is: True 5162 750\n",
      "Got error,  column is:  ontheffing_dagen_hist_vanwege_uw_medische_omstandigheden  combo is: True 5162 5162\n",
      "Got error,  column is:  ontheffing_reden_hist_tijdelijke_ontheffing_arbeidsverpl__en_tegenprestatie  combo is: True 2 1\n",
      "Got error,  column is:  ontheffing_reden_hist_tijdelijke_ontheffing_arbeidsverpl__en_tegenprestatie  combo is: True 2 2\n",
      "Got error,  column is:  ontheffing_reden_hist_vanwege_uw_sociaal_maatschappelijke_situatie  combo is: True 2 2\n",
      "Got error,  column is:  ontheffing_reden_hist_vanwege_uw_sociaal_maatschappelijke_situatie  combo is: True 2 0\n",
      "Got error,  column is:  persoonlijke_eigenschappen_dagen_sinds_opvoer  combo is: True 1500 1500\n",
      "Got error,  column is:  persoonlijke_eigenschappen_dagen_sinds_opvoer  combo is: True 1500 2026\n",
      "Got error,  column is:  persoonlijke_eigenschappen_dagen_sinds_opvoer  combo is: True 2026 1500\n",
      "Got error,  column is:  persoonlijke_eigenschappen_dagen_sinds_opvoer  combo is: True 2026 2026\n",
      "Got error,  column is:  persoonlijke_eigenschappen_dagen_sinds_taaleis  combo is: True 598 598\n",
      "Got error,  column is:  persoonlijke_eigenschappen_dagen_sinds_taaleis  combo is: True 598 114\n",
      "Got error,  column is:  persoonlijke_eigenschappen_spreektaal  combo is: True 96 96\n",
      "Got error,  column is:  persoonlijke_eigenschappen_spreektaal  combo is: True 96 5\n",
      "Got error,  column is:  pla_actueel_pla_categorie_doelstelling_16  combo is: True 2 2\n",
      "Got error,  column is:  pla_actueel_pla_categorie_doelstelling_16  combo is: True 2 1\n",
      "Got error,  column is:  pla_hist_pla_categorie_doelstelling_3  combo is: True 5 5\n",
      "Got error,  column is:  pla_hist_pla_categorie_doelstelling_3  combo is: True 5 4\n",
      "Got error,  column is:  pla_ondertekeningen_actueel  combo is: True 3 2\n",
      "Got error,  column is:  pla_ondertekeningen_actueel  combo is: True 3 3\n",
      "Got error,  column is:  pla_ondertekeningen_historie  combo is: True 10 3\n",
      "Got error,  column is:  pla_ondertekeningen_historie  combo is: True 10 10\n",
      "Got error,  column is:  relatie_overig_actueel_vorm__gemachtigde  combo is: True 2 0\n",
      "Got error,  column is:  relatie_overig_actueel_vorm__gemachtigde  combo is: True 2 2\n",
      "Got error,  column is:  relatie_overig_actueel_vorm__onderhoudsplichtige  combo is: True 2 1\n",
      "Got error,  column is:  relatie_overig_actueel_vorm__onderhoudsplichtige  combo is: True 2 2\n",
      "Got error,  column is:  relatie_partner_totaal_dagen_partner  combo is: True 5911 5911\n",
      "Got error,  column is:  relatie_partner_totaal_dagen_partner  combo is: True 5911 1654\n",
      "Got error,  column is:  relatie_partner_totaal_dagen_partner  combo is: True 1654 5911\n",
      "Got error,  column is:  relatie_partner_totaal_dagen_partner  combo is: True 1654 1654\n",
      "Got error,  column is:  typering_dagen_som  combo is: True 2092 4265\n",
      "Got error,  column is:  typering_dagen_som  combo is: True 2092 2092\n",
      "Got error,  column is:  checked  combo is: True 0 0\n",
      "Got error,  column is:  checked  combo is: True 0 1\n",
      "Got error,  column is:  checked  combo is: False 1 0\n",
      "Got error,  column is:  checked  combo is: False 1 1\n"
     ]
    }
   ],
   "source": [
    "df = pd.read_csv('data/synth_data_for_training.csv')\n",
    "mutation_test_results = {}\n",
    "\n",
    "# Iterate over each column in the DataFrame and generate the mutation test combinations\n",
    "for column in df.columns:\n",
    "    # Get unique values for the current column\n",
    "    unique_values = df[column].unique()\n",
    "    if len(unique_values) > 1:\n",
    "        # We sample two random values from the unique options, and store this in the dictionary\n",
    "        rand_values = np.random.choice(unique_values, size=2, replace=False)\n",
    "        combos = []\n",
    "        for bool in [True, False]:\n",
    "            for a in rand_values:\n",
    "                for b in rand_values:\n",
    "                    combos.append([bool, a, b])\n",
    "        \n",
    "        mutation_test_results[column] = combos\n",
    "\n",
    "# Go over each combination and get how many tests failed to kill the mutation\n",
    "for column, values in mutation_test_results.items():\n",
    "    for combo in values:\n",
    "        num_differ, length = test_mutation(data, column, combo[0], combo[1], combo[2])\n",
    "        combo.append(num_differ)\n",
    "        combo.append(length)\n",
    "\n",
    "# features_to_ignore = [\"adres_dagen_op_adres\", \"afspraak_aantal_woorden\", \"afspraak_laatstejaar_aantal_woorden\", \"belemmering_dagen_financiele_problemen\", \n",
    "#                       \"belemmering_dagen_lichamelijke_problematiek\", \"belemmering_dagen_psychische_problemen\", \"contacten_onderwerp_overige\", \"contacten_onderwerp_terugbelverzoek\", \"contacten_onderwerp_traject\", \"contacten_soort_afgelopenjaar_document__uitgaand_\", \n",
    "#                       \"contacten_soort_document__inkomend_\", \"contacten_soort_document__uitgaand_\", \"contacten_soort_e_mail__inkomend_\", \"contacten_soort_e_mail__uitgaand_\", \"contacten_soort_telefoontje__inkomend_\", \"contacten_soort_telefoontje__uitgaand_\", \n",
    "#                       \"deelname_act_reintegratieladder_werk_re_integratie\", \"ontheffing_dagen_hist_mean\", \"ontheffing_dagen_hist_vanwege_uw_medische_omstandigheden\", \"persoon_leeftijd_bij_onderzoek\", \"persoonlijke_eigenschappen_dagen_sinds_opvoer\", \"persoonlijke_eigenschappen_dagen_sinds_taaleis\", \"persoonlijke_eigenschappen_spreektaal\", \"relatie_kind_leeftijd_verschil_ouder_eerste_kind\", \"typering_dagen_som\"]\n",
    "\n",
    "\n"
   ],
   "metadata": {
    "collapsed": false,
    "ExecuteTime": {
     "end_time": "2024-03-17T17:26:22.961237600Z",
     "start_time": "2024-03-17T17:24:42.327854800Z"
    }
   }
  },
  {
   "cell_type": "code",
   "execution_count": 125,
   "outputs": [
    {
     "name": "stdout",
     "output_type": "stream",
     "text": [
      "Column averages [('contacten_soort_document__uitgaand_', 0.23632478632478635), ('contacten_soort_afgelopenjaar_anders', 0.20573233061561505), ('belemmering_dagen_financiele_problemen', 0.16666666666666666), ('competentie_vakdeskundigheid_toepassen', 0.13626816621255897), ('contacten_soort_telefoontje__inkomend_', 0.05880837912087913), ('instrument_ladder_historie_activering', 0.041666666666666664), ('contacten_onderwerp_no_show', 0.041247661453266485), ('contacten_soort_document__inkomend_', 0.03833333333333333), ('contacten_soort_afgelopenjaar_document__uitgaand_', 0.03760234492988675), ('contacten_onderwerp_documenttype__overeenkomst_', 0.03647510284950482), ('contacten_soort_anders', 0.032447250396974076), ('contacten_soort_rapportage_rib', 0.029930372091363996), ('relatie_overig_kostendeler', 0.029125334932183243), ('relatie_kind_leeftijd_verschil_ouder_eerste_kind', 0.028065260382333552), ('adres_aantal_verzendadres', 0.02724662403090421), ('pla_ondertekeningen_historie', 0.025922319593205668), ('afspraak_afgelopen_jaar_voortgang_aanmelding_en_deelname', 0.02532745735496724), ('pla_historie_ontwikkeling', 0.0235061324738299), ('persoonlijke_eigenschappen_taaleis_voldaan', 0.0228636795965219), ('deelname_act_actueel_projecten_uniek', 0.022039909266643856), ('relatie_overig_historie_vorm__andere_inwonende', 0.021547345192730313), ('relatie_overig_actueel_vorm__kostendeler', 0.0215179459839891), ('beschikbaarheid_aantal_historie_afwijkend_wegens_sociaal_maatschappelijke_situatie', 0.020586335531568228), ('relatie_overig_actueel_vorm_other', 0.018680221539522777), ('competentie_instructies_en_procedures_opvolgen', 0.018233179625102), ('afspraak_afgelopen_jaar_ontheffing_taaleis', 0.01812726438975501), ('contacten_onderwerp_boolean_no_show', 0.01772269051449272), ('persoon_leeftijd_bij_onderzoek', 0.017349571061030692), ('contacten_soort_afgelopenjaar_gesprek', 0.01720697942988695), ('contacten_soort_afgelopenjaar_telefoontje__inkomend_', 0.01591253378666628), ('contacten_onderwerp_ziek__of_afmelding', 0.015337671587671589), ('contacten_soort_gesprek_op_locatie', 0.014961745054845056), ('competentie_kwaliteit_leveren', 0.014789239419260561), ('afspraak_afsprakenplan', 0.014455240568435189), ('contacten_onderwerp_contact_met_aanbieder', 0.014392413690697025), ('instrument_ladder_huidig_activering', 0.013905074634188117), ('instrument_reden_beeindiging_historie_succesvol', 0.013882817610530852), ('contacten_onderwerp_beoordelen_taaleis', 0.01378118089039701), ('ontheffing_reden_hist_tijdelijke_ontheffing_arbeidsverpl__en_tegenprestatie', 0.013751367666478024), ('competentie_plannen_en_organiseren', 0.013449509297803731), ('contacten_soort_e_mail__inkomend_', 0.013346727898966706), ('contacten_soort_afgelopenjaar_telefoontje__uitgaand_', 0.013024254744981376), ('persoonlijke_eigenschappen_dagen_sinds_taaleis', 0.012820512820512822), ('relatie_overig_bewindvoerder', 0.012571031681849384), ('adres_recentste_plaats_other', 0.012110684671552265), ('beschikbaarheid_aantal_historie_afwijkend_wegens_medische_omstandigheden', 0.011744570042265673), ('relatie_overig_historie_vorm__kostendeler', 0.011724004573580844), ('contacten_soort_afgelopenjaar_e_mail__uitgaand_', 0.011214893480903335), ('afspraak_laatstejaar_resultaat_ingevuld', 0.011089504081034212), ('contacten_onderwerp_inspanningstoets', 0.010973287099353073), ('contacten_onderwerp_overleg_met_inkomen', 0.010884353741496598), ('afspraak_inspanningsperiode', 0.010586811857229279), ('instrument_reden_beeindiging_historie_doelstelling_bereikt__uitstroom_overig', 0.010582984215955469), ('ontheffing_actueel_ind', 0.01021758945826138), ('afspraak_verzenden_beschikking_i_v_m__niet_voldoen_aan_wet_taaleis', 0.009910406688031554), ('beschikbaarheid_huidig_bekend', 0.009564797242806847), ('contacten_soort_rapportage_deelname', 0.009375153079344086), ('adres_aantal_brp_adres', 0.009317337903456156), ('afspraak_afgelopen_jaar_monitoring_insp__wet_taaleis_na_12_mnd_n_a_v__taa04_____geen_maatregel', 0.009265007036075086), ('pla_einde_uitstroom_anders_dan_volgen_onderwijs__regulier_werk_of_als_zelfstandige', 0.009166406204028981), ('belemmering_psychische_problemen', 0.009117071730574088), ('contacten_soort_telefoontje__uitgaand_', 0.008968315068834607), ('ontheffing_reden_tijdelijke_ontheffing_arbeidsverpl__en_tegenprestatie', 0.00892371949884316), ('relatie_partner_aantal_partner___partner__ongehuwd_', 0.008912211036401305), ('contacten_onderwerp_boolean_beoordelen_taaleis', 0.008718884459014736), ('instrument_reden_beeindiging_historie_uitval__klant_wz__ziet_af_van_aanbod', 0.008588086547744216), ('afspraak_signaal_voor_medewerker', 0.008243727598566309), ('beschikbaarheid_huidig_afwijkend_wegens_medische_omstandigheden', 0.008001393610911988), ('ontheffing_reden_hist_vanwege_uw_sociaal_maatschappelijke_situatie', 0.007932328520593888), ('adres_recentste_wijk_charlois', 0.007899878022211225), ('pla_hist_pla_categorie_doelstelling_2', 0.007875017369418563), ('typering_indicatie_geheime_gegevens', 0.007837685825337426), ('contacten_onderwerp_vakantie', 0.007566159409240895), ('afspraak_signaal_van_aanbieder', 0.007487284104215457), ('adres_recentste_buurt_vreewijk', 0.0074141225898247), ('belemmering_hist_psychische_problemen', 0.007205310673052609), ('deelname_act_reintegratieladder_werk_re_integratie', 0.0071939553815765014), ('afspraak_controle_aankondiging_maatregel', 0.0071787105838691505), ('instrument_ladder_huidig_werk_re_integratie', 0.007050685410247632), ('persoonlijke_eigenschappen_nl_begrijpen3', 0.00699732240544751), ('pla_actueel_pla_categorie_doelstelling_16', 0.006984934736357886), ('contacten_onderwerp_boolean_documenttype__diploma_s_en_certificaten_', 0.006957701418110229), ('relatie_kind_jongvolwassen', 0.006898482975115268), ('adres_recentste_wijk_delfshaven', 0.006768501268009737), ('pla_historie_other', 0.006762606059460132), ('competentie_leren', 0.006501447639343654), ('belemmering_ind', 0.0064705226223375125), ('contacten_onderwerp_groepsbijeenkomst', 0.006403298232484169), ('adres_recentste_buurt_groot_ijsselmonde', 0.006225480828599223), ('pla_hist_pla_categorie_doelstelling_16', 0.006146883761834497), ('pla_hist_pla_categorie_doelstelling_11', 0.006066487020810492), ('contacten_onderwerp_boolean_taaleis___voldoet', 0.005979851823768705), ('contacten_onderwerp__werk_intake', 0.005822619025073531), ('afspraak_resultaat_ingevuld_uniek', 0.005803310161725452), ('beschikbaarheid_recent_afwijkend_wegens_medische_omstandigheden', 0.005777781383032973), ('afspraak_laatstejaar_resultaat_ingevuld_uniek', 0.005655204804898438), ('contacten_onderwerp_boolean_financiële_situatie', 0.005647875311429348), ('competentie_omgaan_met_verandering_en_aanpassen', 0.005636611851394571), ('relatie_overig_actueel_vorm__ouders_verzorgers', 0.00561369750723611), ('instrument_reden_beeindiging_historie_doelstelling_bereikt__uitstroom_naar_regulier_werk', 0.005546122487594542), ('instrument_reden_beeindiging_historie_doelstelling_niet_bereikt__geen_uitstroom', 0.005528533397385856), ('persoonlijke_eigenschappen_nl_lezen3', 0.005472794534379212), ('afspraak_afgelopen_jaar_plan_van_aanpak', 0.005350961249267851), ('competentie_gedrevenheid_en_ambitie_tonen', 0.005348976059745606), ('relatie_overig_historie_vorm__gemachtigde', 0.005295542738780669), ('persoon_geslacht_vrouw', 0.005278307318222981), ('pla_einde_doelstelling_niet_bereikt', 0.005251752997137364), ('contacten_onderwerp_maatregel_overweging', 0.005242053522523097), ('adres_recentste_wijk_noord', 0.005059340807391216), ('contacten_onderwerp_boolean_documenttype__overeenkomst_', 0.005027650394079426), ('belemmering_niet_computervaardig', 0.005000627752245491), ('instrument_reden_beeindiging_historie_succesvol__doelstelling_bereikt', 0.004985231849746891), ('persoonlijke_eigenschappen_taaleis_schrijfv_ok', 0.004922019771928671), ('contacten_onderwerp_mutatie', 0.0049040160954476), ('contacten_soort_afgelopenjaar_e_mail__inkomend_', 0.004813321056290037), ('relatie_kind_tiener', 0.004745664469022505), ('pla_einde_doelstelling_bereikt', 0.00473910057460796), ('competentie_materialen_en_middelen_inzetten', 0.0046438432308868035), ('contacten_onderwerp_boolean_overleg_met_inkomen', 0.004626409615004559), ('contacten_onderwerp_boolean_contact_met_aanbieder', 0.004536104541019326), ('relatie_partner_aantal_partner___partner__gehuwd_', 0.004446456915656989), ('instrument_ladder_huidig_other', 0.004364909305245631), ('contacten_onderwerp_boolean_maatregel_overweging', 0.00424230811015623), ('persoonlijke_eigenschappen_leergierigheid_opm', 0.0041660977281789665), ('belemmering_hist_stabiele_mix__sz____dagbesteding_werk', 0.004145616018672973), ('afspraak_deelname_compleet_uit_webapplicatie', 0.004120094386487829), ('pla_einde_doelstelling_bereikt__nieuw_trajectplan', 0.004117742987606001), ('instrument_reden_beeindiging_historie_niet_succesvol', 0.004044390984561053), ('adres_recentste_buurt_nieuwe_westen', 0.003981730413961277), ('afspraak_gespr__einde_zoekt___galo_gesprek_', 0.00396905215861477), ('contacten_onderwerp_documenttype__cv_', 0.0039451827242524915), ('contacten_onderwerp_financiële_situatie', 0.0038241343683946124), ('afspraak_aanmelding_afgesloten', 0.0037995552488306107), ('afspraak_voortgangsgesprek', 0.003780490901371541), ('contacten_onderwerp_boolean_traject', 0.003681271778576706), ('ontheffing_reden_hist_other', 0.00363463575244883), ('beschikbaarheid_recent_afwijkend_wegens_sociaal_maatschappelijke_situatie', 0.0036257712421633617), ('instrument_reden_beeindiging_historie_overdracht_naar_regulier_team_iwpm', 0.0035517555187523715), ('afspraak_afgelopen_jaar_vervolgmeting_matchbaarheid_werkzoekende_klant', 0.003546050222920142), ('contacten_onderwerp_boolean__werk_intake', 0.003498296666657393), ('instrument_reden_beeindiging_historie_op_termijn_matchbaar', 0.0034804541165943397), ('afspraak_galo_gesprek', 0.003472222222222222), ('contacten_soort_groepsbijeenkomsten', 0.003446080458259164), ('relatie_kind_basisschool_kind', 0.0033826283579521713), ('contacten_onderwerp_boolean_mutatie', 0.0033751599225953317), ('pla_hist_pla_categorie_doelstelling_6', 0.003278388162580071), ('relatie_kind_heeft_kinderen', 0.003259528515505799), ('persoonlijke_eigenschappen_nl_schrijven0', 0.0032580809931732394), ('competentie_aansturen', 0.0032313431311921104), ('adres_recentste_wijk_feijenoord', 0.0032214472487671845), ('typering_zorg__schoonmaak___welzijn', 0.003156118906892901), ('persoonlijke_eigenschappen_uiterlijke_verzorging_opm', 0.0031395002890387777), ('contacten_onderwerp_terugbelverzoek', 0.0031392432418273263), ('instrument_reden_beeindiging_historie_diagnose_gesteld', 0.0031253344970110304), ('belemmering_hist_verslavingsproblematiek', 0.0031094198522063), ('instrument_reden_beeindiging_historie_overdracht_naar_mo', 0.0030304870796227265), ('competentie_onderzoeken', 0.0030120586358964533), ('persoonlijke_eigenschappen_ind_buiten_kantoortijden', 0.002958054250731471), ('pla_einde_doelstelling_niet_bereikt__nieuw_trajectplan', 0.0029520695954375334), ('adres_aantal_verschillende_wijken', 0.0029161498296371106), ('afspraak_afgelopen_jaar_afsprakenplan', 0.002883440851678446), ('pla_actueel_pla_categorie_doelstelling_9', 0.0028297145217813335), ('competentie_ethisch_en_integer_handelen', 0.0028017217406096544), ('contacten_onderwerp_boolean_ziek__of_afmelding', 0.002793528425515369), ('instrument_reden_beeindiging_historie_doelstelling_bereikt__geen_uitstroom', 0.002777777777777778), ('belemmering_financiele_problemen', 0.0027746574749555612), ('adres_recentste_wijk_ijsselmonde', 0.0027680836690205054), ('contacten_onderwerp_inkomen', 0.0027416784250223047), ('belemmering_aantal_huidig', 0.0027009103781085236), ('deelname_act_reintegratieladder_ondersteunende_instrumenten', 0.002695714658443008), ('persoonlijke_eigenschappen_spreektaal_anders', 0.0026599482665589104), ('persoonlijke_eigenschappen_uitstroom_verw_vlgs_klant', 0.0026595744680851063), ('contacten_onderwerp_boolean_scholing', 0.0026414169913418837), ('contacten_onderwerp_boolean_groepsbijeenkomst', 0.0026306387895889388), ('persoonlijke_eigenschappen_nl_schrijven3', 0.0025264340549664773), ('contacten_soort_e_mail__uitgaand_', 0.0025), ('afspraak_vervolgmeting_matchbaarheid_werkzoekende_klant', 0.0024796770624218516), ('instrument_reden_beeindiging_historie_overdracht_succesvol', 0.0024734555984555983), ('deelname_act_hist_projecten_niet_gestart', 0.002451404604413105), ('persoonlijke_eigenschappen_nl_spreken3', 0.002446542486163071), ('relatie_kind_huidige_aantal', 0.002403846153846154), ('contacten_onderwerp_boolean_contact_derden', 0.0023591461118667883), ('adres_recentste_wijk_prins_alexa', 0.002340904933734639), ('contacten_onderwerp_boolean_overige', 0.0022991494846797862), ('competentie_overtuigen_en_beïnvloeden', 0.0022691886765596964), ('persoonlijke_eigenschappen_nl_schrijven1', 0.002239267134015303), ('belemmering_woonsituatie', 0.002216524400843915), ('pla_hist_pla_categorie_doelstelling_9', 0.0021600832310001363), ('pla_einde_geplande_einddatum_overschreden_zonder_nader_bericht', 0.0021411787365177193), ('pla_einde_doelstelling_bereikt__overdracht', 0.0020963759163668983), ('instrument_reden_beeindiging_historie_centrale_actie_wigo4it', 0.0020274827443132414), ('persoonlijke_eigenschappen_overige_opmerkingen', 0.002011877841022585), ('pla_hist_pla_categorie_doelstelling_10', 0.002007323618623077), ('relatie_partner_huidige_partner___partner__gehuwd_', 0.001933870568699712), ('belemmering_ind_hist', 0.0018742589924788436), ('contacten_onderwerp_scholing', 0.001874106492220572), ('competentie_samenwerken_en_overleggen', 0.0018710610118452785), ('competentie_met_druk_en_tegenslag_omgaan', 0.0018694178393422667), ('contacten_onderwerp_zorg', 0.0018376054430648242), ('persoonlijke_eigenschappen_zelfstandigheid_opm', 0.0018165424702023313), ('instrument_reden_beeindiging_historie_other', 0.0017937070717200735), ('contacten_onderwerp_boolean_sollicitatie', 0.0017908151881747213), ('persoonlijke_eigenschappen_nl_spreken1', 0.0017904341525497019), ('persoonlijke_eigenschappen_ind_activering_traject', 0.0017834417693473239), ('typering_other', 0.001779975643760416), ('contacten_onderwerp_traject', 0.0017605633802816902), ('contacten_onderwerp_arbeidsdiagnose_dariuz', 0.0016673679747503472), ('persoonlijke_eigenschappen_presentatie_opm', 0.0015834024970257845), ('typering_aantal', 0.0015748252743632931), ('relatie_overig_historie_vorm__onderhoudsplichtige', 0.0015167106280090474), ('ontheffing_reden_hist_medische_gronden', 0.001511877260799893), ('persoonlijke_eigenschappen_motivatie_opm', 0.001451645162809206), ('adres_recentste_wijk_stadscentru', 0.0014425348738094513), ('relatie_overig_actueel_vorm__onderhoudsplichtige', 0.0014401499344883185), ('persoonlijke_eigenschappen_initiatief_opm', 0.0014305101317239075), ('pla_historie_werk_en_inburgering', 0.001404869342189485), ('persoonlijke_eigenschappen_communicatie_opm', 0.0013742592407001643), ('pla_hist_pla_categorie_doelstelling_4', 0.001362559029289455), ('adres_aantal_woonadres_handmatig', 0.0013339752097535937), ('instrument_ladder_historie_other', 0.0013090366678858815), ('contacten_soort_afgelopenjaar_gesprek_op_locatie', 0.001302116559633678), ('typering_hist_sector_zorg', 0.001292599221306548), ('contacten_onderwerp_boolean__pre__intake', 0.001272876316928994), ('persoonlijke_eigenschappen_houding_opm', 0.0012668616184398904), ('persoonlijke_eigenschappen_doorzettingsvermogen_opm', 0.0012544138784242945), ('afspraak_afgelopen_jaar_ontheffing', 0.0012218720578228202), ('adres_recentste_buurt_other', 0.0012142336992513852), ('pla_einde_doelstelling_niet_bereikt__overdracht', 0.0011849936379851693), ('afspraak_toevoegen_inschrijving_uwvwb', 0.0011765066508678456), ('typering_hist_inburgeringsbehoeftig', 0.0011695702446807763), ('persoonlijke_eigenschappen_nl_schrijvenfalse', 0.001168450753327705), ('pla_hist_pla_categorie_doelstelling_other', 0.0011432046321631344), ('contacten_onderwerp_boolean_motivatie', 0.001091909935814475), ('contacten_onderwerp_diagnosegesprek', 0.0010791087464121585), ('ontheffing_reden_hist_sociale_gronden', 0.001075137898232527), ('adres_recentste_plaats_rotterdam', 0.0010733867668141046), ('instrument_reden_beeindiging_historie_overdracht_naar_prematching', 0.0010718645879466257), ('relatie_overig_actueel_vorm__gemachtigde', 0.0010506189721837778), ('contacten_onderwerp_werkintake__niet_verschenen', 0.0010364368561844755), ('pla_historie_maatschappelijke_inspanning', 0.0009984738394408273), ('afspraak_controle_verwijzing', 0.0009735144674251446), ('adres_recentste_wijk_other', 0.0009520730213480757), ('pla_einde_other', 0.000945040373536793), ('contacten_onderwerp_boolean_matching', 0.0009043741999417898), ('contacten_onderwerp_boolean__arbeids_motivatie', 0.0008990723204337027), ('adres_unieke_wijk_ratio', 0.0008956739607424538), ('pla_hist_pla_categorie_doelstelling_27', 0.000894328860237626), ('persoonlijke_eigenschappen_nl_schrijven2', 0.0008670324494544624), ('typering_transport__logistiek___tuinbouw', 0.0008564939529818671), ('contacten_onderwerp__pre__intake', 0.0008211908681241813), ('contacten_onderwerp_quickscan', 0.0008009556208509447), ('competentie_other', 0.0007861635220125787), ('persoonlijke_eigenschappen_ind_regulier_arbeidsritme', 0.0007826546289623354), ('contacten_onderwerp_boolean_terugbelverzoek', 0.0007780615855168181), ('adres_recentst_onderdeel_rdam', 0.0007761259035221334), ('contacten_soort_afgelopenjaar_rapportage_rib', 0.0007506147595693589), ('persoonlijke_eigenschappen_hobbies_sport', 0.0007169529988601941), ('contacten_onderwerp_boolean_documenttype__cv_', 0.0006767988259780101), ('persoonlijke_eigenschappen_nl_spreken2', 0.0006681122624305671), ('contacten_onderwerp_boolean_match___werk', 0.0006633156593727664), ('persoonlijke_eigenschappen_opstelling', 0.0006442089485822324), ('persoonlijke_eigenschappen_flexibiliteit_opm', 0.0006257238547035699), ('instrument_reden_beeindiging_historie_niet_succesvol__reden_bij_werkzoekende', 0.0005526647406745723), ('typering_ind', 0.0005478334116417375), ('afspraak_participatietrede_vervolgmeting', 0.0005236127297634382), ('ontheffing_reden_hist_tijdelijke_ontheffing_arbeidsverplichtingen', 0.0005022351709091662), ('contacten_onderwerp_boolean_documenten__innemen_', 0.0004728843854218311), ('instrument_reden_beeindiging_historie_uitval__aanbod_niet_langer_zinvol_volgens_gemeente', 0.0004726045007374931), ('instrument_aantal_laatstejaar', 0.0004578754578754579), ('afspraak_afgelopen_jaar_signaal_voor_medewerker', 0.00043402777777777775), ('contacten_onderwerp_boolean_inkomen', 0.0004294610993117759), ('instrument_reden_beeindiging_historie_niet_matchbaar', 0.0003457427446308614), ('persoonlijke_eigenschappen_nl_lezen4', 0.0003342188290754443), ('contacten_onderwerp_boolean_diagnosegesprek', 0.00032920957832657365), ('competentie_formuleren_en_rapporteren', 0.00031713249511860993), ('adres_recentste_buurt_oude_noorden', 0.0003081392950572848), ('contacten_onderwerp_inname_aanvraag', 0.0003053973626502578), ('pla_hist_pla_categorie_doelstelling_5', 0.00027114967462039046), ('typering_hist_aantal', 0.00027011458463071364), ('adres_recentste_wijk_kralingen_c', 0.00024008761987575714), ('contacten_onderwerp_boolean_zorg', 0.00023619900716768667), ('contacten_onderwerp_boolean_uitnodiging', 0.00022900148719229627), ('pla_hist_pla_categorie_doelstelling_1', 0.00021891418563922942), ('competentie_op_de_behoeften_en_verwachtingen_van_de__klant__richten', 0.00015249450122380962), ('belemmering_hist_taal', 0.00014073021885521885), ('instrument_reden_beeindiging_historie_direct_matchbaar', 0.00010220768601798856), ('contacten_onderwerp_documenten__innemen_', 7.440476190476191e-05), ('relatie_kind_volwassen', 3.556187766714083e-05), ('contacten_onderwerp_screening', 2.5227043390514632e-05), ('adres_dagen_op_adres', 0.0), ('afspraak_aantal_woorden', 0.0), ('afspraak_laatstejaar_aantal_woorden', 0.0), ('afspraak_other', 0.0), ('belemmering_dagen_lichamelijke_problematiek', 0.0), ('belemmering_dagen_psychische_problemen', 0.0), ('belemmering_hist_lichamelijke_problematiek', 0.0), ('competentie_analyseren', 0.0), ('contacten_onderwerp__arbeids_motivatie', 0.0), ('contacten_onderwerp_contact_derden', 0.0), ('contacten_onderwerp_matching', 0.0), ('contacten_onderwerp_overige', 0.0), ('contacten_onderwerp_uitnodiging', 0.0), ('contacten_soort_afgelopenjaar_document__inkomend_', 0.0), ('ontheffing_dagen_hist_mean', 0.0), ('ontheffing_dagen_hist_vanwege_uw_medische_omstandigheden', 0.0), ('persoonlijke_eigenschappen_dagen_sinds_opvoer', 0.0), ('persoonlijke_eigenschappen_spreektaal', 0.0), ('persoonlijke_eigenschappen_uitstroom_verw_vlgs_km', 0.0), ('pla_hist_pla_categorie_doelstelling_3', 0.0), ('pla_historie_werk', 0.0), ('pla_ondertekeningen_actueel', 0.0), ('relatie_partner_totaal_dagen_partner', 0.0), ('typering_dagen_som', 0.0), ('checked', 0.0)] \n",
      "\n",
      "Global average 0.7668183597275426 %\n"
     ]
    }
   ],
   "source": [
    "# We can now do some basic data analysis.\n",
    "\n",
    "# We can compute a score on a per-column basis, getting an average across 8 tests of what percentage of mutants were failed to kill\n",
    "# We can also compute a sort of global metric. Just an average across all mutations\n",
    "column_avg = []\n",
    "all_percentages = []\n",
    "\n",
    "for column, values in mutation_test_results.items():\n",
    "    percentages = []\n",
    "    for combo in values:\n",
    "        # compute percentage, and add it to a temp array to compute the average value\n",
    "        if combo[4] != 0:\n",
    "            res = combo[3]/combo[4]\n",
    "            percentages.append(res)\n",
    "            all_percentages.append(res)\n",
    "    column_avg.append((column, np.mean(np.array(percentages))))\n",
    "\n",
    "column_avg = sorted(column_avg, key=lambda x: x[1], reverse=True)\n",
    "\n",
    "# Print the mutation metric per column and on a global metric\n",
    "print(\"Column averages\", column_avg, \"\\n\")\n",
    "print(\"Global average\", np.mean(np.array(all_percentages)) * 100, \"%\")"
   ],
   "metadata": {
    "collapsed": false,
    "ExecuteTime": {
     "end_time": "2024-03-17T17:41:15.804357900Z",
     "start_time": "2024-03-17T17:41:15.797186900Z"
    }
   }
  },
  {
   "cell_type": "code",
   "execution_count": null,
   "outputs": [],
   "source": [],
   "metadata": {
    "collapsed": false
   }
  }
 ],
 "metadata": {
  "language_info": {
   "name": "python"
  },
  "kernelspec": {
   "name": "python3",
   "language": "python",
   "display_name": "Python 3 (ipykernel)"
  }
 },
 "nbformat": 4,
 "nbformat_minor": 2
}
