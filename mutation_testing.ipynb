{
 "cells": [
  {
   "cell_type": "code",
   "execution_count": 2,
   "metadata": {
    "ExecuteTime": {
     "end_time": "2024-03-17T17:47:40.871786400Z",
     "start_time": "2024-03-17T17:47:39.745590Z"
    }
   },
   "outputs": [],
   "source": [
    "import pandas as pd\n",
    "import numpy as np\n",
    "from sklearn.model_selection import train_test_split\n",
    "import onnxruntime as rt\n",
    "import onnx"
   ]
  },
  {
   "cell_type": "code",
   "execution_count": 3,
   "metadata": {
    "ExecuteTime": {
     "end_time": "2024-03-17T17:47:41.024927300Z",
     "start_time": "2024-03-17T17:47:40.873788100Z"
    }
   },
   "outputs": [],
   "source": [
    "data = pd.read_csv('data/synth_data_for_training.csv')"
   ]
  },
  {
   "cell_type": "markdown",
   "metadata": {},
   "source": [
    "## Function for mutation testing"
   ]
  },
  {
   "cell_type": "code",
   "execution_count": 24,
   "metadata": {
    "ExecuteTime": {
     "end_time": "2024-03-17T17:59:33.044453200Z",
     "start_time": "2024-03-17T17:59:33.030578200Z"
    }
   },
   "outputs": [],
   "source": [
    "from onnxruntime.capi.onnxruntime_pybind11_state import InvalidArgument\n",
    "\n",
    "def test_mutation(data, feature_name : str, is_Fraud: bool ,value_from : int, value_to: int, model_path : str):\n",
    "    data_modified = data.copy() \n",
    "    is_checked = 1 if is_Fraud else 0\n",
    "    test_data= data_modified.loc[data_modified['checked'] == is_checked]\n",
    "    test_data = test_data.loc[test_data[feature_name] == value_from]\n",
    "    data_wout = test_data.copy()\n",
    "    y_wout = data_wout['checked']\n",
    "    X_wout= data_wout.drop(['checked'], axis=1)\n",
    "    X_wout = X_wout.astype(np.float32)\n",
    "    test_data[feature_name] = value_to\n",
    "    y_test = test_data['checked']\n",
    "    X_test= test_data.drop(['checked'], axis=1)\n",
    "    X_test = X_test.astype(np.float32)\n",
    "    session = rt.InferenceSession(model_path)\n",
    "        \n",
    "    try:\n",
    "        y_pred_onnx1 =  session.run(None, {'X': X_wout.values.astype(np.float32)})\n",
    "        y_pred_onnx2 =  session.run(None, {'X': X_test.values.astype(np.float32)})\n",
    "        y_pred_onnx1_np = np.array(y_pred_onnx1[0])\n",
    "        y_pred_onnx2_np = np.array(y_pred_onnx2[0])\n",
    "        diff_count = np.sum(y_pred_onnx1_np != y_pred_onnx2_np)\n",
    "        return diff_count, len(y_pred_onnx1_np)\n",
    "    except InvalidArgument:\n",
    "        print(\"Got error: empty test dataframe. \" \"Column is: \", feature_name, \" combo is:\", is_Fraud, value_from, value_to)\n",
    "        return 0, 0\n",
    "    # assert y_pred_onnx1[0].all() == y_pred_onnx2[0].all(), f'Model predictions are different. The model has bias towards {feature_name} with value {value_from} '\n",
    "    # return True"
   ]
  },
  {
   "cell_type": "markdown",
   "metadata": {},
   "source": [
    "## Test Cases"
   ]
  },
  {
   "cell_type": "code",
   "execution_count": 25,
   "outputs": [
    {
     "name": "stdout",
     "output_type": "stream",
     "text": [
      "Got error: empty test dataframe. Column is:  adres_aantal_brp_adres  combo is: True 11 11\n"
     ]
    },
    {
     "data": {
      "text/plain": "(0, 0)"
     },
     "execution_count": 25,
     "metadata": {},
     "output_type": "execute_result"
    }
   ],
   "source": [
    "test_mutation(data, \"adres_aantal_brp_adres\", True, 11, 11, \"model/model_1.onnx\")"
   ],
   "metadata": {
    "collapsed": false,
    "ExecuteTime": {
     "end_time": "2024-03-17T17:59:36.789154800Z",
     "start_time": "2024-03-17T17:59:36.761982600Z"
    }
   }
  },
  {
   "cell_type": "code",
   "execution_count": 26,
   "metadata": {
    "ExecuteTime": {
     "end_time": "2024-03-17T17:59:37.492361700Z",
     "start_time": "2024-03-17T17:59:37.461365900Z"
    }
   },
   "outputs": [
    {
     "data": {
      "text/plain": "(16, 663)"
     },
     "execution_count": 26,
     "metadata": {},
     "output_type": "execute_result"
    }
   ],
   "source": [
    "test_mutation(data, 'persoon_geslacht_vrouw', True, 0, 1, \"model/model_1.onnx\") #test if changing gender of women who are frauds to men to see if predictions change to not fraud"
   ]
  },
  {
   "cell_type": "code",
   "execution_count": 27,
   "metadata": {
    "ExecuteTime": {
     "end_time": "2024-03-17T17:59:38.046985300Z",
     "start_time": "2024-03-17T17:59:37.947742700Z"
    }
   },
   "outputs": [
    {
     "data": {
      "text/plain": "(11, 5879)"
     },
     "execution_count": 27,
     "metadata": {},
     "output_type": "execute_result"
    }
   ],
   "source": [
    "test_mutation(data, 'persoon_geslacht_vrouw', False, 0, 1, \"model/model_1.onnx\") #test if changing gender of men who are not frauds to women to see if predictions change to not fraud"
   ]
  },
  {
   "cell_type": "code",
   "execution_count": 28,
   "metadata": {
    "ExecuteTime": {
     "end_time": "2024-03-17T17:59:38.613485400Z",
     "start_time": "2024-03-17T17:59:38.583454500Z"
    }
   },
   "outputs": [
    {
     "data": {
      "text/plain": "(21, 708)"
     },
     "execution_count": 28,
     "metadata": {},
     "output_type": "execute_result"
    }
   ],
   "source": [
    "test_mutation(data, 'persoonlijke_eigenschappen_taaleis_voldaan', True, 0, 1, \"model/model_1.onnx\") #test if changing non dutch speaker people who are frauds to dutch speaking to see if predictions change to not fraud"
   ]
  },
  {
   "cell_type": "code",
   "execution_count": 29,
   "metadata": {
    "ExecuteTime": {
     "end_time": "2024-03-17T17:59:39.420628Z",
     "start_time": "2024-03-17T17:59:39.340270Z"
    }
   },
   "outputs": [
    {
     "data": {
      "text/plain": "(13, 6558)"
     },
     "execution_count": 29,
     "metadata": {},
     "output_type": "execute_result"
    }
   ],
   "source": [
    "test_mutation(data, 'persoonlijke_eigenschappen_taaleis_voldaan', False, 1, 0, \"model/model_1.onnx\") #test if changing dutch speaker people who are not frauds to non-dutch speaking to see if predictions change to fraud"
   ]
  },
  {
   "cell_type": "code",
   "execution_count": 30,
   "metadata": {
    "ExecuteTime": {
     "end_time": "2024-03-17T17:59:40.219283400Z",
     "start_time": "2024-03-17T17:59:40.194654900Z"
    }
   },
   "outputs": [
    {
     "data": {
      "text/plain": "(4, 104)"
     },
     "execution_count": 30,
     "metadata": {},
     "output_type": "execute_result"
    }
   ],
   "source": [
    "test_mutation(data, 'persoonlijke_eigenschappen_taaleis_voldaan', True, 2, 1, \"model/model_1.onnx\") #test if changing people who are frauds and did no take the dutch exam to dutch speaking to see if predictions change to not fraud"
   ]
  },
  {
   "cell_type": "markdown",
   "source": [
    "### Making a generic method that tests all combinations of feature values in mutation testing"
   ],
   "metadata": {
    "collapsed": false
   }
  },
  {
   "cell_type": "code",
   "execution_count": 31,
   "outputs": [
    {
     "name": "stdout",
     "output_type": "stream",
     "text": [
      "Got error: empty test dataframe. Column is:  adres_dagen_op_adres  combo is: True 24248 4700\n",
      "Got error: empty test dataframe. Column is:  adres_dagen_op_adres  combo is: True 24248 24248\n",
      "Got error: empty test dataframe. Column is:  afspraak_aanmelding_afgesloten  combo is: True 8 8\n",
      "Got error: empty test dataframe. Column is:  afspraak_aanmelding_afgesloten  combo is: True 8 3\n",
      "Got error: empty test dataframe. Column is:  afspraak_aantal_woorden  combo is: True 551 551\n",
      "Got error: empty test dataframe. Column is:  afspraak_aantal_woorden  combo is: True 551 84\n",
      "Got error: empty test dataframe. Column is:  afspraak_afgelopen_jaar_afsprakenplan  combo is: False 3 0\n",
      "Got error: empty test dataframe. Column is:  afspraak_afgelopen_jaar_afsprakenplan  combo is: False 3 3\n",
      "Got error: empty test dataframe. Column is:  afspraak_controle_verwijzing  combo is: True 2 2\n",
      "Got error: empty test dataframe. Column is:  afspraak_controle_verwijzing  combo is: True 2 0\n",
      "Got error: empty test dataframe. Column is:  afspraak_laatstejaar_aantal_woorden  combo is: True 322 106\n",
      "Got error: empty test dataframe. Column is:  afspraak_laatstejaar_aantal_woorden  combo is: True 322 322\n",
      "Got error: empty test dataframe. Column is:  afspraak_laatstejaar_resultaat_ingevuld_uniek  combo is: True 6 6\n",
      "Got error: empty test dataframe. Column is:  afspraak_laatstejaar_resultaat_ingevuld_uniek  combo is: True 6 1\n",
      "Got error: empty test dataframe. Column is:  afspraak_signaal_van_aanbieder  combo is: True 7 7\n",
      "Got error: empty test dataframe. Column is:  afspraak_signaal_van_aanbieder  combo is: True 7 0\n",
      "Got error: empty test dataframe. Column is:  afspraak_voortgangsgesprek  combo is: True 5 3\n",
      "Got error: empty test dataframe. Column is:  afspraak_voortgangsgesprek  combo is: True 5 5\n",
      "Got error: empty test dataframe. Column is:  belemmering_dagen_financiele_problemen  combo is: True 3628 3628\n",
      "Got error: empty test dataframe. Column is:  belemmering_dagen_financiele_problemen  combo is: True 3628 -1368\n",
      "Got error: empty test dataframe. Column is:  belemmering_dagen_financiele_problemen  combo is: True -1368 3628\n",
      "Got error: empty test dataframe. Column is:  belemmering_dagen_financiele_problemen  combo is: True -1368 -1368\n",
      "Got error: empty test dataframe. Column is:  belemmering_dagen_lichamelijke_problematiek  combo is: True 10769 10769\n",
      "Got error: empty test dataframe. Column is:  belemmering_dagen_lichamelijke_problematiek  combo is: True 10769 -5316\n",
      "Got error: empty test dataframe. Column is:  belemmering_dagen_lichamelijke_problematiek  combo is: True -5316 10769\n",
      "Got error: empty test dataframe. Column is:  belemmering_dagen_lichamelijke_problematiek  combo is: True -5316 -5316\n",
      "Got error: empty test dataframe. Column is:  belemmering_dagen_psychische_problemen  combo is: True 15446 15446\n",
      "Got error: empty test dataframe. Column is:  belemmering_dagen_psychische_problemen  combo is: True 15446 -3456\n",
      "Got error: empty test dataframe. Column is:  belemmering_dagen_psychische_problemen  combo is: True -3456 15446\n",
      "Got error: empty test dataframe. Column is:  belemmering_dagen_psychische_problemen  combo is: True -3456 -3456\n",
      "Got error: empty test dataframe. Column is:  belemmering_hist_lichamelijke_problematiek  combo is: True 3 3\n",
      "Got error: empty test dataframe. Column is:  belemmering_hist_lichamelijke_problematiek  combo is: True 3 1\n",
      "Got error: empty test dataframe. Column is:  competentie_gedrevenheid_en_ambitie_tonen  combo is: True 2 2\n",
      "Got error: empty test dataframe. Column is:  competentie_gedrevenheid_en_ambitie_tonen  combo is: True 2 1\n",
      "Got error: empty test dataframe. Column is:  competentie_samenwerken_en_overleggen  combo is: True 3 3\n",
      "Got error: empty test dataframe. Column is:  competentie_samenwerken_en_overleggen  combo is: True 3 1\n",
      "Got error: empty test dataframe. Column is:  contacten_onderwerp_documenttype__overeenkomst_  combo is: True 6 1\n",
      "Got error: empty test dataframe. Column is:  contacten_onderwerp_documenttype__overeenkomst_  combo is: True 6 6\n",
      "Got error: empty test dataframe. Column is:  contacten_onderwerp_no_show  combo is: True 6 4\n",
      "Got error: empty test dataframe. Column is:  contacten_onderwerp_no_show  combo is: True 6 6\n",
      "Got error: empty test dataframe. Column is:  contacten_onderwerp_uitnodiging  combo is: True 8 8\n",
      "Got error: empty test dataframe. Column is:  contacten_onderwerp_uitnodiging  combo is: True 8 3\n",
      "Got error: empty test dataframe. Column is:  contacten_onderwerp_ziek__of_afmelding  combo is: True 7 1\n",
      "Got error: empty test dataframe. Column is:  contacten_onderwerp_ziek__of_afmelding  combo is: True 7 7\n",
      "Got error: empty test dataframe. Column is:  contacten_soort_afgelopenjaar_anders  combo is: True 6 0\n",
      "Got error: empty test dataframe. Column is:  contacten_soort_afgelopenjaar_anders  combo is: True 6 6\n",
      "Got error: empty test dataframe. Column is:  contacten_soort_afgelopenjaar_document__uitgaand_  combo is: True 20 20\n",
      "Got error: empty test dataframe. Column is:  contacten_soort_afgelopenjaar_document__uitgaand_  combo is: True 20 12\n",
      "Got error: empty test dataframe. Column is:  contacten_soort_afgelopenjaar_e_mail__inkomend_  combo is: True 8 0\n",
      "Got error: empty test dataframe. Column is:  contacten_soort_afgelopenjaar_e_mail__inkomend_  combo is: True 8 8\n",
      "Got error: empty test dataframe. Column is:  contacten_soort_afgelopenjaar_rapportage_rib  combo is: True 4 4\n",
      "Got error: empty test dataframe. Column is:  contacten_soort_afgelopenjaar_rapportage_rib  combo is: True 4 2\n",
      "Got error: empty test dataframe. Column is:  contacten_soort_afgelopenjaar_telefoontje__inkomend_  combo is: True 7 0\n",
      "Got error: empty test dataframe. Column is:  contacten_soort_afgelopenjaar_telefoontje__inkomend_  combo is: True 7 7\n",
      "Got error: empty test dataframe. Column is:  contacten_soort_document__uitgaand_  combo is: True 87 87\n",
      "Got error: empty test dataframe. Column is:  contacten_soort_document__uitgaand_  combo is: True 87 95\n",
      "Got error: empty test dataframe. Column is:  contacten_soort_gesprek_op_locatie  combo is: True 2 1\n",
      "Got error: empty test dataframe. Column is:  contacten_soort_gesprek_op_locatie  combo is: True 2 2\n",
      "Got error: empty test dataframe. Column is:  contacten_soort_groepsbijeenkomsten  combo is: True 2 2\n",
      "Got error: empty test dataframe. Column is:  contacten_soort_groepsbijeenkomsten  combo is: True 2 0\n",
      "Got error: empty test dataframe. Column is:  contacten_soort_telefoontje__inkomend_  combo is: True 18 18\n",
      "Got error: empty test dataframe. Column is:  contacten_soort_telefoontje__inkomend_  combo is: True 18 19\n",
      "Got error: empty test dataframe. Column is:  contacten_soort_telefoontje__inkomend_  combo is: True 19 18\n",
      "Got error: empty test dataframe. Column is:  contacten_soort_telefoontje__inkomend_  combo is: True 19 19\n",
      "Got error: empty test dataframe. Column is:  contacten_soort_telefoontje__uitgaand_  combo is: True 19 4\n",
      "Got error: empty test dataframe. Column is:  contacten_soort_telefoontje__uitgaand_  combo is: True 19 19\n",
      "Got error: empty test dataframe. Column is:  deelname_act_reintegratieladder_werk_re_integratie  combo is: True 17 4\n",
      "Got error: empty test dataframe. Column is:  deelname_act_reintegratieladder_werk_re_integratie  combo is: True 17 17\n",
      "Got error: empty test dataframe. Column is:  instrument_ladder_huidig_activering  combo is: True 3 3\n",
      "Got error: empty test dataframe. Column is:  instrument_ladder_huidig_activering  combo is: True 3 0\n",
      "Got error: empty test dataframe. Column is:  instrument_reden_beeindiging_historie_centrale_actie_wigo4it  combo is: True 4 0\n",
      "Got error: empty test dataframe. Column is:  instrument_reden_beeindiging_historie_centrale_actie_wigo4it  combo is: True 4 4\n",
      "Got error: empty test dataframe. Column is:  instrument_reden_beeindiging_historie_doelstelling_bereikt__geen_uitstroom  combo is: True 6 4\n",
      "Got error: empty test dataframe. Column is:  instrument_reden_beeindiging_historie_doelstelling_bereikt__geen_uitstroom  combo is: True 6 6\n",
      "Got error: empty test dataframe. Column is:  instrument_reden_beeindiging_historie_uitval__klant_wz__ziet_af_van_aanbod  combo is: True 2 1\n",
      "Got error: empty test dataframe. Column is:  instrument_reden_beeindiging_historie_uitval__klant_wz__ziet_af_van_aanbod  combo is: True 2 2\n",
      "Got error: empty test dataframe. Column is:  ontheffing_dagen_hist_mean  combo is: True 2018 2018\n",
      "Got error: empty test dataframe. Column is:  ontheffing_dagen_hist_mean  combo is: True 2018 3295\n",
      "Got error: empty test dataframe. Column is:  ontheffing_dagen_hist_vanwege_uw_medische_omstandigheden  combo is: True 357 357\n",
      "Got error: empty test dataframe. Column is:  ontheffing_dagen_hist_vanwege_uw_medische_omstandigheden  combo is: True 357 899\n",
      "Got error: empty test dataframe. Column is:  ontheffing_reden_hist_tijdelijke_ontheffing_arbeidsverpl__en_tegenprestatie  combo is: True 2 1\n",
      "Got error: empty test dataframe. Column is:  ontheffing_reden_hist_tijdelijke_ontheffing_arbeidsverpl__en_tegenprestatie  combo is: True 2 2\n",
      "Got error: empty test dataframe. Column is:  persoonlijke_eigenschappen_dagen_sinds_opvoer  combo is: True 1193 1193\n",
      "Got error: empty test dataframe. Column is:  persoonlijke_eigenschappen_dagen_sinds_opvoer  combo is: True 1193 776\n",
      "Got error: empty test dataframe. Column is:  persoonlijke_eigenschappen_dagen_sinds_opvoer  combo is: True 776 1193\n",
      "Got error: empty test dataframe. Column is:  persoonlijke_eigenschappen_dagen_sinds_opvoer  combo is: True 776 776\n",
      "Got error: empty test dataframe. Column is:  persoonlijke_eigenschappen_dagen_sinds_taaleis  combo is: True 1107 1107\n",
      "Got error: empty test dataframe. Column is:  persoonlijke_eigenschappen_dagen_sinds_taaleis  combo is: True 1107 498\n",
      "Got error: empty test dataframe. Column is:  pla_actueel_pla_categorie_doelstelling_16  combo is: True 2 0\n",
      "Got error: empty test dataframe. Column is:  pla_actueel_pla_categorie_doelstelling_16  combo is: True 2 2\n",
      "Got error: empty test dataframe. Column is:  pla_einde_doelstelling_bereikt  combo is: True 3 3\n",
      "Got error: empty test dataframe. Column is:  pla_einde_doelstelling_bereikt  combo is: True 3 2\n",
      "Got error: empty test dataframe. Column is:  pla_hist_pla_categorie_doelstelling_11  combo is: True 2 2\n",
      "Got error: empty test dataframe. Column is:  pla_hist_pla_categorie_doelstelling_11  combo is: True 2 1\n",
      "Got error: empty test dataframe. Column is:  pla_hist_pla_categorie_doelstelling_16  combo is: True 3 3\n",
      "Got error: empty test dataframe. Column is:  pla_hist_pla_categorie_doelstelling_16  combo is: True 3 0\n",
      "Got error: empty test dataframe. Column is:  pla_hist_pla_categorie_doelstelling_3  combo is: True 5 5\n",
      "Got error: empty test dataframe. Column is:  pla_hist_pla_categorie_doelstelling_3  combo is: True 5 1\n",
      "Got error: empty test dataframe. Column is:  pla_ondertekeningen_actueel  combo is: True 3 1\n",
      "Got error: empty test dataframe. Column is:  pla_ondertekeningen_actueel  combo is: True 3 3\n",
      "Got error: empty test dataframe. Column is:  relatie_overig_actueel_vorm__gemachtigde  combo is: True 2 2\n",
      "Got error: empty test dataframe. Column is:  relatie_overig_actueel_vorm__gemachtigde  combo is: True 2 1\n",
      "Got error: empty test dataframe. Column is:  relatie_overig_historie_vorm__onderhoudsplichtige  combo is: True 3 2\n",
      "Got error: empty test dataframe. Column is:  relatie_overig_historie_vorm__onderhoudsplichtige  combo is: True 3 3\n",
      "Got error: empty test dataframe. Column is:  relatie_partner_totaal_dagen_partner  combo is: True 627 1412\n",
      "Got error: empty test dataframe. Column is:  relatie_partner_totaal_dagen_partner  combo is: True 627 627\n",
      "Got error: empty test dataframe. Column is:  typering_dagen_som  combo is: True 4075 4075\n",
      "Got error: empty test dataframe. Column is:  typering_dagen_som  combo is: True 4075 4645\n",
      "Got error: empty test dataframe. Column is:  typering_dagen_som  combo is: True 4645 4075\n",
      "Got error: empty test dataframe. Column is:  typering_dagen_som  combo is: True 4645 4645\n",
      "Got error: empty test dataframe. Column is:  checked  combo is: True 0 0\n",
      "Got error: empty test dataframe. Column is:  checked  combo is: True 0 1\n",
      "Got error: empty test dataframe. Column is:  checked  combo is: False 1 0\n",
      "Got error: empty test dataframe. Column is:  checked  combo is: False 1 1\n"
     ]
    }
   ],
   "source": [
    "df = pd.read_csv('data/synth_data_for_training.csv')\n",
    "mutation_test_results = {}\n",
    "model = \"model/model_1.onnx\"\n",
    "\n",
    "# Iterate over each column in the DataFrame and generate the mutation test combinations\n",
    "for column in df.columns:\n",
    "    # Get unique values for the current column\n",
    "    unique_values = df[column].unique()\n",
    "    if len(unique_values) > 1:\n",
    "        # We sample two random values from the unique options, and store this in the dictionary\n",
    "        rand_values = np.random.choice(unique_values, size=2, replace=False)\n",
    "        combos = []\n",
    "        for bool in [True, False]:\n",
    "            for a in rand_values:\n",
    "                for b in rand_values:\n",
    "                    combos.append([bool, a, b])\n",
    "        \n",
    "        mutation_test_results[column] = combos\n",
    "\n",
    "# Go over each combination and get how many tests failed to kill the mutation\n",
    "for column, values in mutation_test_results.items():\n",
    "    for combo in values:\n",
    "        num_differ, length = test_mutation(data, column, combo[0], combo[1], combo[2], model)\n",
    "        combo.append(num_differ)\n",
    "        combo.append(length)\n",
    "\n",
    "# features_to_ignore = [\"adres_dagen_op_adres\", \"afspraak_aantal_woorden\", \"afspraak_laatstejaar_aantal_woorden\", \"belemmering_dagen_financiele_problemen\", \n",
    "#                       \"belemmering_dagen_lichamelijke_problematiek\", \"belemmering_dagen_psychische_problemen\", \"contacten_onderwerp_overige\", \"contacten_onderwerp_terugbelverzoek\", \"contacten_onderwerp_traject\", \"contacten_soort_afgelopenjaar_document__uitgaand_\", \n",
    "#                       \"contacten_soort_document__inkomend_\", \"contacten_soort_document__uitgaand_\", \"contacten_soort_e_mail__inkomend_\", \"contacten_soort_e_mail__uitgaand_\", \"contacten_soort_telefoontje__inkomend_\", \"contacten_soort_telefoontje__uitgaand_\", \n",
    "#                       \"deelname_act_reintegratieladder_werk_re_integratie\", \"ontheffing_dagen_hist_mean\", \"ontheffing_dagen_hist_vanwege_uw_medische_omstandigheden\", \"persoon_leeftijd_bij_onderzoek\", \"persoonlijke_eigenschappen_dagen_sinds_opvoer\", \"persoonlijke_eigenschappen_dagen_sinds_taaleis\", \"persoonlijke_eigenschappen_spreektaal\", \"relatie_kind_leeftijd_verschil_ouder_eerste_kind\", \"typering_dagen_som\"]\n",
    "\n",
    "\n"
   ],
   "metadata": {
    "collapsed": false,
    "ExecuteTime": {
     "end_time": "2024-03-17T18:01:21.461003700Z",
     "start_time": "2024-03-17T17:59:43.069084300Z"
    }
   }
  },
  {
   "cell_type": "code",
   "execution_count": 32,
   "outputs": [
    {
     "name": "stdout",
     "output_type": "stream",
     "text": [
      "Column averages [('contacten_soort_afgelopenjaar_anders', 0.2112321333682687), ('adres_dagen_op_adres', 0.16666666666666666), ('relatie_overig_historie_vorm__kostendeler', 0.09500196515131666), ('ontheffing_dagen_hist_vanwege_uw_medische_omstandigheden', 0.08333333333333333), ('persoonlijke_eigenschappen_dagen_sinds_opvoer', 0.08333333333333333), ('contacten_soort_afgelopenjaar_e_mail__inkomend_', 0.07184922743824426), ('relatie_kind_leeftijd_verschil_ouder_eerste_kind', 0.05724182615629984), ('instrument_ladder_historie_activering', 0.042057993204428774), ('contacten_soort_afgelopenjaar_document__uitgaand_', 0.03996028791263341), ('afspraak_laatstejaar_resultaat_ingevuld_uniek', 0.03913259627559181), ('instrument_ladder_huidig_activering', 0.03444215808938844), ('contacten_onderwerp_documenttype__overeenkomst_', 0.030893317195744507), ('pla_hist_pla_categorie_doelstelling_16', 0.029699829954688187), ('relatie_overig_kostendeler', 0.029125334932183243), ('afspraak_afgelopen_jaar_voortgang_aanmelding_en_deelname', 0.028856333399360255), ('contacten_onderwerp_inkomen', 0.02847896708923548), ('contacten_onderwerp_no_show', 0.027941176470588237), ('adres_aantal_verzendadres', 0.02724662403090421), ('afspraak_vervolgmeting_matchbaarheid_werkzoekende_klant', 0.02701953146525597), ('contacten_soort_telefoontje__uitgaand_', 0.026863708392370813), ('relatie_overig_historie_vorm__andere_inwonende', 0.026636265017965302), ('afspraak_controle_aankondiging_maatregel', 0.026432035929507807), ('contacten_soort_afgelopenjaar_telefoontje__inkomend_', 0.02487185585651515), ('pla_historie_ontwikkeling', 0.0235061324738299), ('contacten_onderwerp_ziek__of_afmelding', 0.023485268562329926), ('deelname_act_actueel_projecten_uniek', 0.022039909266643856), ('contacten_onderwerp_overleg_met_inkomen', 0.02112099576801504), ('pla_einde_uitstroom_anders_dan_volgen_onderwijs__regulier_werk_of_als_zelfstandige', 0.019439828602876182), ('relatie_overig_actueel_vorm_other', 0.018680221539522777), ('competentie_instructies_en_procedures_opvolgen', 0.018233179625102), ('afspraak_afgelopen_jaar_ontheffing_taaleis', 0.01812726438975501), ('contacten_onderwerp_boolean_no_show', 0.01772269051449272), ('pla_ondertekeningen_historie', 0.017495974785656197), ('afspraak_signaal_voor_medewerker', 0.01716598550090011), ('afspraak_inspanningsperiode', 0.016670202669575543), ('instrument_reden_beeindiging_historie_succesvol', 0.016627243136873537), ('contacten_soort_rapportage_rib', 0.016222186734802514), ('pla_actueel_pla_categorie_doelstelling_16', 0.01600159647111787), ('relatie_overig_actueel_vorm__kostendeler', 0.015902039007092198), ('relatie_kind_huidige_aantal', 0.015155811449882733), ('contacten_soort_e_mail__inkomend_', 0.014705882352941176), ('contacten_onderwerp_contact_met_aanbieder', 0.014070224825599028), ('persoon_leeftijd_bij_onderzoek', 0.013888888888888888), ('ontheffing_reden_hist_tijdelijke_ontheffing_arbeidsverpl__en_tegenprestatie', 0.013751367666478024), ('contacten_onderwerp_documenttype__cv_', 0.013501241283633312), ('competentie_kwaliteit_leveren', 0.013232568783975163), ('contacten_onderwerp_documenten__innemen_', 0.012825097529258778), ('relatie_overig_bewindvoerder', 0.012571031681849384), ('contacten_soort_afgelopenjaar_gesprek', 0.012177115276300145), ('adres_recentste_plaats_other', 0.012110684671552265), ('afspraak_signaal_van_aanbieder', 0.011948587931256846), ('deelname_act_reintegratieladder_werk_re_integratie', 0.011890587947839032), ('beschikbaarheid_aantal_historie_afwijkend_wegens_medische_omstandigheden', 0.011744570042265673), ('contacten_soort_e_mail__uitgaand_', 0.011161761186886816), ('instrument_reden_beeindiging_historie_doelstelling_bereikt__uitstroom_overig', 0.010582984215955469), ('pla_ondertekeningen_actueel', 0.010310006837941183), ('contacten_soort_afgelopenjaar_telefoontje__uitgaand_', 0.010248879201885422), ('ontheffing_actueel_ind', 0.01021758945826138), ('instrument_reden_beeindiging_historie_niet_succesvol', 0.010124657470648824), ('afspraak_verzenden_beschikking_i_v_m__niet_voldoen_aan_wet_taaleis', 0.009910406688031554), ('beschikbaarheid_huidig_bekend', 0.009564797242806847), ('persoonlijke_eigenschappen_taaleis_voldaan', 0.009383664510905639), ('afspraak_afgelopen_jaar_monitoring_insp__wet_taaleis_na_12_mnd_n_a_v__taa04_____geen_maatregel', 0.009265007036075086), ('belemmering_psychische_problemen', 0.009117071730574088), ('ontheffing_reden_tijdelijke_ontheffing_arbeidsverpl__en_tegenprestatie', 0.00892371949884316), ('relatie_partner_aantal_partner___partner__ongehuwd_', 0.008912211036401305), ('competentie_overtuigen_en_beïnvloeden', 0.008877567300270972), ('contacten_onderwerp_boolean_beoordelen_taaleis', 0.008718884459014736), ('afspraak_afsprakenplan', 0.008651937142564995), ('instrument_reden_beeindiging_historie_uitval__klant_wz__ziet_af_van_aanbod', 0.008588086547744216), ('relatie_kind_tiener', 0.00843990563863026), ('afspraak_gespr__einde_zoekt___galo_gesprek_', 0.008080594827971903), ('instrument_ladder_huidig_other', 0.008034885275451313), ('afspraak_resultaat_ingevuld_uniek', 0.008015087932711577), ('beschikbaarheid_huidig_afwijkend_wegens_medische_omstandigheden', 0.008001393610911988), ('contacten_soort_anders', 0.007977502295684114), ('adres_recentste_wijk_charlois', 0.007899878022211225), ('pla_hist_pla_categorie_doelstelling_2', 0.007875017369418563), ('typering_indicatie_geheime_gegevens', 0.007837685825337426), ('contacten_onderwerp_vakantie', 0.007566159409240895), ('adres_recentste_buurt_vreewijk', 0.0074141225898247), ('contacten_onderwerp_beoordelen_taaleis', 0.00730981618944177), ('contacten_onderwerp_maatregel_overweging', 0.007303022597972221), ('instrument_aantal_laatstejaar', 0.0071309766922068845), ('instrument_ladder_huidig_werk_re_integratie', 0.007050685410247632), ('contacten_onderwerp__werk_intake', 0.0070224223584716755), ('persoonlijke_eigenschappen_nl_begrijpen3', 0.00699732240544751), ('contacten_onderwerp_boolean_documenttype__diploma_s_en_certificaten_', 0.006957701418110229), ('contacten_onderwerp_scholing', 0.006944444444444444), ('adres_recentste_wijk_delfshaven', 0.006768501268009737), ('pla_historie_other', 0.006762606059460132), ('afspraak_afgelopen_jaar_plan_van_aanpak', 0.006729863673837229), ('contacten_onderwerp_contact_derden', 0.006670553535907812), ('afspraak_afgelopen_jaar_afsprakenplan', 0.006661753442869323), ('contacten_onderwerp_groepsbijeenkomst', 0.006615084187699348), ('competentie_leren', 0.006501447639343654), ('instrument_reden_beeindiging_historie_overdracht_naar_mo', 0.00648693184941745), ('belemmering_ind', 0.0064705226223375125), ('competentie_plannen_en_organiseren', 0.006279781186368255), ('adres_recentste_buurt_groot_ijsselmonde', 0.006225480828599223), ('adres_aantal_verschillende_wijken', 0.0060669175515259315), ('contacten_onderwerp_boolean_taaleis___voldoet', 0.005979851823768705), ('contacten_onderwerp_inspanningstoets', 0.005938814866760168), ('beschikbaarheid_recent_afwijkend_wegens_medische_omstandigheden', 0.005777781383032973), ('pla_hist_pla_categorie_doelstelling_9', 0.005744191341412237), ('relatie_kind_jongvolwassen', 0.00571571070978219), ('contacten_soort_afgelopenjaar_e_mail__uitgaand_', 0.005649110099673624), ('contacten_onderwerp_boolean_financiële_situatie', 0.005647875311429348), ('competentie_omgaan_met_verandering_en_aanpassen', 0.005636611851394571), ('relatie_overig_actueel_vorm__ouders_verzorgers', 0.00561369750723611), ('instrument_reden_beeindiging_historie_doelstelling_bereikt__uitstroom_naar_regulier_werk', 0.005546122487594542), ('persoonlijke_eigenschappen_nl_lezen3', 0.005472794534379212), ('instrument_reden_beeindiging_historie_centrale_actie_wigo4it', 0.0053802829584024894), ('persoon_geslacht_vrouw', 0.005278307318222981), ('contacten_onderwerp_matching', 0.005208333333333333), ('persoonlijke_eigenschappen_uitstroom_verw_vlgs_klant', 0.005118287420672954), ('competentie_gedrevenheid_en_ambitie_tonen', 0.0050825281803542665), ('adres_recentste_wijk_noord', 0.005059340807391216), ('contacten_onderwerp_boolean_documenttype__overeenkomst_', 0.005027650394079426), ('competentie_samenwerken_en_overleggen', 0.005009001376681139), ('belemmering_niet_computervaardig', 0.005000627752245491), ('contacten_soort_gesprek_op_locatie', 0.004997889071464802), ('instrument_reden_beeindiging_historie_succesvol__doelstelling_bereikt', 0.004985231849746891), ('instrument_reden_beeindiging_historie_doelstelling_niet_bereikt__geen_uitstroom', 0.004922983072439487), ('persoonlijke_eigenschappen_taaleis_schrijfv_ok', 0.004922019771928671), ('competentie_materialen_en_middelen_inzetten', 0.004691762301750625), ('contacten_onderwerp_boolean_overleg_met_inkomen', 0.004626409615004559), ('competentie_vakdeskundigheid_toepassen', 0.004615922362036351), ('contacten_onderwerp_boolean_contact_met_aanbieder', 0.004536104541019326), ('contacten_onderwerp_mutatie', 0.00453128146201094), ('pla_hist_pla_categorie_doelstelling_6', 0.004338747051754729), ('contacten_onderwerp_boolean_maatregel_overweging', 0.00424230811015623), ('persoonlijke_eigenschappen_leergierigheid_opm', 0.0041660977281789665), ('afspraak_galo_gesprek', 0.004147575187835035), ('belemmering_hist_stabiele_mix__sz____dagbesteding_werk', 0.004145616018672973), ('belemmering_hist_psychische_problemen', 0.004031484069109684), ('adres_recentste_buurt_nieuwe_westen', 0.003981730413961277), ('pla_einde_doelstelling_niet_bereikt', 0.003887618625331454), ('afspraak_deelname_compleet_uit_webapplicatie', 0.003872147087101767), ('relatie_overig_historie_vorm__gemachtigde', 0.0038394593795468), ('afspraak_aanmelding_afgesloten', 0.0037995552488306107), ('relatie_kind_basisschool_kind', 0.003728123406081816), ('contacten_onderwerp_boolean_traject', 0.003681271778576706), ('ontheffing_reden_hist_other', 0.00363463575244883), ('beschikbaarheid_recent_afwijkend_wegens_sociaal_maatschappelijke_situatie', 0.0036257712421633617), ('afspraak_laatstejaar_aantal_woorden', 0.0036231884057971015), ('contacten_onderwerp_financiële_situatie', 0.003590309570525398), ('persoonlijke_eigenschappen_uitstroom_verw_vlgs_km', 0.0035714285714285713), ('instrument_reden_beeindiging_historie_overdracht_naar_regulier_team_iwpm', 0.0035517555187523715), ('afspraak_afgelopen_jaar_vervolgmeting_matchbaarheid_werkzoekende_klant', 0.003546050222920142), ('contacten_onderwerp_boolean__werk_intake', 0.003498296666657393), ('instrument_reden_beeindiging_historie_op_termijn_matchbaar', 0.0034804541165943397), ('ontheffing_reden_hist_vanwege_uw_sociaal_maatschappelijke_situatie', 0.0034593172591013384), ('contacten_onderwerp_boolean_mutatie', 0.0033751599225953317), ('deelname_act_hist_projecten_niet_gestart', 0.0033483275570485582), ('pla_einde_doelstelling_bereikt__nieuw_trajectplan', 0.0033250806770765084), ('beschikbaarheid_aantal_historie_afwijkend_wegens_sociaal_maatschappelijke_situatie', 0.0033195151154432434), ('relatie_kind_heeft_kinderen', 0.003259528515505799), ('persoonlijke_eigenschappen_nl_schrijven0', 0.0032580809931732394), ('competentie_aansturen', 0.0032313431311921104), ('adres_recentste_wijk_feijenoord', 0.0032214472487671845), ('typering_zorg__schoonmaak___welzijn', 0.003156118906892901), ('persoonlijke_eigenschappen_uiterlijke_verzorging_opm', 0.0031395002890387777), ('instrument_reden_beeindiging_historie_diagnose_gesteld', 0.0031253344970110304), ('belemmering_hist_verslavingsproblematiek', 0.0031094198522063), ('pla_hist_pla_categorie_doelstelling_5', 0.003041622907503238), ('competentie_onderzoeken', 0.0030120586358964533), ('persoonlijke_eigenschappen_ind_buiten_kantoortijden', 0.002958054250731471), ('pla_actueel_pla_categorie_doelstelling_9', 0.0028297145217813335), ('competentie_ethisch_en_integer_handelen', 0.0028017217406096544), ('contacten_onderwerp_boolean_ziek__of_afmelding', 0.002793528425515369), ('belemmering_financiele_problemen', 0.0027746574749555612), ('adres_recentste_wijk_ijsselmonde', 0.0027680836690205054), ('persoonlijke_eigenschappen_spreektaal_anders', 0.0026599482665589104), ('contacten_onderwerp__arbeids_motivatie', 0.0026445077280928676), ('contacten_onderwerp_boolean_scholing', 0.0026414169913418837), ('contacten_onderwerp_boolean_groepsbijeenkomst', 0.0026306387895889388), ('persoonlijke_eigenschappen_nl_schrijven3', 0.0025264340549664773), ('contacten_soort_groepsbijeenkomsten', 0.0025108330324351883), ('persoonlijke_eigenschappen_nl_spreken3', 0.002446542486163071), ('deelname_act_reintegratieladder_ondersteunende_instrumenten', 0.0023881831972941883), ('contacten_onderwerp_boolean_contact_derden', 0.0023591461118667883), ('adres_recentste_wijk_prins_alexa', 0.002340904933734639), ('contacten_onderwerp_boolean_overige', 0.0022991494846797862), ('pla_hist_pla_categorie_doelstelling_11', 0.002253185806548552), ('persoonlijke_eigenschappen_nl_schrijven1', 0.002239267134015303), ('belemmering_hist_lichamelijke_problematiek', 0.0022185632374291295), ('belemmering_woonsituatie', 0.002216524400843915), ('pla_einde_doelstelling_niet_bereikt__nieuw_trajectplan', 0.002164493981005384), ('afspraak_laatstejaar_resultaat_ingevuld', 0.002127914643649224), ('adres_aantal_brp_adres', 0.0021183763721077152), ('competentie_met_druk_en_tegenslag_omgaan', 0.00206297849847392), ('contacten_soort_afgelopenjaar_rapportage_rib', 0.00202020202020202), ('persoonlijke_eigenschappen_overige_opmerkingen', 0.002011877841022585), ('pla_hist_pla_categorie_doelstelling_10', 0.002007323618623077), ('contacten_onderwerp_werkintake__niet_verschenen', 0.001934018646456859), ('relatie_partner_huidige_partner___partner__gehuwd_', 0.001933870568699712), ('relatie_overig_actueel_vorm__onderhoudsplichtige', 0.0019299681177144259), ('instrument_reden_beeindiging_historie_overdracht_succesvol', 0.0019189134936677644), ('belemmering_ind_hist', 0.0018742589924788436), ('persoonlijke_eigenschappen_zelfstandigheid_opm', 0.0018165424702023313), ('ontheffing_reden_hist_medische_gronden', 0.0018039604505769918), ('instrument_reden_beeindiging_historie_other', 0.0017937070717200735), ('contacten_onderwerp_boolean_sollicitatie', 0.0017908151881747213), ('persoonlijke_eigenschappen_nl_spreken1', 0.0017904341525497019), ('persoonlijke_eigenschappen_ind_activering_traject', 0.0017834417693473239), ('typering_other', 0.001779975643760416), ('instrument_reden_beeindiging_historie_uitval__aanbod_niet_langer_zinvol_volgens_gemeente', 0.001759664803016315), ('contacten_onderwerp_arbeidsdiagnose_dariuz', 0.0016673679747503472), ('pla_hist_pla_categorie_doelstelling_other', 0.0015921380618507557), ('persoonlijke_eigenschappen_presentatie_opm', 0.0015834024970257845), ('relatie_partner_aantal_partner___partner__gehuwd_', 0.0014859308570149923), ('contacten_onderwerp__pre__intake', 0.0014783698330360967), ('persoonlijke_eigenschappen_motivatie_opm', 0.001451645162809206), ('adres_recentste_wijk_stadscentru', 0.0014425348738094513), ('persoonlijke_eigenschappen_initiatief_opm', 0.0014305101317239075), ('pla_historie_werk_en_inburgering', 0.001404869342189485), ('contacten_onderwerp_diagnosegesprek', 0.0013768618537161536), ('persoonlijke_eigenschappen_communicatie_opm', 0.0013742592407001643), ('contacten_soort_afgelopenjaar_gesprek_op_locatie', 0.001302116559633678), ('typering_hist_sector_zorg', 0.001292599221306548), ('relatie_overig_actueel_vorm__gemachtigde', 0.0012771392081736908), ('contacten_onderwerp_boolean__pre__intake', 0.001272876316928994), ('persoonlijke_eigenschappen_houding_opm', 0.0012668616184398904), ('persoonlijke_eigenschappen_doorzettingsvermogen_opm', 0.0012544138784242945), ('adres_recentste_buurt_other', 0.0012142336992513852), ('typering_hist_inburgeringsbehoeftig', 0.0011695702446807763), ('persoonlijke_eigenschappen_nl_schrijvenfalse', 0.001168450753327705), ('afspraak_controle_verwijzing', 0.0011233875919273884), ('contacten_onderwerp_zorg', 0.0011189368803570722), ('adres_aantal_woonadres_handmatig', 0.0011069518402748238), ('contacten_onderwerp_boolean_motivatie', 0.001091909935814475), ('ontheffing_reden_hist_sociale_gronden', 0.001075137898232527), ('adres_recentste_plaats_rotterdam', 0.0010733867668141046), ('instrument_reden_beeindiging_historie_overdracht_naar_prematching', 0.0010718645879466257), ('pla_historie_maatschappelijke_inspanning', 0.0009984738394408273), ('adres_recentste_wijk_other', 0.0009520730213480757), ('pla_einde_other', 0.000945040373536793), ('contacten_onderwerp_boolean_matching', 0.0009043741999417898), ('contacten_onderwerp_boolean__arbeids_motivatie', 0.0008990723204337027), ('adres_unieke_wijk_ratio', 0.0008956739607424538), ('pla_hist_pla_categorie_doelstelling_27', 0.000894328860237626), ('persoonlijke_eigenschappen_nl_schrijven2', 0.0008670324494544624), ('typering_transport__logistiek___tuinbouw', 0.0008564939529818671), ('instrument_ladder_historie_other', 0.0008498308339429407), ('persoonlijke_eigenschappen_ind_regulier_arbeidsritme', 0.0007826546289623354), ('contacten_onderwerp_boolean_terugbelverzoek', 0.0007780615855168181), ('adres_recentst_onderdeel_rdam', 0.0007761259035221334), ('afspraak_afgelopen_jaar_ontheffing', 0.0007593297852517313), ('persoonlijke_eigenschappen_hobbies_sport', 0.0007169529988601941), ('contacten_soort_rapportage_deelname', 0.0007142857142857143), ('afspraak_toevoegen_inschrijving_uwvwb', 0.0007020681297635364), ('contacten_onderwerp_boolean_documenttype__cv_', 0.0006767988259780101), ('persoonlijke_eigenschappen_nl_spreken2', 0.0006681122624305671), ('contacten_onderwerp_boolean_match___werk', 0.0006633156593727664), ('persoonlijke_eigenschappen_opstelling', 0.0006442089485822324), ('persoonlijke_eigenschappen_spreektaal', 0.0006389486463827069), ('persoonlijke_eigenschappen_flexibiliteit_opm', 0.0006257238547035699), ('contacten_onderwerp_quickscan', 0.0006222802532922537), ('contacten_onderwerp_traject', 0.0006218905472636816), ('instrument_reden_beeindiging_historie_niet_succesvol__reden_bij_werkzoekende', 0.0005526647406745723), ('pla_hist_pla_categorie_doelstelling_4', 0.0005510878322826291), ('typering_ind', 0.0005478334116417375), ('afspraak_participatietrede_vervolgmeting', 0.0005236127297634382), ('ontheffing_reden_hist_tijdelijke_ontheffing_arbeidsverplichtingen', 0.0005022351709091662), ('pla_einde_doelstelling_niet_bereikt__overdracht', 0.000499072184321316), ('contacten_onderwerp_boolean_documenten__innemen_', 0.0004728843854218311), ('pla_einde_geplande_einddatum_overschreden_zonder_nader_bericht', 0.00045466626798232497), ('contacten_onderwerp_boolean_inkomen', 0.0004294610993117759), ('contacten_onderwerp_screening', 0.000417023001737041), ('pla_hist_pla_categorie_doelstelling_3', 0.0003732950235900601), ('instrument_reden_beeindiging_historie_niet_matchbaar', 0.0003457427446308614), ('competentie_other', 0.00034340659340659343), ('persoonlijke_eigenschappen_nl_lezen4', 0.0003342188290754443), ('contacten_onderwerp_boolean_diagnosegesprek', 0.00032920957832657365), ('competentie_formuleren_en_rapporteren', 0.00031713249511860993), ('adres_recentste_buurt_oude_noorden', 0.0003081392950572848), ('contacten_onderwerp_inname_aanvraag', 0.0003053973626502578), ('afspraak_afgelopen_jaar_signaal_voor_medewerker', 0.00029976019184652276), ('typering_hist_aantal', 0.00027011458463071364), ('adres_recentste_wijk_kralingen_c', 0.00024008761987575714), ('contacten_onderwerp_boolean_zorg', 0.00023619900716768667), ('contacten_onderwerp_boolean_uitnodiging', 0.00022900148719229627), ('competentie_op_de_behoeften_en_verwachtingen_van_de__klant__richten', 0.00015249450122380962), ('belemmering_hist_taal', 0.00014073021885521885), ('instrument_reden_beeindiging_historie_direct_matchbaar', 0.00010220768601798856), ('typering_aantal', 9.69743987587277e-05), ('pla_einde_doelstelling_bereikt__overdracht', 9.048136083966703e-05), ('relatie_kind_volwassen', 3.556187766714083e-05), ('afspraak_other', 2.5479005299633102e-05), ('afspraak_aantal_woorden', 0.0), ('afspraak_voortgangsgesprek', 0.0), ('belemmering_aantal_huidig', 0.0), ('belemmering_dagen_financiele_problemen', 0.0), ('belemmering_dagen_lichamelijke_problematiek', 0.0), ('belemmering_dagen_psychische_problemen', 0.0), ('competentie_analyseren', 0.0), ('contacten_onderwerp_overige', 0.0), ('contacten_onderwerp_terugbelverzoek', 0.0), ('contacten_onderwerp_uitnodiging', 0.0), ('contacten_soort_afgelopenjaar_document__inkomend_', 0.0), ('contacten_soort_document__inkomend_', 0.0), ('contacten_soort_document__uitgaand_', 0.0), ('contacten_soort_telefoontje__inkomend_', 0.0), ('instrument_reden_beeindiging_historie_doelstelling_bereikt__geen_uitstroom', 0.0), ('ontheffing_dagen_hist_mean', 0.0), ('persoonlijke_eigenschappen_dagen_sinds_taaleis', 0.0), ('pla_einde_doelstelling_bereikt', 0.0), ('pla_hist_pla_categorie_doelstelling_1', 0.0), ('pla_historie_werk', 0.0), ('relatie_overig_historie_vorm__onderhoudsplichtige', 0.0), ('relatie_partner_totaal_dagen_partner', 0.0), ('typering_dagen_som', 0.0), ('checked', 0.0)] \n",
      "\n",
      "Global average 0.7642956350491878 %\n"
     ]
    }
   ],
   "source": [
    "# We can now do some basic data analysis.\n",
    "\n",
    "# We can compute a score on a per-column basis, getting an average across 8 tests of what percentage of mutants were failed to kill\n",
    "# We can also compute a sort of global metric. Just an average across all mutations\n",
    "column_avg = []\n",
    "all_percentages = []\n",
    "\n",
    "for column, values in mutation_test_results.items():\n",
    "    percentages = []\n",
    "    for combo in values:\n",
    "        # compute percentage, and add it to a temp array to compute the average value\n",
    "        if combo[4] != 0:\n",
    "            res = combo[3]/combo[4]\n",
    "            percentages.append(res)\n",
    "            all_percentages.append(res)\n",
    "    column_avg.append((column, np.mean(np.array(percentages))))\n",
    "\n",
    "column_avg = sorted(column_avg, key=lambda x: x[1], reverse=True)\n",
    "\n",
    "# Print the mutation metric per column and on a global metric\n",
    "print(\"Column averages\", column_avg, \"\\n\")\n",
    "print(\"Global average\", np.mean(np.array(all_percentages)) * 100, \"%\")"
   ],
   "metadata": {
    "collapsed": false,
    "ExecuteTime": {
     "end_time": "2024-03-17T18:01:21.467991700Z",
     "start_time": "2024-03-17T18:01:21.460002600Z"
    }
   }
  },
  {
   "cell_type": "code",
   "execution_count": null,
   "outputs": [],
   "source": [],
   "metadata": {
    "collapsed": false
   }
  }
 ],
 "metadata": {
  "language_info": {
   "name": "python"
  },
  "kernelspec": {
   "name": "python3",
   "language": "python",
   "display_name": "Python 3 (ipykernel)"
  }
 },
 "nbformat": 4,
 "nbformat_minor": 2
}
