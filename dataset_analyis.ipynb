{
 "cells": [
  {
   "cell_type": "markdown",
   "metadata": {},
   "source": [
    "# DATASET ANALYSIS"
   ]
  },
  {
   "cell_type": "markdown",
   "metadata": {},
   "source": [
    "## IMPORTS\n"
   ]
  },
  {
   "cell_type": "code",
   "execution_count": 16,
   "metadata": {},
   "outputs": [],
   "source": [
    "\n",
    "import pandas as pd\n",
    "import numpy as np\n",
    "import seaborn as sns\n",
    "import matplotlib.pyplot as plt\n",
    "from sklearn.model_selection import train_test_split\n",
    "import ipywidgets as widgets\n",
    "from IPython.display import display\n",
    "from IPython.display import clear_output\n",
    "\n",
    "from sklearn.neural_network import MLPClassifier\n",
    "from sklearn.metrics import accuracy_score\n",
    "from sklearn.pipeline import Pipeline\n",
    "from sklearn.metrics import confusion_matrix\n",
    "from sklearn.metrics import classification_report\n",
    "from sklearn.metrics import roc_curve, roc_auc_score\n"
   ]
  },
  {
   "cell_type": "code",
   "execution_count": 17,
   "metadata": {},
   "outputs": [
    {
     "name": "stderr",
     "output_type": "stream",
     "text": [
      "usage: jupyter [-h] [--version] [--config-dir] [--data-dir] [--runtime-dir]\n",
      "               [--paths] [--json] [--debug]\n",
      "               [subcommand]\n",
      "\n",
      "Jupyter: Interactive Computing\n",
      "\n",
      "positional arguments:\n",
      "  subcommand     the subcommand to launch\n",
      "\n",
      "options:\n",
      "  -h, --help     show this help message and exit\n",
      "  --version      show the versions of core jupyter packages and exit\n",
      "  --config-dir   show Jupyter config dir\n",
      "  --data-dir     show Jupyter data dir\n",
      "  --runtime-dir  show Jupyter runtime dir\n",
      "  --paths        show all Jupyter paths. Add --json for machine-readable\n",
      "                 format.\n",
      "  --json         output paths as machine-readable json\n",
      "  --debug        output debug information about paths\n",
      "\n",
      "Available subcommands: kernel kernelspec migrate run troubleshoot\n",
      "\n",
      "Jupyter command `jupyter-nbextension` not found.\n"
     ]
    }
   ],
   "source": [
    "!jupyter nbextension enable --py --sys-prefix widgetsnbextension"
   ]
  },
  {
   "cell_type": "markdown",
   "metadata": {},
   "source": [
    "## LOAD DATASET\n"
   ]
  },
  {
   "cell_type": "code",
   "execution_count": 18,
   "metadata": {},
   "outputs": [],
   "source": [
    "# Let's load the dataset\n",
    "data = pd.read_csv('data/synth_data_for_training.csv')\n",
    "\n",
    "# Let's specify the features and the target\n",
    "y = data['checked']\n",
    "X = data.drop(['checked'], axis=1)\n",
    "X = X.astype(np.float32)\n",
    "\n",
    "# Let's split the dataset into train and test\n",
    "X_train, X_test, y_train, y_test = train_test_split(X, y, test_size=0.25, random_state=42)"
   ]
  },
  {
   "cell_type": "markdown",
   "metadata": {},
   "source": [
    "## SHOW DATASET FEATURES"
   ]
  },
  {
   "cell_type": "code",
   "execution_count": 19,
   "metadata": {},
   "outputs": [
    {
     "name": "stdout",
     "output_type": "stream",
     "text": [
      "adres_aantal_brp_adres\n",
      "adres_aantal_verschillende_wijken\n",
      "adres_aantal_verzendadres\n",
      "adres_aantal_woonadres_handmatig\n",
      "adres_dagen_op_adres\n",
      "adres_recentst_onderdeel_rdam\n",
      "adres_recentste_buurt_groot_ijsselmonde\n",
      "adres_recentste_buurt_nieuwe_westen\n",
      "adres_recentste_buurt_other\n",
      "adres_recentste_buurt_oude_noorden\n",
      "adres_recentste_buurt_vreewijk\n",
      "adres_recentste_plaats_other\n",
      "adres_recentste_plaats_rotterdam\n",
      "adres_recentste_wijk_charlois\n",
      "adres_recentste_wijk_delfshaven\n",
      "adres_recentste_wijk_feijenoord\n",
      "adres_recentste_wijk_ijsselmonde\n",
      "adres_recentste_wijk_kralingen_c\n",
      "adres_recentste_wijk_noord\n",
      "adres_recentste_wijk_other\n",
      "adres_recentste_wijk_prins_alexa\n",
      "adres_recentste_wijk_stadscentru\n",
      "adres_unieke_wijk_ratio\n",
      "afspraak_aanmelding_afgesloten\n",
      "afspraak_aantal_woorden\n",
      "afspraak_afgelopen_jaar_afsprakenplan\n",
      "afspraak_afgelopen_jaar_monitoring_insp__wet_taaleis_na_12_mnd_n_a_v__taa04_____geen_maatregel\n",
      "afspraak_afgelopen_jaar_ontheffing\n",
      "afspraak_afgelopen_jaar_ontheffing_taaleis\n",
      "afspraak_afgelopen_jaar_plan_van_aanpak\n",
      "afspraak_afgelopen_jaar_signaal_voor_medewerker\n",
      "afspraak_afgelopen_jaar_vervolgmeting_matchbaarheid_werkzoekende_klant\n",
      "afspraak_afgelopen_jaar_voortgang_aanmelding_en_deelname\n",
      "afspraak_afsprakenplan\n",
      "afspraak_controle_aankondiging_maatregel\n",
      "afspraak_controle_verwijzing\n",
      "afspraak_deelname_compleet_uit_webapplicatie\n",
      "afspraak_galo_gesprek\n",
      "afspraak_gespr__einde_zoekt___galo_gesprek_\n",
      "afspraak_inspanningsperiode\n",
      "afspraak_laatstejaar_aantal_woorden\n",
      "afspraak_laatstejaar_resultaat_ingevuld\n",
      "afspraak_laatstejaar_resultaat_ingevuld_uniek\n",
      "afspraak_other\n",
      "afspraak_participatietrede_vervolgmeting\n",
      "afspraak_resultaat_ingevuld_uniek\n",
      "afspraak_signaal_van_aanbieder\n",
      "afspraak_signaal_voor_medewerker\n",
      "afspraak_toevoegen_inschrijving_uwvwb\n",
      "afspraak_vervolgmeting_matchbaarheid_werkzoekende_klant\n",
      "afspraak_verzenden_beschikking_i_v_m__niet_voldoen_aan_wet_taaleis\n",
      "afspraak_voortgangsgesprek\n",
      "belemmering_aantal_huidig\n",
      "belemmering_dagen_financiele_problemen\n",
      "belemmering_dagen_lichamelijke_problematiek\n",
      "belemmering_dagen_psychische_problemen\n",
      "belemmering_financiele_problemen\n",
      "belemmering_hist_lichamelijke_problematiek\n",
      "belemmering_hist_psychische_problemen\n",
      "belemmering_hist_stabiele_mix__sz____dagbesteding_werk\n",
      "belemmering_hist_taal\n",
      "belemmering_hist_verslavingsproblematiek\n",
      "belemmering_ind\n",
      "belemmering_ind_hist\n",
      "belemmering_niet_computervaardig\n",
      "belemmering_psychische_problemen\n",
      "belemmering_woonsituatie\n",
      "beschikbaarheid_aantal_historie_afwijkend_wegens_medische_omstandigheden\n",
      "beschikbaarheid_aantal_historie_afwijkend_wegens_sociaal_maatschappelijke_situatie\n",
      "beschikbaarheid_huidig_afwijkend_wegens_medische_omstandigheden\n",
      "beschikbaarheid_huidig_bekend\n",
      "beschikbaarheid_recent_afwijkend_wegens_medische_omstandigheden\n",
      "beschikbaarheid_recent_afwijkend_wegens_sociaal_maatschappelijke_situatie\n",
      "competentie_aansturen\n",
      "competentie_analyseren\n",
      "competentie_ethisch_en_integer_handelen\n",
      "competentie_formuleren_en_rapporteren\n",
      "competentie_gedrevenheid_en_ambitie_tonen\n",
      "competentie_instructies_en_procedures_opvolgen\n",
      "competentie_kwaliteit_leveren\n",
      "competentie_leren\n",
      "competentie_materialen_en_middelen_inzetten\n",
      "competentie_met_druk_en_tegenslag_omgaan\n",
      "competentie_omgaan_met_verandering_en_aanpassen\n",
      "competentie_onderzoeken\n",
      "competentie_op_de_behoeften_en_verwachtingen_van_de__klant__richten\n",
      "competentie_other\n",
      "competentie_overtuigen_en_beïnvloeden\n",
      "competentie_plannen_en_organiseren\n",
      "competentie_samenwerken_en_overleggen\n",
      "competentie_vakdeskundigheid_toepassen\n",
      "contacten_onderwerp__arbeids_motivatie\n",
      "contacten_onderwerp__pre__intake\n",
      "contacten_onderwerp__werk_intake\n",
      "contacten_onderwerp_arbeidsdiagnose_dariuz\n",
      "contacten_onderwerp_beoordelen_taaleis\n",
      "contacten_onderwerp_boolean__arbeids_motivatie\n",
      "contacten_onderwerp_boolean__pre__intake\n",
      "contacten_onderwerp_boolean__werk_intake\n",
      "contacten_onderwerp_boolean_beoordelen_taaleis\n",
      "contacten_onderwerp_boolean_contact_derden\n",
      "contacten_onderwerp_boolean_contact_met_aanbieder\n",
      "contacten_onderwerp_boolean_diagnosegesprek\n",
      "contacten_onderwerp_boolean_documenten__innemen_\n",
      "contacten_onderwerp_boolean_documenttype__cv_\n",
      "contacten_onderwerp_boolean_documenttype__diploma_s_en_certificaten_\n",
      "contacten_onderwerp_boolean_documenttype__overeenkomst_\n",
      "contacten_onderwerp_boolean_financiële_situatie\n",
      "contacten_onderwerp_boolean_groepsbijeenkomst\n",
      "contacten_onderwerp_boolean_inkomen\n",
      "contacten_onderwerp_boolean_maatregel_overweging\n",
      "contacten_onderwerp_boolean_match___werk\n",
      "contacten_onderwerp_boolean_matching\n",
      "contacten_onderwerp_boolean_motivatie\n",
      "contacten_onderwerp_boolean_mutatie\n",
      "contacten_onderwerp_boolean_no_show\n",
      "contacten_onderwerp_boolean_overige\n",
      "contacten_onderwerp_boolean_overleg_met_inkomen\n",
      "contacten_onderwerp_boolean_scholing\n",
      "contacten_onderwerp_boolean_sollicitatie\n",
      "contacten_onderwerp_boolean_taaleis___voldoet\n",
      "contacten_onderwerp_boolean_terugbelverzoek\n",
      "contacten_onderwerp_boolean_traject\n",
      "contacten_onderwerp_boolean_uitnodiging\n",
      "contacten_onderwerp_boolean_ziek__of_afmelding\n",
      "contacten_onderwerp_boolean_zorg\n",
      "contacten_onderwerp_contact_derden\n",
      "contacten_onderwerp_contact_met_aanbieder\n",
      "contacten_onderwerp_diagnosegesprek\n",
      "contacten_onderwerp_documenten__innemen_\n",
      "contacten_onderwerp_documenttype__cv_\n",
      "contacten_onderwerp_documenttype__overeenkomst_\n",
      "contacten_onderwerp_financiële_situatie\n",
      "contacten_onderwerp_groepsbijeenkomst\n",
      "contacten_onderwerp_inkomen\n",
      "contacten_onderwerp_inname_aanvraag\n",
      "contacten_onderwerp_inspanningstoets\n",
      "contacten_onderwerp_maatregel_overweging\n",
      "contacten_onderwerp_matching\n",
      "contacten_onderwerp_mutatie\n",
      "contacten_onderwerp_no_show\n",
      "contacten_onderwerp_overige\n",
      "contacten_onderwerp_overleg_met_inkomen\n",
      "contacten_onderwerp_quickscan\n",
      "contacten_onderwerp_scholing\n",
      "contacten_onderwerp_screening\n",
      "contacten_onderwerp_terugbelverzoek\n",
      "contacten_onderwerp_traject\n",
      "contacten_onderwerp_uitnodiging\n",
      "contacten_onderwerp_vakantie\n",
      "contacten_onderwerp_werkintake__niet_verschenen\n",
      "contacten_onderwerp_ziek__of_afmelding\n",
      "contacten_onderwerp_zorg\n",
      "contacten_soort_afgelopenjaar_anders\n",
      "contacten_soort_afgelopenjaar_document__inkomend_\n",
      "contacten_soort_afgelopenjaar_document__uitgaand_\n",
      "contacten_soort_afgelopenjaar_e_mail__inkomend_\n",
      "contacten_soort_afgelopenjaar_e_mail__uitgaand_\n",
      "contacten_soort_afgelopenjaar_gesprek\n",
      "contacten_soort_afgelopenjaar_gesprek_op_locatie\n",
      "contacten_soort_afgelopenjaar_rapportage_rib\n",
      "contacten_soort_afgelopenjaar_telefoontje__inkomend_\n",
      "contacten_soort_afgelopenjaar_telefoontje__uitgaand_\n",
      "contacten_soort_anders\n",
      "contacten_soort_document__inkomend_\n",
      "contacten_soort_document__uitgaand_\n",
      "contacten_soort_e_mail__inkomend_\n",
      "contacten_soort_e_mail__uitgaand_\n",
      "contacten_soort_gesprek_op_locatie\n",
      "contacten_soort_groepsbijeenkomsten\n",
      "contacten_soort_rapportage_deelname\n",
      "contacten_soort_rapportage_rib\n",
      "contacten_soort_telefoontje__inkomend_\n",
      "contacten_soort_telefoontje__uitgaand_\n",
      "deelname_act_actueel_projecten_uniek\n",
      "deelname_act_hist_projecten_niet_gestart\n",
      "deelname_act_reintegratieladder_ondersteunende_instrumenten\n",
      "deelname_act_reintegratieladder_werk_re_integratie\n",
      "instrument_aantal_laatstejaar\n",
      "instrument_ladder_historie_activering\n",
      "instrument_ladder_historie_other\n",
      "instrument_ladder_huidig_activering\n",
      "instrument_ladder_huidig_other\n",
      "instrument_ladder_huidig_werk_re_integratie\n",
      "instrument_reden_beeindiging_historie_centrale_actie_wigo4it\n",
      "instrument_reden_beeindiging_historie_diagnose_gesteld\n",
      "instrument_reden_beeindiging_historie_direct_matchbaar\n",
      "instrument_reden_beeindiging_historie_doelstelling_bereikt__geen_uitstroom\n",
      "instrument_reden_beeindiging_historie_doelstelling_bereikt__uitstroom_naar_regulier_werk\n",
      "instrument_reden_beeindiging_historie_doelstelling_bereikt__uitstroom_overig\n",
      "instrument_reden_beeindiging_historie_doelstelling_niet_bereikt__geen_uitstroom\n",
      "instrument_reden_beeindiging_historie_niet_matchbaar\n",
      "instrument_reden_beeindiging_historie_niet_succesvol\n",
      "instrument_reden_beeindiging_historie_niet_succesvol__reden_bij_werkzoekende\n",
      "instrument_reden_beeindiging_historie_op_termijn_matchbaar\n",
      "instrument_reden_beeindiging_historie_other\n",
      "instrument_reden_beeindiging_historie_overdracht_naar_mo\n",
      "instrument_reden_beeindiging_historie_overdracht_naar_prematching\n",
      "instrument_reden_beeindiging_historie_overdracht_naar_regulier_team_iwpm\n",
      "instrument_reden_beeindiging_historie_overdracht_succesvol\n",
      "instrument_reden_beeindiging_historie_succesvol\n",
      "instrument_reden_beeindiging_historie_succesvol__doelstelling_bereikt\n",
      "instrument_reden_beeindiging_historie_uitval__aanbod_niet_langer_zinvol_volgens_gemeente\n",
      "instrument_reden_beeindiging_historie_uitval__klant_wz__ziet_af_van_aanbod\n",
      "ontheffing_actueel_ind\n",
      "ontheffing_dagen_hist_mean\n",
      "ontheffing_dagen_hist_vanwege_uw_medische_omstandigheden\n",
      "ontheffing_hist_ind\n",
      "ontheffing_reden_hist_medische_gronden\n",
      "ontheffing_reden_hist_other\n",
      "ontheffing_reden_hist_sociale_gronden\n",
      "ontheffing_reden_hist_tijdelijke_ontheffing_arbeidsverpl__en_tegenprestatie\n",
      "ontheffing_reden_hist_tijdelijke_ontheffing_arbeidsverplichtingen\n",
      "ontheffing_reden_hist_vanwege_uw_sociaal_maatschappelijke_situatie\n",
      "ontheffing_reden_tijdelijke_ontheffing_arbeidsverpl__en_tegenprestatie\n",
      "persoon_geslacht_vrouw\n",
      "persoon_leeftijd_bij_onderzoek\n",
      "persoonlijke_eigenschappen_communicatie_opm\n",
      "persoonlijke_eigenschappen_dagen_sinds_opvoer\n",
      "persoonlijke_eigenschappen_dagen_sinds_taaleis\n",
      "persoonlijke_eigenschappen_doorzettingsvermogen_opm\n",
      "persoonlijke_eigenschappen_flexibiliteit_opm\n",
      "persoonlijke_eigenschappen_hobbies_sport\n",
      "persoonlijke_eigenschappen_houding_opm\n",
      "persoonlijke_eigenschappen_ind_activering_traject\n",
      "persoonlijke_eigenschappen_ind_buiten_kantoortijden\n",
      "persoonlijke_eigenschappen_ind_regulier_arbeidsritme\n",
      "persoonlijke_eigenschappen_initiatief_opm\n",
      "persoonlijke_eigenschappen_leergierigheid_opm\n",
      "persoonlijke_eigenschappen_motivatie_opm\n",
      "persoonlijke_eigenschappen_nl_begrijpen3\n",
      "persoonlijke_eigenschappen_nl_lezen3\n",
      "persoonlijke_eigenschappen_nl_lezen4\n",
      "persoonlijke_eigenschappen_nl_schrijven0\n",
      "persoonlijke_eigenschappen_nl_schrijven1\n",
      "persoonlijke_eigenschappen_nl_schrijven2\n",
      "persoonlijke_eigenschappen_nl_schrijven3\n",
      "persoonlijke_eigenschappen_nl_schrijvenfalse\n",
      "persoonlijke_eigenschappen_nl_spreken1\n",
      "persoonlijke_eigenschappen_nl_spreken2\n",
      "persoonlijke_eigenschappen_nl_spreken3\n",
      "persoonlijke_eigenschappen_opstelling\n",
      "persoonlijke_eigenschappen_overige_opmerkingen\n",
      "persoonlijke_eigenschappen_presentatie_opm\n",
      "persoonlijke_eigenschappen_spreektaal\n",
      "persoonlijke_eigenschappen_spreektaal_anders\n",
      "persoonlijke_eigenschappen_taaleis_schrijfv_ok\n",
      "persoonlijke_eigenschappen_taaleis_voldaan\n",
      "persoonlijke_eigenschappen_uiterlijke_verzorging_opm\n",
      "persoonlijke_eigenschappen_uitstroom_verw_vlgs_klant\n",
      "persoonlijke_eigenschappen_uitstroom_verw_vlgs_km\n",
      "persoonlijke_eigenschappen_zelfstandigheid_opm\n",
      "pla_actueel_pla_categorie_doelstelling_16\n",
      "pla_actueel_pla_categorie_doelstelling_9\n",
      "pla_einde_doelstelling_bereikt\n",
      "pla_einde_doelstelling_bereikt__nieuw_trajectplan\n",
      "pla_einde_doelstelling_bereikt__overdracht\n",
      "pla_einde_doelstelling_niet_bereikt\n",
      "pla_einde_doelstelling_niet_bereikt__nieuw_trajectplan\n",
      "pla_einde_doelstelling_niet_bereikt__overdracht\n",
      "pla_einde_geplande_einddatum_overschreden_zonder_nader_bericht\n",
      "pla_einde_other\n",
      "pla_einde_uitstroom_anders_dan_volgen_onderwijs__regulier_werk_of_als_zelfstandige\n",
      "pla_hist_pla_categorie_doelstelling_1\n",
      "pla_hist_pla_categorie_doelstelling_10\n",
      "pla_hist_pla_categorie_doelstelling_11\n",
      "pla_hist_pla_categorie_doelstelling_16\n",
      "pla_hist_pla_categorie_doelstelling_2\n",
      "pla_hist_pla_categorie_doelstelling_27\n",
      "pla_hist_pla_categorie_doelstelling_3\n",
      "pla_hist_pla_categorie_doelstelling_4\n",
      "pla_hist_pla_categorie_doelstelling_5\n",
      "pla_hist_pla_categorie_doelstelling_6\n",
      "pla_hist_pla_categorie_doelstelling_9\n",
      "pla_hist_pla_categorie_doelstelling_other\n",
      "pla_historie_maatschappelijke_inspanning\n",
      "pla_historie_ontwikkeling\n",
      "pla_historie_other\n",
      "pla_historie_werk\n",
      "pla_historie_werk_en_inburgering\n",
      "pla_ondertekeningen_actueel\n",
      "pla_ondertekeningen_historie\n",
      "relatie_kind_basisschool_kind\n",
      "relatie_kind_heeft_kinderen\n",
      "relatie_kind_huidige_aantal\n",
      "relatie_kind_jongvolwassen\n",
      "relatie_kind_leeftijd_verschil_ouder_eerste_kind\n",
      "relatie_kind_tiener\n",
      "relatie_kind_volwassen\n",
      "relatie_overig_actueel_vorm__gemachtigde\n",
      "relatie_overig_actueel_vorm__kostendeler\n",
      "relatie_overig_actueel_vorm__onderhoudsplichtige\n",
      "relatie_overig_actueel_vorm__ouders_verzorgers\n",
      "relatie_overig_actueel_vorm_other\n",
      "relatie_overig_bewindvoerder\n",
      "relatie_overig_historie_vorm__andere_inwonende\n",
      "relatie_overig_historie_vorm__gemachtigde\n",
      "relatie_overig_historie_vorm__kostendeler\n",
      "relatie_overig_historie_vorm__onderhoudsplichtige\n",
      "relatie_overig_kostendeler\n",
      "relatie_partner_aantal_partner___partner__gehuwd_\n",
      "relatie_partner_aantal_partner___partner__ongehuwd_\n",
      "relatie_partner_huidige_partner___partner__gehuwd_\n",
      "relatie_partner_totaal_dagen_partner\n",
      "typering_aantal\n",
      "typering_dagen_som\n",
      "typering_hist_aantal\n",
      "typering_hist_inburgeringsbehoeftig\n",
      "typering_hist_ind\n",
      "typering_hist_sector_zorg\n",
      "typering_ind\n",
      "typering_indicatie_geheime_gegevens\n",
      "typering_other\n",
      "typering_transport__logistiek___tuinbouw\n",
      "typering_zorg__schoonmaak___welzijn\n"
     ]
    }
   ],
   "source": [
    "for column in X.columns:\n",
    "    print(column)"
   ]
  },
  {
   "cell_type": "markdown",
   "metadata": {},
   "source": [
    "## DISTRIBUTION OF TARGET VALUE"
   ]
  },
  {
   "cell_type": "code",
   "execution_count": 20,
   "metadata": {},
   "outputs": [
    {
     "data": {
      "text/plain": [
       "<Axes: xlabel='checked', ylabel='count'>"
      ]
     },
     "execution_count": 20,
     "metadata": {},
     "output_type": "execute_result"
    },
    {
     "data": {
      "image/png": "[encoded data removed]",
      "text/plain": [
       "<Figure size 640x480 with 1 Axes>"
      ]
     },
     "metadata": {},
     "output_type": "display_data"
    }
   ],
   "source": [
    "# Visualize the distribution of the target variable 'checked'\n",
    "sns.countplot(x='checked', data=data)"
   ]
  },
  {
   "cell_type": "code",
   "execution_count": 21,
   "metadata": {},
   "outputs": [
    {
     "data": {
      "application/vnd.jupyter.widget-view+json": {
       "model_id": "a5a2bdb1dece4cccb3dec5cbd286b386",
       "version_major": 2,
       "version_minor": 0
      },
      "text/plain": [
       "Dropdown(description='Feature:', options=('adres_aantal_brp_adres', 'adres_aantal_verschillende_wijken', 'adre…"
      ]
     },
     "metadata": {},
     "output_type": "display_data"
    },
    {
     "data": {
      "application/vnd.jupyter.widget-view+json": {
       "model_id": "3ce2a816a54c404bb0ab1192d7bb52f6",
       "version_major": 2,
       "version_minor": 0
      },
      "text/plain": [
       "Output()"
      ]
     },
     "metadata": {},
     "output_type": "display_data"
    }
   ],
   "source": [
    "\n",
    "\n",
    "# Create a dropdown menu with all the features\n",
    "feature_dropdown = widgets.Dropdown(\n",
    "    options=data.columns,\n",
    "    description='Feature:',\n",
    ")\n",
    "\n",
    "# Create a new output area for the dropdown menu\n",
    "output = widgets.Output()\n",
    "\n",
    "# Define a function to update the plot when a new feature is selected\n",
    "def update_plot(feature):\n",
    "    with output:\n",
    "        clear_output(wait=True)  # Clear the current output\n",
    "        sns.histplot(data=data, x=feature, legend=True)\n",
    "        plt.xlabel(feature)\n",
    "        plt.ylabel('Frequency')\n",
    "        plt.title(f'Distribution of {feature}')\n",
    "        plt.show()\n",
    "\n",
    "# Display the dropdown menu and the initial plot\n",
    "display(feature_dropdown)\n",
    "display(output)\n",
    "\n",
    "# Call the update_plot function when a new feature is is selected\n",
    "feature_dropdown.observe(lambda change: update_plot(change.new), names='value')"
   ]
  },
  {
   "cell_type": "markdown",
   "metadata": {},
   "source": [
    "## ANALYSE BIAS IN MODEL PREDICTIONS\n"
   ]
  },
  {
   "cell_type": "code",
   "execution_count": 22,
   "metadata": {},
   "outputs": [],
   "source": [
    "# Define a gradient boosting classifier\n",
    "classifier = MLPClassifier(hidden_layer_sizes=5, activation='relu', learning_rate='adaptive')"
   ]
  },
  {
   "cell_type": "code",
   "execution_count": 23,
   "metadata": {},
   "outputs": [],
   "source": [
    "# Create a pipeline object with our selector and classifier\n",
    "# NOTE: You can create custom pipeline objects but they must be registered to onnx or it will not recognise them\n",
    "# Because of this we recommend using the onnx known objects as defined in the documentation\n",
    "pipeline = Pipeline(steps=[('classification', classifier)])\n",
    "\n"
   ]
  },
  {
   "cell_type": "code",
   "execution_count": 24,
   "metadata": {},
   "outputs": [
    {
     "name": "stdout",
     "output_type": "stream",
     "text": [
      "Accuracy of the original model:  0.9133459835547122\n"
     ]
    }
   ],
   "source": [
    "# Let's train a simple model\n",
    "pipeline.fit(X_train, y_train)\n",
    "\n",
    "# Let's evaluate the model\n",
    "y_pred = pipeline.predict(X_test)\n",
    "original_accuracy = accuracy_score(y_test, y_pred)\n",
    "print('Accuracy of the original model: ', original_accuracy)"
   ]
  },
  {
   "cell_type": "markdown",
   "metadata": {},
   "source": [
    "## Confusion Matrix\n"
   ]
  },
  {
   "cell_type": "code",
   "execution_count": 25,
   "metadata": {},
   "outputs": [
    {
     "name": "stdout",
     "output_type": "stream",
     "text": [
      "[[2742  114]\n",
      " [ 160  146]]\n"
     ]
    }
   ],
   "source": [
    "conf_matrix = confusion_matrix(y_test, y_pred)\n",
    "print(conf_matrix)"
   ]
  },
  {
   "cell_type": "markdown",
   "metadata": {},
   "source": [
    "## Classification Report"
   ]
  },
  {
   "cell_type": "code",
   "execution_count": 30,
   "metadata": {},
   "outputs": [
    {
     "name": "stdout",
     "output_type": "stream",
     "text": [
      "              precision    recall  f1-score   support\n",
      "\n",
      "           0       0.94      0.96      0.95      2856\n",
      "           1       0.56      0.48      0.52       306\n",
      "\n",
      "    accuracy                           0.91      3162\n",
      "   macro avg       0.75      0.72      0.73      3162\n",
      "weighted avg       0.91      0.91      0.91      3162\n",
      "\n"
     ]
    }
   ],
   "source": [
    "class_report = classification_report(y_test, y_pred)\n",
    "print(class_report)"
   ]
  },
  {
   "cell_type": "markdown",
   "metadata": {},
   "source": [
    "## ROC Curve and AUC"
   ]
  },
  {
   "cell_type": "code",
   "execution_count": 26,
   "metadata": {},
   "outputs": [
    {
     "data": {
      "image/png": "[encoded data removed]",
      "text/plain": [
       "<Figure size 640x480 with 1 Axes>"
      ]
     },
     "metadata": {},
     "output_type": "display_data"
    }
   ],
   "source": [
    "fpr, tpr, thresholds = roc_curve(y_test, y_pred)\n",
    "auc = roc_auc_score(y_test, y_pred)\n",
    "plt.plot(fpr, tpr, label='ROC curve (area = %0.2f)' % auc)\n",
    "plt.plot([0, 1], [0, 1], 'k--')\n",
    "plt.xlim([0.0, 1.0])\n",
    "plt.ylim([0.0, 1.05])\n",
    "plt.xlabel('False Positive Rate')\n",
    "plt.ylabel('True Positive Rate')\n",
    "plt.title('Receiver operating characteristic')\n",
    "plt.legend(loc=\"lower right\")\n",
    "plt.show()"
   ]
  },
  {
   "cell_type": "markdown",
   "metadata": {},
   "source": []
  },
  {
   "cell_type": "code",
   "execution_count": null,
   "metadata": {},
   "outputs": [],
   "source": []
  },
  {
   "cell_type": "code",
   "execution_count": null,
   "metadata": {},
   "outputs": [],
   "source": []
  }
 ],
 "metadata": {
  "kernelspec": {
   "display_name": ".env",
   "language": "python",
   "name": "python3"
  },
  "language_info": {
   "codemirror_mode": {
    "name": "ipython",
    "version": 3
   },
   "file_extension": ".py",
   "mimetype": "text/x-python",
   "name": "python",
   "nbconvert_exporter": "python",
   "pygments_lexer": "ipython3",
   "version": "3.11.7"
  }
 },
 "nbformat": 4,
 "nbformat_minor": 2
}
