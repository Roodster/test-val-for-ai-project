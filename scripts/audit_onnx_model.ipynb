{
 "cells": [
  {
   "cell_type": "code",
   "execution_count": 1,
   "metadata": {},
   "outputs": [
    {
     "name": "stdout",
     "output_type": "stream",
     "text": [
      "Initializing test: data_shuffler...\n",
      "Initializing test: data_remover...\n",
      "Initializing test: data_repetition...\n",
      "Initializing test: label_error...\n",
      "Initializing test: feature_remover...\n"
     ]
    }
   ],
   "source": [
    "\"\"\"\n",
    "IMPORTS\n",
    "\"\"\"\n",
    "\n",
    "import pandas as pd\n",
    "import json\n",
    "\n",
    "from raiwidgets import ExplanationDashboard\n",
    "\n",
    "from utils.dataloader import DataLoader\n",
    "from models.modelloader import ModelLoader\n",
    "from utils.constants import group_proxies\n",
    "\n",
    "from tests.metrics import MetricsTester\n",
    "from tests.metamorphic import MetamorphicTester\n",
    "from tests.shapley import ShapleyTester\n",
    "from tests.counterfactuals import cf_pipeline\n",
    "\n",
    "\n",
    "pd.set_option('chained_assignment',None)\n",
    "pd.options.mode.copy_on_write = False\n"
   ]
  },
  {
   "cell_type": "code",
   "execution_count": 2,
   "metadata": {},
   "outputs": [
    {
     "name": "stdout",
     "output_type": "stream",
     "text": [
      "(10116, 315), (10116,)\n",
      "(2529, 315), (2529,)\n",
      "(12645, 315), (12645,)\n",
      "(12645, 316)\n"
     ]
    }
   ],
   "source": [
    "\"\"\"\n",
    "LOAD DATASET\n",
    "\"\"\"\n",
    "dataloader = DataLoader()\n",
    "X_train, y_train = dataloader.load_split('train')\n",
    "print(f'{X_train.shape}, {y_train.shape}')\n",
    "X_test, y_test = dataloader.load_split('test')\n",
    "print(f'{X_test.shape}, {y_test.shape}')\n",
    "X_data, y_data = dataloader.load_split('full')\n",
    "print(f'{X_data.shape}, {y_data.shape}')\n",
    "dataset = pd.concat([X_data, y_data], axis=1)\n",
    "print(f'{dataset.shape}')"
   ]
  },
  {
   "cell_type": "code",
   "execution_count": 3,
   "metadata": {},
   "outputs": [],
   "source": [
    "\"\"\"\n",
    "Set the path to the relative path to the model under test as a global constant variable\n",
    "\"\"\"\n",
    "MODEL_UNDER_TEST = \".\\\\..\\\\models\\\\audit_models\\\\model_1.onnx\"\n",
    "\n",
    "\"\"\"\n",
    "Set the data under test as global constant variables\n",
    "\"\"\"\n",
    "DATA_UNDER_TEST = X_data\n",
    "LABELS_UNDER_TEST = y_data"
   ]
  },
  {
   "cell_type": "code",
   "execution_count": 5,
   "metadata": {
    "ExecuteTime": {
     "end_time": "2024-04-03T15:01:50.002804900Z",
     "start_time": "2024-04-03T15:01:49.827005800Z"
    }
   },
   "outputs": [],
   "source": [
    "\n",
    "params = {\n",
    "    'onnx_model_path': MODEL_UNDER_TEST\n",
    "}\n",
    "\n",
    "model = ModelLoader.load_model(type='onnx', params=params)\n",
    "\n",
    "y_pred = model.predict(DATA_UNDER_TEST)\n",
    "y_pred_proba = model.predict_proba(X_test=DATA_UNDER_TEST)\n"
   ]
  },
  {
   "cell_type": "code",
   "execution_count": 5,
   "metadata": {},
   "outputs": [],
   "source": [
    "\"\"\"\n",
    "Test models based on performance and fairness metrics in terms of group demographics\n",
    "\"\"\"\n",
    "metrics = MetricsTester(protected_variables=group_proxies)\n"
   ]
  },
  {
   "cell_type": "code",
   "execution_count": 6,
   "metadata": {},
   "outputs": [
    {
     "name": "stdout",
     "output_type": "stream",
     "text": [
      "(12645,)\n",
      "(12645,)\n",
      "(12645,)\n",
      "False\n",
      "sens (12645,)\n",
      "y_true (12645,)\n",
      "preed (12645,)\n",
      "[[11353    27]\n",
      " [  132  1133]]\n",
      "y_true (6542,)\n",
      "preed (6542,)\n",
      "[[5865   14]\n",
      " [  72  591]]\n",
      "y_true (6103,)\n",
      "preed (6103,)\n",
      "[[5488   13]\n",
      " [  60  542]]\n",
      "Overal metrics: \n",
      "TN-FP-FN-TP    (11353, 27, 132, 1133)\n",
      "acc                          0.987426\n",
      "prec                         0.976724\n",
      "rec                          0.895652\n",
      "f1                           0.934433\n",
      "dtype: object \n",
      "(12645,)\n",
      "(12645,)\n",
      "(12645,)\n",
      "True\n",
      "sens (12645,)\n",
      "Metrics for group: \n",
      "                             fnr       fpr       sel count\n",
      "persoon_geslacht_vrouw                                    \n",
      "0                       0.108597  0.002381  0.092479  6542\n",
      "1                       0.099668  0.002363  0.090939  6103\n",
      "(12645,)\n",
      "(12645,)\n",
      "(12645,)\n",
      "True\n",
      "sens (12645,)\n"
     ]
    },
    {
     "name": "stderr",
     "output_type": "stream",
     "text": [
      "Found 49 subgroups. Evaluation may be slow\n"
     ]
    },
    {
     "name": "stdout",
     "output_type": "stream",
     "text": [
      "Metrics for group: \n",
      "                                     fnr       fpr       sel count\n",
      "persoon_leeftijd_bij_onderzoek                                    \n",
      "19                                   0.0       0.0  0.545455    11\n",
      "20                                   0.0       0.0  0.363636    11\n",
      "21                                   0.0       0.0  0.388889    18\n",
      "22                                   0.0       0.0  0.208333    24\n",
      "23                                   0.0       0.0   0.34375    32\n",
      "24                              0.142857       0.0   0.27907    43\n",
      "25                              0.111111       0.0  0.363636    44\n",
      "26                              0.083333       0.0      0.22    50\n",
      "27                                   0.0  0.020833  0.253968    63\n",
      "28                                   0.0       0.0  0.290698    86\n",
      "29                              0.052632       0.0  0.197802    91\n",
      "30                                   0.0       0.0  0.333333    93\n",
      "31                              0.054054  0.013514  0.324324   111\n",
      "32                              0.037037  0.011364  0.234783   115\n",
      "33                              0.033333  0.020408  0.242188   128\n",
      "34                              0.028571  0.008772  0.234899   149\n",
      "35                              0.162162  0.013514  0.178378   185\n",
      "36                              0.057143  0.011299  0.165094   212\n",
      "37                              0.129032  0.005376  0.129032   217\n",
      "38                              0.085106       0.0  0.188596   228\n",
      "39                                  0.05       0.0  0.139194   273\n",
      "40                              0.074074       0.0  0.163934   305\n",
      "41                               0.09434   0.00823  0.168919   296\n",
      "42                              0.056604       0.0  0.141643   353\n",
      "43                              0.085106  0.003185  0.121884   361\n",
      "44                                   0.1    0.0059  0.120823   389\n",
      "45                              0.128205  0.008287  0.092269   401\n",
      "46                              0.065217  0.002778  0.108374   406\n",
      "47                              0.076923  0.005376  0.092457   411\n",
      "48                                 0.125  0.002268  0.061311   473\n",
      "49                              0.115385       0.0  0.052995   434\n",
      "50                              0.115385       0.0      0.05   460\n",
      "51                                 0.275       0.0  0.058824   493\n",
      "52                              0.157895  0.002119  0.034623   491\n",
      "53                              0.333333  0.002179  0.023207   474\n",
      "54                              0.133333       0.0   0.02968   438\n",
      "55                              0.083333       0.0   0.04721   466\n",
      "56                              0.222222       0.0  0.017327   404\n",
      "57                                   0.0       0.0  0.021077   427\n",
      "58                                 0.375       0.0  0.011682   428\n",
      "59                              0.333333       0.0  0.010753   372\n",
      "60                              0.142857       0.0  0.016438   365\n",
      "61                              0.142857       0.0  0.016438   365\n",
      "62                              0.166667       0.0  0.014749   339\n",
      "63                                   0.5       0.0  0.003175   315\n",
      "64                              0.222222       0.0  0.026415   265\n",
      "65                                   0.2  0.009615  0.162791   258\n",
      "66                              0.174603       0.0  0.270833   192\n",
      "67                                  0.16       0.0    0.2625    80\n",
      "(12645,)\n",
      "(12645,)\n",
      "(12645,)\n",
      "True\n",
      "sens (12645,)\n",
      "Metrics for group: \n",
      "                                            fnr       fpr       sel count\n",
      "persoonlijke_eigenschappen_spreektaal                                    \n",
      "0                                      0.097027  0.001459  0.107392  5438\n",
      "1                                           0.0       0.0  0.075949    79\n",
      "2                                      0.333333       0.0  0.043478    46\n",
      "3                                      0.133333       0.0  0.076471   170\n",
      "4                                      0.333333       0.0  0.133333    15\n",
      "5                                           0.0       0.0  0.090909    11\n",
      "9                                           0.0       0.0  0.111111    27\n",
      "14                                          0.0       0.0  0.083333    12\n",
      "19                                          0.0       0.0       0.0    36\n",
      "25                                          0.5       0.0      0.05    20\n",
      "57                                     0.104972   0.00326    0.0831  6065\n",
      "59                                          0.0       0.0   0.09434    53\n",
      "61                                          1.0       0.0       0.0    11\n",
      "70                                          0.0       0.0    0.0625    64\n",
      "73                                         0.25       0.0  0.053571   280\n",
      "95                                          0.0       0.0  0.074627    67\n",
      "96                                          0.0       0.0       0.0     7\n",
      "99                                     0.076923  0.008658  0.057377   244\n",
      "(12645,)\n",
      "(12645,)\n",
      "(12645,)\n",
      "True\n",
      "sens (12645,)\n",
      "Metrics for group: \n",
      "                                  fnr       fpr       sel count\n",
      "relatie_kind_huidige_aantal                                    \n",
      "0                            0.141129  0.000715  0.048616  4443\n",
      "1                            0.099162  0.003302  0.107508  6167\n",
      "2                            0.083333  0.003294  0.138608  1782\n",
      "3                            0.114286  0.004808  0.131687   243\n",
      "4                                 0.0       0.0       0.2    10\n",
      "(12645,)\n",
      "(12645,)\n",
      "(12645,)\n",
      "True\n",
      "sens (12645,)\n",
      "Metrics for group: \n",
      "                                                        fnr       fpr  \\\n",
      "relatie_partner_aantal_partner___partner__gehuwd_                       \n",
      "0                                                  0.110092   0.00192   \n",
      "1                                                  0.081272  0.003967   \n",
      "2                                                       1.0       0.0   \n",
      "\n",
      "                                                        sel count  \n",
      "relatie_partner_aantal_partner___partner__gehuwd_                  \n",
      "0                                                  0.090475  9837  \n",
      "1                                                  0.096291  2804  \n",
      "2                                                       0.0     4  \n"
     ]
    }
   ],
   "source": [
    "metrics.get_metrics_summary(DATA_UNDER_TEST, LABELS_UNDER_TEST, y_pred)"
   ]
  },
  {
   "cell_type": "code",
   "execution_count": 7,
   "metadata": {},
   "outputs": [],
   "source": [
    "\"\"\"\n",
    "METAMORPHIC TESTING: See model 1 results in results/results_model_1_metamorphic_testing_column_avg.txt\n",
    "\"\"\"    \n",
    "def run_metamorphic(metamorphic_tester):\n",
    "    metamorphic_tester.test()\n",
    "    metamorphic_tester.analyse_test()\n",
    "\n",
    "\n"
   ]
  },
  {
   "cell_type": "code",
   "execution_count": 8,
   "metadata": {},
   "outputs": [
    {
     "name": "stdout",
     "output_type": "stream",
     "text": [
      "global average:  0.1890022205742061\n",
      "[('contacten_onderwerp_no_show', 0.1419753154334652), ('persoon_leeftijd_bij_onderzoek', 0.1114617825607064), ('pla_historie_ontwikkeling', 0.09071397120053362), ('instrument_ladder_huidig_activering', 0.051289090639616446), ('relatie_overig_kostendeler', 0.045433787986896144), ('pla_hist_pla_categorie_doelstelling_16', 0.02237195658667465), ('instrument_ladder_historie_activering', 0.021792445682754766), ('contacten_soort_afgelopenjaar_anders', 0.010637736125300659), ('afspraak_inspanningsperiode', 0.009252698650829169), ('contacten_onderwerp_overleg_met_inkomen', 0.008786258786258785), ('pla_einde_uitstroom_anders_dan_volgen_onderwijs__regulier_werk_of_als_zelfstandige', 0.008431514553652554), ('beschikbaarheid_aantal_historie_afwijkend_wegens_medische_omstandigheden', 0.008074642040528), ('persoonlijke_eigenschappen_taaleis_voldaan', 0.007872252371258355), ('contacten_soort_document__uitgaand_', 0.007352941176470588), ('relatie_overig_historie_vorm__kostendeler', 0.0068895924419378664), ('contacten_soort_telefoontje__inkomend_', 0.005827505827505828), ('contacten_onderwerp_documenttype__overeenkomst_', 0.00482301067685749), ('adres_aantal_verschillende_wijken', 0.0043643405079317795), ('relatie_kind_huidige_aantal', 0.0041410347325655265), ('contacten_onderwerp_boolean_no_show', 0.0030083449954745245), ('contacten_onderwerp_financiële_situatie', 0.002553701393731645), ('belemmering_aantal_huidig', 0.0023187242265798997), ('contacten_soort_afgelopenjaar_document__uitgaand_', 0.0022727272727272726), ('contacten_onderwerp_boolean_overleg_met_inkomen', 0.0014899455535435408), ('contacten_onderwerp_overige', 0.0013440860215053765), ('contacten_soort_e_mail__uitgaand_', 0.0012562998124706986), ('contacten_onderwerp__werk_intake', 0.001256281407035176), ('contacten_onderwerp_beoordelen_taaleis', 0.0012553318805183069), ('relatie_kind_basisschool_kind', 0.001090716629259155), ('contacten_soort_afgelopenjaar_telefoontje__inkomend_', 0.0010526315789473684), ('afspraak_laatstejaar_resultaat_ingevuld', 0.0009765625), ('afspraak_signaal_voor_medewerker', 0.0006587615283267456), ('contacten_onderwerp__arbeids_motivatie', 0.0005580357142857143), ('relatie_overig_actueel_vorm__kostendeler', 0.0005526262934510816), ('pla_ondertekeningen_actueel', 0.0002001587514034814), ('contacten_soort_telefoontje__uitgaand_', 0.00011059500110595002), ('contacten_onderwerp_ziek__of_afmelding', 8.64902266043937e-05), ('adres_aantal_brp_adres', 4.676393565282454e-05), ('adres_aantal_verzendadres', 0.0), ('adres_aantal_woonadres_handmatig', 0.0), ('adres_dagen_op_adres', 0.0), ('adres_recentst_onderdeel_rdam', 0.0), ('adres_recentste_buurt_groot_ijsselmonde', 0.0), ('adres_recentste_buurt_nieuwe_westen', 0.0), ('adres_recentste_buurt_other', 0.0), ('adres_recentste_buurt_oude_noorden', 0.0), ('adres_recentste_buurt_vreewijk', 0.0), ('adres_recentste_plaats_other', 0.0), ('adres_recentste_plaats_rotterdam', 0.0), ('adres_recentste_wijk_charlois', 0.0), ('adres_recentste_wijk_delfshaven', 0.0), ('adres_recentste_wijk_feijenoord', 0.0), ('adres_recentste_wijk_ijsselmonde', 0.0), ('adres_recentste_wijk_kralingen_c', 0.0), ('adres_recentste_wijk_noord', 0.0), ('adres_recentste_wijk_other', 0.0), ('adres_recentste_wijk_prins_alexa', 0.0), ('adres_recentste_wijk_stadscentru', 0.0), ('adres_unieke_wijk_ratio', 0.0), ('afspraak_aanmelding_afgesloten', 0.0), ('afspraak_aantal_woorden', 0.0), ('afspraak_afgelopen_jaar_afsprakenplan', 0.0), ('afspraak_afgelopen_jaar_monitoring_insp__wet_taaleis_na_12_mnd_n_a_v__taa04_____geen_maatregel', 0.0), ('afspraak_afgelopen_jaar_ontheffing', 0.0), ('afspraak_afgelopen_jaar_ontheffing_taaleis', 0.0), ('afspraak_afgelopen_jaar_plan_van_aanpak', 0.0), ('afspraak_afgelopen_jaar_signaal_voor_medewerker', 0.0), ('afspraak_afgelopen_jaar_vervolgmeting_matchbaarheid_werkzoekende_klant', 0.0), ('afspraak_afgelopen_jaar_voortgang_aanmelding_en_deelname', 0.0), ('afspraak_afsprakenplan', 0.0), ('afspraak_controle_aankondiging_maatregel', 0.0), ('afspraak_controle_verwijzing', 0.0), ('afspraak_deelname_compleet_uit_webapplicatie', 0.0), ('afspraak_galo_gesprek', 0.0), ('afspraak_gespr__einde_zoekt___galo_gesprek_', 0.0), ('afspraak_laatstejaar_aantal_woorden', 0.0), ('afspraak_laatstejaar_resultaat_ingevuld_uniek', 0.0), ('afspraak_other', 0.0), ('afspraak_participatietrede_vervolgmeting', 0.0), ('afspraak_resultaat_ingevuld_uniek', 0.0), ('afspraak_signaal_van_aanbieder', 0.0), ('afspraak_toevoegen_inschrijving_uwvwb', 0.0), ('afspraak_vervolgmeting_matchbaarheid_werkzoekende_klant', 0.0), ('afspraak_verzenden_beschikking_i_v_m__niet_voldoen_aan_wet_taaleis', 0.0), ('afspraak_voortgangsgesprek', 0.0), ('belemmering_dagen_financiele_problemen', 0.0), ('belemmering_dagen_lichamelijke_problematiek', 0.0), ('belemmering_dagen_psychische_problemen', 0.0), ('belemmering_financiele_problemen', 0.0), ('belemmering_hist_lichamelijke_problematiek', 0.0), ('belemmering_hist_psychische_problemen', 0.0), ('belemmering_hist_stabiele_mix__sz____dagbesteding_werk', 0.0), ('belemmering_hist_taal', 0.0), ('belemmering_hist_verslavingsproblematiek', 0.0), ('belemmering_ind', 0.0), ('belemmering_ind_hist', 0.0), ('belemmering_niet_computervaardig', 0.0), ('belemmering_psychische_problemen', 0.0), ('belemmering_woonsituatie', 0.0), ('beschikbaarheid_aantal_historie_afwijkend_wegens_sociaal_maatschappelijke_situatie', 0.0), ('beschikbaarheid_huidig_afwijkend_wegens_medische_omstandigheden', 0.0), ('beschikbaarheid_huidig_bekend', 0.0), ('beschikbaarheid_recent_afwijkend_wegens_medische_omstandigheden', 0.0), ('beschikbaarheid_recent_afwijkend_wegens_sociaal_maatschappelijke_situatie', 0.0), ('competentie_aansturen', 0.0), ('competentie_analyseren', 0.0), ('competentie_ethisch_en_integer_handelen', 0.0), ('competentie_formuleren_en_rapporteren', 0.0), ('competentie_gedrevenheid_en_ambitie_tonen', 0.0), ('competentie_instructies_en_procedures_opvolgen', 0.0), ('competentie_kwaliteit_leveren', 0.0), ('competentie_leren', 0.0), ('competentie_materialen_en_middelen_inzetten', 0.0), ('competentie_met_druk_en_tegenslag_omgaan', 0.0), ('competentie_omgaan_met_verandering_en_aanpassen', 0.0), ('competentie_onderzoeken', 0.0), ('competentie_op_de_behoeften_en_verwachtingen_van_de__klant__richten', 0.0), ('competentie_other', 0.0), ('competentie_overtuigen_en_beïnvloeden', 0.0), ('competentie_plannen_en_organiseren', 0.0), ('competentie_samenwerken_en_overleggen', 0.0), ('competentie_vakdeskundigheid_toepassen', 0.0), ('contacten_onderwerp__pre__intake', 0.0), ('contacten_onderwerp_arbeidsdiagnose_dariuz', 0.0), ('contacten_onderwerp_boolean__arbeids_motivatie', 0.0), ('contacten_onderwerp_boolean__pre__intake', 0.0), ('contacten_onderwerp_boolean__werk_intake', 0.0), ('contacten_onderwerp_boolean_beoordelen_taaleis', 0.0), ('contacten_onderwerp_boolean_contact_derden', 0.0), ('contacten_onderwerp_boolean_contact_met_aanbieder', 0.0), ('contacten_onderwerp_boolean_diagnosegesprek', 0.0), ('contacten_onderwerp_boolean_documenten__innemen_', 0.0), ('contacten_onderwerp_boolean_documenttype__cv_', 0.0), ('contacten_onderwerp_boolean_documenttype__diploma_s_en_certificaten_', 0.0), ('contacten_onderwerp_boolean_documenttype__overeenkomst_', 0.0), ('contacten_onderwerp_boolean_financiële_situatie', 0.0), ('contacten_onderwerp_boolean_groepsbijeenkomst', 0.0), ('contacten_onderwerp_boolean_inkomen', 0.0), ('contacten_onderwerp_boolean_maatregel_overweging', 0.0), ('contacten_onderwerp_boolean_match___werk', 0.0), ('contacten_onderwerp_boolean_matching', 0.0), ('contacten_onderwerp_boolean_motivatie', 0.0), ('contacten_onderwerp_boolean_mutatie', 0.0), ('contacten_onderwerp_boolean_overige', 0.0), ('contacten_onderwerp_boolean_scholing', 0.0), ('contacten_onderwerp_boolean_sollicitatie', 0.0), ('contacten_onderwerp_boolean_taaleis___voldoet', 0.0), ('contacten_onderwerp_boolean_terugbelverzoek', 0.0), ('contacten_onderwerp_boolean_traject', 0.0), ('contacten_onderwerp_boolean_uitnodiging', 0.0), ('contacten_onderwerp_boolean_ziek__of_afmelding', 0.0), ('contacten_onderwerp_boolean_zorg', 0.0), ('contacten_onderwerp_contact_derden', 0.0), ('contacten_onderwerp_contact_met_aanbieder', 0.0), ('contacten_onderwerp_diagnosegesprek', 0.0), ('contacten_onderwerp_documenten__innemen_', 0.0), ('contacten_onderwerp_documenttype__cv_', 0.0), ('contacten_onderwerp_groepsbijeenkomst', 0.0), ('contacten_onderwerp_inkomen', 0.0), ('contacten_onderwerp_inname_aanvraag', 0.0), ('contacten_onderwerp_inspanningstoets', 0.0), ('contacten_onderwerp_maatregel_overweging', 0.0), ('contacten_onderwerp_matching', 0.0), ('contacten_onderwerp_mutatie', 0.0), ('contacten_onderwerp_quickscan', 0.0), ('contacten_onderwerp_scholing', 0.0), ('contacten_onderwerp_screening', 0.0), ('contacten_onderwerp_terugbelverzoek', 0.0), ('contacten_onderwerp_traject', 0.0), ('contacten_onderwerp_uitnodiging', 0.0), ('contacten_onderwerp_vakantie', 0.0), ('contacten_onderwerp_werkintake__niet_verschenen', 0.0), ('contacten_onderwerp_zorg', 0.0), ('contacten_soort_afgelopenjaar_document__inkomend_', 0.0), ('contacten_soort_afgelopenjaar_e_mail__inkomend_', 0.0), ('contacten_soort_afgelopenjaar_e_mail__uitgaand_', 0.0), ('contacten_soort_afgelopenjaar_gesprek', 0.0), ('contacten_soort_afgelopenjaar_gesprek_op_locatie', 0.0), ('contacten_soort_afgelopenjaar_rapportage_rib', 0.0), ('contacten_soort_afgelopenjaar_telefoontje__uitgaand_', 0.0), ('contacten_soort_anders', 0.0), ('contacten_soort_document__inkomend_', 0.0), ('contacten_soort_e_mail__inkomend_', 0.0), ('contacten_soort_gesprek_op_locatie', 0.0), ('contacten_soort_groepsbijeenkomsten', 0.0), ('contacten_soort_rapportage_deelname', 0.0), ('contacten_soort_rapportage_rib', 0.0), ('deelname_act_actueel_projecten_uniek', 0.0), ('deelname_act_hist_projecten_niet_gestart', 0.0), ('deelname_act_reintegratieladder_ondersteunende_instrumenten', 0.0), ('deelname_act_reintegratieladder_werk_re_integratie', 0.0), ('instrument_aantal_laatstejaar', 0.0), ('instrument_ladder_historie_other', 0.0), ('instrument_ladder_huidig_other', 0.0), ('instrument_ladder_huidig_werk_re_integratie', 0.0), ('instrument_reden_beeindiging_historie_centrale_actie_wigo4it', 0.0), ('instrument_reden_beeindiging_historie_diagnose_gesteld', 0.0), ('instrument_reden_beeindiging_historie_direct_matchbaar', 0.0), ('instrument_reden_beeindiging_historie_doelstelling_bereikt__geen_uitstroom', 0.0), ('instrument_reden_beeindiging_historie_doelstelling_bereikt__uitstroom_naar_regulier_werk', 0.0), ('instrument_reden_beeindiging_historie_doelstelling_bereikt__uitstroom_overig', 0.0), ('instrument_reden_beeindiging_historie_doelstelling_niet_bereikt__geen_uitstroom', 0.0), ('instrument_reden_beeindiging_historie_niet_matchbaar', 0.0), ('instrument_reden_beeindiging_historie_niet_succesvol', 0.0), ('instrument_reden_beeindiging_historie_niet_succesvol__reden_bij_werkzoekende', 0.0), ('instrument_reden_beeindiging_historie_op_termijn_matchbaar', 0.0), ('instrument_reden_beeindiging_historie_other', 0.0), ('instrument_reden_beeindiging_historie_overdracht_naar_mo', 0.0), ('instrument_reden_beeindiging_historie_overdracht_naar_prematching', 0.0), ('instrument_reden_beeindiging_historie_overdracht_naar_regulier_team_iwpm', 0.0), ('instrument_reden_beeindiging_historie_overdracht_succesvol', 0.0), ('instrument_reden_beeindiging_historie_succesvol', 0.0), ('instrument_reden_beeindiging_historie_succesvol__doelstelling_bereikt', 0.0), ('instrument_reden_beeindiging_historie_uitval__aanbod_niet_langer_zinvol_volgens_gemeente', 0.0), ('instrument_reden_beeindiging_historie_uitval__klant_wz__ziet_af_van_aanbod', 0.0), ('ontheffing_actueel_ind', 0.0), ('ontheffing_dagen_hist_mean', 0.0), ('ontheffing_dagen_hist_vanwege_uw_medische_omstandigheden', 0.0), ('ontheffing_reden_hist_medische_gronden', 0.0), ('ontheffing_reden_hist_other', 0.0), ('ontheffing_reden_hist_sociale_gronden', 0.0), ('ontheffing_reden_hist_tijdelijke_ontheffing_arbeidsverpl__en_tegenprestatie', 0.0), ('ontheffing_reden_hist_tijdelijke_ontheffing_arbeidsverplichtingen', 0.0), ('ontheffing_reden_hist_vanwege_uw_sociaal_maatschappelijke_situatie', 0.0), ('ontheffing_reden_tijdelijke_ontheffing_arbeidsverpl__en_tegenprestatie', 0.0), ('persoon_geslacht_vrouw', 0.0), ('persoonlijke_eigenschappen_communicatie_opm', 0.0), ('persoonlijke_eigenschappen_dagen_sinds_opvoer', 0.0), ('persoonlijke_eigenschappen_dagen_sinds_taaleis', 0.0), ('persoonlijke_eigenschappen_doorzettingsvermogen_opm', 0.0), ('persoonlijke_eigenschappen_flexibiliteit_opm', 0.0), ('persoonlijke_eigenschappen_hobbies_sport', 0.0), ('persoonlijke_eigenschappen_houding_opm', 0.0), ('persoonlijke_eigenschappen_ind_activering_traject', 0.0), ('persoonlijke_eigenschappen_ind_buiten_kantoortijden', 0.0), ('persoonlijke_eigenschappen_ind_regulier_arbeidsritme', 0.0), ('persoonlijke_eigenschappen_initiatief_opm', 0.0), ('persoonlijke_eigenschappen_leergierigheid_opm', 0.0), ('persoonlijke_eigenschappen_motivatie_opm', 0.0), ('persoonlijke_eigenschappen_nl_begrijpen3', 0.0), ('persoonlijke_eigenschappen_nl_lezen3', 0.0), ('persoonlijke_eigenschappen_nl_lezen4', 0.0), ('persoonlijke_eigenschappen_nl_schrijven0', 0.0), ('persoonlijke_eigenschappen_nl_schrijven1', 0.0), ('persoonlijke_eigenschappen_nl_schrijven2', 0.0), ('persoonlijke_eigenschappen_nl_schrijven3', 0.0), ('persoonlijke_eigenschappen_nl_schrijvenfalse', 0.0), ('persoonlijke_eigenschappen_nl_spreken1', 0.0), ('persoonlijke_eigenschappen_nl_spreken2', 0.0), ('persoonlijke_eigenschappen_nl_spreken3', 0.0), ('persoonlijke_eigenschappen_opstelling', 0.0), ('persoonlijke_eigenschappen_overige_opmerkingen', 0.0), ('persoonlijke_eigenschappen_presentatie_opm', 0.0), ('persoonlijke_eigenschappen_spreektaal', 0.0), ('persoonlijke_eigenschappen_spreektaal_anders', 0.0), ('persoonlijke_eigenschappen_taaleis_schrijfv_ok', 0.0), ('persoonlijke_eigenschappen_uiterlijke_verzorging_opm', 0.0), ('persoonlijke_eigenschappen_uitstroom_verw_vlgs_klant', 0.0), ('persoonlijke_eigenschappen_uitstroom_verw_vlgs_km', 0.0), ('persoonlijke_eigenschappen_zelfstandigheid_opm', 0.0), ('pla_actueel_pla_categorie_doelstelling_16', 0.0), ('pla_actueel_pla_categorie_doelstelling_9', 0.0), ('pla_einde_doelstelling_bereikt', 0.0), ('pla_einde_doelstelling_bereikt__nieuw_trajectplan', 0.0), ('pla_einde_doelstelling_bereikt__overdracht', 0.0), ('pla_einde_doelstelling_niet_bereikt', 0.0), ('pla_einde_doelstelling_niet_bereikt__nieuw_trajectplan', 0.0), ('pla_einde_doelstelling_niet_bereikt__overdracht', 0.0), ('pla_einde_geplande_einddatum_overschreden_zonder_nader_bericht', 0.0), ('pla_einde_other', 0.0), ('pla_hist_pla_categorie_doelstelling_1', 0.0), ('pla_hist_pla_categorie_doelstelling_10', 0.0), ('pla_hist_pla_categorie_doelstelling_11', 0.0), ('pla_hist_pla_categorie_doelstelling_2', 0.0), ('pla_hist_pla_categorie_doelstelling_27', 0.0), ('pla_hist_pla_categorie_doelstelling_3', 0.0), ('pla_hist_pla_categorie_doelstelling_4', 0.0), ('pla_hist_pla_categorie_doelstelling_5', 0.0), ('pla_hist_pla_categorie_doelstelling_6', 0.0), ('pla_hist_pla_categorie_doelstelling_9', 0.0), ('pla_hist_pla_categorie_doelstelling_other', 0.0), ('pla_historie_maatschappelijke_inspanning', 0.0), ('pla_historie_other', 0.0), ('pla_historie_werk', 0.0), ('pla_historie_werk_en_inburgering', 0.0), ('pla_ondertekeningen_historie', 0.0), ('relatie_kind_heeft_kinderen', 0.0), ('relatie_kind_jongvolwassen', 0.0), ('relatie_kind_leeftijd_verschil_ouder_eerste_kind', 0.0), ('relatie_kind_tiener', 0.0), ('relatie_kind_volwassen', 0.0), ('relatie_overig_actueel_vorm__gemachtigde', 0.0), ('relatie_overig_actueel_vorm__onderhoudsplichtige', 0.0), ('relatie_overig_actueel_vorm__ouders_verzorgers', 0.0), ('relatie_overig_actueel_vorm_other', 0.0), ('relatie_overig_bewindvoerder', 0.0), ('relatie_overig_historie_vorm__andere_inwonende', 0.0), ('relatie_overig_historie_vorm__gemachtigde', 0.0), ('relatie_overig_historie_vorm__onderhoudsplichtige', 0.0), ('relatie_partner_aantal_partner___partner__gehuwd_', 0.0), ('relatie_partner_aantal_partner___partner__ongehuwd_', 0.0), ('relatie_partner_huidige_partner___partner__gehuwd_', 0.0), ('relatie_partner_totaal_dagen_partner', 0.0), ('typering_aantal', 0.0), ('typering_dagen_som', 0.0), ('typering_hist_aantal', 0.0), ('typering_hist_inburgeringsbehoeftig', 0.0), ('typering_hist_sector_zorg', 0.0), ('typering_ind', 0.0), ('typering_indicatie_geheime_gegevens', 0.0), ('typering_other', 0.0), ('typering_transport__logistiek___tuinbouw', 0.0), ('typering_zorg__schoonmaak___welzijn', 0.0), ('checked', 0.0)]\n"
     ]
    }
   ],
   "source": [
    "metamorphic_tester = MetamorphicTester(X=dataset, model_path=MODEL_UNDER_TEST)\n",
    "run_metamorphic(metamorphic_tester=metamorphic_tester)\n",
    "print('global average: ', metamorphic_tester.global_average)\n",
    "print(metamorphic_tester.column_avg)"
   ]
  },
  {
   "cell_type": "code",
   "execution_count": null,
   "metadata": {},
   "outputs": [],
   "source": [
    "shapleyTester = ShapleyTester()\n",
    "explainer, global_explanation = shapleyTester.run_shapley(model=model, train_data=DATA_UNDER_TEST)"
   ]
  },
  {
   "cell_type": "code",
   "execution_count": null,
   "metadata": {},
   "outputs": [],
   "source": [
    "shapleyTester.run_explain_instance(explainer, model, DATA_UNDER_TEST, 0)"
   ]
  },
  {
   "cell_type": "code",
   "execution_count": null,
   "metadata": {},
   "outputs": [],
   "source": [
    "if global_explanation is not None:\n",
    "    ExplanationDashboard(global_explanation, model, dataset=X_data, true_y=y_data)\n"
   ]
  },
  {
   "cell_type": "code",
   "execution_count": null,
   "metadata": {},
   "outputs": [],
   "source": [
    "\"\"\"\n",
    "Test the biases as a result of specific feature values using counterfactuals.\n",
    "\"\"\"\n",
    "\n",
    "\n",
    "explainer, cf_examples, model_results, model_results_sorted = cf_pipeline(dataset, DATA_UNDER_TEST, model)"
   ]
  },
  {
   "cell_type": "code",
   "execution_count": null,
   "metadata": {},
   "outputs": [],
   "source": [
    "print(\"Model 1:\")\n",
    "for i in range(10):\n",
    "    print(model_results_sorted[i])"
   ]
  },
  {
   "cell_type": "code",
   "execution_count": 164,
   "outputs": [],
   "source": [
    "with open('model_2_results.json', 'w') as f:\n",
    "    json.dump(model_results, f)"
   ]
  }
 ],
 "metadata": {
  "kernelspec": {
   "display_name": ".env",
   "language": "python",
   "name": "python3"
  },
  "language_info": {
   "codemirror_mode": {
    "name": "ipython",
    "version": 3
   },
   "file_extension": ".py",
   "mimetype": "text/x-python",
   "name": "python",
   "nbconvert_exporter": "python",
   "pygments_lexer": "ipython3",
   "version": "3.11.7"
  }
 },
 "nbformat": 4,
 "nbformat_minor": 2
}
