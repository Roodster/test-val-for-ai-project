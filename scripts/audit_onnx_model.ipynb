{
 "cells": [
  {
   "cell_type": "code",
   "execution_count": null,
   "metadata": {},
   "outputs": [],
   "source": [
    "\"\"\"\n",
    "IMPORTS\n",
    "\"\"\"\n",
    "\n",
    "import pandas as pd\n",
    "import numpy as np\n",
    "import onnxruntime as rt\n",
    "\n",
    "\n",
    "from utils.dataloader import DataLoader\n",
    "from models.modelloader import ModelLoader\n",
    "from utils.constants import protected_attributes, group_proxies\n",
    "\n",
    "\n",
    "from tests.metrics import MetricsTester\n",
    "from tests.mututation import MutationTester\n",
    "from tests.metamorphic import MetamorphicTester\n",
    "from tests.shapley import ShapleyTester"
   ]
  },
  {
   "cell_type": "code",
   "execution_count": null,
   "metadata": {},
   "outputs": [],
   "source": [
    "\"\"\"\n",
    "    INTERESTING LINKS:\n",
    "        - https://dl.acm.org/doi/pdf/10.1145/3338906.3338937\n",
    "        - https://github.com/interpretml/interpret-community\n",
    "\"\"\""
   ]
  },
  {
   "cell_type": "code",
   "execution_count": 1,
   "metadata": {},
   "outputs": [],
   "source": [
    "\"\"\"\n",
    "SET MODEL(S)\n",
    "\"\"\"\n",
    "MODEL_UNDER_TEST = './../../data/models/final_models/good_model.onnx'"
   ]
  },
  {
   "cell_type": "code",
   "execution_count": null,
   "metadata": {},
   "outputs": [],
   "source": [
    "\"\"\"\n",
    "LOAD DATASET\n",
    "\"\"\"\n",
    "\n",
    "dataloader = DataLoader()\n",
    "X_train, y_train = dataloader.load_split('train')\n",
    "print(f'{X_train.shape}, {y_train.shape}')\n",
    "X_test, y_test = dataloader.load_split('test')\n",
    "print(f'{X_test.shape}, {y_test.shape}')\n",
    "X_data, y_data = dataloader.load_split('full')\n",
    "print(f'{X_data.shape}, {y_data.shape}')"
   ]
  },
  {
   "cell_type": "code",
   "execution_count": null,
   "metadata": {},
   "outputs": [],
   "source": [
    "\"\"\"\n",
    "    TEST MODEL ON DATASET\n",
    "\"\"\"\n",
    "\n",
    "session = rt.InferenceSession(MODEL_UNDER_TEST)\n",
    "\n",
    "y_pred = session.run(None, {'X': X_test.iloc[:, :-1].values.astype(np.float32)})[0]"
   ]
  },
  {
   "cell_type": "code",
   "execution_count": null,
   "metadata": {},
   "outputs": [],
   "source": [
    "\"\"\"\n",
    "FUNCTIONAL TESTING\n",
    "\"\"\"\n",
    "\n",
    "metrics = MetricsTester(protected_variables=protected_attributes, group_metrics=group_proxies)\n"
   ]
  },
  {
   "cell_type": "code",
   "execution_count": null,
   "metadata": {},
   "outputs": [],
   "source": [
    "metrics.get_metrics_summary(X_test, y_true=y_test, y_pred=y_pred)"
   ]
  },
  {
   "cell_type": "code",
   "execution_count": null,
   "metadata": {},
   "outputs": [],
   "source": [
    "\"\"\"\n",
    "METAMORPHIC TESTING\n",
    "\"\"\"\n",
    "\n",
    "metamorphic_tester = MetamorphicTester(X=X_data, model_path=MODEL_UNDER_TEST)\n",
    "metamorphic_tester.test()\n",
    "metamorphic_tester.analyse_test()\n"
   ]
  },
  {
   "cell_type": "code",
   "execution_count": null,
   "metadata": {},
   "outputs": [],
   "source": [
    "metamorphic_tester.global_average"
   ]
  },
  {
   "cell_type": "code",
   "execution_count": null,
   "metadata": {},
   "outputs": [],
   "source": [
    "metamorphic_tester.column_avg"
   ]
  },
  {
   "cell_type": "code",
   "execution_count": null,
   "metadata": {},
   "outputs": [],
   "source": []
  },
  {
   "cell_type": "code",
   "execution_count": null,
   "metadata": {},
   "outputs": [],
   "source": [
    "\"\"\"\n",
    "MUTATION TESTING\n",
    "\"\"\"\n",
    "\n",
    "params = {\n",
    "    'data_shuffler': 1000,\n",
    "    'data_remover': 0.25,\n",
    "    'data_repetition': 1000, \n",
    "    'label_error': 1000,\n",
    "    'feature_remover': 31,\n",
    "}\n",
    "\n",
    "\n",
    "mutator = MutationTester(y_pred_baseline=y_pred, df_train=X_train, df_test=X_test)\n",
    "mutation_score = mutator.test_mutants(params)\n",
    "print(f\"Mutation score: {mutation_score}\")"
   ]
  },
  {
   "cell_type": "code",
   "execution_count": null,
   "metadata": {},
   "outputs": [],
   "source": [
    "\"\"\"\n",
    "AUC\n",
    "\"\"\"\n"
   ]
  },
  {
   "cell_type": "code",
   "execution_count": null,
   "metadata": {},
   "outputs": [],
   "source": [
    "\"\"\"\n",
    "COUNTERFACTUALS\n",
    "\"\"\""
   ]
  },
  {
   "cell_type": "code",
   "execution_count": null,
   "metadata": {},
   "outputs": [],
   "source": []
  },
  {
   "cell_type": "code",
   "execution_count": null,
   "metadata": {},
   "outputs": [],
   "source": []
  },
  {
   "cell_type": "code",
   "execution_count": null,
   "metadata": {},
   "outputs": [],
   "source": []
  }
 ],
 "metadata": {
  "kernelspec": {
   "display_name": ".env",
   "language": "python",
   "name": "python3"
  },
  "language_info": {
   "codemirror_mode": {
    "name": "ipython",
    "version": 3
   },
   "file_extension": ".py",
   "mimetype": "text/x-python",
   "name": "python",
   "nbconvert_exporter": "python",
   "pygments_lexer": "ipython3",
   "version": "3.10.12"
  }
 },
 "nbformat": 4,
 "nbformat_minor": 2
}
