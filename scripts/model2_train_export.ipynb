{
 "cells": [
  {
   "cell_type": "code",
   "execution_count": 17,
   "id": "initial_id",
   "metadata": {
    "ExecuteTime": {
     "end_time": "2024-03-21T19:21:44.913559Z",
     "start_time": "2024-03-21T19:21:44.907284Z"
    },
    "collapsed": true
   },
   "outputs": [],
   "source": [
    "import pandas as pd\n",
    "import numpy as np\n",
    "import onnxruntime as rt\n",
    "import onnx\n",
    "from skl2onnx.common.data_types import FloatTensorType\n",
    "from sklearn.ensemble import RandomForestClassifier\n",
    "from sklearn.metrics import accuracy_score, classification_report\n",
    "from skl2onnx import convert_sklearn\n",
    "from scipy.stats import ks_2samp"
   ]
  },
  {
   "cell_type": "markdown",
   "id": "9d3f56cd55abcb91",
   "metadata": {
    "collapsed": false
   },
   "source": [
    "# Model 2"
   ]
  },
  {
   "cell_type": "code",
   "execution_count": 18,
   "id": "2d119bedf76958c8",
   "metadata": {
    "ExecuteTime": {
     "end_time": "2024-03-21T19:21:45.173547Z",
     "start_time": "2024-03-21T19:21:44.930233Z"
    },
    "collapsed": false
   },
   "outputs": [],
   "source": [
    "# Modify the datafiles\n",
    "train_data = pd.read_csv('data/train_data_2.csv')\n",
    "test_data = pd.read_csv('data/test_data_2.csv')\n",
    "\n",
    "y_train = train_data['checked']\n",
    "X_train = train_data.drop(['checked'], axis=1)\n",
    "X_train = X_train.astype(np.float32)\n",
    "\n",
    "y_test = test_data['checked']\n",
    "X_test = test_data.drop(['checked'], axis=1)\n",
    "X_test = X_test.astype(np.float32)"
   ]
  },
  {
   "cell_type": "code",
   "execution_count": 19,
   "id": "a0dc8bc25e999c86",
   "metadata": {
    "ExecuteTime": {
     "end_time": "2024-03-21T19:21:45.180889Z",
     "start_time": "2024-03-21T19:21:45.175809Z"
    },
    "collapsed": false
   },
   "outputs": [],
   "source": [
    "model = RandomForestClassifier()"
   ]
  },
  {
   "cell_type": "code",
   "execution_count": 20,
   "id": "e5d6cd8ca1ae2b07",
   "metadata": {
    "ExecuteTime": {
     "end_time": "2024-03-21T19:21:46.097923Z",
     "start_time": "2024-03-21T19:21:45.183058Z"
    },
    "collapsed": false
   },
   "outputs": [
    {
     "name": "stdout",
     "output_type": "stream",
     "text": [
      "              precision    recall  f1-score   support\n",
      "\n",
      "           0       0.98      0.53      0.69      2278\n",
      "           1       0.18      0.92      0.30       251\n",
      "\n",
      "    accuracy                           0.57      2529\n",
      "   macro avg       0.58      0.73      0.49      2529\n",
      "weighted avg       0.90      0.57      0.65      2529\n",
      "\n",
      "Accuracy of the original model:  0.5662317121391854\n"
     ]
    }
   ],
   "source": [
    "model.fit(X_train, y_train)\n",
    "\n",
    "# Evaluate the model\n",
    "y_pred = model.predict(X_test)\n",
    "original_accuracy = accuracy_score(y_test, y_pred)\n",
    "print(classification_report(y_test, y_pred))\n",
    "print('Accuracy of the original model: ', original_accuracy)"
   ]
  },
  {
   "cell_type": "code",
   "execution_count": 21,
   "id": "66a4f290130b2b75",
   "metadata": {
    "ExecuteTime": {
     "end_time": "2024-03-21T19:21:46.888801Z",
     "start_time": "2024-03-21T19:21:46.100129Z"
    },
    "collapsed": false
   },
   "outputs": [
    {
     "name": "stdout",
     "output_type": "stream",
     "text": [
      "Accuracy of the ONNX model:  0.5662317121391854\n"
     ]
    }
   ],
   "source": [
    "# Convert the model to ONNX\n",
    "onnx_model = convert_sklearn(\n",
    "    model, initial_types=[('X', FloatTensorType((None, X_train.shape[1])))],\n",
    "    target_opset=12)\n",
    "\n",
    "# Check the accuracy of the converted model\n",
    "sess = rt.InferenceSession(onnx_model.SerializeToString())\n",
    "y_pred_onnx =  sess.run(None, {'X': X_test.values.astype(np.float32)})\n",
    "\n",
    "accuracy_onnx_model = accuracy_score(y_test, y_pred_onnx[0])\n",
    "print('Accuracy of the ONNX model: ', accuracy_onnx_model)"
   ]
  },
  {
   "cell_type": "code",
   "execution_count": 22,
   "id": "8b764f7b39f3eb5",
   "metadata": {
    "ExecuteTime": {
     "end_time": "2024-03-21T19:21:47.123423Z",
     "start_time": "2024-03-21T19:21:46.890949Z"
    },
    "collapsed": false
   },
   "outputs": [
    {
     "name": "stdout",
     "output_type": "stream",
     "text": [
      "Accuracy of the ONNX model:  0.5662317121391854\n"
     ]
    }
   ],
   "source": [
    "# Save the model\n",
    "onnx.save(onnx_model, \"model/model_2.onnx\")\n",
    "\n",
    "# Load the model\n",
    "new_session = rt.InferenceSession(\"model/model_2.onnx\")\n",
    "\n",
    "# Predict the target\n",
    "y_pred_onnx2 =  new_session.run(None, {'X': X_test.values.astype(np.float32)})\n",
    "\n",
    "accuracy_onnx_model = accuracy_score(y_test, y_pred_onnx2[0])\n",
    "print('Accuracy of the ONNX model: ', accuracy_onnx_model)"
   ]
  }
 ],
 "metadata": {
  "kernelspec": {
   "display_name": "Python 3",
   "language": "python",
   "name": "python3"
  },
  "language_info": {
   "codemirror_mode": {
    "name": "ipython",
    "version": 3
   },
   "file_extension": ".py",
   "mimetype": "text/x-python",
   "name": "python",
   "nbconvert_exporter": "python",
   "pygments_lexer": "ipython3",
   "version": "3.11.8"
  }
 },
 "nbformat": 4,
 "nbformat_minor": 5
}
