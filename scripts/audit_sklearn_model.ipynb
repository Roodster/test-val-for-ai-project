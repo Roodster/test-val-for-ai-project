{
 "cells": [
  {
   "cell_type": "code",
   "execution_count": 1,
   "metadata": {},
   "outputs": [],
   "source": [
    "\"\"\"\n",
    "IMPORTS\n",
    "\"\"\"\n",
    "\n",
    "import pandas as pd\n",
    "\n",
    "from utils.dataloader import DataLoader\n",
    "from models.modelloader import ModelLoader\n",
    "from utils.constants import protected_attributes\n",
    "\n",
    "\n",
    "from tests.metrics import MetricsTester\n",
    "from tests.mututation import MutationTester"
   ]
  },
  {
   "cell_type": "code",
   "execution_count": 2,
   "metadata": {},
   "outputs": [
    {
     "data": {
      "text/plain": [
       "'\\n    INTERESTING LINKS:\\n        - https://dl.acm.org/doi/pdf/10.1145/3338906.3338937\\n'"
      ]
     },
     "execution_count": 2,
     "metadata": {},
     "output_type": "execute_result"
    }
   ],
   "source": [
    "\"\"\"\n",
    "    INTERESTING LINKS:\n",
    "        - https://dl.acm.org/doi/pdf/10.1145/3338906.3338937\n",
    "\"\"\""
   ]
  },
  {
   "cell_type": "code",
   "execution_count": 3,
   "metadata": {},
   "outputs": [
    {
     "ename": "TypeError",
     "evalue": "OnnxModel.__init__() got an unexpected keyword argument 'n_estimators'",
     "output_type": "error",
     "traceback": [
      "\u001b[1;31m---------------------------------------------------------------------------\u001b[0m",
      "\u001b[1;31mTypeError\u001b[0m                                 Traceback (most recent call last)",
      "Cell \u001b[1;32mIn[3], line 29\u001b[0m\n\u001b[0;32m      9\u001b[0m PARAMS \u001b[38;5;241m=\u001b[39m {\n\u001b[0;32m     10\u001b[0m     \u001b[38;5;124m'\u001b[39m\u001b[38;5;124mn_estimators\u001b[39m\u001b[38;5;124m'\u001b[39m: \u001b[38;5;241m300\u001b[39m, \n\u001b[0;32m     11\u001b[0m     \u001b[38;5;124m'\u001b[39m\u001b[38;5;124mmin_samples_split\u001b[39m\u001b[38;5;124m'\u001b[39m: \u001b[38;5;241m750\u001b[39m, \n\u001b[1;32m   (...)\u001b[0m\n\u001b[0;32m     14\u001b[0m     \u001b[38;5;124m'\u001b[39m\u001b[38;5;124mlearning_rate\u001b[39m\u001b[38;5;124m'\u001b[39m: \u001b[38;5;241m0.1525\u001b[39m\n\u001b[0;32m     15\u001b[0m     }\n\u001b[0;32m     17\u001b[0m \u001b[38;5;66;03m# Hyperoptimised parameters for good model.\u001b[39;00m\n\u001b[0;32m     18\u001b[0m \n\u001b[0;32m     19\u001b[0m \u001b[38;5;66;03m# PARAMS = {\u001b[39;00m\n\u001b[1;32m   (...)\u001b[0m\n\u001b[0;32m     24\u001b[0m \u001b[38;5;66;03m#     'n_estimators': 350\u001b[39;00m\n\u001b[0;32m     25\u001b[0m \u001b[38;5;66;03m#     }\u001b[39;00m\n\u001b[1;32m---> 29\u001b[0m model \u001b[38;5;241m=\u001b[39m \u001b[43mModelLoader\u001b[49m\u001b[38;5;241;43m.\u001b[39;49m\u001b[43mload_model\u001b[49m\u001b[43m(\u001b[49m\u001b[38;5;28;43mtype\u001b[39;49m\u001b[38;5;241;43m=\u001b[39;49m\u001b[38;5;124;43m'\u001b[39;49m\u001b[38;5;124;43monnx\u001b[39;49m\u001b[38;5;124;43m'\u001b[39;49m\u001b[43m,\u001b[49m\u001b[43m \u001b[49m\u001b[43mparams\u001b[49m\u001b[38;5;241;43m=\u001b[39;49m\u001b[43mPARAMS\u001b[49m\u001b[43m)\u001b[49m\n",
      "File \u001b[1;32md:\\tudelft\\test-val-for-ai-project\\scripts\\models\\modelloader.py:55\u001b[0m, in \u001b[0;36mModelLoader.load_model\u001b[1;34m(type, params)\u001b[0m\n\u001b[0;32m     53\u001b[0m     \u001b[38;5;28;01mreturn\u001b[39;00m BadModel(params)\n\u001b[0;32m     54\u001b[0m \u001b[38;5;28;01melif\u001b[39;00m \u001b[38;5;28mtype\u001b[39m \u001b[38;5;241m==\u001b[39m \u001b[38;5;124m'\u001b[39m\u001b[38;5;124monnx\u001b[39m\u001b[38;5;124m'\u001b[39m:\n\u001b[1;32m---> 55\u001b[0m     \u001b[38;5;28;01mreturn\u001b[39;00m \u001b[43mOnnxModel\u001b[49m\u001b[43m(\u001b[49m\u001b[38;5;241;43m*\u001b[39;49m\u001b[38;5;241;43m*\u001b[39;49m\u001b[43mparams\u001b[49m\u001b[43m)\u001b[49m\n",
      "\u001b[1;31mTypeError\u001b[0m: OnnxModel.__init__() got an unexpected keyword argument 'n_estimators'"
     ]
    }
   ],
   "source": [
    "\"\"\"\n",
    "SET MODEL(S)\n",
    "\"\"\"\n",
    "\n",
    "PARAMS = None\n",
    "\n",
    "# hyperoptimised parameters for the bad model.\n",
    "\n",
    "PARAMS = {\n",
    "    'n_estimators': 300, \n",
    "    'min_samples_split': 750, \n",
    "    'min_samples_leaf': 175, \n",
    "    'max_depth': 6, \n",
    "    'learning_rate': 0.1525\n",
    "    }\n",
    "\n",
    "# Hyperoptimised parameters for good model.\n",
    "\n",
    "# PARAMS = {\n",
    "#     'learning_rate': 0.15, \n",
    "#     'max_depth': 5, \n",
    "#     'min_samples_leaf': 200, \n",
    "#     'min_samples_split': 800, \n",
    "#     'n_estimators': 350\n",
    "#     }\n",
    "\n",
    "\n",
    "\n",
    "model = ModelLoader.load_model(type='onnx', params=PARAMS)"
   ]
  },
  {
   "cell_type": "code",
   "execution_count": null,
   "metadata": {},
   "outputs": [
    {
     "name": "stdout",
     "output_type": "stream",
     "text": [
      "(10116, 315), (10116,)\n",
      "(2529, 315), (2529,)\n",
      "(12645, 315), (12645,)\n",
      "(12645, 316)\n"
     ]
    }
   ],
   "source": [
    "\"\"\"\n",
    "LOAD DATASET\n",
    "\"\"\"\n",
    "\n",
    "dataloader = DataLoader()\n",
    "X_train, y_train = dataloader.load_split('train')\n",
    "print(f'{X_train.shape}, {y_train.shape}')\n",
    "X_test, y_test = dataloader.load_split('test')\n",
    "print(f'{X_test.shape}, {y_test.shape}')\n",
    "X_data, y_data = dataloader.load_split('full')\n",
    "print(f'{X_data.shape}, {y_data.shape}')\n",
    "X_good, y_good = dataloader.load_split('good')\n",
    "X_bad, y_bad = dataloader.load_split('bad')\n",
    "dataset_train_test = pd.concat([X_data, y_data], axis=1)\n",
    "print(f'{dataset_train_test.shape}')\n"
   ]
  },
  {
   "cell_type": "code",
   "execution_count": null,
   "metadata": {},
   "outputs": [],
   "source": [
    "\"\"\"\n",
    "    TEST MODEL ON DATASET\n",
    "\"\"\"\n",
    "\n",
    "model.fit(X_bad, y_bad)\n"
   ]
  },
  {
   "cell_type": "code",
   "execution_count": null,
   "metadata": {},
   "outputs": [
    {
     "name": "stdout",
     "output_type": "stream",
     "text": [
      "[0 0 0 ... 0 0 0]\n"
     ]
    }
   ],
   "source": [
    "y_pred = model.predict(X_test)\n",
    "print(y_pred)"
   ]
  },
  {
   "cell_type": "code",
   "execution_count": null,
   "metadata": {},
   "outputs": [],
   "source": [
    "\"\"\"\n",
    "FUNCTIONAL TESTING\n",
    "\"\"\"\n",
    "\n",
    "metrics = MetricsTester(protected_variables=protected_attributes)\n"
   ]
  },
  {
   "cell_type": "code",
   "execution_count": null,
   "metadata": {},
   "outputs": [
    {
     "name": "stdout",
     "output_type": "stream",
     "text": [
      "(2529,)\n",
      "(2529,)\n",
      "(2529,)\n",
      "False\n",
      "sens (2529,)\n",
      "y_true (2529,)\n",
      "preed (2529,)\n",
      "[[1982  278]\n",
      " [  66  203]]\n",
      "y_true (405,)\n",
      "preed (405,)\n",
      "[[326  47]\n",
      " [ 13  19]]\n",
      "y_true (783,)\n",
      "preed (783,)\n",
      "[[627  89]\n",
      " [ 19  48]]\n",
      "y_true (589,)\n",
      "preed (589,)\n",
      "[[470  55]\n",
      " [ 13  51]]\n",
      "y_true (386,)\n",
      "preed (386,)\n",
      "[[295  45]\n",
      " [ 12  34]]\n",
      "y_true (228,)\n",
      "preed (228,)\n",
      "[[176  16]\n",
      " [  5  31]]\n",
      "y_true (100,)\n",
      "preed (100,)\n",
      "[[64 20]\n",
      " [ 3 13]]\n",
      "y_true (29,)\n",
      "preed (29,)\n",
      "[[19  5]\n",
      " [ 0  5]]\n",
      "y_true (7,)\n",
      "preed (7,)\n",
      "[[4 1]\n",
      " [1 1]]\n",
      "y_true (2,)\n",
      "preed (2,)\n",
      "[[1 0]\n",
      " [0 1]]\n",
      "Overal metrics: \n",
      "TN-FP-FN-TP    (1982, 278, 66, 203)\n",
      "acc                        0.863978\n",
      "prec                       0.422037\n",
      "rec                        0.754647\n",
      "f1                         0.541333\n",
      "dtype: object \n",
      "(2529,)\n",
      "(2529,)\n",
      "(2529,)\n",
      "True\n",
      "sens (2529,)\n",
      "Metrics for group: \n",
      "                             fnr       fpr       sel count\n",
      "adres_aantal_brp_adres                                    \n",
      "1                        0.40625  0.126005  0.162963   405\n",
      "2                       0.283582  0.124302  0.174968   783\n",
      "3                       0.203125  0.104762  0.179966   589\n",
      "4                        0.26087  0.132353  0.204663   386\n",
      "5                       0.138889  0.083333   0.20614   228\n",
      "6                         0.1875  0.238095      0.33   100\n",
      "7                            0.0  0.208333  0.344828    29\n",
      "8                            0.5       0.2  0.285714     7\n",
      "9                            0.0       0.0       0.5     2\n",
      "(2529,)\n",
      "(2529,)\n",
      "(2529,)\n",
      "True\n",
      "sens (2529,)\n",
      "Metrics for group: \n",
      "                                        fnr       fpr       sel count\n",
      "adres_aantal_verschillende_wijken                                    \n",
      "1                                     0.375  0.106688  0.149123   684\n",
      "2                                  0.211009  0.120272  0.184211  1140\n",
      "3                                   0.26087   0.14123  0.222441   508\n",
      "4                                  0.115385  0.166667   0.28481   158\n",
      "5                                  0.111111  0.103448  0.289474    38\n",
      "6                                       0.0       0.0       0.0     1\n",
      "(2529,)\n",
      "(2529,)\n",
      "(2529,)\n",
      "True\n",
      "sens (2529,)\n",
      "Metrics for group: \n",
      "                                fnr       fpr       sel count\n",
      "adres_aantal_verzendadres                                    \n",
      "0                          0.301205  0.108066  0.176022  1443\n",
      "1                           0.15625  0.144943  0.208531  1055\n",
      "2                          0.142857  0.043478  0.233333    30\n",
      "3                               0.0       0.0       0.0     1\n",
      "(2529,)\n",
      "(2529,)\n",
      "(2529,)\n",
      "True\n",
      "sens (2529,)\n"
     ]
    },
    {
     "ename": "TypeError",
     "evalue": "'<' not supported between instances of 'int' and 'NoneType'",
     "output_type": "error",
     "traceback": [
      "\u001b[1;31m---------------------------------------------------------------------------\u001b[0m",
      "\u001b[1;31mTypeError\u001b[0m                                 Traceback (most recent call last)",
      "Cell \u001b[1;32mIn[15], line 1\u001b[0m\n\u001b[1;32m----> 1\u001b[0m \u001b[43mmetrics\u001b[49m\u001b[38;5;241;43m.\u001b[39;49m\u001b[43mget_metrics_summary\u001b[49m\u001b[43m(\u001b[49m\u001b[43mX_test\u001b[49m\u001b[43m,\u001b[49m\u001b[43m \u001b[49m\u001b[43my_true\u001b[49m\u001b[38;5;241;43m=\u001b[39;49m\u001b[43my_test\u001b[49m\u001b[43m,\u001b[49m\u001b[43m \u001b[49m\u001b[43my_pred\u001b[49m\u001b[38;5;241;43m=\u001b[39;49m\u001b[43my_pred\u001b[49m\u001b[43m)\u001b[49m\n",
      "File \u001b[1;32md:\\tudelft\\test-val-for-ai-project\\scripts\\tests\\metrics.py:82\u001b[0m, in \u001b[0;36mMetricsTester.get_metrics_summary\u001b[1;34m(self, X, y_true, y_pred)\u001b[0m\n\u001b[0;32m     79\u001b[0m \u001b[38;5;28mprint\u001b[39m(\u001b[38;5;124mf\u001b[39m\u001b[38;5;124m\"\"\"\u001b[39m\u001b[38;5;124mOveral metrics: \u001b[39m\u001b[38;5;130;01m\\n\u001b[39;00m\u001b[38;5;132;01m{\u001b[39;00mmetrics_overall\u001b[38;5;132;01m}\u001b[39;00m\u001b[38;5;124m \u001b[39m\u001b[38;5;124m\"\"\"\u001b[39m)\n\u001b[0;32m     81\u001b[0m \u001b[38;5;28;01mfor\u001b[39;00m group \u001b[38;5;129;01min\u001b[39;00m \u001b[38;5;28mself\u001b[39m\u001b[38;5;241m.\u001b[39mprotected_variables:\n\u001b[1;32m---> 82\u001b[0m     metrics_group \u001b[38;5;241m=\u001b[39m \u001b[38;5;28;43mself\u001b[39;49m\u001b[38;5;241;43m.\u001b[39;49m\u001b[43mget_metrics_by_group\u001b[49m\u001b[43m(\u001b[49m\u001b[43my_true\u001b[49m\u001b[43m,\u001b[49m\u001b[43m \u001b[49m\u001b[43my_pred\u001b[49m\u001b[43m,\u001b[49m\u001b[43m \u001b[49m\u001b[43mX\u001b[49m\u001b[43m[\u001b[49m\u001b[43mgroup\u001b[49m\u001b[43m]\u001b[49m\u001b[43m)\u001b[49m\n\u001b[0;32m     83\u001b[0m     \u001b[38;5;28mprint\u001b[39m(\u001b[38;5;124mf\u001b[39m\u001b[38;5;124m\"\"\"\u001b[39m\u001b[38;5;124mMetrics for group: \u001b[39m\u001b[38;5;130;01m\\n\u001b[39;00m\u001b[38;5;132;01m{\u001b[39;00mmetrics_group\u001b[38;5;132;01m}\u001b[39;00m\u001b[38;5;124m\"\"\"\u001b[39m)\n",
      "File \u001b[1;32md:\\tudelft\\test-val-for-ai-project\\scripts\\tests\\metrics.py:69\u001b[0m, in \u001b[0;36mMetricsTester.get_metrics_by_group\u001b[1;34m(self, y_true, y_pred, sensitive_features)\u001b[0m\n\u001b[0;32m     67\u001b[0m \u001b[38;5;28;01mdef\u001b[39;00m \u001b[38;5;21mget_metrics_by_group\u001b[39m(\u001b[38;5;28mself\u001b[39m, y_true, y_pred, sensitive_features):\n\u001b[1;32m---> 69\u001b[0m     mf \u001b[38;5;241m=\u001b[39m \u001b[38;5;28;43mself\u001b[39;49m\u001b[38;5;241;43m.\u001b[39;49m\u001b[43mget_metrics\u001b[49m\u001b[43m(\u001b[49m\u001b[43my_true\u001b[49m\u001b[43m,\u001b[49m\u001b[43m \u001b[49m\u001b[43my_pred\u001b[49m\u001b[43m,\u001b[49m\u001b[43m \u001b[49m\u001b[43msensitive_features\u001b[49m\u001b[43m,\u001b[49m\u001b[43m \u001b[49m\u001b[43mis_group\u001b[49m\u001b[38;5;241;43m=\u001b[39;49m\u001b[38;5;28;43;01mTrue\u001b[39;49;00m\u001b[43m)\u001b[49m    \n\u001b[0;32m     70\u001b[0m     \u001b[38;5;28;01mreturn\u001b[39;00m mf\u001b[38;5;241m.\u001b[39mby_group\n",
      "File \u001b[1;32md:\\tudelft\\test-val-for-ai-project\\scripts\\tests\\metrics.py:58\u001b[0m, in \u001b[0;36mMetricsTester.get_metrics\u001b[1;34m(self, y_true, y_pred, sensitive_features, is_group)\u001b[0m\n\u001b[0;32m     56\u001b[0m \u001b[38;5;28mprint\u001b[39m(is_group)\n\u001b[0;32m     57\u001b[0m \u001b[38;5;28mprint\u001b[39m(\u001b[38;5;124m'\u001b[39m\u001b[38;5;124msens\u001b[39m\u001b[38;5;124m'\u001b[39m, sensitive_features\u001b[38;5;241m.\u001b[39mshape)\n\u001b[1;32m---> 58\u001b[0m mf \u001b[38;5;241m=\u001b[39m \u001b[43mMetricFrame\u001b[49m\u001b[43m(\u001b[49m\n\u001b[0;32m     59\u001b[0m \u001b[43m    \u001b[49m\u001b[43mmetrics\u001b[49m\u001b[38;5;241;43m=\u001b[39;49m\u001b[38;5;28;43mself\u001b[39;49m\u001b[38;5;241;43m.\u001b[39;49m\u001b[43mgroup_metrics\u001b[49m\u001b[43m \u001b[49m\u001b[38;5;28;43;01mif\u001b[39;49;00m\u001b[43m \u001b[49m\u001b[43mis_group\u001b[49m\u001b[43m \u001b[49m\u001b[38;5;28;43;01melse\u001b[39;49;00m\u001b[43m \u001b[49m\u001b[38;5;28;43mself\u001b[39;49m\u001b[38;5;241;43m.\u001b[39;49m\u001b[43mfunctional_metrics\u001b[49m\u001b[43m,\u001b[49m\n\u001b[0;32m     60\u001b[0m \u001b[43m    \u001b[49m\u001b[43my_true\u001b[49m\u001b[38;5;241;43m=\u001b[39;49m\u001b[43my_true\u001b[49m\u001b[43m,\u001b[49m\n\u001b[0;32m     61\u001b[0m \u001b[43m    \u001b[49m\u001b[43my_pred\u001b[49m\u001b[38;5;241;43m=\u001b[39;49m\u001b[43my_pred\u001b[49m\u001b[43m,\u001b[49m\n\u001b[0;32m     62\u001b[0m \u001b[43m    \u001b[49m\u001b[43msensitive_features\u001b[49m\u001b[38;5;241;43m=\u001b[39;49m\u001b[43msensitive_features\u001b[49m\n\u001b[0;32m     63\u001b[0m \u001b[43m\u001b[49m\u001b[43m)\u001b[49m\n\u001b[0;32m     65\u001b[0m \u001b[38;5;28;01mreturn\u001b[39;00m mf\n",
      "File \u001b[1;32md:\\tudelft\\test-val-for-ai-project\\.env\\Lib\\site-packages\\fairlearn\\metrics\\_metric_frame.py:81\u001b[0m, in \u001b[0;36m_deprecate_metric_frame_init.<locals>.compatible_metric_frame_init\u001b[1;34m(self, metric, *args, **kwargs)\u001b[0m\n\u001b[0;32m     73\u001b[0m     warnings\u001b[38;5;241m.\u001b[39mwarn(\u001b[38;5;124mf\u001b[39m\u001b[38;5;124m\"\u001b[39m\u001b[38;5;124mThe positional argument \u001b[39m\u001b[38;5;124m'\u001b[39m\u001b[38;5;124mmetric\u001b[39m\u001b[38;5;124m'\u001b[39m\u001b[38;5;124m has been replaced \u001b[39m\u001b[38;5;124m\"\u001b[39m\n\u001b[0;32m     74\u001b[0m                   \u001b[38;5;124mf\u001b[39m\u001b[38;5;124m\"\u001b[39m\u001b[38;5;124mby a keyword argument \u001b[39m\u001b[38;5;124m'\u001b[39m\u001b[38;5;124mmetrics\u001b[39m\u001b[38;5;124m'\u001b[39m\u001b[38;5;124m. \u001b[39m\u001b[38;5;124m\"\u001b[39m\n\u001b[0;32m     75\u001b[0m                   \u001b[38;5;124mf\u001b[39m\u001b[38;5;124m\"\u001b[39m\u001b[38;5;124mFrom version \u001b[39m\u001b[38;5;132;01m{\u001b[39;00mversion\u001b[38;5;132;01m}\u001b[39;00m\u001b[38;5;124m passing it as a positional argument \u001b[39m\u001b[38;5;124m\"\u001b[39m\n\u001b[0;32m     76\u001b[0m                   \u001b[38;5;124mf\u001b[39m\u001b[38;5;124m\"\u001b[39m\u001b[38;5;124mor as a keyword argument \u001b[39m\u001b[38;5;124m'\u001b[39m\u001b[38;5;124mmetric\u001b[39m\u001b[38;5;124m'\u001b[39m\u001b[38;5;124m will result in an error\u001b[39m\u001b[38;5;124m\"\u001b[39m,\n\u001b[0;32m     77\u001b[0m                   \u001b[38;5;167;01mFutureWarning\u001b[39;00m)\n\u001b[0;32m     79\u001b[0m \u001b[38;5;66;03m# Call the new constructor with positional arguments passed as keyword arguments\u001b[39;00m\n\u001b[0;32m     80\u001b[0m \u001b[38;5;66;03m# and with the `metric` keyword argument renamed to `metrics`.\u001b[39;00m\n\u001b[1;32m---> 81\u001b[0m \u001b[43mnew_metric_frame_init\u001b[49m\u001b[43m(\u001b[49m\u001b[38;5;28;43mself\u001b[39;49m\u001b[43m,\u001b[49m\n\u001b[0;32m     82\u001b[0m \u001b[43m                      \u001b[49m\u001b[38;5;241;43m*\u001b[39;49m\u001b[38;5;241;43m*\u001b[39;49m\u001b[43mmetric_arg_dict\u001b[49m\u001b[43m,\u001b[49m\n\u001b[0;32m     83\u001b[0m \u001b[43m                      \u001b[49m\u001b[38;5;241;43m*\u001b[39;49m\u001b[38;5;241;43m*\u001b[39;49m\u001b[43mpositional_dict\u001b[49m\u001b[43m,\u001b[49m\n\u001b[0;32m     84\u001b[0m \u001b[43m                      \u001b[49m\u001b[38;5;241;43m*\u001b[39;49m\u001b[38;5;241;43m*\u001b[39;49m\u001b[43mkwargs\u001b[49m\u001b[43m)\u001b[49m\n",
      "File \u001b[1;32md:\\tudelft\\test-val-for-ai-project\\.env\\Lib\\site-packages\\fairlearn\\metrics\\_metric_frame.py:228\u001b[0m, in \u001b[0;36mMetricFrame.__init__\u001b[1;34m(self, metrics, y_true, y_pred, sensitive_features, control_features, sample_params)\u001b[0m\n\u001b[0;32m    225\u001b[0m     nameset\u001b[38;5;241m.\u001b[39madd(name)\n\u001b[0;32m    227\u001b[0m \u001b[38;5;28mself\u001b[39m\u001b[38;5;241m.\u001b[39m_overall \u001b[38;5;241m=\u001b[39m \u001b[38;5;28mself\u001b[39m\u001b[38;5;241m.\u001b[39m_compute_overall(func_dict, y_t, y_p, cf_list)\n\u001b[1;32m--> 228\u001b[0m \u001b[38;5;28mself\u001b[39m\u001b[38;5;241m.\u001b[39m_by_group \u001b[38;5;241m=\u001b[39m \u001b[38;5;28;43mself\u001b[39;49m\u001b[38;5;241;43m.\u001b[39;49m\u001b[43m_compute_by_group\u001b[49m\u001b[43m(\u001b[49m\u001b[43mfunc_dict\u001b[49m\u001b[43m,\u001b[49m\u001b[43m \u001b[49m\u001b[43my_t\u001b[49m\u001b[43m,\u001b[49m\u001b[43m \u001b[49m\u001b[43my_p\u001b[49m\u001b[43m,\u001b[49m\u001b[43m \u001b[49m\u001b[43msf_list\u001b[49m\u001b[43m,\u001b[49m\u001b[43m \u001b[49m\u001b[43mcf_list\u001b[49m\u001b[43m)\u001b[49m\n",
      "File \u001b[1;32md:\\tudelft\\test-val-for-ai-project\\.env\\Lib\\site-packages\\fairlearn\\metrics\\_metric_frame.py:246\u001b[0m, in \u001b[0;36mMetricFrame._compute_by_group\u001b[1;34m(self, func_dict, y_true, y_pred, sf_list, cf_list)\u001b[0m\n\u001b[0;32m    242\u001b[0m \u001b[38;5;28;01mif\u001b[39;00m cf_list \u001b[38;5;129;01mis\u001b[39;00m \u001b[38;5;129;01mnot\u001b[39;00m \u001b[38;5;28;01mNone\u001b[39;00m:\n\u001b[0;32m    243\u001b[0m     \u001b[38;5;66;03m# Prepend the conditional features, so they are 'higher'\u001b[39;00m\n\u001b[0;32m    244\u001b[0m     rows \u001b[38;5;241m=\u001b[39m copy\u001b[38;5;241m.\u001b[39mdeepcopy(cf_list) \u001b[38;5;241m+\u001b[39m rows\n\u001b[1;32m--> 246\u001b[0m \u001b[38;5;28;01mreturn\u001b[39;00m \u001b[38;5;28;43mself\u001b[39;49m\u001b[38;5;241;43m.\u001b[39;49m\u001b[43m_compute_dataframe_from_rows\u001b[49m\u001b[43m(\u001b[49m\u001b[43mfunc_dict\u001b[49m\u001b[43m,\u001b[49m\u001b[43m \u001b[49m\u001b[43my_true\u001b[49m\u001b[43m,\u001b[49m\u001b[43m \u001b[49m\u001b[43my_pred\u001b[49m\u001b[43m,\u001b[49m\u001b[43m \u001b[49m\u001b[43mrows\u001b[49m\u001b[43m)\u001b[49m\n",
      "File \u001b[1;32md:\\tudelft\\test-val-for-ai-project\\.env\\Lib\\site-packages\\fairlearn\\metrics\\_metric_frame.py:271\u001b[0m, in \u001b[0;36mMetricFrame._compute_dataframe_from_rows\u001b[1;34m(self, func_dict, y_true, y_pred, rows)\u001b[0m\n\u001b[0;32m    269\u001b[0m         \u001b[38;5;66;03m# Only call the metric function if the mask is non-empty\u001b[39;00m\n\u001b[0;32m    270\u001b[0m         \u001b[38;5;28;01mif\u001b[39;00m \u001b[38;5;28msum\u001b[39m(mask) \u001b[38;5;241m>\u001b[39m \u001b[38;5;241m0\u001b[39m:\n\u001b[1;32m--> 271\u001b[0m             curr_metric \u001b[38;5;241m=\u001b[39m \u001b[43mfunc_dict\u001b[49m\u001b[43m[\u001b[49m\u001b[43mfunc_name\u001b[49m\u001b[43m]\u001b[49m\u001b[38;5;241;43m.\u001b[39;49m\u001b[43mevaluate\u001b[49m\u001b[43m(\u001b[49m\u001b[43my_true\u001b[49m\u001b[43m,\u001b[49m\u001b[43m \u001b[49m\u001b[43my_pred\u001b[49m\u001b[43m,\u001b[49m\u001b[43m \u001b[49m\u001b[43mmask\u001b[49m\u001b[43m)\u001b[49m\n\u001b[0;32m    272\u001b[0m             result[func_name][row_curr] \u001b[38;5;241m=\u001b[39m curr_metric\n\u001b[0;32m    273\u001b[0m \u001b[38;5;28;01mreturn\u001b[39;00m result\n",
      "File \u001b[1;32md:\\tudelft\\test-val-for-ai-project\\.env\\Lib\\site-packages\\fairlearn\\metrics\\_function_container.py:103\u001b[0m, in \u001b[0;36mFunctionContainer.evaluate\u001b[1;34m(self, y_true, y_pred, mask)\u001b[0m\n\u001b[0;32m    100\u001b[0m \u001b[38;5;28;01massert\u001b[39;00m \u001b[38;5;28mlen\u001b[39m(y_true) \u001b[38;5;241m==\u001b[39m \u001b[38;5;28mlen\u001b[39m(mask)\n\u001b[0;32m    101\u001b[0m params \u001b[38;5;241m=\u001b[39m \u001b[38;5;28mself\u001b[39m\u001b[38;5;241m.\u001b[39mgenerate_sample_params_for_mask(mask)\n\u001b[1;32m--> 103\u001b[0m \u001b[38;5;28;01mreturn\u001b[39;00m \u001b[38;5;28;43mself\u001b[39;49m\u001b[38;5;241;43m.\u001b[39;49m\u001b[43mfunc_\u001b[49m\u001b[43m(\u001b[49m\u001b[43my_true\u001b[49m\u001b[43m[\u001b[49m\u001b[43mmask\u001b[49m\u001b[43m]\u001b[49m\u001b[43m,\u001b[49m\u001b[43m \u001b[49m\u001b[43my_pred\u001b[49m\u001b[43m[\u001b[49m\u001b[43mmask\u001b[49m\u001b[43m]\u001b[49m\u001b[43m,\u001b[49m\u001b[43m \u001b[49m\u001b[38;5;241;43m*\u001b[39;49m\u001b[38;5;241;43m*\u001b[39;49m\u001b[43mparams\u001b[49m\u001b[43m)\u001b[49m\n",
      "File \u001b[1;32md:\\tudelft\\test-val-for-ai-project\\.env\\Lib\\site-packages\\fairlearn\\metrics\\_extra_metrics.py:210\u001b[0m, in \u001b[0;36mfalse_negative_rate\u001b[1;34m(y_true, y_pred, sample_weight, pos_label)\u001b[0m\n\u001b[0;32m    186\u001b[0m \u001b[38;5;250m\u001b[39m\u001b[38;5;124mr\u001b[39m\u001b[38;5;124;03m\"\"\"Calculate the false negative rate (also called miss rate).\u001b[39;00m\n\u001b[0;32m    187\u001b[0m \n\u001b[0;32m    188\u001b[0m \u001b[38;5;124;03mParameters\u001b[39;00m\n\u001b[1;32m   (...)\u001b[0m\n\u001b[0;32m    207\u001b[0m \u001b[38;5;124;03m    The false negative rate for the data\u001b[39;00m\n\u001b[0;32m    208\u001b[0m \u001b[38;5;124;03m\"\"\"\u001b[39;00m\n\u001b[0;32m    209\u001b[0m unique_labels \u001b[38;5;241m=\u001b[39m _get_labels_for_confusion_matrix(np\u001b[38;5;241m.\u001b[39mvstack((y_true, y_pred)), pos_label)\n\u001b[1;32m--> 210\u001b[0m tnr, fpr, fnr, tpr \u001b[38;5;241m=\u001b[39m \u001b[43mskm\u001b[49m\u001b[38;5;241;43m.\u001b[39;49m\u001b[43mconfusion_matrix\u001b[49m\u001b[43m(\u001b[49m\n\u001b[0;32m    211\u001b[0m \u001b[43m    \u001b[49m\u001b[43my_true\u001b[49m\u001b[43m,\u001b[49m\u001b[43m \u001b[49m\u001b[43my_pred\u001b[49m\u001b[43m,\u001b[49m\n\u001b[0;32m    212\u001b[0m \u001b[43m    \u001b[49m\u001b[43msample_weight\u001b[49m\u001b[38;5;241;43m=\u001b[39;49m\u001b[43msample_weight\u001b[49m\u001b[43m,\u001b[49m\u001b[43m \u001b[49m\u001b[43mlabels\u001b[49m\u001b[38;5;241;43m=\u001b[39;49m\u001b[43munique_labels\u001b[49m\u001b[43m,\u001b[49m\u001b[43m \u001b[49m\u001b[43mnormalize\u001b[49m\u001b[38;5;241;43m=\u001b[39;49m\u001b[38;5;124;43m\"\u001b[39;49m\u001b[38;5;124;43mtrue\u001b[39;49m\u001b[38;5;124;43m\"\u001b[39;49m\u001b[43m)\u001b[49m\u001b[38;5;241m.\u001b[39mravel()\n\u001b[0;32m    213\u001b[0m \u001b[38;5;28;01mreturn\u001b[39;00m fnr\n",
      "File \u001b[1;32md:\\tudelft\\test-val-for-ai-project\\.env\\Lib\\site-packages\\sklearn\\utils\\_param_validation.py:213\u001b[0m, in \u001b[0;36mvalidate_params.<locals>.decorator.<locals>.wrapper\u001b[1;34m(*args, **kwargs)\u001b[0m\n\u001b[0;32m    207\u001b[0m \u001b[38;5;28;01mtry\u001b[39;00m:\n\u001b[0;32m    208\u001b[0m     \u001b[38;5;28;01mwith\u001b[39;00m config_context(\n\u001b[0;32m    209\u001b[0m         skip_parameter_validation\u001b[38;5;241m=\u001b[39m(\n\u001b[0;32m    210\u001b[0m             prefer_skip_nested_validation \u001b[38;5;129;01mor\u001b[39;00m global_skip_validation\n\u001b[0;32m    211\u001b[0m         )\n\u001b[0;32m    212\u001b[0m     ):\n\u001b[1;32m--> 213\u001b[0m         \u001b[38;5;28;01mreturn\u001b[39;00m \u001b[43mfunc\u001b[49m\u001b[43m(\u001b[49m\u001b[38;5;241;43m*\u001b[39;49m\u001b[43margs\u001b[49m\u001b[43m,\u001b[49m\u001b[43m \u001b[49m\u001b[38;5;241;43m*\u001b[39;49m\u001b[38;5;241;43m*\u001b[39;49m\u001b[43mkwargs\u001b[49m\u001b[43m)\u001b[49m\n\u001b[0;32m    214\u001b[0m \u001b[38;5;28;01mexcept\u001b[39;00m InvalidParameterError \u001b[38;5;28;01mas\u001b[39;00m e:\n\u001b[0;32m    215\u001b[0m     \u001b[38;5;66;03m# When the function is just a wrapper around an estimator, we allow\u001b[39;00m\n\u001b[0;32m    216\u001b[0m     \u001b[38;5;66;03m# the function to delegate validation to the estimator, but we replace\u001b[39;00m\n\u001b[0;32m    217\u001b[0m     \u001b[38;5;66;03m# the name of the estimator by the name of the function in the error\u001b[39;00m\n\u001b[0;32m    218\u001b[0m     \u001b[38;5;66;03m# message to avoid confusion.\u001b[39;00m\n\u001b[0;32m    219\u001b[0m     msg \u001b[38;5;241m=\u001b[39m re\u001b[38;5;241m.\u001b[39msub(\n\u001b[0;32m    220\u001b[0m         \u001b[38;5;124mr\u001b[39m\u001b[38;5;124m\"\u001b[39m\u001b[38;5;124mparameter of \u001b[39m\u001b[38;5;124m\\\u001b[39m\u001b[38;5;124mw+ must be\u001b[39m\u001b[38;5;124m\"\u001b[39m,\n\u001b[0;32m    221\u001b[0m         \u001b[38;5;124mf\u001b[39m\u001b[38;5;124m\"\u001b[39m\u001b[38;5;124mparameter of \u001b[39m\u001b[38;5;132;01m{\u001b[39;00mfunc\u001b[38;5;241m.\u001b[39m\u001b[38;5;18m__qualname__\u001b[39m\u001b[38;5;132;01m}\u001b[39;00m\u001b[38;5;124m must be\u001b[39m\u001b[38;5;124m\"\u001b[39m,\n\u001b[0;32m    222\u001b[0m         \u001b[38;5;28mstr\u001b[39m(e),\n\u001b[0;32m    223\u001b[0m     )\n",
      "File \u001b[1;32md:\\tudelft\\test-val-for-ai-project\\.env\\Lib\\site-packages\\sklearn\\metrics\\_classification.py:332\u001b[0m, in \u001b[0;36mconfusion_matrix\u001b[1;34m(y_true, y_pred, labels, sample_weight, normalize)\u001b[0m\n\u001b[0;32m    330\u001b[0m     \u001b[38;5;28;01melif\u001b[39;00m y_true\u001b[38;5;241m.\u001b[39msize \u001b[38;5;241m==\u001b[39m \u001b[38;5;241m0\u001b[39m:\n\u001b[0;32m    331\u001b[0m         \u001b[38;5;28;01mreturn\u001b[39;00m np\u001b[38;5;241m.\u001b[39mzeros((n_labels, n_labels), dtype\u001b[38;5;241m=\u001b[39m\u001b[38;5;28mint\u001b[39m)\n\u001b[1;32m--> 332\u001b[0m     \u001b[38;5;28;01melif\u001b[39;00m \u001b[38;5;28mlen\u001b[39m(\u001b[43mnp\u001b[49m\u001b[38;5;241;43m.\u001b[39;49m\u001b[43mintersect1d\u001b[49m\u001b[43m(\u001b[49m\u001b[43my_true\u001b[49m\u001b[43m,\u001b[49m\u001b[43m \u001b[49m\u001b[43mlabels\u001b[49m\u001b[43m)\u001b[49m) \u001b[38;5;241m==\u001b[39m \u001b[38;5;241m0\u001b[39m:\n\u001b[0;32m    333\u001b[0m         \u001b[38;5;28;01mraise\u001b[39;00m \u001b[38;5;167;01mValueError\u001b[39;00m(\u001b[38;5;124m\"\u001b[39m\u001b[38;5;124mAt least one label specified must be in y_true\u001b[39m\u001b[38;5;124m\"\u001b[39m)\n\u001b[0;32m    335\u001b[0m \u001b[38;5;28;01mif\u001b[39;00m sample_weight \u001b[38;5;129;01mis\u001b[39;00m \u001b[38;5;28;01mNone\u001b[39;00m:\n",
      "File \u001b[1;32md:\\tudelft\\test-val-for-ai-project\\.env\\Lib\\site-packages\\numpy\\lib\\arraysetops.py:445\u001b[0m, in \u001b[0;36mintersect1d\u001b[1;34m(ar1, ar2, assume_unique, return_indices)\u001b[0m\n\u001b[0;32m    443\u001b[0m     \u001b[38;5;28;01melse\u001b[39;00m:\n\u001b[0;32m    444\u001b[0m         ar1 \u001b[38;5;241m=\u001b[39m unique(ar1)\n\u001b[1;32m--> 445\u001b[0m         ar2 \u001b[38;5;241m=\u001b[39m \u001b[43munique\u001b[49m\u001b[43m(\u001b[49m\u001b[43mar2\u001b[49m\u001b[43m)\u001b[49m\n\u001b[0;32m    446\u001b[0m \u001b[38;5;28;01melse\u001b[39;00m:\n\u001b[0;32m    447\u001b[0m     ar1 \u001b[38;5;241m=\u001b[39m ar1\u001b[38;5;241m.\u001b[39mravel()\n",
      "File \u001b[1;32md:\\tudelft\\test-val-for-ai-project\\.env\\Lib\\site-packages\\numpy\\lib\\arraysetops.py:274\u001b[0m, in \u001b[0;36munique\u001b[1;34m(ar, return_index, return_inverse, return_counts, axis, equal_nan)\u001b[0m\n\u001b[0;32m    272\u001b[0m ar \u001b[38;5;241m=\u001b[39m np\u001b[38;5;241m.\u001b[39masanyarray(ar)\n\u001b[0;32m    273\u001b[0m \u001b[38;5;28;01mif\u001b[39;00m axis \u001b[38;5;129;01mis\u001b[39;00m \u001b[38;5;28;01mNone\u001b[39;00m:\n\u001b[1;32m--> 274\u001b[0m     ret \u001b[38;5;241m=\u001b[39m \u001b[43m_unique1d\u001b[49m\u001b[43m(\u001b[49m\u001b[43mar\u001b[49m\u001b[43m,\u001b[49m\u001b[43m \u001b[49m\u001b[43mreturn_index\u001b[49m\u001b[43m,\u001b[49m\u001b[43m \u001b[49m\u001b[43mreturn_inverse\u001b[49m\u001b[43m,\u001b[49m\u001b[43m \u001b[49m\u001b[43mreturn_counts\u001b[49m\u001b[43m,\u001b[49m\u001b[43m \u001b[49m\n\u001b[0;32m    275\u001b[0m \u001b[43m                    \u001b[49m\u001b[43mequal_nan\u001b[49m\u001b[38;5;241;43m=\u001b[39;49m\u001b[43mequal_nan\u001b[49m\u001b[43m)\u001b[49m\n\u001b[0;32m    276\u001b[0m     \u001b[38;5;28;01mreturn\u001b[39;00m _unpack_tuple(ret)\n\u001b[0;32m    278\u001b[0m \u001b[38;5;66;03m# axis was specified and not None\u001b[39;00m\n",
      "File \u001b[1;32md:\\tudelft\\test-val-for-ai-project\\.env\\Lib\\site-packages\\numpy\\lib\\arraysetops.py:336\u001b[0m, in \u001b[0;36m_unique1d\u001b[1;34m(ar, return_index, return_inverse, return_counts, equal_nan)\u001b[0m\n\u001b[0;32m    334\u001b[0m     aux \u001b[38;5;241m=\u001b[39m ar[perm]\n\u001b[0;32m    335\u001b[0m \u001b[38;5;28;01melse\u001b[39;00m:\n\u001b[1;32m--> 336\u001b[0m     ar\u001b[38;5;241m.\u001b[39msort()\n\u001b[0;32m    337\u001b[0m     aux \u001b[38;5;241m=\u001b[39m ar\n\u001b[0;32m    338\u001b[0m mask \u001b[38;5;241m=\u001b[39m np\u001b[38;5;241m.\u001b[39mempty(aux\u001b[38;5;241m.\u001b[39mshape, dtype\u001b[38;5;241m=\u001b[39mnp\u001b[38;5;241m.\u001b[39mbool_)\n",
      "\u001b[1;31mTypeError\u001b[0m: '<' not supported between instances of 'int' and 'NoneType'"
     ]
    }
   ],
   "source": [
    "\n",
    "metrics.get_metrics_summary(X_test, y_true=y_data, y_pred=y_pred)"
   ]
  },
  {
   "cell_type": "code",
   "execution_count": null,
   "metadata": {},
   "outputs": [
    {
     "name": "stdout",
     "output_type": "stream",
     "text": [
      "Testing data_remover\n",
      "Testing data_repetition\n",
      "Testing data_shuffler\n",
      "Testing feature_remover\n",
      "Testing label_error\n",
      "Mutation score: {'data_remover': 50.7, 'data_repetition': 37.0, 'data_shuffler': 21.3, 'feature_remover': 44.5, 'label_error': 97.0}\n"
     ]
    }
   ],
   "source": [
    "\"\"\"\n",
    "MUTATION TESTING\n",
    "\"\"\"\n",
    "\n",
    "params = {\n",
    "    'data_shuffler': 1000,\n",
    "    'data_remover': 0.25,\n",
    "    'data_repetition': 1000, \n",
    "    'label_error': 1000,\n",
    "    'feature_remover': 31,\n",
    "}\n",
    "\n",
    "model_test = ModelLoader.load_model(type='bad', params=PARAMS)\n",
    "mutation = True\n",
    "if mutation==True:\n",
    "    X_test = pd.concat([X_test, y_test], axis=1)\n",
    "    X_bad = pd.concat([X_bad, y_bad], axis=1)\n",
    "    mutator = MutationTester(model=model_test, y_pred_baseline=y_pred, df_train=X_bad, df_test=X_test)\n",
    "    mutation_score = mutator.test_mutants(params)\n",
    "    print(f\"Mutation score: {mutation_score}\")"
   ]
  },
  {
   "cell_type": "code",
   "execution_count": null,
   "metadata": {},
   "outputs": [],
   "source": []
  }
 ],
 "metadata": {
  "kernelspec": {
   "display_name": ".env",
   "language": "python",
   "name": "python3"
  },
  "language_info": {
   "codemirror_mode": {
    "name": "ipython",
    "version": 3
   },
   "file_extension": ".py",
   "mimetype": "text/x-python",
   "name": "python",
   "nbconvert_exporter": "python",
   "pygments_lexer": "ipython3",
   "version": "3.11.7"
  }
 },
 "nbformat": 4,
 "nbformat_minor": 2
}
