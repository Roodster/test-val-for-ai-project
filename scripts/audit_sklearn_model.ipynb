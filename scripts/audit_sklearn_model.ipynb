{
 "cells": [
  {
   "cell_type": "code",
   "execution_count": null,
   "metadata": {},
   "outputs": [],
   "source": [
    "\"\"\"\n",
    "IMPORTS\n",
    "\"\"\"\n",
    "\n",
    "import pandas as pd\n",
    "import numpy as np\n",
    "import onnxruntime as rt\n",
    "import dice_ml\n",
    "from dice_ml.utils import helpers \n",
    "\n",
    "from utils.dataloader import DataLoader\n",
    "from models.modelloader import ModelLoader\n",
    "from utils.constants import protected_attributes, group_proxies\n",
    "\n",
    "\n",
    "from tests.metrics import MetricsTester\n",
    "from tests.mututation import MutationTester\n",
    "from tests.metamorphic import MetamorphicTester\n",
    "from tests.shapley import ShapleyTester"
   ]
  },
  {
   "cell_type": "code",
   "execution_count": null,
   "metadata": {},
   "outputs": [],
   "source": [
    "\"\"\"\n",
    "    INTERESTING LINKS:\n",
    "        - https://dl.acm.org/doi/pdf/10.1145/3338906.3338937\n",
    "\"\"\""
   ]
  },
  {
   "cell_type": "code",
   "execution_count": 1,
   "metadata": {},
   "outputs": [],
   "source": [
    "\"\"\"\n",
    "SET MODEL(S)\n",
    "\"\"\"\n",
    "\n",
    "\n",
    "model_loader = ModelLoader(type='good')"
   ]
  },
  {
   "cell_type": "code",
   "execution_count": null,
   "metadata": {},
   "outputs": [],
   "source": [
    "\"\"\"\n",
    "LOAD DATASET\n",
    "\"\"\"\n",
    "\n",
    "dataloader = DataLoader()\n",
    "X_train, y_train = dataloader.load_split('train')\n",
    "print(f'{X_train.shape}, {y_train.shape}')\n",
    "X_test, y_test = dataloader.load_split('test')\n",
    "print(f'{X_test.shape}, {y_test.shape}')\n",
    "X_data, y_data = dataloader.load_split('full')\n",
    "print(f'{X_data.shape}, {y_data.shape}')"
   ]
  },
  {
   "cell_type": "code",
   "execution_count": null,
   "metadata": {},
   "outputs": [],
   "source": [
    "\"\"\"\n",
    "    TEST MODEL ON DATASET\n",
    "\"\"\"\n",
    "\n",
    "model_loader.fit(X_train, y_train)\n",
    "y_pred = model_loader.predict()"
   ]
  },
  {
   "cell_type": "code",
   "execution_count": null,
   "metadata": {},
   "outputs": [],
   "source": [
    "\"\"\"\n",
    "FUNCTIONAL TESTING\n",
    "\"\"\"\n",
    "\n",
    "metrics = MetricsTester(protected_variables=protected_attributes, group_metrics=group_proxies)\n"
   ]
  },
  {
   "cell_type": "code",
   "execution_count": null,
   "metadata": {},
   "outputs": [],
   "source": [
    "metrics.get_metrics_summary(X_test, y_true=y_test, y_pred=y_pred)"
   ]
  },
  {
   "cell_type": "code",
   "execution_count": null,
   "metadata": {},
   "outputs": [],
   "source": [
    "\"\"\"\n",
    "MUTATION TESTING\n",
    "\"\"\"\n",
    "\n",
    "params = {\n",
    "    'data_shuffler': 1000,\n",
    "    'data_remover': 0.25,\n",
    "    'data_repetition': 1000, \n",
    "    'label_error': 1000,\n",
    "    'feature_remover': 31,\n",
    "}\n",
    "\n",
    "\n",
    "mutator = MutationTester(y_pred_baseline=y_pred, df_train=X_train, df_test=X_test)\n",
    "mutation_score = mutator.test_mutants(params)\n",
    "print(f\"Mutation score: {mutation_score}\")"
   ]
  },
  {
   "cell_type": "code",
   "execution_count": null,
   "metadata": {},
   "outputs": [],
   "source": [
    "\"\"\"\n",
    "AUC\n",
    "\"\"\"\n"
   ]
  },
  {
   "cell_type": "code",
   "execution_count": null,
   "metadata": {},
   "outputs": [],
   "source": [
    "\"\"\"\n",
    "SHAP VALUES\n",
    "\"\"\"\n",
    "\n",
    "shapley_tester = ShapleyTester()\n",
    "shapley_explainer = ShapleyTester.get_model_explainer(model=model_loader.model.model)\n",
    "shapley_tester.plot_shapley_values(shapley_explainer, X_test.iloc[0])\n"
   ]
  },
  {
   "cell_type": "code",
   "execution_count": null,
   "metadata": {},
   "outputs": [],
   "source": [
    "\"\"\"\n",
    "COUNTERFACTUALS\n",
    "\"\"\"\n",
    "\n",
    "# Model\n",
    "\n",
    "data = dice_ml.Data(dataframe=X_data, \n",
    "                   continuous_features=['persoon_leeftijd_bij_onderzoek'],\n",
    "                   outcome_name='checked')\n",
    "\n",
    "rf_dice = dice_ml.Model(model=model_loader.model.model, \n",
    "                        # There exist backends for tf, torch, ...\n",
    "                        backend=\"sklearn\")\n",
    "\n",
    "explainer = dice_ml.Dice(data, \n",
    "                         rf_dice, \n",
    "                         # Random sampling, genetic algorithm, kd-tree,...\n",
    "                         method=\"random\")\n"
   ]
  },
  {
   "cell_type": "code",
   "execution_count": null,
   "metadata": {},
   "outputs": [],
   "source": [
    "original_input = X_test[0:4]\n",
    "cf_examples = explainer.generate_counterfactuals(original_input,\n",
    "                                           total_CFs=3,\n",
    "                                           desired_class=\"opposite\")\n",
    "cf_examples.visualize_as_dataframe(show_only_changes=True)"
   ]
  },
  {
   "cell_type": "code",
   "execution_count": null,
   "metadata": {},
   "outputs": [],
   "source": []
  },
  {
   "cell_type": "code",
   "execution_count": null,
   "metadata": {},
   "outputs": [],
   "source": []
  }
 ],
 "metadata": {
  "kernelspec": {
   "display_name": ".env",
   "language": "python",
   "name": "python3"
  },
  "language_info": {
   "codemirror_mode": {
    "name": "ipython",
    "version": 3
   },
   "file_extension": ".py",
   "mimetype": "text/x-python",
   "name": "python",
   "nbconvert_exporter": "python",
   "pygments_lexer": "ipython3",
   "version": "3.10.12"
  }
 },
 "nbformat": 4,
 "nbformat_minor": 2
}
