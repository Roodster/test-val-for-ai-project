{
 "cells": [
  {
   "cell_type": "code",
   "execution_count": 1,
   "id": "initial_id",
   "metadata": {
    "collapsed": true,
    "ExecuteTime": {
     "end_time": "2024-03-21T19:04:17.489374Z",
     "start_time": "2024-03-21T19:04:14.335395Z"
    }
   },
   "outputs": [
    {
     "name": "stderr",
     "output_type": "stream",
     "text": [
      "C:\\Users\\alexd\\AppData\\Local\\Temp\\ipykernel_20688\\4050468885.py:1: DeprecationWarning: \n",
      "Pyarrow will become a required dependency of pandas in the next major release of pandas (pandas 3.0),\n",
      "(to allow more performant data types, such as the Arrow string type, and better interoperability with other libraries)\n",
      "but was not found to be installed on your system.\n",
      "If this would cause problems for you,\n",
      "please provide us feedback at https://github.com/pandas-dev/pandas/issues/54466\n",
      "        \n",
      "  import pandas as pd\n"
     ]
    }
   ],
   "source": [
    "import pandas as pd\n",
    "import numpy as np\n",
    "from sklearn.model_selection import GridSearchCV\n",
    "import onnxruntime as rt\n",
    "import onnx\n",
    "import xgboost as xgb\n",
    "from skl2onnx.common.data_types import FloatTensorType\n",
    "from sklearn.ensemble import RandomForestClassifier\n",
    "from sklearn.feature_selection import SelectFromModel\n",
    "from sklearn.metrics import accuracy_score, classification_report\n",
    "from sklearn.pipeline import Pipeline\n",
    "from skl2onnx import convert_sklearn\n",
    "from scipy.stats import ks_2samp"
   ]
  },
  {
   "cell_type": "markdown",
   "source": [
    "# Model 1"
   ],
   "metadata": {
    "collapsed": false
   },
   "id": "9d3f56cd55abcb91"
  },
  {
   "cell_type": "code",
   "outputs": [],
   "source": [
    "# Modify the data files\n",
    "train_data = pd.read_csv('data/train_data_1.csv')\n",
    "test_data = pd.read_csv('data/test_data_1.csv')\n",
    "\n",
    "y_train = train_data['checked']\n",
    "X_train = train_data.drop(['checked'], axis=1)\n",
    "X_train = X_train.astype(np.float32)\n",
    "\n",
    "y_test = test_data['checked']\n",
    "X_test = test_data.drop(['checked'], axis=1)\n",
    "X_test = X_test.astype(np.float32)"
   ],
   "metadata": {
    "collapsed": false,
    "ExecuteTime": {
     "end_time": "2024-03-21T19:04:18.077360Z",
     "start_time": "2024-03-21T19:04:17.491511Z"
    }
   },
   "id": "2d119bedf76958c8",
   "execution_count": 2
  },
  {
   "cell_type": "code",
   "outputs": [],
   "source": [
    "# Select important features\n",
    "selector = SelectFromModel(RandomForestClassifier(class_weight='balanced'))"
   ],
   "metadata": {
    "collapsed": false,
    "ExecuteTime": {
     "end_time": "2024-03-21T19:04:18.084384Z",
     "start_time": "2024-03-21T19:04:18.079606Z"
    }
   },
   "id": "a0dc8bc25e999c86",
   "execution_count": 3
  },
  {
   "cell_type": "code",
   "outputs": [],
   "source": [
    "# Use XGBoost as classifier\n",
    "classifier = xgb.XGBClassifier(objective='binary:logistic')"
   ],
   "metadata": {
    "collapsed": false,
    "ExecuteTime": {
     "end_time": "2024-03-21T19:04:18.092638Z",
     "start_time": "2024-03-21T19:04:18.086564Z"
    }
   },
   "id": "12ca9c7348c2558c",
   "execution_count": 4
  },
  {
   "cell_type": "code",
   "outputs": [],
   "source": [
    "# Create a pipeline object with our selector and classifier\n",
    "pipeline = Pipeline(steps=[('feature_selection', selector), ('classification', classifier)])"
   ],
   "metadata": {
    "collapsed": false,
    "ExecuteTime": {
     "end_time": "2024-03-21T19:04:18.104892Z",
     "start_time": "2024-03-21T19:04:18.097198Z"
    }
   },
   "id": "605edda507b9e995",
   "execution_count": 5
  },
  {
   "cell_type": "code",
   "outputs": [
    {
     "name": "stdout",
     "output_type": "stream",
     "text": [
      "Fitting 5 folds for each of 9 candidates, totalling 45 fits\n",
      "[CV] END classification__learning_rate=0.1, feature_selection__max_features=50; total time=   4.3s\n",
      "[CV] END classification__learning_rate=0.1, feature_selection__max_features=50; total time=   3.2s\n",
      "[CV] END classification__learning_rate=0.1, feature_selection__max_features=50; total time=   3.1s\n",
      "[CV] END classification__learning_rate=0.1, feature_selection__max_features=50; total time=   3.1s\n",
      "[CV] END classification__learning_rate=0.1, feature_selection__max_features=50; total time=   3.1s\n",
      "[CV] END classification__learning_rate=0.1, feature_selection__max_features=75; total time=   3.2s\n",
      "[CV] END classification__learning_rate=0.1, feature_selection__max_features=75; total time=   3.2s\n",
      "[CV] END classification__learning_rate=0.1, feature_selection__max_features=75; total time=   3.2s\n",
      "[CV] END classification__learning_rate=0.1, feature_selection__max_features=75; total time=   3.2s\n",
      "[CV] END classification__learning_rate=0.1, feature_selection__max_features=75; total time=   3.2s\n",
      "[CV] END classification__learning_rate=0.1, feature_selection__max_features=100; total time=   3.2s\n",
      "[CV] END classification__learning_rate=0.1, feature_selection__max_features=100; total time=   3.2s\n",
      "[CV] END classification__learning_rate=0.1, feature_selection__max_features=100; total time=   3.2s\n",
      "[CV] END classification__learning_rate=0.1, feature_selection__max_features=100; total time=   3.3s\n",
      "[CV] END classification__learning_rate=0.1, feature_selection__max_features=100; total time=   3.2s\n",
      "[CV] END classification__learning_rate=0.2, feature_selection__max_features=50; total time=   3.1s\n",
      "[CV] END classification__learning_rate=0.2, feature_selection__max_features=50; total time=   3.2s\n",
      "[CV] END classification__learning_rate=0.2, feature_selection__max_features=50; total time=   3.1s\n",
      "[CV] END classification__learning_rate=0.2, feature_selection__max_features=50; total time=   3.1s\n",
      "[CV] END classification__learning_rate=0.2, feature_selection__max_features=50; total time=   3.1s\n",
      "[CV] END classification__learning_rate=0.2, feature_selection__max_features=75; total time=   3.1s\n",
      "[CV] END classification__learning_rate=0.2, feature_selection__max_features=75; total time=   3.1s\n",
      "[CV] END classification__learning_rate=0.2, feature_selection__max_features=75; total time=   3.1s\n",
      "[CV] END classification__learning_rate=0.2, feature_selection__max_features=75; total time=   3.2s\n",
      "[CV] END classification__learning_rate=0.2, feature_selection__max_features=75; total time=   3.1s\n",
      "[CV] END classification__learning_rate=0.2, feature_selection__max_features=100; total time=   3.2s\n",
      "[CV] END classification__learning_rate=0.2, feature_selection__max_features=100; total time=   3.2s\n",
      "[CV] END classification__learning_rate=0.2, feature_selection__max_features=100; total time=   3.2s\n",
      "[CV] END classification__learning_rate=0.2, feature_selection__max_features=100; total time=   3.2s\n",
      "[CV] END classification__learning_rate=0.2, feature_selection__max_features=100; total time=   3.2s\n",
      "[CV] END classification__learning_rate=0.3, feature_selection__max_features=50; total time=   3.3s\n",
      "[CV] END classification__learning_rate=0.3, feature_selection__max_features=50; total time=   3.1s\n",
      "[CV] END classification__learning_rate=0.3, feature_selection__max_features=50; total time=   3.0s\n",
      "[CV] END classification__learning_rate=0.3, feature_selection__max_features=50; total time=   3.1s\n",
      "[CV] END classification__learning_rate=0.3, feature_selection__max_features=50; total time=   3.1s\n",
      "[CV] END classification__learning_rate=0.3, feature_selection__max_features=75; total time=   3.2s\n",
      "[CV] END classification__learning_rate=0.3, feature_selection__max_features=75; total time=   3.2s\n",
      "[CV] END classification__learning_rate=0.3, feature_selection__max_features=75; total time=   3.7s\n",
      "[CV] END classification__learning_rate=0.3, feature_selection__max_features=75; total time=   3.9s\n",
      "[CV] END classification__learning_rate=0.3, feature_selection__max_features=75; total time=   3.3s\n",
      "[CV] END classification__learning_rate=0.3, feature_selection__max_features=100; total time=   4.0s\n",
      "[CV] END classification__learning_rate=0.3, feature_selection__max_features=100; total time=   4.5s\n",
      "[CV] END classification__learning_rate=0.3, feature_selection__max_features=100; total time=   4.0s\n",
      "[CV] END classification__learning_rate=0.3, feature_selection__max_features=100; total time=   3.7s\n",
      "[CV] END classification__learning_rate=0.3, feature_selection__max_features=100; total time=   3.5s\n",
      "Best Parameters: {'classification__learning_rate': 0.2, 'feature_selection__max_features': 100}\n",
      "Best Cross-Validation Score: 0.9642412177535338\n"
     ]
    }
   ],
   "source": [
    "# Cross-validate pipeline\n",
    "# Define the parameter grid for grid search\n",
    "param_grid = {\n",
    "    'feature_selection__max_features': [50, 75, 100],\n",
    "    'classification__learning_rate': [0.1, 0.2, 0.3],\n",
    "}\n",
    "\n",
    "# Create a GridSearchCV object with the pipeline and parameter grid\n",
    "grid_search = GridSearchCV(pipeline, param_grid, scoring= 'roc_auc', cv=5, verbose= 2)\n",
    "\n",
    "# Perform grid search with cross-validation\n",
    "grid_search.fit(X_train, y_train)\n",
    "\n",
    "# Print the best parameters found\n",
    "print(\"Best Parameters:\", grid_search.best_params_)\n",
    "\n",
    "# Print the best cross-validation score\n",
    "print(\"Best Cross-Validation Score:\", grid_search.best_score_)"
   ],
   "metadata": {
    "collapsed": false,
    "ExecuteTime": {
     "end_time": "2024-03-21T19:06:57.440972Z",
     "start_time": "2024-03-21T19:04:18.107068Z"
    }
   },
   "id": "dae9508c0c3dd535",
   "execution_count": 6
  },
  {
   "cell_type": "code",
   "outputs": [
    {
     "data": {
      "text/plain": "SelectFromModel(estimator=RandomForestClassifier(class_weight='balanced'),\n                max_features=100)",
      "text/html": "<style>#sk-container-id-1 {\n  /* Definition of color scheme common for light and dark mode */\n  --sklearn-color-text: black;\n  --sklearn-color-line: gray;\n  /* Definition of color scheme for unfitted estimators */\n  --sklearn-color-unfitted-level-0: #fff5e6;\n  --sklearn-color-unfitted-level-1: #f6e4d2;\n  --sklearn-color-unfitted-level-2: #ffe0b3;\n  --sklearn-color-unfitted-level-3: chocolate;\n  /* Definition of color scheme for fitted estimators */\n  --sklearn-color-fitted-level-0: #f0f8ff;\n  --sklearn-color-fitted-level-1: #d4ebff;\n  --sklearn-color-fitted-level-2: #b3dbfd;\n  --sklearn-color-fitted-level-3: cornflowerblue;\n\n  /* Specific color for light theme */\n  --sklearn-color-text-on-default-background: var(--sg-text-color, var(--theme-code-foreground, var(--jp-content-font-color1, black)));\n  --sklearn-color-background: var(--sg-background-color, var(--theme-background, var(--jp-layout-color0, white)));\n  --sklearn-color-border-box: var(--sg-text-color, var(--theme-code-foreground, var(--jp-content-font-color1, black)));\n  --sklearn-color-icon: #696969;\n\n  @media (prefers-color-scheme: dark) {\n    /* Redefinition of color scheme for dark theme */\n    --sklearn-color-text-on-default-background: var(--sg-text-color, var(--theme-code-foreground, var(--jp-content-font-color1, white)));\n    --sklearn-color-background: var(--sg-background-color, var(--theme-background, var(--jp-layout-color0, #111)));\n    --sklearn-color-border-box: var(--sg-text-color, var(--theme-code-foreground, var(--jp-content-font-color1, white)));\n    --sklearn-color-icon: #878787;\n  }\n}\n\n#sk-container-id-1 {\n  color: var(--sklearn-color-text);\n}\n\n#sk-container-id-1 pre {\n  padding: 0;\n}\n\n#sk-container-id-1 input.sk-hidden--visually {\n  border: 0;\n  clip: rect(1px 1px 1px 1px);\n  clip: rect(1px, 1px, 1px, 1px);\n  height: 1px;\n  margin: -1px;\n  overflow: hidden;\n  padding: 0;\n  position: absolute;\n  width: 1px;\n}\n\n#sk-container-id-1 div.sk-dashed-wrapped {\n  border: 1px dashed var(--sklearn-color-line);\n  margin: 0 0.4em 0.5em 0.4em;\n  box-sizing: border-box;\n  padding-bottom: 0.4em;\n  background-color: var(--sklearn-color-background);\n}\n\n#sk-container-id-1 div.sk-container {\n  /* jupyter's `normalize.less` sets `[hidden] { display: none; }`\n     but bootstrap.min.css set `[hidden] { display: none !important; }`\n     so we also need the `!important` here to be able to override the\n     default hidden behavior on the sphinx rendered scikit-learn.org.\n     See: https://github.com/scikit-learn/scikit-learn/issues/21755 */\n  display: inline-block !important;\n  position: relative;\n}\n\n#sk-container-id-1 div.sk-text-repr-fallback {\n  display: none;\n}\n\ndiv.sk-parallel-item,\ndiv.sk-serial,\ndiv.sk-item {\n  /* draw centered vertical line to link estimators */\n  background-image: linear-gradient(var(--sklearn-color-text-on-default-background), var(--sklearn-color-text-on-default-background));\n  background-size: 2px 100%;\n  background-repeat: no-repeat;\n  background-position: center center;\n}\n\n/* Parallel-specific style estimator block */\n\n#sk-container-id-1 div.sk-parallel-item::after {\n  content: \"\";\n  width: 100%;\n  border-bottom: 2px solid var(--sklearn-color-text-on-default-background);\n  flex-grow: 1;\n}\n\n#sk-container-id-1 div.sk-parallel {\n  display: flex;\n  align-items: stretch;\n  justify-content: center;\n  background-color: var(--sklearn-color-background);\n  position: relative;\n}\n\n#sk-container-id-1 div.sk-parallel-item {\n  display: flex;\n  flex-direction: column;\n}\n\n#sk-container-id-1 div.sk-parallel-item:first-child::after {\n  align-self: flex-end;\n  width: 50%;\n}\n\n#sk-container-id-1 div.sk-parallel-item:last-child::after {\n  align-self: flex-start;\n  width: 50%;\n}\n\n#sk-container-id-1 div.sk-parallel-item:only-child::after {\n  width: 0;\n}\n\n/* Serial-specific style estimator block */\n\n#sk-container-id-1 div.sk-serial {\n  display: flex;\n  flex-direction: column;\n  align-items: center;\n  background-color: var(--sklearn-color-background);\n  padding-right: 1em;\n  padding-left: 1em;\n}\n\n\n/* Toggleable style: style used for estimator/Pipeline/ColumnTransformer box that is\nclickable and can be expanded/collapsed.\n- Pipeline and ColumnTransformer use this feature and define the default style\n- Estimators will overwrite some part of the style using the `sk-estimator` class\n*/\n\n/* Pipeline and ColumnTransformer style (default) */\n\n#sk-container-id-1 div.sk-toggleable {\n  /* Default theme specific background. It is overwritten whether we have a\n  specific estimator or a Pipeline/ColumnTransformer */\n  background-color: var(--sklearn-color-background);\n}\n\n/* Toggleable label */\n#sk-container-id-1 label.sk-toggleable__label {\n  cursor: pointer;\n  display: block;\n  width: 100%;\n  margin-bottom: 0;\n  padding: 0.5em;\n  box-sizing: border-box;\n  text-align: center;\n}\n\n#sk-container-id-1 label.sk-toggleable__label-arrow:before {\n  /* Arrow on the left of the label */\n  content: \"▸\";\n  float: left;\n  margin-right: 0.25em;\n  color: var(--sklearn-color-icon);\n}\n\n#sk-container-id-1 label.sk-toggleable__label-arrow:hover:before {\n  color: var(--sklearn-color-text);\n}\n\n/* Toggleable content - dropdown */\n\n#sk-container-id-1 div.sk-toggleable__content {\n  max-height: 0;\n  max-width: 0;\n  overflow: hidden;\n  text-align: left;\n  /* unfitted */\n  background-color: var(--sklearn-color-unfitted-level-0);\n}\n\n#sk-container-id-1 div.sk-toggleable__content.fitted {\n  /* fitted */\n  background-color: var(--sklearn-color-fitted-level-0);\n}\n\n#sk-container-id-1 div.sk-toggleable__content pre {\n  margin: 0.2em;\n  border-radius: 0.25em;\n  color: var(--sklearn-color-text);\n  /* unfitted */\n  background-color: var(--sklearn-color-unfitted-level-0);\n}\n\n#sk-container-id-1 div.sk-toggleable__content.fitted pre {\n  /* unfitted */\n  background-color: var(--sklearn-color-fitted-level-0);\n}\n\n#sk-container-id-1 input.sk-toggleable__control:checked~div.sk-toggleable__content {\n  /* Expand drop-down */\n  max-height: 200px;\n  max-width: 100%;\n  overflow: auto;\n}\n\n#sk-container-id-1 input.sk-toggleable__control:checked~label.sk-toggleable__label-arrow:before {\n  content: \"▾\";\n}\n\n/* Pipeline/ColumnTransformer-specific style */\n\n#sk-container-id-1 div.sk-label input.sk-toggleable__control:checked~label.sk-toggleable__label {\n  color: var(--sklearn-color-text);\n  background-color: var(--sklearn-color-unfitted-level-2);\n}\n\n#sk-container-id-1 div.sk-label.fitted input.sk-toggleable__control:checked~label.sk-toggleable__label {\n  background-color: var(--sklearn-color-fitted-level-2);\n}\n\n/* Estimator-specific style */\n\n/* Colorize estimator box */\n#sk-container-id-1 div.sk-estimator input.sk-toggleable__control:checked~label.sk-toggleable__label {\n  /* unfitted */\n  background-color: var(--sklearn-color-unfitted-level-2);\n}\n\n#sk-container-id-1 div.sk-estimator.fitted input.sk-toggleable__control:checked~label.sk-toggleable__label {\n  /* fitted */\n  background-color: var(--sklearn-color-fitted-level-2);\n}\n\n#sk-container-id-1 div.sk-label label.sk-toggleable__label,\n#sk-container-id-1 div.sk-label label {\n  /* The background is the default theme color */\n  color: var(--sklearn-color-text-on-default-background);\n}\n\n/* On hover, darken the color of the background */\n#sk-container-id-1 div.sk-label:hover label.sk-toggleable__label {\n  color: var(--sklearn-color-text);\n  background-color: var(--sklearn-color-unfitted-level-2);\n}\n\n/* Label box, darken color on hover, fitted */\n#sk-container-id-1 div.sk-label.fitted:hover label.sk-toggleable__label.fitted {\n  color: var(--sklearn-color-text);\n  background-color: var(--sklearn-color-fitted-level-2);\n}\n\n/* Estimator label */\n\n#sk-container-id-1 div.sk-label label {\n  font-family: monospace;\n  font-weight: bold;\n  display: inline-block;\n  line-height: 1.2em;\n}\n\n#sk-container-id-1 div.sk-label-container {\n  text-align: center;\n}\n\n/* Estimator-specific */\n#sk-container-id-1 div.sk-estimator {\n  font-family: monospace;\n  border: 1px dotted var(--sklearn-color-border-box);\n  border-radius: 0.25em;\n  box-sizing: border-box;\n  margin-bottom: 0.5em;\n  /* unfitted */\n  background-color: var(--sklearn-color-unfitted-level-0);\n}\n\n#sk-container-id-1 div.sk-estimator.fitted {\n  /* fitted */\n  background-color: var(--sklearn-color-fitted-level-0);\n}\n\n/* on hover */\n#sk-container-id-1 div.sk-estimator:hover {\n  /* unfitted */\n  background-color: var(--sklearn-color-unfitted-level-2);\n}\n\n#sk-container-id-1 div.sk-estimator.fitted:hover {\n  /* fitted */\n  background-color: var(--sklearn-color-fitted-level-2);\n}\n\n/* Specification for estimator info (e.g. \"i\" and \"?\") */\n\n/* Common style for \"i\" and \"?\" */\n\n.sk-estimator-doc-link,\na:link.sk-estimator-doc-link,\na:visited.sk-estimator-doc-link {\n  float: right;\n  font-size: smaller;\n  line-height: 1em;\n  font-family: monospace;\n  background-color: var(--sklearn-color-background);\n  border-radius: 1em;\n  height: 1em;\n  width: 1em;\n  text-decoration: none !important;\n  margin-left: 1ex;\n  /* unfitted */\n  border: var(--sklearn-color-unfitted-level-1) 1pt solid;\n  color: var(--sklearn-color-unfitted-level-1);\n}\n\n.sk-estimator-doc-link.fitted,\na:link.sk-estimator-doc-link.fitted,\na:visited.sk-estimator-doc-link.fitted {\n  /* fitted */\n  border: var(--sklearn-color-fitted-level-1) 1pt solid;\n  color: var(--sklearn-color-fitted-level-1);\n}\n\n/* On hover */\ndiv.sk-estimator:hover .sk-estimator-doc-link:hover,\n.sk-estimator-doc-link:hover,\ndiv.sk-label-container:hover .sk-estimator-doc-link:hover,\n.sk-estimator-doc-link:hover {\n  /* unfitted */\n  background-color: var(--sklearn-color-unfitted-level-3);\n  color: var(--sklearn-color-background);\n  text-decoration: none;\n}\n\ndiv.sk-estimator.fitted:hover .sk-estimator-doc-link.fitted:hover,\n.sk-estimator-doc-link.fitted:hover,\ndiv.sk-label-container:hover .sk-estimator-doc-link.fitted:hover,\n.sk-estimator-doc-link.fitted:hover {\n  /* fitted */\n  background-color: var(--sklearn-color-fitted-level-3);\n  color: var(--sklearn-color-background);\n  text-decoration: none;\n}\n\n/* Span, style for the box shown on hovering the info icon */\n.sk-estimator-doc-link span {\n  display: none;\n  z-index: 9999;\n  position: relative;\n  font-weight: normal;\n  right: .2ex;\n  padding: .5ex;\n  margin: .5ex;\n  width: min-content;\n  min-width: 20ex;\n  max-width: 50ex;\n  color: var(--sklearn-color-text);\n  box-shadow: 2pt 2pt 4pt #999;\n  /* unfitted */\n  background: var(--sklearn-color-unfitted-level-0);\n  border: .5pt solid var(--sklearn-color-unfitted-level-3);\n}\n\n.sk-estimator-doc-link.fitted span {\n  /* fitted */\n  background: var(--sklearn-color-fitted-level-0);\n  border: var(--sklearn-color-fitted-level-3);\n}\n\n.sk-estimator-doc-link:hover span {\n  display: block;\n}\n\n/* \"?\"-specific style due to the `<a>` HTML tag */\n\n#sk-container-id-1 a.estimator_doc_link {\n  float: right;\n  font-size: 1rem;\n  line-height: 1em;\n  font-family: monospace;\n  background-color: var(--sklearn-color-background);\n  border-radius: 1rem;\n  height: 1rem;\n  width: 1rem;\n  text-decoration: none;\n  /* unfitted */\n  color: var(--sklearn-color-unfitted-level-1);\n  border: var(--sklearn-color-unfitted-level-1) 1pt solid;\n}\n\n#sk-container-id-1 a.estimator_doc_link.fitted {\n  /* fitted */\n  border: var(--sklearn-color-fitted-level-1) 1pt solid;\n  color: var(--sklearn-color-fitted-level-1);\n}\n\n/* On hover */\n#sk-container-id-1 a.estimator_doc_link:hover {\n  /* unfitted */\n  background-color: var(--sklearn-color-unfitted-level-3);\n  color: var(--sklearn-color-background);\n  text-decoration: none;\n}\n\n#sk-container-id-1 a.estimator_doc_link.fitted:hover {\n  /* fitted */\n  background-color: var(--sklearn-color-fitted-level-3);\n}\n</style><div id=\"sk-container-id-1\" class=\"sk-top-container\"><div class=\"sk-text-repr-fallback\"><pre>SelectFromModel(estimator=RandomForestClassifier(class_weight=&#x27;balanced&#x27;),\n                max_features=100)</pre><b>In a Jupyter environment, please rerun this cell to show the HTML representation or trust the notebook. <br />On GitHub, the HTML representation is unable to render, please try loading this page with nbviewer.org.</b></div><div class=\"sk-container\" hidden><div class=\"sk-item sk-dashed-wrapped\"><div class=\"sk-label-container\"><div class=\"sk-label  sk-toggleable\"><input class=\"sk-toggleable__control sk-hidden--visually\" id=\"sk-estimator-id-1\" type=\"checkbox\" ><label for=\"sk-estimator-id-1\" class=\"sk-toggleable__label  sk-toggleable__label-arrow \">&nbsp;&nbsp;SelectFromModel<a class=\"sk-estimator-doc-link \" rel=\"noreferrer\" target=\"_blank\" href=\"https://scikit-learn.org/1.4/modules/generated/sklearn.feature_selection.SelectFromModel.html\">?<span>Documentation for SelectFromModel</span></a><span class=\"sk-estimator-doc-link \">i<span>Not fitted</span></span></label><div class=\"sk-toggleable__content \"><pre>SelectFromModel(estimator=RandomForestClassifier(class_weight=&#x27;balanced&#x27;),\n                max_features=100)</pre></div> </div></div><div class=\"sk-parallel\"><div class=\"sk-parallel-item\"><div class=\"sk-item\"><div class=\"sk-label-container\"><div class=\"sk-label  sk-toggleable\"><input class=\"sk-toggleable__control sk-hidden--visually\" id=\"sk-estimator-id-2\" type=\"checkbox\" ><label for=\"sk-estimator-id-2\" class=\"sk-toggleable__label  sk-toggleable__label-arrow \">estimator: RandomForestClassifier</label><div class=\"sk-toggleable__content \"><pre>RandomForestClassifier(class_weight=&#x27;balanced&#x27;)</pre></div> </div></div><div class=\"sk-serial\"><div class=\"sk-item\"><div class=\"sk-estimator  sk-toggleable\"><input class=\"sk-toggleable__control sk-hidden--visually\" id=\"sk-estimator-id-3\" type=\"checkbox\" ><label for=\"sk-estimator-id-3\" class=\"sk-toggleable__label  sk-toggleable__label-arrow \">&nbsp;RandomForestClassifier<a class=\"sk-estimator-doc-link \" rel=\"noreferrer\" target=\"_blank\" href=\"https://scikit-learn.org/1.4/modules/generated/sklearn.ensemble.RandomForestClassifier.html\">?<span>Documentation for RandomForestClassifier</span></a></label><div class=\"sk-toggleable__content \"><pre>RandomForestClassifier(class_weight=&#x27;balanced&#x27;)</pre></div> </div></div></div></div></div></div></div></div></div>"
     },
     "execution_count": 7,
     "metadata": {},
     "output_type": "execute_result"
    }
   ],
   "source": [
    "# Update pipeline\n",
    "pipeline.named_steps['classification'].set_params(learning_rate= grid_search.best_params_['classification__learning_rate'])\n",
    "pipeline.named_steps['feature_selection'].set_params(max_features= grid_search.best_params_['feature_selection__max_features'])"
   ],
   "metadata": {
    "collapsed": false,
    "ExecuteTime": {
     "end_time": "2024-03-21T19:06:57.466313Z",
     "start_time": "2024-03-21T19:06:57.443082Z"
    }
   },
   "id": "f2df1ea9eb9ca0f8",
   "execution_count": 7
  },
  {
   "cell_type": "code",
   "execution_count": 8,
   "id": "e5d6cd8ca1ae2b07",
   "metadata": {
    "collapsed": false,
    "ExecuteTime": {
     "end_time": "2024-03-21T19:07:02.985589Z",
     "start_time": "2024-03-21T19:06:57.468442Z"
    }
   },
   "outputs": [
    {
     "name": "stdout",
     "output_type": "stream",
     "text": [
      "              precision    recall  f1-score   support\n",
      "\n",
      "           0       0.95      0.99      0.97      2278\n",
      "           1       0.86      0.56      0.68       251\n",
      "\n",
      "    accuracy                           0.95      2529\n",
      "   macro avg       0.91      0.78      0.83      2529\n",
      "weighted avg       0.94      0.95      0.94      2529\n",
      "\n",
      "Accuracy of the original model:  0.9474100434954528\n"
     ]
    }
   ],
   "source": [
    "model = pipeline\n",
    "model.fit(X_train, y_train)\n",
    "\n",
    "# Evaluate the model\n",
    "y_pred = model.predict(X_test)\n",
    "original_accuracy = accuracy_score(y_test, y_pred)\n",
    "print(classification_report(y_test, y_pred))\n",
    "print('Accuracy of the original model: ', original_accuracy)"
   ]
  },
  {
   "cell_type": "code",
   "execution_count": 9,
   "id": "66a4f290130b2b75",
   "metadata": {
    "collapsed": false,
    "ExecuteTime": {
     "end_time": "2024-03-21T19:07:03.612033Z",
     "start_time": "2024-03-21T19:07:02.987743Z"
    }
   },
   "outputs": [
    {
     "name": "stdout",
     "output_type": "stream",
     "text": [
      "Accuracy of the ONNX model:  0.9474100434954528\n"
     ]
    }
   ],
   "source": [
    "from skl2onnx import update_registered_converter\n",
    "from skl2onnx.common.shape_calculator import calculate_linear_classifier_output_shapes  # noqa\n",
    "from onnxmltools.convert.xgboost.operator_converters.XGBoost import convert_xgboost  # noqa\n",
    "\n",
    "update_registered_converter(\n",
    "    xgb.XGBClassifier,\n",
    "    \"XGBoostClassifier\",\n",
    "    calculate_linear_classifier_output_shapes,\n",
    "    convert_xgboost,\n",
    "    options={\"nocl\": [True, False], \"zipmap\": [True, False, \"columns\"]}\n",
    ")\n",
    "# Convert the model to ONNX\n",
    "onnx_model = convert_sklearn(\n",
    "    pipeline, initial_types=[('X', FloatTensorType((None, X_train.shape[1])))],\n",
    "    target_opset=12)\n",
    "\n",
    "# Check the accuracy of the converted model\n",
    "sess = rt.InferenceSession(onnx_model.SerializeToString())\n",
    "y_pred_onnx =  sess.run(None, {'X': X_test.values.astype(np.float32)})\n",
    "\n",
    "accuracy_onnx_model = accuracy_score(y_test, y_pred_onnx[0])\n",
    "print('Accuracy of the ONNX model: ', accuracy_onnx_model)"
   ]
  },
  {
   "cell_type": "code",
   "execution_count": 10,
   "id": "8b764f7b39f3eb5",
   "metadata": {
    "collapsed": false,
    "ExecuteTime": {
     "end_time": "2024-03-21T19:07:03.681665Z",
     "start_time": "2024-03-21T19:07:03.614181Z"
    }
   },
   "outputs": [
    {
     "name": "stdout",
     "output_type": "stream",
     "text": [
      "Accuracy of the ONNX model:  0.9474100434954528\n"
     ]
    }
   ],
   "source": [
    "# Save the model\n",
    "onnx.save(onnx_model, \"model/model_1.onnx\")\n",
    "\n",
    "# Load the model\n",
    "new_session = rt.InferenceSession(\"model/model_1.onnx\")\n",
    "\n",
    "# Predict the target\n",
    "y_pred_onnx2 =  new_session.run(None, {'X': X_test.values.astype(np.float32)})\n",
    "\n",
    "accuracy_onnx_model = accuracy_score(y_test, y_pred_onnx2[0])\n",
    "print('Accuracy of the ONNX model: ', accuracy_onnx_model)"
   ]
  }
 ],
 "metadata": {
  "kernelspec": {
   "display_name": "Python 3",
   "language": "python",
   "name": "python3"
  },
  "language_info": {
   "codemirror_mode": {
    "name": "ipython",
    "version": 3
   },
   "file_extension": ".py",
   "mimetype": "text/x-python",
   "name": "python",
   "nbconvert_exporter": "python",
   "pygments_lexer": "ipython3",
   "version": "3.11.8"
  }
 },
 "nbformat": 4,
 "nbformat_minor": 5
}
