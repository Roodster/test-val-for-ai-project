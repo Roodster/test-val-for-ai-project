{
 "cells": [
  {
   "cell_type": "code",
   "execution_count": null,
   "metadata": {},
   "outputs": [],
   "source": [
    "\"\"\"\n",
    "IMPORTS\n",
    "\"\"\"\n",
    "\n",
    "from utils.dataloader import DataLoader\n",
    "from models.modelloader import ModelLoader\n",
    "from utils.constants import protected_attributes"
   ]
  },
  {
   "cell_type": "code",
   "execution_count": null,
   "metadata": {},
   "outputs": [],
   "source": [
    "PATH_DEFAULT_GOOD_MODEL = \"./../../model/test_models/good_model_test.onnx\"\n"
   ]
  },
  {
   "cell_type": "code",
   "execution_count": null,
   "metadata": {},
   "outputs": [],
   "source": [
    "\"\"\"\n",
    "    LOAD DATASET\n",
    "\"\"\"\n",
    "\n",
    "dataloader = DataLoader()\n",
    "X_data, y_data = dataloader.split('full')\n",
    "\n",
    "X_over, y_over = dataloader.oversample(X_data, y_data)\n",
    "print(f'{X_over.shape}, {y_over.shape}')"
   ]
  },
  {
   "cell_type": "code",
   "execution_count": null,
   "metadata": {},
   "outputs": [],
   "source": [
    "\"\"\"\n",
    "    LOAD MODEL\n",
    "\"\"\"\n",
    "\n",
    "model = ModelLoader(type='good')\n"
   ]
  },
  {
   "cell_type": "code",
   "execution_count": null,
   "metadata": {},
   "outputs": [],
   "source": [
    "\"\"\"\n",
    "PREPROCESSING\n",
    "\"\"\"\n",
    "\n",
    "# OVERSAMPLE DATASET\n",
    "X_over, y_over = dataloader.oversample(X_data, y_data)\n",
    "X_train, y_train = dataloader.drop_protected_features(X_over, protected_features=protected_attributes)\n",
    "print(f'{X_over.shape}, {y_over.shape}')"
   ]
  },
  {
   "cell_type": "code",
   "execution_count": null,
   "metadata": {},
   "outputs": [],
   "source": [
    "\"\"\"\n",
    "INPROCESSING\n",
    "\"\"\"\n",
    "\n",
    "# hyperparameterioptimzations\n",
    "params = {\n",
    "        'learning_rate':[0.15,0.1,0.05], \n",
    "        'n_estimators':[100,250,300, 350],\n",
    "        \"min_samples_split\": [100, 250, 500, 800], \n",
    "        \"min_samples_leaf\":[25, 125, 200],\n",
    "        \"max_depth\":[3, 5, 7],\n",
    "}\n",
    "    \n",
    "model.fit_hyperparameters(X_train, y_train, params)\n"
   ]
  },
  {
   "cell_type": "code",
   "execution_count": null,
   "metadata": {},
   "outputs": [],
   "source": [
    "\"\"\"\n",
    "    SAVE MODEL\n",
    "\"\"\"\n",
    "\n",
    "model.save_onnx_model(PATH_DEFAULT_GOOD_MODEL)"
   ]
  }
 ],
 "metadata": {
  "language_info": {
   "name": "python"
  }
 },
 "nbformat": 4,
 "nbformat_minor": 2
}
