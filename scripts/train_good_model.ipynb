{
 "cells": [
  {
   "cell_type": "code",
   "execution_count": 1,
   "metadata": {},
   "outputs": [],
   "source": [
    "\"\"\"\n",
    "IMPORTS\n",
    "\"\"\"\n",
    "from datetime import datetime\n",
    "\n",
    "\n",
    "from utils.dataloader import DataLoader\n",
    "from models.modelloader import ModelLoader\n",
    "from utils.constants import protected_attributes"
   ]
  },
  {
   "cell_type": "code",
   "execution_count": 2,
   "metadata": {},
   "outputs": [],
   "source": [
    "PATH_DEFAULT_GOOD_MODEL = \"./../models/test_models/good_model_test.onnx\"\n"
   ]
  },
  {
   "cell_type": "code",
   "execution_count": 3,
   "metadata": {},
   "outputs": [],
   "source": [
    "\"\"\"\n",
    "    LOAD DATASET\n",
    "\"\"\"\n",
    "\n",
    "dataloader = DataLoader()"
   ]
  },
  {
   "cell_type": "code",
   "execution_count": 4,
   "metadata": {},
   "outputs": [],
   "source": [
    "\"\"\"\n",
    "    LOAD MODEL\n",
    "\"\"\"\n",
    "\n",
    "params = {\n",
    "    \n",
    "}\n",
    "\n",
    "model = ModelLoader.load_model('good', params=params)\n"
   ]
  },
  {
   "cell_type": "code",
   "execution_count": 5,
   "metadata": {},
   "outputs": [
    {
     "name": "stdout",
     "output_type": "stream",
     "text": [
      "(22760, 315), (22760,)\n"
     ]
    }
   ],
   "source": [
    "\"\"\"\n",
    "PREPROCESSING\n",
    "\"\"\"\n",
    "\n",
    "# OVERSAMPLE DATASET\n",
    "X_train, y_train = dataloader.load_split('full')\n",
    "X_over, y_over = dataloader.oversample(X_train, y_train)\n",
    "X_over = dataloader.drop_protected_features(X_over, protected_features=protected_attributes)\n",
    "print(f'{X_over.shape}, {y_over.shape}')"
   ]
  },
  {
   "cell_type": "code",
   "execution_count": 6,
   "metadata": {},
   "outputs": [],
   "source": [
    "\"\"\"\n",
    "INPROCESSING\n",
    "\"\"\"\n",
    "\n",
    "# hyperparameterioptimzations\n",
    "params = {\n",
    "        'learning_rate':[0.15,0.1,0.05], \n",
    "        'n_estimators':[100,250,300, 350],\n",
    "        \"min_samples_split\": [100, 250, 500, 800], \n",
    "        \"min_samples_leaf\":[25, 125, 200],\n",
    "        \"max_depth\":[3, 5, 7],\n",
    "}\n",
    "\n",
    "model.fit_hyperparameters(X_over, y_over, params)\n"
   ]
  },
  {
   "cell_type": "code",
   "execution_count": 7,
   "metadata": {},
   "outputs": [
    {
     "ename": "NameError",
     "evalue": "name 'datetime' is not defined",
     "output_type": "error",
     "traceback": [
      "\u001b[1;31m---------------------------------------------------------------------------\u001b[0m",
      "\u001b[1;31mNameError\u001b[0m                                 Traceback (most recent call last)",
      "Cell \u001b[1;32mIn[7], line 5\u001b[0m\n\u001b[0;32m      1\u001b[0m \u001b[38;5;124;03m\"\"\"\u001b[39;00m\n\u001b[0;32m      2\u001b[0m \u001b[38;5;124;03m    SAVE MODEL\u001b[39;00m\n\u001b[0;32m      3\u001b[0m \u001b[38;5;124;03m\"\"\"\u001b[39;00m\n\u001b[1;32m----> 5\u001b[0m now \u001b[38;5;241m=\u001b[39m \u001b[43mdatetime\u001b[49m\u001b[38;5;241m.\u001b[39mnow() \u001b[38;5;66;03m# current date and time\u001b[39;00m\n\u001b[0;32m      7\u001b[0m year \u001b[38;5;241m=\u001b[39m now\u001b[38;5;241m.\u001b[39mstrftime(\u001b[38;5;124m\"\u001b[39m\u001b[38;5;124m%\u001b[39m\u001b[38;5;124mY\u001b[39m\u001b[38;5;124m\"\u001b[39m)\n\u001b[0;32m      8\u001b[0m \u001b[38;5;28mprint\u001b[39m(\u001b[38;5;124m\"\u001b[39m\u001b[38;5;124myear:\u001b[39m\u001b[38;5;124m\"\u001b[39m, year)\n",
      "\u001b[1;31mNameError\u001b[0m: name 'datetime' is not defined"
     ]
    }
   ],
   "source": [
    "\"\"\"\n",
    "    SAVE MODEL\n",
    "\"\"\"\n",
    "\n",
    "now = datetime.now() # current date and time\n",
    "\n",
    "year = now.strftime(\"%Y\")\n",
    "print(\"year:\", year)\n",
    "\n",
    "month = now.strftime(\"%m\")\n",
    "print(\"month:\", month)\n",
    "\n",
    "day = now.strftime(\"%d\")\n",
    "print(\"day:\", day)\n",
    "\n",
    "time = now.strftime(\"%H:%M:%S\")\n",
    "print(\"time:\", time)\n",
    "\n",
    "date_time = now.strftime(\"%m_%d_%H_%M_%S\")\n",
    "print(\"date and time:\",date_time)\n",
    "\n",
    "model.save_onnx_model(date_time+PATH_DEFAULT_GOOD_MODEL )"
   ]
  },
  {
   "cell_type": "code",
   "execution_count": null,
   "metadata": {},
   "outputs": [],
   "source": []
  }
 ],
 "metadata": {
  "kernelspec": {
   "display_name": ".env",
   "language": "python",
   "name": "python3"
  },
  "language_info": {
   "codemirror_mode": {
    "name": "ipython",
    "version": 3
   },
   "file_extension": ".py",
   "mimetype": "text/x-python",
   "name": "python",
   "nbconvert_exporter": "python",
   "pygments_lexer": "ipython3",
   "version": "3.11.7"
  }
 },
 "nbformat": 4,
 "nbformat_minor": 2
}
