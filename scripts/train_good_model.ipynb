{
 "cells": [
  {
   "cell_type": "code",
   "execution_count": 1,
   "metadata": {},
   "outputs": [],
   "source": [
    "\"\"\"\n",
    "IMPORTS\n",
    "\"\"\"\n",
    "from datetime import datetime\n",
    "\n",
    "\n",
    "from utils.dataloader import DataLoader\n",
    "from models.modelloader import ModelLoader\n",
    "from utils.constants import group_proxies"
   ]
  },
  {
   "cell_type": "code",
   "execution_count": 2,
   "metadata": {},
   "outputs": [],
   "source": [
    "\n",
    "PATH_DEFAULT_TEST_MODELS = \"./../models/test_models/\"\n",
    "PATH_DEFAULT_PARAMS = \"./../results/\"\n",
    "FILE_DEFAULT_TEST_MODEL = \"good_model_test.onnx\"\n",
    "FILE_DEFAULT_PARAMS = \"params.txt\""
   ]
  },
  {
   "cell_type": "code",
   "execution_count": 3,
   "metadata": {},
   "outputs": [
    {
     "name": "stdout",
     "output_type": "stream",
     "text": [
      "year: 2024\n",
      "month: 04\n",
      "day: 03\n",
      "time: 21:36:01\n",
      "date and time: 04_03_21_36_01\n"
     ]
    }
   ],
   "source": [
    "\n",
    "now = datetime.now() # current date and time\n",
    "\n",
    "year = now.strftime(\"%Y\")\n",
    "print(\"year:\", year)\n",
    "\n",
    "month = now.strftime(\"%m\")\n",
    "print(\"month:\", month)\n",
    "\n",
    "day = now.strftime(\"%d\")\n",
    "print(\"day:\", day)\n",
    "\n",
    "time = now.strftime(\"%H:%M:%S\")\n",
    "print(\"time:\", time)\n",
    "\n",
    "date_time = now.strftime(\"%m_%d_%H_%M_%S\")\n",
    "print(\"date and time:\",date_time)\n",
    "\n",
    "save_file_model = PATH_DEFAULT_TEST_MODELS +\"/\" + date_time + \"_\" + FILE_DEFAULT_TEST_MODEL\n",
    "save_file_params = PATH_DEFAULT_PARAMS +\"/\" + date_time + \"_\" + FILE_DEFAULT_PARAMS"
   ]
  },
  {
   "cell_type": "code",
   "execution_count": 4,
   "metadata": {},
   "outputs": [],
   "source": [
    "\"\"\"\n",
    "    LOAD DATASET\n",
    "\"\"\"\n",
    "\n",
    "dataloader = DataLoader()"
   ]
  },
  {
   "cell_type": "code",
   "execution_count": 7,
   "metadata": {},
   "outputs": [],
   "source": [
    "\"\"\"\n",
    "    LOAD MODEL\n",
    "\"\"\"\n",
    "\n",
    "params = {\n",
    "    \n",
    "}\n",
    "\n",
    "model = ModelLoader.load_model('good', params=params)\n"
   ]
  },
  {
   "cell_type": "code",
   "execution_count": 10,
   "metadata": {},
   "outputs": [
    {
     "name": "stdout",
     "output_type": "stream",
     "text": [
      "(18240, 315), (18240,)\n"
     ]
    }
   ],
   "source": [
    "\"\"\"\n",
    "PREPROCESSING\n",
    "\"\"\"\n",
    "\n",
    "# OVERSAMPLE DATASET\n",
    "X_train, y_train = dataloader.load_split('train')\n",
    "X_over, y_over = dataloader.oversample(X_train, y_train)\n",
    "X_over = dataloader.drop_protected_features(X_over, protected_features=group_proxies)\n",
    "print(f'{X_over.shape}, {y_over.shape}')"
   ]
  },
  {
   "cell_type": "code",
   "execution_count": null,
   "metadata": {},
   "outputs": [],
   "source": [
    "\"\"\"\n",
    "INPROCESSING\n",
    "\"\"\"\n",
    "\n",
    "# hyperparameterioptimzations\n",
    "params = {\n",
    "        'clf__learning_rate':[0.15], \n",
    "        'clf__n_estimators':[300, 350],\n",
    "        \"clf__min_samples_split\": [100, 250, 500, 800], \n",
    "        \"clf__min_samples_leaf\":[25, 125, 200],\n",
    "        \"clf__max_depth\":[5],\n",
    "}\n",
    "\n",
    "model.fit_hyperparameters(X_over, y_over, params, save_params=save_file_params)\n"
   ]
  },
  {
   "cell_type": "code",
   "execution_count": 11,
   "metadata": {},
   "outputs": [],
   "source": [
    "params = {\n",
    "    'learning_rate': 0.15, \n",
    "    'max_depth': 5, \n",
    "    'min_samples_leaf': 25, \n",
    "    'min_samples_split': 100, \n",
    "    'n_estimators': 350\n",
    "}\n",
    "\n",
    "model = ModelLoader.load_model('good', params)\n",
    "\n",
    "model.fit(X_over, y_over)\n",
    "\n"
   ]
  },
  {
   "cell_type": "code",
   "execution_count": 12,
   "metadata": {},
   "outputs": [
    {
     "name": "stdout",
     "output_type": "stream",
     "text": [
      "Saved model to ./../models/test_models//04_03_21_36_01_good_model_test.onnx\n"
     ]
    }
   ],
   "source": [
    "\"\"\"\n",
    "    SAVE MODEL\n",
    "\"\"\"\n",
    "\n",
    "\n",
    "\n",
    "model.save_onnx_model(save_file_model)"
   ]
  },
  {
   "cell_type": "code",
   "execution_count": null,
   "metadata": {},
   "outputs": [
    {
     "data": {
      "text/plain": [
       "\"\\n0403201035: {'learning_rate': 0.15, 'max_depth': 5, 'max_features': 'sqrt', 'min_samples_leaf': 25, 'min_samples_split': 100, 'n_estimators': 350}    \\n\""
      ]
     },
     "execution_count": 18,
     "metadata": {},
     "output_type": "execute_result"
    }
   ],
   "source": [
    "\"\"\"\n",
    "0403201035: {'learning_rate': 0.15, 'max_depth': 5, 'max_features': 'sqrt', 'min_samples_leaf': 25, 'min_samples_split': 100, 'n_estimators': 350}    \n",
    "\n",
    "{'learning_rate': 0.15, 'max_depth': 5, 'max_features': 'sqrt', 'min_samples_leaf': 125, 'min_samples_split': 800, 'n_estimators': 300}\n",
    "04_03_20_20_05_good_model_test.onnx\n",
    "{'clf__learning_rate': 0.15, 'clf__max_depth': 5, 'clf__min_samples_leaf': 25, 'clf__min_samples_split': 100, 'clf__n_estimators': 350}\n",
    "\n",
    "\"\"\""
   ]
  }
 ],
 "metadata": {
  "kernelspec": {
   "display_name": ".env",
   "language": "python",
   "name": "python3"
  },
  "language_info": {
   "codemirror_mode": {
    "name": "ipython",
    "version": 3
   },
   "file_extension": ".py",
   "mimetype": "text/x-python",
   "name": "python",
   "nbconvert_exporter": "python",
   "pygments_lexer": "ipython3",
   "version": "3.11.7"
  }
 },
 "nbformat": 4,
 "nbformat_minor": 2
}
